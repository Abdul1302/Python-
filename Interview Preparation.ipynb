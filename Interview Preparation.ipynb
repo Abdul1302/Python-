{
 "cells": [
  {
   "cell_type": "code",
   "execution_count": 1,
   "id": "fb2ec5ca",
   "metadata": {},
   "outputs": [
    {
     "name": "stdout",
     "output_type": "stream",
     "text": [
      "*\n",
      "**\n",
      "***\n",
      "****\n",
      "*****\n"
     ]
    }
   ],
   "source": [
    "#make left angle triangle\n",
    "\n",
    "for i in range(1,6):\n",
    "    print(i*\"*\")"
   ]
  },
  {
   "cell_type": "code",
   "execution_count": 2,
   "id": "63581cdf",
   "metadata": {},
   "outputs": [
    {
     "ename": "KeyboardInterrupt",
     "evalue": "Interrupted by user",
     "output_type": "error",
     "traceback": [
      "\u001b[1;31m---------------------------------------------------------------------------\u001b[0m",
      "\u001b[1;31mKeyboardInterrupt\u001b[0m                         Traceback (most recent call last)",
      "\u001b[1;32m~\\AppData\\Local\\Temp\\ipykernel_8136\\3075852237.py\u001b[0m in \u001b[0;36m<module>\u001b[1;34m\u001b[0m\n\u001b[0;32m      1\u001b[0m \u001b[1;31m#with args\u001b[0m\u001b[1;33m\u001b[0m\u001b[1;33m\u001b[0m\u001b[0m\n\u001b[1;32m----> 2\u001b[1;33m \u001b[0mn\u001b[0m\u001b[1;33m=\u001b[0m\u001b[0mint\u001b[0m\u001b[1;33m(\u001b[0m\u001b[0minput\u001b[0m\u001b[1;33m(\u001b[0m\u001b[1;34m\"Enter the value for n: \"\u001b[0m\u001b[1;33m)\u001b[0m\u001b[1;33m)\u001b[0m\u001b[1;33m\u001b[0m\u001b[1;33m\u001b[0m\u001b[0m\n\u001b[0m\u001b[0;32m      3\u001b[0m \u001b[1;32mfor\u001b[0m \u001b[0mi\u001b[0m \u001b[1;32min\u001b[0m \u001b[0mrange\u001b[0m\u001b[1;33m(\u001b[0m\u001b[1;36m1\u001b[0m\u001b[1;33m,\u001b[0m\u001b[0mn\u001b[0m\u001b[1;33m)\u001b[0m\u001b[1;33m:\u001b[0m\u001b[1;33m\u001b[0m\u001b[1;33m\u001b[0m\u001b[0m\n\u001b[0;32m      4\u001b[0m     \u001b[0mprint\u001b[0m\u001b[1;33m(\u001b[0m\u001b[0mi\u001b[0m\u001b[1;33m*\u001b[0m\u001b[1;34m\"&\"\u001b[0m\u001b[1;33m)\u001b[0m\u001b[1;33m\u001b[0m\u001b[1;33m\u001b[0m\u001b[0m\n",
      "\u001b[1;32m~\\anaconda3\\lib\\site-packages\\ipykernel\\kernelbase.py\u001b[0m in \u001b[0;36mraw_input\u001b[1;34m(self, prompt)\u001b[0m\n\u001b[0;32m   1175\u001b[0m                 \u001b[1;34m\"raw_input was called, but this frontend does not support input requests.\"\u001b[0m\u001b[1;33m\u001b[0m\u001b[1;33m\u001b[0m\u001b[0m\n\u001b[0;32m   1176\u001b[0m             )\n\u001b[1;32m-> 1177\u001b[1;33m         return self._input_request(\n\u001b[0m\u001b[0;32m   1178\u001b[0m             \u001b[0mstr\u001b[0m\u001b[1;33m(\u001b[0m\u001b[0mprompt\u001b[0m\u001b[1;33m)\u001b[0m\u001b[1;33m,\u001b[0m\u001b[1;33m\u001b[0m\u001b[1;33m\u001b[0m\u001b[0m\n\u001b[0;32m   1179\u001b[0m             \u001b[0mself\u001b[0m\u001b[1;33m.\u001b[0m\u001b[0m_parent_ident\u001b[0m\u001b[1;33m[\u001b[0m\u001b[1;34m\"shell\"\u001b[0m\u001b[1;33m]\u001b[0m\u001b[1;33m,\u001b[0m\u001b[1;33m\u001b[0m\u001b[1;33m\u001b[0m\u001b[0m\n",
      "\u001b[1;32m~\\anaconda3\\lib\\site-packages\\ipykernel\\kernelbase.py\u001b[0m in \u001b[0;36m_input_request\u001b[1;34m(self, prompt, ident, parent, password)\u001b[0m\n\u001b[0;32m   1217\u001b[0m             \u001b[1;32mexcept\u001b[0m \u001b[0mKeyboardInterrupt\u001b[0m\u001b[1;33m:\u001b[0m\u001b[1;33m\u001b[0m\u001b[1;33m\u001b[0m\u001b[0m\n\u001b[0;32m   1218\u001b[0m                 \u001b[1;31m# re-raise KeyboardInterrupt, to truncate traceback\u001b[0m\u001b[1;33m\u001b[0m\u001b[1;33m\u001b[0m\u001b[0m\n\u001b[1;32m-> 1219\u001b[1;33m                 \u001b[1;32mraise\u001b[0m \u001b[0mKeyboardInterrupt\u001b[0m\u001b[1;33m(\u001b[0m\u001b[1;34m\"Interrupted by user\"\u001b[0m\u001b[1;33m)\u001b[0m \u001b[1;32mfrom\u001b[0m \u001b[1;32mNone\u001b[0m\u001b[1;33m\u001b[0m\u001b[1;33m\u001b[0m\u001b[0m\n\u001b[0m\u001b[0;32m   1220\u001b[0m             \u001b[1;32mexcept\u001b[0m \u001b[0mException\u001b[0m\u001b[1;33m:\u001b[0m\u001b[1;33m\u001b[0m\u001b[1;33m\u001b[0m\u001b[0m\n\u001b[0;32m   1221\u001b[0m                 \u001b[0mself\u001b[0m\u001b[1;33m.\u001b[0m\u001b[0mlog\u001b[0m\u001b[1;33m.\u001b[0m\u001b[0mwarning\u001b[0m\u001b[1;33m(\u001b[0m\u001b[1;34m\"Invalid Message:\"\u001b[0m\u001b[1;33m,\u001b[0m \u001b[0mexc_info\u001b[0m\u001b[1;33m=\u001b[0m\u001b[1;32mTrue\u001b[0m\u001b[1;33m)\u001b[0m\u001b[1;33m\u001b[0m\u001b[1;33m\u001b[0m\u001b[0m\n",
      "\u001b[1;31mKeyboardInterrupt\u001b[0m: Interrupted by user"
     ]
    }
   ],
   "source": [
    "#with args\n",
    "n=int(input(\"Enter the value for n: \"))\n",
    "for i in range(1,n):\n",
    "    print(i*\"&\")"
   ]
  },
  {
   "cell_type": "code",
   "execution_count": null,
   "id": "8276f15a",
   "metadata": {},
   "outputs": [],
   "source": [
    "#right angle triangle \n",
    "for i in range (1,6):\n",
    "    print(\" \"*(6-i)+i*\"*\")"
   ]
  },
  {
   "cell_type": "code",
   "execution_count": null,
   "id": "aac50af9",
   "metadata": {},
   "outputs": [],
   "source": [
    "#with args\n",
    "n=int(input('Enter the value: '))\n",
    "for i in range (1,n+1):\n",
    "    print(\" \"*(n-i)+i*\"*\")"
   ]
  },
  {
   "cell_type": "code",
   "execution_count": null,
   "id": "8e3e9cb7",
   "metadata": {},
   "outputs": [],
   "source": [
    "#make square shape\n",
    "square=[\n",
    "    [1,1,1,1,1,1,1,1,1,1],\n",
    "    [1,0,0,0,0,0,0,0,0,1],\n",
    "    [1,0,0,0,0,0,0,0,0,1],\n",
    "    [1,0,0,0,0,0,0,0,0,1],\n",
    "    [1,0,0,0,0,0,0,0,0,1],\n",
    "    [1,0,0,0,0,0,0,0,0,1],\n",
    "    [1,1,1,1,1,1,1,1,1,1]\n",
    "    \n",
    "]\n",
    "\n",
    "for i in square:\n",
    "    for j in i:\n",
    "        if j==1:\n",
    "            print(\"*\",end=\"\")\n",
    "        else:\n",
    "            print(\" \",end=\"\")\n",
    "    print(\"\")        "
   ]
  },
  {
   "cell_type": "code",
   "execution_count": null,
   "id": "4ccbf4ad",
   "metadata": {},
   "outputs": [],
   "source": [
    "#make diamond shape\n",
    "diamond=[\n",
    "    [0,0,0,0,1,0,0,0,0],\n",
    "    [0,0,0,1,1,1,0,0,0],\n",
    "    [0,0,1,1,1,1,1,0,0],\n",
    "    [0,1,1,1,1,1,1,1,0],\n",
    "    [1,1,1,1,1,1,1,1,1],\n",
    "    [0,1,1,1,1,1,1,1,0],\n",
    "    [0,0,1,1,1,1,1,0,0],\n",
    "    [0,0,0,1,1,1,0,0,0],\n",
    "    [0,0,0,0,1,0,0,0,0],\n",
    "]\n",
    "for  i in diamond:\n",
    "    for j in i:\n",
    "        if j==1:\n",
    "            print(\"*\",end=\" \")\n",
    "        else:\n",
    "            print(\" \",end=\" \")\n",
    "    print(\" \")        \n",
    "\n"
   ]
  },
  {
   "cell_type": "code",
   "execution_count": null,
   "id": "8c019a0f",
   "metadata": {},
   "outputs": [],
   "source": [
    "# binary to decimal conversion:\n",
    "binary_num= input(\"enter binary number: \")\n",
    "decimal_num= int(binary_num,base=2)\n",
    "print(decimal_num)"
   ]
  },
  {
   "cell_type": "code",
   "execution_count": null,
   "id": "fab5e892",
   "metadata": {},
   "outputs": [],
   "source": [
    "#binary to decimal With proper logic\n",
    "binary=input(\"Enter the binary: \")\n",
    "decimal=0\n",
    "binary=binary[::-1]\n",
    "for index,num in enumerate(binary):\n",
    "    if num==\"1\":\n",
    "        decimal=decimal+2**index\n",
    "print(decimal)        "
   ]
  },
  {
   "cell_type": "code",
   "execution_count": null,
   "id": "0fdc804e",
   "metadata": {},
   "outputs": [],
   "source": [
    "#binary to decimal\n",
    "decimal=input(\"Enter decimal number: \")\n",
    "binary=int(decimal,base=10)\n",
    "print(binary)"
   ]
  },
  {
   "cell_type": "code",
   "execution_count": null,
   "id": "32ef144e",
   "metadata": {},
   "outputs": [],
   "source": [
    "#decimal to binary with prper logic\n",
    "decimal=int(input(\"Enter value: \"))\n",
    "if decimal==0:\n",
    "    print(0)\n",
    "\n",
    "binary=\"\"    \n",
    "while decimal>0:\n",
    "    remainder=decimal%2\n",
    "    binary=str(remainder)+binary\n",
    "    decimal=decimal//2\n",
    "\n",
    "print(binary)"
   ]
  },
  {
   "cell_type": "code",
   "execution_count": null,
   "id": "9ae8455c",
   "metadata": {},
   "outputs": [],
   "source": [
    "#Print numbers in reverse order\n",
    "list1=[1,2,3,4,5,6,7,8,9,10]\n",
    "list2=[]\n",
    "for i in range(1,11):\n",
    "    list2.append(list1[-i])\n",
    "    \n",
    "print(list2)    "
   ]
  },
  {
   "cell_type": "code",
   "execution_count": null,
   "id": "9e211687",
   "metadata": {},
   "outputs": [],
   "source": [
    "#covert character to ascii code\n",
    "char=input(\"Enter your character: \")\n",
    "char_to_ascii=ord(char)\n",
    "print(char_to_ascii)"
   ]
  },
  {
   "cell_type": "code",
   "execution_count": null,
   "id": "52d29bdf",
   "metadata": {},
   "outputs": [],
   "source": [
    "#convert ascii code to character\n",
    "ascii_code=int(input(\"Enter your ascii code: \"))\n",
    "ascii_to_char=chr(ascii_code)\n",
    "print(ascii_to_char)"
   ]
  },
  {
   "cell_type": "code",
   "execution_count": null,
   "id": "20df4e64",
   "metadata": {},
   "outputs": [],
   "source": [
    "#Check entered value is number or not\n",
    "value=input(\"Enter the input: \")\n",
    "try:\n",
    "    num=float(value)\n",
    "    print(\"You entered a number\")\n",
    "except ValueError:\n",
    "    print(\"You did not enter a number\")"
   ]
  },
  {
   "cell_type": "code",
   "execution_count": null,
   "id": "6e2536f2",
   "metadata": {},
   "outputs": [],
   "source": [
    "value1=input(\"Enter the input: \")\n",
    "try:\n",
    "    num=float(value1)\n",
    "    print(\"You entered a number.\")\n",
    "except ValueError:\n",
    "    print(\"You did not entered a number.\")"
   ]
  },
  {
   "cell_type": "code",
   "execution_count": null,
   "id": "ee962a2e",
   "metadata": {},
   "outputs": [],
   "source": [
    "# write a program to find total number of items in the list and print them.\n",
    "num=[1,2,3,4,5,6,7,8,9]\n",
    "x=0\n",
    "for i in num:\n",
    "    print(i)\n",
    "    x=x+1\n",
    "print(f\"Total numbers in list:{x}\")    "
   ]
  },
  {
   "cell_type": "code",
   "execution_count": null,
   "id": "6f569c4d",
   "metadata": {},
   "outputs": [],
   "source": [
    "# write a program to print duplicates in the list:\n",
    "list1=['a','g','y','u',2,7,6,7,5,8,4,2,'y','b','a']\n",
    "dublicate_list=[]\n",
    "for x in list1:\n",
    "    if list1.count(x)>1:\n",
    "        if x not in dublicate_list:\n",
    "            dublicate_list.append(x)\n",
    "print(dublicate_list)            "
   ]
  },
  {
   "cell_type": "code",
   "execution_count": null,
   "id": "507f7577",
   "metadata": {},
   "outputs": [],
   "source": [
    "# write a program to find the highest even number in the list:\n",
    "list1=[2,5,7,98,45,67,80,100]\n",
    "even_list=[]\n",
    "for i in list1:\n",
    "    if i%2==0:\n",
    "        even_list.append(i)\n",
    "print(max(even_list))                "
   ]
  },
  {
   "cell_type": "code",
   "execution_count": null,
   "id": "d9f9115e",
   "metadata": {},
   "outputs": [],
   "source": [
    "# write a program to find the highest odd number in the list:\n",
    "list1=[3,7,8,9,12,45,56,78,77,97]\n",
    "odd_list=[]\n",
    "for i in list1:\n",
    "    if i%2==1:\n",
    "        odd_list.append(i)\n",
    "print(max(odd_list))    "
   ]
  },
  {
   "cell_type": "code",
   "execution_count": 9,
   "id": "4e2aa22a",
   "metadata": {},
   "outputs": [
    {
     "name": "stdout",
     "output_type": "stream",
     "text": [
      "Enter your value: 12\n",
      "0\n",
      "1\n",
      "1\n",
      "2\n",
      "3\n",
      "5\n",
      "8\n",
      "13\n",
      "21\n",
      "34\n",
      "55\n",
      "89\n",
      "144\n"
     ]
    }
   ],
   "source": [
    "# write a program to print a fibonacci sequence\n",
    "value=int(input(\"Enter your value: \"))\n",
    "if value==0:\n",
    "    print(0)\n",
    "\n",
    "n1=0\n",
    "n2=1  \n",
    "count=0\n",
    "while count<=value:\n",
    "    print(n1)\n",
    "    n3=n1+n2\n",
    "    n1=n2\n",
    "    n2=n3\n",
    "    count=count+1\n"
   ]
  },
  {
   "cell_type": "code",
   "execution_count": 14,
   "id": "e07deeb1",
   "metadata": {},
   "outputs": [
    {
     "name": "stdout",
     "output_type": "stream",
     "text": [
      "Enter your word: halah\n",
      "This word is Palindrom\n"
     ]
    }
   ],
   "source": [
    "# write a program to check if the given string is a palindrom or not\n",
    "\n",
    "# A palindrome is a word, phrase, or number that reads the same backward as forward.\n",
    "\n",
    "word=input(\"Enter your word: \")\n",
    "rev_word=word[::-1]\n",
    "\n",
    "if word==rev_word:\n",
    "    print(\"This word is Palindrom\")\n",
    "else:\n",
    "    print(\"This word is not a palindrom\")"
   ]
  },
  {
   "cell_type": "code",
   "execution_count": 16,
   "id": "7113a503",
   "metadata": {},
   "outputs": [
    {
     "name": "stdout",
     "output_type": "stream",
     "text": [
      "This word is anagram\n"
     ]
    }
   ],
   "source": [
    "# write a program to check if two strings are anagrams\n",
    "\n",
    "# An anagram is a word or phrase formed by rearranging the letters of another word or phrase\n",
    "\n",
    "word1='listen'\n",
    "word2='silent'\n",
    "\n",
    "if sorted(word1)==sorted(word2):\n",
    "    print(\"This word is anagram\")\n",
    "else:\n",
    "    print(\"This word is not anagram\")\n",
    "    \n"
   ]
  },
  {
   "cell_type": "code",
   "execution_count": 17,
   "id": "c3d2c9a6",
   "metadata": {},
   "outputs": [
    {
     "name": "stdout",
     "output_type": "stream",
     "text": [
      "Enter your sentence: my name is abdul rehman\n",
      "7\n",
      "11\n"
     ]
    }
   ],
   "source": [
    "# write a program to count number of consonants and vowels.\n",
    "vowels=0\n",
    "consonents=0\n",
    "sent=input(\"Enter your sentence: \")\n",
    "sent=sent.lower()\n",
    "for i in range(1,len(sent)):\n",
    "    if sent[i] in ['a','e','i','o','u']:\n",
    "        vowels=vowels+1\n",
    "    elif sent[i]>'a' and sent[i]<'z':\n",
    "        consonents=consonents+1\n",
    "print(vowels)\n",
    "print(consonents)"
   ]
  },
  {
   "cell_type": "code",
   "execution_count": 19,
   "id": "1da8eefb",
   "metadata": {},
   "outputs": [
    {
     "name": "stdout",
     "output_type": "stream",
     "text": [
      "13\n",
      "12\n"
     ]
    }
   ],
   "source": [
    "# swap two vairables\n",
    "n1=12\n",
    "n2=13\n",
    "temp=n1\n",
    "n1=n2\n",
    "n2=temp\n",
    "\n",
    "print(n1)\n",
    "print(n2)"
   ]
  },
  {
   "cell_type": "code",
   "execution_count": 22,
   "id": "a700275f",
   "metadata": {},
   "outputs": [
    {
     "name": "stdout",
     "output_type": "stream",
     "text": [
      "7\n",
      "6\n"
     ]
    }
   ],
   "source": [
    "# write a program to swap two vairables without using a third variable\n",
    "n1=6\n",
    "n2=7\n",
    "n1,n2=n2,n1\n",
    "print(n1)\n",
    "print(n2)"
   ]
  },
  {
   "cell_type": "code",
   "execution_count": 25,
   "id": "01cfe4bc",
   "metadata": {},
   "outputs": [
    {
     "name": "stdout",
     "output_type": "stream",
     "text": [
      "Enter a number: 12\n",
      "479001600\n"
     ]
    }
   ],
   "source": [
    "# write a program to print factorial of a number\n",
    "num=int(input(\"Enter a number: \"))\n",
    "factorial=1\n",
    "for i in range(1,num+1):\n",
    "    factorial=factorial*i\n",
    "print(factorial)    "
   ]
  },
  {
   "cell_type": "code",
   "execution_count": 35,
   "id": "0aeabba6",
   "metadata": {},
   "outputs": [
    {
     "name": "stdout",
     "output_type": "stream",
     "text": [
      "Enter a number: 31\n",
      "31 is a prime number\n"
     ]
    }
   ],
   "source": [
    "# write a program to check if a number is prime or not\n",
    "num=int(input(\"Enter a number: \"))\n",
    "if num>1:\n",
    "    for i in range(1,num):\n",
    "        if num%i==0:\n",
    "            print(f\"{num} is a prime number\")\n",
    "            break\n",
    "        else:\n",
    "            print(f\"{num} is not a prime number\")"
   ]
  },
  {
   "cell_type": "code",
   "execution_count": 38,
   "id": "8681663f",
   "metadata": {},
   "outputs": [
    {
     "name": "stdout",
     "output_type": "stream",
     "text": [
      "Enter your year: 2024\n",
      "2024 is a leap year\n"
     ]
    }
   ],
   "source": [
    "#Check leap year\n",
    "year=int(input('Enter your year: '))\n",
    "if year%400==0 or year%100!=0 and year%4==0:\n",
    "    print(f\"{year} is a leap year\")\n",
    "else:\n",
    "    print(f\"{year} is not a leap year\")"
   ]
  },
  {
   "cell_type": "code",
   "execution_count": null,
   "id": "22328378",
   "metadata": {},
   "outputs": [],
   "source": []
  }
 ],
 "metadata": {
  "kernelspec": {
   "display_name": "Python 3 (ipykernel)",
   "language": "python",
   "name": "python3"
  },
  "language_info": {
   "codemirror_mode": {
    "name": "ipython",
    "version": 3
   },
   "file_extension": ".py",
   "mimetype": "text/x-python",
   "name": "python",
   "nbconvert_exporter": "python",
   "pygments_lexer": "ipython3",
   "version": "3.9.13"
  }
 },
 "nbformat": 4,
 "nbformat_minor": 5
}
