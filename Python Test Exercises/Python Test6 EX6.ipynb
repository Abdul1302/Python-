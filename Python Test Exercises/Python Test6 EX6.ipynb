{
 "cells": [
  {
   "cell_type": "raw",
   "id": "2c1883bf",
   "metadata": {},
   "source": [
    "Person: Use a dictionary to store information about a person you know.\n",
    "Store their first name, last name, age, and the city in which they live. You\n",
    "should have keys such as first_name, last_name, age, and city. Print each\n",
    "piece of information stored in your dictionary."
   ]
  },
  {
   "cell_type": "code",
   "execution_count": 1,
   "id": "83d5d5a9",
   "metadata": {},
   "outputs": [
    {
     "name": "stdout",
     "output_type": "stream",
     "text": [
      "{'first name': 'Abdul', 'last name': 'Rehman', 'age': 20, 'city': 'Karachi'}\n",
      "dict_keys(['first name', 'last name', 'age', 'city'])\n",
      "dict_values(['Abdul', 'Rehman', 20, 'Karachi'])\n"
     ]
    }
   ],
   "source": [
    "information={'first name':'Abdul','last name':'Rehman','age':20,'city':'Karachi'}\n",
    "\n",
    "print(information)\n",
    "\n",
    "print(information.keys())\n",
    "\n",
    "print(information.values())"
   ]
  },
  {
   "cell_type": "raw",
   "id": "81fadc1f",
   "metadata": {},
   "source": [
    ". Favorite Numbers: Use a dictionary to store people’s favorite numbers.\n",
    "Think of five names, and use them as keys in your dictionary. Think of a favorite\n",
    "number for each person, and store each as a value in your dictionary. Print\n",
    "each person’s name and their favorite number. For even more fun, poll a few\n",
    "friends and get some actual data for your program.\n"
   ]
  },
  {
   "cell_type": "code",
   "execution_count": 45,
   "id": "f7e0ac4f",
   "metadata": {},
   "outputs": [
    {
     "name": "stdout",
     "output_type": "stream",
     "text": [
      "Abdul Rehman 1302\n",
      "Abdullah 234\n",
      "Asad 456\n",
      "Ameen 678\n",
      "Mehmood 735\n"
     ]
    }
   ],
   "source": [
    "fav_no={'Abdul Rehman':1302,'Abdullah':234,'Asad':456,'Ameen':678,'Mehmood':735}\n",
    "for no in fav_no.items():\n",
    "    print(no[0],no[1])\n",
    "    "
   ]
  },
  {
   "cell_type": "raw",
   "id": "a841a3ed",
   "metadata": {},
   "source": [
    ": A Python dictionary can be used to model an actual dictionary.\n",
    "However, to avoid confusion, let’s call it a glossary.\n",
    "•\t Think of five programming words you’ve learned about in the previous\n",
    "chapters. Use these words as the keys in your glossary, and store their\n",
    "meanings as values.\n",
    "•\t Print each word and its meaning as neatly formatted output. You might\n",
    "print the word followed by a colon and then its meaning, or print the word\n",
    "on one line and then print its meaning indented on a second line. Use the\n",
    "newline character (\\n) to insert a blank line between each word-meaning\n",
    "pair in your output."
   ]
  },
  {
   "cell_type": "code",
   "execution_count": 35,
   "id": "2672b983",
   "metadata": {},
   "outputs": [
    {
     "name": "stdout",
     "output_type": "stream",
     "text": [
      "upper Converts the statement of print in upper case\n",
      "lower Converts the statement of print in lower case\n",
      "append Use to add the value \n",
      "pop Use to pop the last value\n",
      "remove use to remove the value\n"
     ]
    }
   ],
   "source": [
    "glossary={'upper':\"Converts the statement of print in upper case\",\n",
    "          'lower':\"Converts the statement of print in lower case\",\n",
    "         'append':\"Use to add the value \",\n",
    "         'pop':\"Use to pop the last value\",\n",
    "         'remove':\"use to remove the value\"}\n",
    "\n",
    "for a in glossary.items():\n",
    "    print(a[0],a[1])\n",
    "    "
   ]
  },
  {
   "cell_type": "raw",
   "id": "65bb4b45",
   "metadata": {},
   "source": [
    "5. Rivers: Make a dictionary containing three major rivers and the country\n",
    "each river runs through. One key-value pair might be 'nile': 'egypt'.\n",
    "•\t Use a loop to print a sentence about each river, such as The Nile runs\n",
    "through Egypt.\n",
    "•\t Use a loop to print the name of each river included in the dictionary.\n",
    "•\t Use a loop to print the name of each country included in the dictionary"
   ]
  },
  {
   "cell_type": "code",
   "execution_count": 23,
   "id": "b715fe94",
   "metadata": {},
   "outputs": [
    {
     "name": "stdout",
     "output_type": "stream",
     "text": [
      "Chinab\n",
      "Jehlum\n",
      "Ravi\n",
      "Sialkot\n",
      "Mirpur City\n",
      "Kamalia\n"
     ]
    }
   ],
   "source": [
    "rivers={'Chinab':'Sialkot','Jehlum':'Mirpur City','Ravi':'Kamalia'}\n",
    "\n",
    "for river in rivers.keys():\n",
    "    print(river)\n",
    "    \n",
    "for city in rivers.values():\n",
    "    print(city)\n",
    "        \n",
    "    "
   ]
  },
  {
   "cell_type": "code",
   "execution_count": 38,
   "id": "64296537",
   "metadata": {},
   "outputs": [
    {
     "name": "stdout",
     "output_type": "stream",
     "text": [
      "Chinab runs through Sialkot\n",
      "Jehlum runs through Mirpur City\n",
      "Ravi runs through Kamalia\n"
     ]
    }
   ],
   "source": [
    "for river in rivers.items():\n",
    "    print(f\"{river[0]} runs through {river[1]}\")"
   ]
  },
  {
   "cell_type": "raw",
   "id": "d664850c",
   "metadata": {},
   "source": [
    "8. Pets: Make several dictionaries, where the name of each dictionary is the\n",
    "name of a pet. In each dictionary, include the kind of animal and the owner’s\n",
    "name. Store these dictionaries in a list called pets. Next, loop through your list\n",
    "and as you do print everything you know about each pet."
   ]
  },
  {
   "cell_type": "code",
   "execution_count": 43,
   "id": "e3f55da2",
   "metadata": {},
   "outputs": [
    {
     "name": "stdout",
     "output_type": "stream",
     "text": [
      "{'german shefard': 'eric', 'siberian husky': 'david', 'pomeranian': 'milly', 'poddle': 'joseph'}\n",
      "{'persian cat': 'liam', 'bengal cat': 'noah', 'reg doll': 'oliver', 'munchkin cat': 'elijah'}\n",
      "{'arabian horse': 'abdullah', 'shire horse': 'asad', 'appalosa horse': 'ameen', 'mustang horse': 'umer'}\n"
     ]
    }
   ],
   "source": [
    "pets=[]\n",
    "\n",
    "dogs={'german shefard':'eric','siberian husky':'david','pomeranian':'milly','poddle':'joseph'}\n",
    "cats={'persian cat':'liam','bengal cat':'noah','reg doll':'oliver','munchkin cat':'elijah'}\n",
    "horses={'arabian horse':'abdullah','shire horse':'asad','appalosa horse':'ameen','mustang horse':'umer'}\n",
    "\n",
    "pets.append(dogs)\n",
    "\n",
    "pets.append(cats)\n",
    "\n",
    "pets.append(horses)\n",
    "\n",
    "for pet in pets:\n",
    "    print(pet)"
   ]
  },
  {
   "cell_type": "raw",
   "id": "602f0608",
   "metadata": {},
   "source": [
    ". Favorite Places: Make a dictionary called favorite_places. Think of three\n",
    "names to use as keys in the dictionary, and store one to three favorite places\n",
    "for each person. To make this exercise a bit more interesting, ask some friends\n",
    "to name a few of their favorite places. Loop through the dictionary, and print\n",
    "each person’s name and their favorite places."
   ]
  },
  {
   "cell_type": "code",
   "execution_count": 44,
   "id": "283a7824",
   "metadata": {},
   "outputs": [
    {
     "name": "stdout",
     "output_type": "stream",
     "text": [
      "Abdul Rehman favourite place is Kashmir \n",
      "Abdullah favourite place is Islamabad \n",
      "Usman favourite place is Gilgit \n"
     ]
    }
   ],
   "source": [
    "fav_places={'Abdul Rehman':'Kashmir','Abdullah':'Islamabad','Usman':'Gilgit'}\n",
    "\n",
    "for places in fav_places.items():\n",
    "    print(f\"{places[0]} favourite place is {places[1]} \")"
   ]
  },
  {
   "cell_type": "raw",
   "id": "2cd7ebd7",
   "metadata": {},
   "source": [
    ". Favorite Numbers: Modify your program from Exercise 6-2 (page 102) so\n",
    "each person can have more than one favorite number. Then print each person’s\n",
    "name along with their favorite numbers"
   ]
  },
  {
   "cell_type": "code",
   "execution_count": 50,
   "id": "cfb1ea99",
   "metadata": {},
   "outputs": [
    {
     "name": "stdout",
     "output_type": "stream",
     "text": [
      "Abdul Rehman favourite numbers is [1302, 2345]\n",
      "Abdullah favourite numbers is [234, 657]\n",
      "Asad favourite numbers is [456, 987]\n",
      "Ameen favourite numbers is [678, 976]\n",
      "Mehmood favourite numbers is [735, 653]\n"
     ]
    }
   ],
   "source": [
    "fav_num={'Abdul Rehman':[1302,2345],'Abdullah':[234,657],\n",
    "        'Asad':[456,987],'Ameen':[678,976],'Mehmood':[735,653]}\n",
    "\n",
    "for num in fav_num.items():\n",
    "    print(f\"{num[0]} favourite numbers is {num[1]}\")"
   ]
  },
  {
   "cell_type": "code",
   "execution_count": null,
   "id": "c94de57c",
   "metadata": {},
   "outputs": [],
   "source": []
  },
  {
   "cell_type": "code",
   "execution_count": null,
   "id": "6cb5536f",
   "metadata": {},
   "outputs": [],
   "source": []
  },
  {
   "cell_type": "code",
   "execution_count": null,
   "id": "808ff409",
   "metadata": {},
   "outputs": [],
   "source": []
  }
 ],
 "metadata": {
  "kernelspec": {
   "display_name": "Python 3 (ipykernel)",
   "language": "python",
   "name": "python3"
  },
  "language_info": {
   "codemirror_mode": {
    "name": "ipython",
    "version": 3
   },
   "file_extension": ".py",
   "mimetype": "text/x-python",
   "name": "python",
   "nbconvert_exporter": "python",
   "pygments_lexer": "ipython3",
   "version": "3.9.12"
  }
 },
 "nbformat": 4,
 "nbformat_minor": 5
}
