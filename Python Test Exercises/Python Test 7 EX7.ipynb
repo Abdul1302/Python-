{
 "cells": [
  {
   "cell_type": "raw",
   "id": "14129ff5",
   "metadata": {},
   "source": [
    ". Rental Car: Write a program that asks the user what kind of rental car they\n",
    "would like. Print a message about that car, such as “Let me see if I can find you\n",
    "a Subaru.”"
   ]
  },
  {
   "cell_type": "code",
   "execution_count": 1,
   "id": "ea6f8630",
   "metadata": {},
   "outputs": [
    {
     "name": "stdout",
     "output_type": "stream",
     "text": [
      "What kind of rental cae you would like sir: lamborgini i17\n",
      "Sir! let me see if i can find you a lamborgini i17\n"
     ]
    }
   ],
   "source": [
    "car=input(\"What kind of rental cae you would like sir: \")\n",
    "\n",
    "print(f\"Sir! let me see if i can find you a {car}\")"
   ]
  },
  {
   "cell_type": "raw",
   "id": "805b4b1c",
   "metadata": {},
   "source": [
    "2. Restaurant Seating: Write a program that asks the user how many people\n",
    "are in their dinner group. If the answer is more than eight, print a message saying they’ll have to wait for a table. Otherwise, report that their table is ready."
   ]
  },
  {
   "cell_type": "code",
   "execution_count": 2,
   "id": "2639cda1",
   "metadata": {},
   "outputs": [
    {
     "name": "stdout",
     "output_type": "stream",
     "text": [
      "Sir! how many peoples are in your dinner group: 6\n",
      "Sir! your table is ready\n"
     ]
    }
   ],
   "source": [
    "group=int(input(\"Sir! how many peoples are in your dinner group: \"))\n",
    "\n",
    "if group>8:\n",
    "    print(\"Sir! you will have to wait for a table\")\n",
    "else:\n",
    "    print(\"Sir! your table is ready\")"
   ]
  },
  {
   "cell_type": "raw",
   "id": "486843ab",
   "metadata": {},
   "source": [
    ". Multiples of Ten: Ask the user for a number, and then report whether the\n",
    "number is a multiple of 10 or not."
   ]
  },
  {
   "cell_type": "code",
   "execution_count": 4,
   "id": "72a38082",
   "metadata": {},
   "outputs": [
    {
     "name": "stdout",
     "output_type": "stream",
     "text": [
      "Enter a number plz: 120\n",
      "120 is multiple of 10\n"
     ]
    }
   ],
   "source": [
    "num=int(input(\"Enter a number plz: \"))\n",
    "\n",
    "if num%10==0:\n",
    "    print(f\"{num} is multiple of 10\")\n",
    "    \n",
    "else:\n",
    "    print(f\"{num} is not multiple of 10\")"
   ]
  },
  {
   "cell_type": "raw",
   "id": "5a7e8c1b",
   "metadata": {},
   "source": [
    ". Pizza Toppings: Write a loop that prompts the user to enter a series of\n",
    "pizza toppings until they enter a 'quit' value. As they enter each topping,\n",
    "print a message saying you’ll add that topping to their pizza."
   ]
  },
  {
   "cell_type": "code",
   "execution_count": 4,
   "id": "5590afb4",
   "metadata": {},
   "outputs": [
    {
     "name": "stdout",
     "output_type": "stream",
     "text": [
      "Enter your toppings: \n",
      " extra chicken\n",
      " extra cheese\n",
      " extraolive topping\n",
      " enough\n",
      "we will add ['extra chicken', 'extra cheese', 'extraolive topping'] in your pizza\n"
     ]
    }
   ],
   "source": [
    "pizza=[]\n",
    "count=0\n",
    "print(\"Enter your toppings: \")\n",
    "while True:\n",
    "    topping=input(\" \")\n",
    "    if topping=='enough':\n",
    "        break\n",
    "    else:\n",
    "        pizza.append(topping)        \n",
    "\n",
    "print(f\"we will add {pizza} in your pizza\")\n",
    "count+=1"
   ]
  },
  {
   "cell_type": "raw",
   "id": "fa8131de",
   "metadata": {},
   "source": [
    ". Movie Tickets: A movie theater charges different ticket prices depending on\n",
    "a person’s age. If a person is under the age of 3, the ticket is free; if they are\n",
    "between 3 and 12, the ticket is $10; and if they are over age 12, the ticket is\n",
    "$15. Write a loop in which you ask users their age, and then tell them the cost\n",
    "of their movie ticket"
   ]
  },
  {
   "cell_type": "code",
   "execution_count": null,
   "id": "a009e815",
   "metadata": {},
   "outputs": [
    {
     "name": "stdout",
     "output_type": "stream",
     "text": [
      "Enter your age: 13\n",
      "Pay 15$ for ticket\n",
      "Enter your age: 14\n",
      "Pay 15$ for ticket\n",
      "Enter your age: 12\n",
      "Pay 10$ for ticket \n",
      "Enter your age: 3\n",
      "Your ticket is free\n",
      "Enter your age: 2\n",
      "Your ticket is free\n"
     ]
    }
   ],
   "source": [
    "\n",
    "while True:\n",
    "    age=int(input(\"Enter your age: \"))\n",
    "    if age<=3:\n",
    "        print(\"Your ticket is free\")\n",
    "    elif age>3 and age<=12:\n",
    "        print(\"Pay 10$ for ticket \")\n",
    "    else:\n",
    "        print(\"Pay 15$ for ticket\")\n",
    "\n",
    "        "
   ]
  },
  {
   "cell_type": "raw",
   "id": "7cd68fdf",
   "metadata": {},
   "source": [
    ". Three Exits: Write different versions of either Exercise 7-4 or Exercise 7-5\n",
    "that do each of the following at least once:\n",
    "•\t Use a conditional test in the while statement to stop the loop.\n",
    "•\t Use an active variable to control how long the loop runs.\n",
    "•\t Use a break statement to exit the loop when the user enters a 'quit' value."
   ]
  },
  {
   "cell_type": "code",
   "execution_count": 7,
   "id": "57c86339",
   "metadata": {},
   "outputs": [
    {
     "name": "stdout",
     "output_type": "stream",
     "text": [
      "Enter your age: 12\n",
      "Pay 10$ for ticket \n",
      "Enter your age: 13\n",
      "Pay 15$ for ticket\n",
      "Enter your age: 14\n",
      "Pay 15$ for ticket\n",
      "Enter your age: 5\n",
      "Pay 10$ for ticket \n",
      "Enter your age: 4\n",
      "Pay 10$ for ticket \n",
      "Enter your age: 3\n",
      "Your ticket is free\n",
      "Enter your age: 2\n",
      "Your ticket is free\n",
      "Enter your age: 1\n",
      "Your ticket is free\n",
      "Enter your age: 0\n"
     ]
    }
   ],
   "source": [
    "flag=True\n",
    "while flag:\n",
    "    age=int(input(\"Enter your age: \"))\n",
    "    \n",
    "    if age<=3 and age>0:\n",
    "        print(\"Your ticket is free\")\n",
    "    elif age>3 and age<=12:\n",
    "        print(\"Pay 10$ for ticket \")\n",
    "    elif age>12:\n",
    "        print(\"Pay 15$ for ticket\")\n",
    "       \n",
    "    if age==0:\n",
    "        flag=False\n",
    "        break\n",
    "   \n",
    "\n",
    "\n",
    "        "
   ]
  },
  {
   "cell_type": "raw",
   "id": "e582041d",
   "metadata": {},
   "source": [
    "7. Infinity: Write a loop that never ends, and run it. (To end the loop, press\n",
    "ctrl-C or close the window displaying the output."
   ]
  },
  {
   "cell_type": "code",
   "execution_count": null,
   "id": "d7704036",
   "metadata": {},
   "outputs": [],
   "source": [
    "count=0\n",
    "while True:\n",
    "    print(count)\n",
    "    count+=1 "
   ]
  },
  {
   "cell_type": "raw",
   "id": "4885f6c7",
   "metadata": {},
   "source": [
    "8. Deli: Make a list called sandwich_orders and fill it with the names of various sandwiches. Then make an empty list called finished_sandwiches. Loop\n",
    "through the list of sandwich orders and print a message for each order, such\n",
    "as I made your tuna sandwich. As each sandwich is made, move it to the list\n",
    "of finished sandwiches. After all the sandwiches have been made, print a\n",
    "message listing each sandwich that was made"
   ]
  },
  {
   "cell_type": "code",
   "execution_count": 5,
   "id": "5a69c4d5",
   "metadata": {},
   "outputs": [
    {
     "name": "stdout",
     "output_type": "stream",
     "text": [
      "I made your egg sandwitch sandwitch\n",
      "I made your sea food sandwitch sandwitch\n",
      "I made your roast beef sandwitch sandwitch\n",
      "I made your grilled chicken sandwtch sandwitch\n",
      "Your order is ready: ['egg sandwitch', 'sea food sandwitch', 'roast beef sandwitch', 'grilled chicken sandwtch']\n"
     ]
    }
   ],
   "source": [
    "sandwitch_order=['egg sandwitch','sea food sandwitch','roast beef sandwitch',\n",
    "                 'grilled chicken sandwtch']\n",
    "finished_sandwitch=[]\n",
    "\n",
    "for order in sandwitch_order:\n",
    "    print(f\"I made your {order} sandwitch\")\n",
    "    finished_sandwitch.append(order)\n",
    "    \n",
    "print(f\"Your order is ready: {finished_sandwitch}\")    "
   ]
  },
  {
   "cell_type": "code",
   "execution_count": null,
   "id": "5d33c9e1",
   "metadata": {},
   "outputs": [],
   "source": []
  }
 ],
 "metadata": {
  "kernelspec": {
   "display_name": "Python 3 (ipykernel)",
   "language": "python",
   "name": "python3"
  },
  "language_info": {
   "codemirror_mode": {
    "name": "ipython",
    "version": 3
   },
   "file_extension": ".py",
   "mimetype": "text/x-python",
   "name": "python",
   "nbconvert_exporter": "python",
   "pygments_lexer": "ipython3",
   "version": "3.9.12"
  }
 },
 "nbformat": 4,
 "nbformat_minor": 5
}
