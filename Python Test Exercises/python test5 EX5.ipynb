{
 "cells": [
  {
   "cell_type": "raw",
   "id": "210e4f6a",
   "metadata": {},
   "source": [
    ". Alien Colors #1: Imagine an alien was just shot down in a game. Create a\n",
    "variable called alien_color and assign it a value of 'green', 'yellow', or 'red'.\n",
    "•\t Write an if statement to test whether the alien’s color is green. If it is, print\n",
    "a message that the player just earned 5 points.\n",
    "•\t Write one version of this program that passes the if test and another that\n",
    "fails. (The version that fails will have no output.)"
   ]
  },
  {
   "cell_type": "code",
   "execution_count": 2,
   "id": "ef4f078b",
   "metadata": {},
   "outputs": [
    {
     "name": "stdout",
     "output_type": "stream",
     "text": [
      "Player just earned 5 points\n"
     ]
    }
   ],
   "source": [
    "alien_color=\"red\"\n",
    "\n",
    "if alien_color=='red':\n",
    "    print(\"Player just earned 5 points\")\n",
    "    \n",
    "else:\n",
    "    print(\"Error\")"
   ]
  },
  {
   "cell_type": "raw",
   "id": "4b6648bf",
   "metadata": {},
   "source": [
    ". Alien Colors #2: Choose a color for an alien as you did in Exercise 5-3, and\n",
    "write an if-else chain.\n",
    "•\t If the alien’s color is green, print a statement that the player just earned\n",
    "5 points for shooting the alien.\n",
    "•\t If the alien’s color isn’t green, print a statement that the player just earned\n",
    "10 points.\n",
    "•\t Write one version of this program that runs the if block and another that\n",
    "runs the else block.\n"
   ]
  },
  {
   "cell_type": "code",
   "execution_count": 3,
   "id": "02de93a7",
   "metadata": {},
   "outputs": [
    {
     "name": "stdout",
     "output_type": "stream",
     "text": [
      "you earned 10 points\n"
     ]
    }
   ],
   "source": [
    "alien_color='yellow'\n",
    "\n",
    "if alien_color=='green':\n",
    "    print(\"you just earned 5 points for shooting the alien\")\n",
    "    \n",
    "if alien_color!='green':\n",
    "    print(\"you earned 10 points\")\n",
    "    "
   ]
  },
  {
   "cell_type": "raw",
   "id": "c0215e66",
   "metadata": {},
   "source": [
    ". Alien Colors #3: Turn your if-else chain from Exercise 5-4 into an if-elifelse chain.\n",
    "•\t If the alien is green, print a message that the player earned 5 points.\n",
    "•\t If the alien is yellow, print a message that the player earned 10 points.\n",
    "•\t If the alien is red, print a message that the player earned 15 points.\n",
    "•\t Write three versions of this program, making sure each message is printed\n",
    "for the appropriate color alien"
   ]
  },
  {
   "cell_type": "code",
   "execution_count": 4,
   "id": "6912b553",
   "metadata": {},
   "outputs": [
    {
     "name": "stdout",
     "output_type": "stream",
     "text": [
      "you earned 15 points\n"
     ]
    }
   ],
   "source": [
    "alien_color='red'\n",
    "\n",
    "if alien_color=='green':\n",
    "    print(\"you just earned 5 points for shooting the alien\")\n",
    "    \n",
    "elif alien_color=='yellow':\n",
    "    print(\"you earned 10 points\")\n",
    "\n",
    "elif alien_color=='red':\n",
    "    print(\"you earned 15 points\")\n",
    "    "
   ]
  },
  {
   "cell_type": "code",
   "execution_count": 5,
   "id": "2053e9da",
   "metadata": {},
   "outputs": [
    {
     "name": "stdout",
     "output_type": "stream",
     "text": [
      "Enter an alien_color: red\n",
      "you earned 15 points\n"
     ]
    }
   ],
   "source": [
    "alien_color=input('Enter an alien_color: ')\n",
    "\n",
    "if alien_color=='green':\n",
    "    print(\"you just earned 5 points for shooting the alien\")\n",
    "    \n",
    "elif alien_color=='yellow':\n",
    "    print(\"you earned 10 points\")\n",
    "\n",
    "elif alien_color=='red':\n",
    "    print(\"you earned 15 points\")\n",
    "    "
   ]
  },
  {
   "cell_type": "raw",
   "id": "3957c69e",
   "metadata": {},
   "source": [
    ". Stages of Life: Write an if-elif-else chain that determines a person’s\n",
    "stage of life. Set a value for the variable age, and then:\n",
    "•\t If the person is less than 2 years old, print a message that the person is\n",
    "a baby.\n",
    "•\t If the person is at least 2 years old but less than 4, print a message that\n",
    "the person is a toddler.\n",
    "•\t If the person is at least 4 years old but less than 13, print a message that\n",
    "the person is a kid.\n",
    "•\t If the person is at least 13 years old but less than 20, print a message that\n",
    "the person is a teenager.\n",
    "•\t If the person is at least 20 years old but less than 65, print a message that\n",
    "the person is an adult.\n",
    "•\t If the person is age 65 or older, print a message that the person is an\n",
    "elder"
   ]
  },
  {
   "cell_type": "code",
   "execution_count": 11,
   "id": "b0791417",
   "metadata": {},
   "outputs": [
    {
     "name": "stdout",
     "output_type": "stream",
     "text": [
      "Enter an age: 3\n",
      "person is a toddler\n"
     ]
    }
   ],
   "source": [
    "age=float(input(\"Enter an age: \"))\n",
    "\n",
    "if age<2:\n",
    "    print(\"person is a baby\")\n",
    "\n",
    "elif age==2 or age<4:\n",
    "    print(\"person is a toddler\")\n",
    "\n",
    "elif age==4 or age<13:\n",
    "    print(\"person is a kid\")\n",
    "          \n",
    "elif age==13 or age<20:\n",
    "    print(\"person is a teenager\")\n",
    "          \n",
    "\n",
    "elif age==20 or age<65:\n",
    "    print(\"person is a adult\")\n",
    "          \n",
    "\n",
    "elif age>=65:\n",
    "    print(\"person is an older\")          "
   ]
  },
  {
   "cell_type": "raw",
   "id": "d4f3ce60",
   "metadata": {},
   "source": [
    "7. Favorite Fruit: Make a list of your favorite fruits, and then write a series of\n",
    "independent if statements that check for certain fruits in your list.\n",
    "•\t Make a list of your three favorite fruits and call it favorite_fruits.\n",
    "•\t Write five if statements. Each should check whether a certain kind of fruit\n",
    "is in your list. If the fruit is in your list, the if block should print a statement,\n",
    "such as You really like bananas!\n"
   ]
  },
  {
   "cell_type": "code",
   "execution_count": 14,
   "id": "66a734e6",
   "metadata": {},
   "outputs": [
    {
     "name": "stdout",
     "output_type": "stream",
     "text": [
      "mango is my favourite fruit\n",
      "banana is my most favourite fruit\n",
      "orange is not my favourite fruit\n",
      "pine apple is my super fruit\n"
     ]
    }
   ],
   "source": [
    "fruites=['mango','banana','cherry','orange','pine apple']\n",
    "\n",
    "for fruite in fruites:\n",
    "    if fruite=='mango':\n",
    "        print(f\"{fruite} is my favourite fruit\")\n",
    "    if fruite=='banana':\n",
    "        print(f\"{fruite} is my most favourite fruit\")\n",
    "    \n",
    "    if fruite=='orange':\n",
    "        print(f\"{fruite} is not my favourite fruit\")\n",
    "    \n",
    "    if fruite=='pine apple':\n",
    "        print(f\"{fruite} is my super fruit\")"
   ]
  },
  {
   "cell_type": "raw",
   "id": "4b13e9c7",
   "metadata": {},
   "source": [
    "Hello Admin: Make a list of five or more usernames, including the name\n",
    "'admin'. Imagine you are writing code that will print a greeting to each user\n",
    "after they log in to a website. Loop through the list, and print a greeting to\n",
    "each user:\n",
    "•\t If the username is 'admin', print a special greeting, such as Hello admin,\n",
    "would you like to see a status report?\n",
    "•\t Otherwise, print a generic greeting, such as Hello Eric, thank you for logging in again."
   ]
  },
  {
   "cell_type": "code",
   "execution_count": 19,
   "id": "24f18796",
   "metadata": {},
   "outputs": [
    {
     "name": "stdout",
     "output_type": "stream",
     "text": [
      "Hello Admin! would you like to see a status report?\n",
      "Hello  Abdul Rehman! Thanks for logging in again\n",
      "Hello  Abdullah! Thanks for logging in again\n",
      "Hello  Usman! Thanks for logging in again\n"
     ]
    }
   ],
   "source": [
    "user_name=['Admin','Abdul Rehman','Abdullah','Usman']\n",
    "\n",
    "for greeting in user_name:\n",
    "    if greeting=='Admin':\n",
    "        print(f\"Hello {greeting}! would you like to see a status report?\")\n",
    "    else:\n",
    "        print(f\"Hello  {greeting}! Thanks for logging in again\")"
   ]
  },
  {
   "cell_type": "raw",
   "id": "e6434ae7",
   "metadata": {},
   "source": [
    "9. No Users: Add an if test to hello_admin.py to make sure the list of users is\n",
    "not empty.\n",
    "•\t If the list is empty, print the message We need to find some users!\n",
    "•\t Remove all of the usernames from your list, and make sure the correct\n",
    "message is printed"
   ]
  },
  {
   "cell_type": "code",
   "execution_count": 2,
   "id": "7321ef34",
   "metadata": {},
   "outputs": [],
   "source": [
    "user_name=[ ]\n",
    "\n",
    "for name in user_name:\n",
    "    if name in user_name==None:\n",
    "        print('we need to find some users')\n",
    "    "
   ]
  },
  {
   "cell_type": "raw",
   "id": "69a007c0",
   "metadata": {},
   "source": [
    ". Checking Usernames: Do the following to create a program that simulates\n",
    "how websites ensure that everyone has a unique username.\n",
    "•\t Make a list of five or more usernames called current_users.\n",
    "•\t Make another list of five usernames called new_users. Make sure one or\n",
    "two of the new usernames are also in the current_users list.\n",
    "•\t Loop through the new_users list to see if each new username has already\n",
    "been used. If it has, print a message that the person will need to enter a\n",
    "new username. If a username has not been used, print a message saying\n",
    "that the username is available.\n",
    "•\t Make sure your comparison is case insensitive. If 'John' has been used,\n",
    "'JOHN' should not be accepted."
   ]
  },
  {
   "cell_type": "code",
   "execution_count": 15,
   "id": "3905d5a3",
   "metadata": {},
   "outputs": [
    {
     "name": "stdout",
     "output_type": "stream",
     "text": [
      "Enter full user name \n",
      "Enter full user name \n",
      "Enter full user name \n",
      "Adil  user name is available \n",
      "Enter full user name \n",
      "Usman  user name is available \n",
      "Enter full user name \n"
     ]
    }
   ],
   "source": [
    "current_users=['Admin','Abdul Rehman','Abdullah','Usman','Adil','Asad','Ameen']\n",
    "new_users=['mehmood','shabbir','shamoon','Adil','Usman']\n",
    "\n",
    "\n",
    "for name in new_users:\n",
    "    for names in current_users:\n",
    "        if name==names:\n",
    "            print(f\"{name}  user name is available \")\n",
    "    \n",
    "    if name!=names:\n",
    "        print(\"Enter full user name \")\n"
   ]
  },
  {
   "cell_type": "raw",
   "id": "aafc143f",
   "metadata": {},
   "source": [
    ". Ordinal Numbers: Ordinal numbers indicate their position in a list, such\n",
    "as 1st or 2nd. Most ordinal numbers end in th, except 1, 2, and 3.\n",
    "•\t Store the numbers 1 through 9 in a list.\n",
    "•\t Loop through the list.\n",
    "•\t Use an if-elif-else chain inside the loop to print the proper ordinal ending for each number. Your output should read \"1st 2nd 3rd 4th 5th 6th\n",
    "7th 8th 9th\", and each result should be on a separate line."
   ]
  },
  {
   "cell_type": "code",
   "execution_count": 16,
   "id": "376882b0",
   "metadata": {},
   "outputs": [
    {
     "name": "stdout",
     "output_type": "stream",
     "text": [
      "1st\n",
      "2nd\n",
      "3rd\n",
      "4th\n",
      "5th\n",
      "6th\n",
      "7th\n",
      "8th\n",
      "9th\n"
     ]
    }
   ],
   "source": [
    "numbers=[1,2,3,4,5,6,7,8,9]\n",
    "\n",
    "for num in numbers:\n",
    "    if num==1:\n",
    "        print(f\"{num}st\")\n",
    "    elif num==2:\n",
    "        print(f\"{num}nd\")\n",
    "    elif num==3:\n",
    "        print(f\"{num}rd\")\n",
    "    else:\n",
    "        print(f\"{num}th\")"
   ]
  },
  {
   "cell_type": "code",
   "execution_count": null,
   "id": "17c34802",
   "metadata": {},
   "outputs": [],
   "source": []
  },
  {
   "cell_type": "code",
   "execution_count": null,
   "id": "1773032c",
   "metadata": {},
   "outputs": [],
   "source": []
  },
  {
   "cell_type": "code",
   "execution_count": null,
   "id": "06f6a132",
   "metadata": {},
   "outputs": [],
   "source": []
  },
  {
   "cell_type": "code",
   "execution_count": null,
   "id": "ab18c4b8",
   "metadata": {},
   "outputs": [],
   "source": []
  }
 ],
 "metadata": {
  "kernelspec": {
   "display_name": "Python 3 (ipykernel)",
   "language": "python",
   "name": "python3"
  },
  "language_info": {
   "codemirror_mode": {
    "name": "ipython",
    "version": 3
   },
   "file_extension": ".py",
   "mimetype": "text/x-python",
   "name": "python",
   "nbconvert_exporter": "python",
   "pygments_lexer": "ipython3",
   "version": "3.9.12"
  }
 },
 "nbformat": 4,
 "nbformat_minor": 5
}
