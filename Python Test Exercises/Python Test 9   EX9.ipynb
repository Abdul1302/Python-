{
 "cells": [
  {
   "cell_type": "raw",
   "id": "7760f264",
   "metadata": {},
   "source": [
    "9-1. Restaurant: Make a class called Restaurant. The __init__() method for\n",
    "Restaurant should store two attributes: a restaurant_name and a cuisine_type.\n",
    "Make a method called describe_restaurant() that prints these two pieces of\n",
    "information, and a method called open_restaurant() that prints a message indicating that the restaurant is open.\n",
    "Make an instance called restaurant from your class. Print the two attributes individually, and then call both methods."
   ]
  },
  {
   "cell_type": "code",
   "execution_count": 9,
   "id": "02042c51",
   "metadata": {},
   "outputs": [],
   "source": [
    "class Resturant():\n",
    "    def __init__(self,resturant_name,cuisine_type):\n",
    "        self.resturant_name=resturant_name\n",
    "        self.cuisine_type=cuisine_type\n",
    "    \n",
    "    def describe_resturant(self):\n",
    "        print(f\"\"\"Resturant Name: {self.resturant_name}\n",
    "Cuisine: {self.cuisine_type}\"\"\")\n",
    "        \n",
    "    def open_resturant(self):\n",
    "        print(f\"{self.resturant_name} resturant is open\")"
   ]
  },
  {
   "cell_type": "code",
   "execution_count": 10,
   "id": "0182a3ac",
   "metadata": {},
   "outputs": [],
   "source": [
    "r1=Resturant('Anwar Baloch','Desi')"
   ]
  },
  {
   "cell_type": "code",
   "execution_count": 11,
   "id": "4fad88be",
   "metadata": {},
   "outputs": [
    {
     "data": {
      "text/plain": [
       "'Anwar Baloch'"
      ]
     },
     "execution_count": 11,
     "metadata": {},
     "output_type": "execute_result"
    }
   ],
   "source": [
    "r1.resturant_name"
   ]
  },
  {
   "cell_type": "code",
   "execution_count": 12,
   "id": "54d95645",
   "metadata": {},
   "outputs": [
    {
     "data": {
      "text/plain": [
       "'Desi'"
      ]
     },
     "execution_count": 12,
     "metadata": {},
     "output_type": "execute_result"
    }
   ],
   "source": [
    "r1.cuisine_type"
   ]
  },
  {
   "cell_type": "code",
   "execution_count": 13,
   "id": "deeb8163",
   "metadata": {},
   "outputs": [
    {
     "name": "stdout",
     "output_type": "stream",
     "text": [
      "Resturant Name: Anwar Baloch\n",
      "Cuisine: Desi\n"
     ]
    }
   ],
   "source": [
    "r1.describe_resturant()"
   ]
  },
  {
   "cell_type": "code",
   "execution_count": 14,
   "id": "fdb7b25e",
   "metadata": {},
   "outputs": [
    {
     "name": "stdout",
     "output_type": "stream",
     "text": [
      "Anwar Baloch resturant is open\n"
     ]
    }
   ],
   "source": [
    "r1.open_resturant()"
   ]
  },
  {
   "cell_type": "code",
   "execution_count": 16,
   "id": "cd01b11d",
   "metadata": {},
   "outputs": [],
   "source": [
    "r2=Resturant('Shifudo','Sea food')"
   ]
  },
  {
   "cell_type": "code",
   "execution_count": 20,
   "id": "3863e33c",
   "metadata": {},
   "outputs": [
    {
     "data": {
      "text/plain": [
       "'Shifudo'"
      ]
     },
     "execution_count": 20,
     "metadata": {},
     "output_type": "execute_result"
    }
   ],
   "source": [
    "r2.resturant_name"
   ]
  },
  {
   "cell_type": "code",
   "execution_count": 21,
   "id": "aa0ab6aa",
   "metadata": {},
   "outputs": [
    {
     "data": {
      "text/plain": [
       "'Sea food'"
      ]
     },
     "execution_count": 21,
     "metadata": {},
     "output_type": "execute_result"
    }
   ],
   "source": [
    "r2.cuisine_type"
   ]
  },
  {
   "cell_type": "code",
   "execution_count": 22,
   "id": "5dd33994",
   "metadata": {},
   "outputs": [
    {
     "name": "stdout",
     "output_type": "stream",
     "text": [
      "Resturant Name: Shifudo\n",
      "Cuisine: Sea food\n"
     ]
    }
   ],
   "source": [
    "r2.describe_resturant()"
   ]
  },
  {
   "cell_type": "code",
   "execution_count": 23,
   "id": "5bc6e8ee",
   "metadata": {},
   "outputs": [
    {
     "name": "stdout",
     "output_type": "stream",
     "text": [
      "Shifudo resturant is open\n"
     ]
    }
   ],
   "source": [
    "r2.open_resturant()"
   ]
  },
  {
   "cell_type": "raw",
   "id": "8d7f4f60",
   "metadata": {},
   "source": [
    "9-3. Users: Make a class called User. Create two attributes called first_name\n",
    "and last_name, and then create several other attributes that are typically stored\n",
    "in a user profile. Make a method called describe_user() that prints a summary\n",
    "of the user’s information. Make another method called greet_user() that prints\n",
    "a personalized greeting to the user.\n",
    "Create several instances representing different users, and call both methods\n",
    "for each user."
   ]
  },
  {
   "cell_type": "code",
   "execution_count": 33,
   "id": "7cefa002",
   "metadata": {},
   "outputs": [],
   "source": [
    "class user():\n",
    "    def __init__(self,first_name,last_name,cnic_no,contact_no,email):\n",
    "        self.first_name=first_name\n",
    "        self.last_name=last_name\n",
    "        self.cnic_no=cnic_no\n",
    "        self.contact_no=contact_no\n",
    "        self.email=email\n",
    "        \n",
    "        \n",
    "    def describe_user(self):\n",
    "        print(f\"\"\"                   INFORMATION\n",
    "        My name is            {self.first_name+self.last_name}\n",
    "        My CNIC number is     {self.cnic_no}\n",
    "        My contact number is  {self.contact_no}\n",
    "        My Email is           {self.email}\"\"\")\n",
    "        \n",
    "    def greet_user(self):\n",
    "        print(f\"\"\"Assalam u Alaikum {self.first_name+self.last_name}\"\"\")"
   ]
  },
  {
   "cell_type": "code",
   "execution_count": 34,
   "id": "c0bd9ff2",
   "metadata": {},
   "outputs": [],
   "source": [
    "u1=user(\"Abdul\",\"Rehman\",\"34510-0312566-7\",\"0310-234890\",\"abdulrehman@gmail.com\")"
   ]
  },
  {
   "cell_type": "code",
   "execution_count": 35,
   "id": "475ce87e",
   "metadata": {},
   "outputs": [
    {
     "name": "stdout",
     "output_type": "stream",
     "text": [
      "                   INFORMATION\n",
      "        My name is            AbdulRehman\n",
      "        My CNIC number is     34510-0312566-7\n",
      "        My contact number is  0310-234890\n",
      "        My Email is           abdulrehman@gmail.com\n"
     ]
    }
   ],
   "source": [
    "u1.describe_user()"
   ]
  },
  {
   "cell_type": "code",
   "execution_count": 36,
   "id": "05180942",
   "metadata": {},
   "outputs": [
    {
     "name": "stdout",
     "output_type": "stream",
     "text": [
      "Assalam u Alaikum AbdulRehman\n"
     ]
    }
   ],
   "source": [
    "u1.greet_user()"
   ]
  },
  {
   "cell_type": "code",
   "execution_count": 37,
   "id": "54799cc6",
   "metadata": {},
   "outputs": [],
   "source": [
    "u2=user(\"Abdullah\",\"Zeeshan\",\"43521-0965411-9\",\"0345-569834\",\"abdullah@gmail.com\")"
   ]
  },
  {
   "cell_type": "code",
   "execution_count": 38,
   "id": "bfa3230b",
   "metadata": {},
   "outputs": [
    {
     "name": "stdout",
     "output_type": "stream",
     "text": [
      "                   INFORMATION\n",
      "        My name is            AbdullahZeeshan\n",
      "        My CNIC number is     43521-0965411-9\n",
      "        My contact number is  0345-569834\n",
      "        My Email is           abdullah@gmail.com\n"
     ]
    }
   ],
   "source": [
    "u2.describe_user()"
   ]
  },
  {
   "cell_type": "code",
   "execution_count": 39,
   "id": "85b69ea0",
   "metadata": {},
   "outputs": [
    {
     "name": "stdout",
     "output_type": "stream",
     "text": [
      "Assalam u Alaikum AbdullahZeeshan\n"
     ]
    }
   ],
   "source": [
    "u2.greet_user()"
   ]
  },
  {
   "cell_type": "raw",
   "id": "85a3d89a",
   "metadata": {},
   "source": [
    "9-4. Number Served: Start with your program from Exercise 9-1 (page 166).\n",
    "Add an attribute called number_served with a default value of 0. Create an\n",
    "instance called restaurant from this class. Print the number of customers the\n",
    "restaurant has served, and then change this value and print it again.\n",
    "Add a method called set_number_served() that lets you set the number\n",
    "of customers that have been served. Call this method with a new number and\n",
    "print the value again.\n",
    "Add a method called increment_number_served() that lets you increment\n",
    "the number of customers who’ve been served. Call this method with any number you like that could represent how many customers were served in, say, a\n",
    "day of business"
   ]
  },
  {
   "cell_type": "code",
   "execution_count": 2,
   "id": "f83fac2f",
   "metadata": {},
   "outputs": [],
   "source": [
    "class resturant():\n",
    "    def __init__(self,resturant_name,cuisine_type):\n",
    "        self.resturant_name=resturant_name\n",
    "        self.cuisine_type=cuisine_type\n",
    "        self.number_served=0\n",
    "   \n",
    "    def set_number_served(self,new_number_served):\n",
    "        self.number_served=new_number_served\n",
    "        \n",
    "    def increment_number_served(self):\n",
    "        self.number_served=self.number_served+1\n",
    "        \n",
    "    \n",
    "    def describe_resturant(self):\n",
    "        print(f\"\"\"Resturant Name: {self.resturant_name}\n",
    "Cuisine: {self.cuisine_type}\"\"\")\n",
    "        \n",
    "    def open_resturant(self):\n",
    "        print(f\"{self.resturant_name} resturant is open\")"
   ]
  },
  {
   "cell_type": "code",
   "execution_count": 3,
   "id": "506503d0",
   "metadata": {},
   "outputs": [],
   "source": [
    "resturant=resturant('Anwar Baloch','Desi')"
   ]
  },
  {
   "cell_type": "code",
   "execution_count": 4,
   "id": "1eaaacbc",
   "metadata": {},
   "outputs": [
    {
     "data": {
      "text/plain": [
       "0"
      ]
     },
     "execution_count": 4,
     "metadata": {},
     "output_type": "execute_result"
    }
   ],
   "source": [
    "resturant.number_served"
   ]
  },
  {
   "cell_type": "code",
   "execution_count": 5,
   "id": "50bc04d1",
   "metadata": {},
   "outputs": [],
   "source": [
    "resturant.set_number_served(6)"
   ]
  },
  {
   "cell_type": "code",
   "execution_count": 6,
   "id": "ac146793",
   "metadata": {},
   "outputs": [
    {
     "data": {
      "text/plain": [
       "6"
      ]
     },
     "execution_count": 6,
     "metadata": {},
     "output_type": "execute_result"
    }
   ],
   "source": [
    "resturant.number_served"
   ]
  },
  {
   "cell_type": "code",
   "execution_count": 7,
   "id": "6b3a3882",
   "metadata": {},
   "outputs": [],
   "source": [
    "resturant.increment_number_served()"
   ]
  },
  {
   "cell_type": "code",
   "execution_count": 8,
   "id": "7da1f332",
   "metadata": {},
   "outputs": [
    {
     "data": {
      "text/plain": [
       "7"
      ]
     },
     "execution_count": 8,
     "metadata": {},
     "output_type": "execute_result"
    }
   ],
   "source": [
    "resturant.number_served"
   ]
  },
  {
   "cell_type": "raw",
   "id": "1611c05d",
   "metadata": {},
   "source": [
    "9-5. Login Attempts: Add an attribute called login_attempts to your User\n",
    "class from Exercise 9-3 (page 166). Write a method called increment_\n",
    "login_attempts() that increments the value of login_attempts by 1. Write\n",
    "another method called reset_login_attempts() that resets the value of login_\n",
    "attempts to 0.\n",
    "Make an instance of the User class and call increment_login_attempts()\n",
    "several times. Print the value of login_attempts to make sure it was incremented\n",
    "properly, and then call reset_login_attempts(). Print login_attempts again to\n",
    "make sure it was reset to 0"
   ]
  },
  {
   "cell_type": "code",
   "execution_count": 30,
   "id": "63bd671e",
   "metadata": {},
   "outputs": [],
   "source": [
    "class user():\n",
    "    def __init__(self,first_name,last_name,cnic_no,contact_no,email):\n",
    "        self.first_name=first_name\n",
    "        self.last_name=last_name\n",
    "        self.cnic_no=cnic_no\n",
    "        self.contact_no=contact_no\n",
    "        self.email=email\n",
    "        self.login_attempts=0\n",
    "        \n",
    "    def increment_login_attempts(self):\n",
    "        self.login_attempts=self.login_attempts+1\n",
    "        \n",
    "    def reset_login_attempts(self):\n",
    "        self.login_attempts=0\n",
    "        \n",
    "        \n",
    "    def describe_user(self):\n",
    "        print(f\"\"\"                   INFORMATION\n",
    "        My name is            {self.first_name+self.last_name}\n",
    "        My CNIC number is     {self.cnic_no}\n",
    "        My contact number is  {self.contact_no}\n",
    "        My Email is           {self.email}\"\"\")\n",
    "        \n",
    "    def greet_user(self):\n",
    "        print(f\"\"\"Assalam u Alaikum {self.first_name+self.last_name}\"\"\")"
   ]
  },
  {
   "cell_type": "code",
   "execution_count": 31,
   "id": "21dc6a68",
   "metadata": {},
   "outputs": [],
   "source": [
    "u1=user('Abdul','Rehman','42501-0232294-5','0322-8298414','abdul.rehman132802@gmail.com')"
   ]
  },
  {
   "cell_type": "code",
   "execution_count": 32,
   "id": "705934cd",
   "metadata": {},
   "outputs": [
    {
     "data": {
      "text/plain": [
       "0"
      ]
     },
     "execution_count": 32,
     "metadata": {},
     "output_type": "execute_result"
    }
   ],
   "source": [
    "u1.login_attempts"
   ]
  },
  {
   "cell_type": "code",
   "execution_count": 33,
   "id": "6ca5ae7b",
   "metadata": {},
   "outputs": [],
   "source": [
    "u1.increment_login_attempts()"
   ]
  },
  {
   "cell_type": "code",
   "execution_count": 34,
   "id": "2a65fcec",
   "metadata": {},
   "outputs": [
    {
     "data": {
      "text/plain": [
       "1"
      ]
     },
     "execution_count": 34,
     "metadata": {},
     "output_type": "execute_result"
    }
   ],
   "source": [
    "u1.login_attempts"
   ]
  },
  {
   "cell_type": "code",
   "execution_count": 42,
   "id": "b3111bdd",
   "metadata": {},
   "outputs": [],
   "source": [
    "u1.increment_login_attempts()"
   ]
  },
  {
   "cell_type": "code",
   "execution_count": 43,
   "id": "603b8f58",
   "metadata": {},
   "outputs": [
    {
     "data": {
      "text/plain": [
       "9"
      ]
     },
     "execution_count": 43,
     "metadata": {},
     "output_type": "execute_result"
    }
   ],
   "source": [
    "u1.login_attempts"
   ]
  },
  {
   "cell_type": "code",
   "execution_count": 44,
   "id": "ce1a5607",
   "metadata": {},
   "outputs": [],
   "source": [
    "u1.reset_login_attempts()"
   ]
  },
  {
   "cell_type": "code",
   "execution_count": 45,
   "id": "f3039b07",
   "metadata": {},
   "outputs": [
    {
     "data": {
      "text/plain": [
       "0"
      ]
     },
     "execution_count": 45,
     "metadata": {},
     "output_type": "execute_result"
    }
   ],
   "source": [
    "u1.login_attempts"
   ]
  },
  {
   "cell_type": "raw",
   "id": "4007bd61",
   "metadata": {},
   "source": [
    "# 9-6. Ice Cream Stand: An ice cream stand is a specific kind of restaurant. Write\n",
    "a class called IceCreamStand that inherits from the Restaurant class you wrote\n",
    "in Exercise 9-1 (page 166) or Exercise 9-4 (page 171). Either version of\n",
    "the class will work; just pick the one you like better. Add an attribute called\n",
    "flavors that stores a list of ice cream flavors. Write a method that displays\n",
    "these flavors. Create an instance of IceCreamStand, and call this method"
   ]
  },
  {
   "cell_type": "code",
   "execution_count": 11,
   "id": "ba885c75",
   "metadata": {},
   "outputs": [
    {
     "ename": "TypeError",
     "evalue": "__init__() takes 3 positional arguments but 4 were given",
     "output_type": "error",
     "traceback": [
      "\u001b[1;31m---------------------------------------------------------------------------\u001b[0m",
      "\u001b[1;31mTypeError\u001b[0m                                 Traceback (most recent call last)",
      "Input \u001b[1;32mIn [11]\u001b[0m, in \u001b[0;36m<cell line: 1>\u001b[1;34m()\u001b[0m\n\u001b[1;32m----> 1\u001b[0m \u001b[38;5;28;01mclass\u001b[39;00m \u001b[38;5;21;01micecream_stand\u001b[39;00m(resturant):\n\u001b[0;32m      2\u001b[0m     \u001b[38;5;28;01mdef\u001b[39;00m \u001b[38;5;21m__init__\u001b[39m(\u001b[38;5;28mself\u001b[39m,resturant_name,cuisine_type,flavoure\u001b[38;5;241m=\u001b[39m[]):\n\u001b[0;32m      3\u001b[0m         \u001b[38;5;28msuper\u001b[39m()\u001b[38;5;241m.\u001b[39m\u001b[38;5;21m__init__\u001b[39m(resturant_name,cuisine_type)\n",
      "\u001b[1;31mTypeError\u001b[0m: __init__() takes 3 positional arguments but 4 were given"
     ]
    }
   ],
   "source": [
    "class icecream_stand(resturant):\n",
    "    def __init__(self,resturant_name,cuisine_type,flavoure=[]):\n",
    "        super().__init__(resturant_name,cuisine_type)\n",
    "        self.flavoure=[]\n",
    "   \n",
    "    def display_flavoure(self):\n",
    "        for flavor in self.flavoure:\n",
    "            print(\"We have available flavoures\")\n",
    "            print(flavor)\n",
    "            \n",
    "    def describe_resturant(self):\n",
    "        print(f\"\"\"Resturant Name: {self.resturant_name}\n",
    "Cuisine: {self.cuisine_type}\"\"\")\n",
    "        \n",
    "    def open_resturant(self):\n",
    "        print(f\"{self.resturant_name} resturant is open\")        "
   ]
  },
  {
   "cell_type": "code",
   "execution_count": null,
   "id": "50c14e4d",
   "metadata": {},
   "outputs": [],
   "source": []
  },
  {
   "cell_type": "code",
   "execution_count": null,
   "id": "6dfa1ee5",
   "metadata": {},
   "outputs": [],
   "source": []
  }
 ],
 "metadata": {
  "kernelspec": {
   "display_name": "Python 3 (ipykernel)",
   "language": "python",
   "name": "python3"
  },
  "language_info": {
   "codemirror_mode": {
    "name": "ipython",
    "version": 3
   },
   "file_extension": ".py",
   "mimetype": "text/x-python",
   "name": "python",
   "nbconvert_exporter": "python",
   "pygments_lexer": "ipython3",
   "version": "3.9.12"
  }
 },
 "nbformat": 4,
 "nbformat_minor": 5
}
