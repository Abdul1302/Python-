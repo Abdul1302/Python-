{
 "cells": [
  {
   "cell_type": "raw",
   "id": "7f8f08f7",
   "metadata": {},
   "source": [
    ": Store the names of a few of your friends in a list called names. Print\n",
    "each person’s name by accessing each element in the list, one at a time"
   ]
  },
  {
   "cell_type": "code",
   "execution_count": 3,
   "id": "6a6e5b11",
   "metadata": {},
   "outputs": [
    {
     "name": "stdout",
     "output_type": "stream",
     "text": [
      "abdullah\n",
      "usman\n",
      "najeem\n",
      "taimoor\n",
      "ameen\n"
     ]
    }
   ],
   "source": [
    "name=['abdullah','usman','najeem','taimoor','ameen']\n",
    "\n",
    "print(name[0])\n",
    "print(name[1])\n",
    "print(name[2])\n",
    "print(name[3])\n",
    "print(name[4])"
   ]
  },
  {
   "cell_type": "raw",
   "id": "70a3bbfa",
   "metadata": {},
   "source": [
    "Start with the list you used in Exercise 3-1, but instead of just\n",
    "printing each person’s name, print a message to them. The text of each message should be the same, but each message should be personalized with the\n",
    "person’s name."
   ]
  },
  {
   "cell_type": "code",
   "execution_count": 4,
   "id": "34b6b5d8",
   "metadata": {},
   "outputs": [
    {
     "name": "stdout",
     "output_type": "stream",
     "text": [
      "abdullah,usman,najeem,taimoor & ameen are my best friends\n"
     ]
    }
   ],
   "source": [
    "print(f\"{name[0]},{name[1]},{name[2]},{name[3]} & {name[4]} are my best friends\")"
   ]
  },
  {
   "cell_type": "raw",
   "id": "51424ec3",
   "metadata": {},
   "source": [
    ": If you could invite anyone, living or deceased, to dinner, who\n",
    "would you invite? Make a list that includes at least three people you’d like to\n",
    "invite to dinner. Then use your list to print a message to each person, inviting\n",
    "them to dinner."
   ]
  },
  {
   "cell_type": "code",
   "execution_count": 5,
   "id": "9f00a22a",
   "metadata": {},
   "outputs": [
    {
     "name": "stdout",
     "output_type": "stream",
     "text": [
      "\n",
      "      abdullah is invited\n",
      "      usman is invited\n",
      "      najeem is invited\n",
      "      taimoor is invited\n",
      "      ameen is invited\n"
     ]
    }
   ],
   "source": [
    "guest=['abdullah','usman','najeem','taimoor','ameen']\n",
    "\n",
    "print(f\"\"\"\n",
    "      {guest[0]} is invited\n",
    "      {guest[1]} is invited\n",
    "      {guest[2]} is invited\n",
    "      {guest[3]} is invited\n",
    "      {guest[4]} is invited\"\"\")"
   ]
  },
  {
   "cell_type": "raw",
   "id": "bbe6d7d3",
   "metadata": {},
   "source": [
    ": You just heard that one of your guests can’t make the\n",
    "dinner, so you need to send out a new set of invitations. You’ll have to think of\n",
    "someone else to invite.\n",
    "•\t Start with your program from Exercise 3-4. Add a print statement at the\n",
    "end of your program stating the name of the guest who can’t make it."
   ]
  },
  {
   "cell_type": "code",
   "execution_count": 6,
   "id": "ad10ca2e",
   "metadata": {},
   "outputs": [
    {
     "name": "stdout",
     "output_type": "stream",
     "text": [
      "\n",
      "      abdullah is invited\n",
      "      usman is invited\n",
      "      najeem is invited\n",
      "      taimoor is invited\n",
      "      ameen is not invited\n",
      "ameen can't make the dinner so he can't invited\n"
     ]
    }
   ],
   "source": [
    "guest1=['abdullah','usman','najeem','taimoor','ameen']\n",
    "guest2=[]\n",
    "print(f\"\"\"\n",
    "      {guest[0]} is invited\n",
    "      {guest[1]} is invited\n",
    "      {guest[2]} is invited\n",
    "      {guest[3]} is invited\n",
    "      {guest[4]} is not invited\"\"\")\n",
    "\n",
    "guest2.append(guest[0])\n",
    "guest2.append(guest[0])\n",
    "guest2.append(guest[0])\n",
    "guest2.append(guest[0])\n",
    "\n",
    "print(f\"{guest[4]} can't make the dinner so he can't invited\")"
   ]
  },
  {
   "cell_type": "raw",
   "id": "1ff0f4fd",
   "metadata": {},
   "source": [
    "# Modify your list, replacing the name of the guest who can’t make it with\n",
    "the name of the new person you are inviting"
   ]
  },
  {
   "cell_type": "code",
   "execution_count": 8,
   "id": "7cb77773",
   "metadata": {},
   "outputs": [
    {
     "name": "stdout",
     "output_type": "stream",
     "text": [
      "['abdullah', 'usman', 'najeem', 'taimoor']\n",
      "ameen can't make the dinner so he can't invited \n"
     ]
    }
   ],
   "source": [
    "guest1=['abdullah','usman','najeem','taimoor','ameen']\n",
    "\n",
    "guest1.remove('ameen')\n",
    "\n",
    "print(guest1)\n",
    "\n",
    "print(f\"{guest[4]} can't make the dinner so he can't invited \")\n"
   ]
  },
  {
   "cell_type": "raw",
   "id": "2b5a0cdb",
   "metadata": {},
   "source": [
    "# t: You just found out that your new dinner table won’t\n",
    "arrive in time for the dinner, and you have space for only two guests.\n",
    "•\t Start with your program from Exercise 3-6. Add a new line that prints a\n",
    "message saying that you can invite only two people for dinner.\n",
    "•\t Use pop() to remove guests from your list one at a time until only two\n",
    "names remain in your list. Each time you pop a name from your list, print\n",
    "a message to that person letting them know you’re sorry you can’t invite\n",
    "them to dinner.\n",
    "•\t Print a message to each of the two people still on your list, letting them\n",
    "know they’re still invited.\n",
    "•\t Use del to remove the last two names from your list, so you have an empty\n",
    "list. Print your list to make sure you actually have an empty list at the end\n",
    "of your program"
   ]
  },
  {
   "cell_type": "code",
   "execution_count": 11,
   "id": "ad45e773",
   "metadata": {},
   "outputs": [
    {
     "name": "stdout",
     "output_type": "stream",
     "text": [
      "           You all are invited in a bigger dinner table\n",
      "\n",
      "\n",
      "      arsalan is invited\n",
      "      abdullah is invited\n",
      "      usman is invited\n",
      "      ali is invited\n",
      "      najeem is invited\n",
      "      taimoor is invited\n",
      "      ameen is invited\n",
      "      \n",
      "           You can inite only two peoples for dinner\n",
      "\n",
      "\n",
      "\n",
      "sorry ameen! you can't invited for dinner.\n",
      "\n",
      "\n",
      "sorry taimoor! you can't invited for dinner.\n",
      "\n",
      "\n",
      "sorry najeem! you can't invited for dinner.\n",
      "\n",
      "\n",
      "sorry ali! you can't invited for dinner.\n",
      "\n",
      "\n",
      "sorry usman! you can't invited for dinner.\n",
      "\n",
      "\n",
      "      arsalan & abdullah you are still invited\n"
     ]
    }
   ],
   "source": [
    "guest=['abdullah','usman','najeem','taimoor','ameen']\n",
    "\n",
    "\n",
    "guest.insert(0,'arsalan')\n",
    "guest.insert(3,'ali')\n",
    "guest.append('mehmood')\n",
    "\n",
    "print(f\"\"\"           You all are invited in a bigger dinner table\n",
    "\n",
    "\n",
    "      {guest[0]} is invited\n",
    "      {guest[1]} is invited\n",
    "      {guest[2]} is invited\n",
    "      {guest[3]} is invited\n",
    "      {guest[4]} is invited\n",
    "      {guest[5]} is invited\n",
    "      {guest[6]} is invited\n",
    "      \"\"\")\n",
    "\n",
    "print(f\"\"\"           You can inite only two peoples for dinner\n",
    "\n",
    "\n",
    "\"\"\")\n",
    "\n",
    "guest.pop()\n",
    "print(f\"\"\"sorry {guest[6]}! you can't invited for dinner.\n",
    "\n",
    "\"\"\")\n",
    "\n",
    "guest.pop()\n",
    "print(f\"\"\"sorry {guest[5]}! you can't invited for dinner.\n",
    "\n",
    "\"\"\")\n",
    "\n",
    "guest.pop()\n",
    "print(f\"\"\"sorry {guest[4]}! you can't invited for dinner.\n",
    "\n",
    "\"\"\")\n",
    "\n",
    "guest.pop()\n",
    "print(f\"\"\"sorry {guest[3]}! you can't invited for dinner.\n",
    "\n",
    "\"\"\")\n",
    "\n",
    "guest.pop()\n",
    "print(f\"\"\"sorry {guest[2]}! you can't invited for dinner.\n",
    "\n",
    "\"\"\")\n",
    "\n",
    "\n",
    "print(f\"\"\"      {guest[0]} & {guest[1]} you are still invited\"\"\")\n"
   ]
  },
  {
   "cell_type": "code",
   "execution_count": 18,
   "id": "9211a94b",
   "metadata": {},
   "outputs": [
    {
     "name": "stdout",
     "output_type": "stream",
     "text": [
      "[]\n"
     ]
    }
   ],
   "source": [
    "del guest[0]\n",
    "\n",
    "print(guest)"
   ]
  },
  {
   "cell_type": "raw",
   "id": "ea21f47f",
   "metadata": {},
   "source": [
    "Store the locations in a list. Make sure the list is not in alphabetical order.\n",
    "•\t Print your list in its original order. Don’t worry about printing the list neatly,\n",
    "just print it as a raw Python list."
   ]
  },
  {
   "cell_type": "code",
   "execution_count": 19,
   "id": "df905239",
   "metadata": {},
   "outputs": [
    {
     "name": "stdout",
     "output_type": "stream",
     "text": [
      "['kasmir', 'naran', 'kaghan', 'nathya gali', 'gilgit', 'hunza']\n"
     ]
    }
   ],
   "source": [
    "fvrt_locations=['kasmir','naran','kaghan','nathya gali','gilgit','hunza']\n",
    "\n",
    "print(fvrt_locations)"
   ]
  },
  {
   "cell_type": "raw",
   "id": "fcd0e2aa",
   "metadata": {},
   "source": [
    "Use sorted() to print your list in alphabetical order without modifying the\n",
    "actual list.\n",
    "•\t Show that your list is still in its original order by printing it.\n",
    "•\t Use sorted() to print your list in reverse alphabetical order without changing the order\n",
    "of the original list.\n",
    "•\t Show that your list is still in its original order by printing it again.\n",
    "•\t Use reverse() to change the order of your list. Print the list to show that its\n",
    "order has changed.\n",
    "•\t Use reverse() to change the order of your list again. Print the list to show\n",
    "it’s back to its original order.\n",
    "•\t Use sort() to change your list so it’s stored in alphabetical order. Print the\n",
    "list to show that its order has been changed.\n",
    "•\t Use sort() to change your list so it’s stored in reverse alphabetical order.\n",
    "Print the list to show that its order has changed."
   ]
  },
  {
   "cell_type": "code",
   "execution_count": 20,
   "id": "e23d488c",
   "metadata": {},
   "outputs": [
    {
     "name": "stdout",
     "output_type": "stream",
     "text": [
      "['gilgit', 'hunza', 'kaghan', 'kasmir', 'naran', 'nathya gali']\n",
      "['gilgit', 'hunza', 'kaghan', 'kasmir', 'naran', 'nathya gali']\n",
      "['nathya gali', 'naran', 'kasmir', 'kaghan', 'hunza', 'gilgit']\n",
      "['gilgit', 'hunza', 'kaghan', 'kasmir', 'naran', 'nathya gali']\n",
      "['gilgit', 'hunza', 'kaghan', 'kasmir', 'naran', 'nathya gali']\n",
      "['gilgit', 'hunza', 'kaghan', 'kasmir', 'naran', 'nathya gali']\n"
     ]
    }
   ],
   "source": [
    "fvrt_locations.sort()\n",
    "\n",
    "print(fvrt_locations)\n",
    "\n",
    "fvrt_locations.sort()\n",
    "\n",
    "print(fvrt_locations)\n",
    "\n",
    "fvrt_locations.reverse()\n",
    "\n",
    "print(fvrt_locations)\n",
    "\n",
    "fvrt_locations.reverse()\n",
    "\n",
    "print(fvrt_locations)\n",
    "\n",
    "fvrt_locations.sort()\n",
    "\n",
    "print(fvrt_locations)\n",
    "\n",
    "fvrt_locations.sort()\n",
    "\n",
    "print(fvrt_locations)\n"
   ]
  },
  {
   "cell_type": "raw",
   "id": "ea8a0555",
   "metadata": {},
   "source": [
    "Working with one of the programs from Exercises 3-4\n",
    "through 3-7 (page 46), use len() to print a message indicating the number\n",
    "of people you are inviting to dinner."
   ]
  },
  {
   "cell_type": "code",
   "execution_count": 21,
   "id": "e7e23545",
   "metadata": {},
   "outputs": [
    {
     "name": "stdout",
     "output_type": "stream",
     "text": [
      "           You all are invited in a bigger dinner table\n",
      "\n",
      "\n",
      "      arsalan is invited\n",
      "      abdullah is invited\n",
      "      usman is invited\n",
      "      ali is invited\n",
      "      najeem is invited\n",
      "      taimoor is invited\n",
      "      ameen is invited\n",
      "      \n",
      "           You can inite only two peoples for dinner\n",
      "\n",
      "\n",
      "\n",
      "sorry ameen! you can't invited for dinner.\n",
      "\n",
      "\n",
      "sorry taimoor! you can't invited for dinner.\n",
      "\n",
      "\n",
      "sorry najeem! you can't invited for dinner.\n",
      "\n",
      "\n",
      "sorry ali! you can't invited for dinner.\n",
      "\n",
      "\n",
      "sorry usman! you can't invited for dinner.\n",
      "\n",
      "\n",
      "      arsalan & abdullah you are still invited\n",
      "                now we have only 3 guests!\n"
     ]
    }
   ],
   "source": [
    "guest=['abdullah','usman','najeem','taimoor','ameen']\n",
    "\n",
    "\n",
    "guest.insert(0,'arsalan')\n",
    "guest.insert(3,'ali')\n",
    "guest.append('mehmood')\n",
    "\n",
    "print(f\"\"\"           You all are invited in a bigger dinner table\n",
    "\n",
    "\n",
    "      {guest[0]} is invited\n",
    "      {guest[1]} is invited\n",
    "      {guest[2]} is invited\n",
    "      {guest[3]} is invited\n",
    "      {guest[4]} is invited\n",
    "      {guest[5]} is invited\n",
    "      {guest[6]} is invited\n",
    "      \"\"\")\n",
    "\n",
    "print(f\"\"\"           You can inite only two peoples for dinner\n",
    "\n",
    "\n",
    "\"\"\")\n",
    "\n",
    "guest.pop()\n",
    "print(f\"\"\"sorry {guest[6]}! you can't invited for dinner.\n",
    "\n",
    "\"\"\")\n",
    "\n",
    "guest.pop()\n",
    "print(f\"\"\"sorry {guest[5]}! you can't invited for dinner.\n",
    "\n",
    "\"\"\")\n",
    "\n",
    "guest.pop()\n",
    "print(f\"\"\"sorry {guest[4]}! you can't invited for dinner.\n",
    "\n",
    "\"\"\")\n",
    "\n",
    "guest.pop()\n",
    "print(f\"\"\"sorry {guest[3]}! you can't invited for dinner.\n",
    "\n",
    "\"\"\")\n",
    "\n",
    "guest.pop()\n",
    "print(f\"\"\"sorry {guest[2]}! you can't invited for dinner.\n",
    "\n",
    "\"\"\")\n",
    "\n",
    "\n",
    "print(f\"\"\"      {guest[0]} & {guest[1]} you are still invited\n",
    "                now we have only {len(guest)} guests!\"\"\")\n",
    "\n",
    "\n"
   ]
  },
  {
   "cell_type": "raw",
   "id": "d1d8c4a3",
   "metadata": {},
   "source": [
    ": Think of something you could store in a list. For example,\n",
    "you could make a list of mountains, rivers, countries, cities, languages, or anything else you’d like. Write a program that creates a list containing these items\n",
    "and then uses each function introduced in this chapter at least once."
   ]
  },
  {
   "cell_type": "code",
   "execution_count": 24,
   "id": "235d2be7",
   "metadata": {},
   "outputs": [
    {
     "name": "stdout",
     "output_type": "stream",
     "text": [
      "['Karachi', 'Islamabad', 'Multan', 'Abbotabad', 'Lahore', 'Sargoda', 'Kashmir']\n",
      "['Karachi', 'Islamabad', 'Multan', 'Abbotabad', 'Lahore', 'Sargoda', 'Kashmir', 'Rawalpindi']\n",
      "['Karachi', 'Islamabad', 'Multan', 'Abbotabad', 'Mian wali', 'Lahore', 'Sargoda', 'Kashmir', 'Rawalpindi']\n",
      "['Karachi', 'Islamabad', 'Multan', 'Abbotabad', 'Mian wali', 'Lahore', 'Sargoda', 'Kashmir']\n",
      "['Karachi', 'Islamabad', 'Multan', 'Abbotabad', 'Mian wali', 'Sargoda', 'Kashmir']\n",
      "['Kashmir', 'Sargoda', 'Mian wali', 'Abbotabad', 'Multan', 'Islamabad', 'Karachi']\n",
      "['Abbotabad', 'Islamabad', 'Karachi', 'Kashmir', 'Mian wali', 'Multan', 'Sargoda']\n"
     ]
    }
   ],
   "source": [
    "cities=['Karachi','Islamabad','Multan','Abbotabad','Lahore','Sargoda','Kashmir']\n",
    "print(cities)\n",
    "\n",
    "cities.append('Rawalpindi')\n",
    "print(cities)\n",
    "\n",
    "cities.index('Multan')\n",
    "\n",
    "cities.count('Karachi')\n",
    "\n",
    "\n",
    "cities.insert(4,'Mian wali')\n",
    "print(cities)\n",
    "\n",
    "cities.pop()\n",
    "print(cities)\n",
    "\n",
    "cities.remove('Lahore')\n",
    "print(cities)\n",
    "\n",
    "cities.reverse()\n",
    "print(cities)\n",
    "\n",
    "cities.sort()\n",
    "print(cities)"
   ]
  },
  {
   "cell_type": "code",
   "execution_count": null,
   "id": "d02d2dec",
   "metadata": {},
   "outputs": [],
   "source": []
  },
  {
   "cell_type": "code",
   "execution_count": null,
   "id": "a98a8dde",
   "metadata": {},
   "outputs": [],
   "source": []
  }
 ],
 "metadata": {
  "kernelspec": {
   "display_name": "Python 3 (ipykernel)",
   "language": "python",
   "name": "python3"
  },
  "language_info": {
   "codemirror_mode": {
    "name": "ipython",
    "version": 3
   },
   "file_extension": ".py",
   "mimetype": "text/x-python",
   "name": "python",
   "nbconvert_exporter": "python",
   "pygments_lexer": "ipython3",
   "version": "3.9.12"
  }
 },
 "nbformat": 4,
 "nbformat_minor": 5
}
