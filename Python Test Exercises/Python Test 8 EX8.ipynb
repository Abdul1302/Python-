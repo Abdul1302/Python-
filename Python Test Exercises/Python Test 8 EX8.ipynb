{
 "cells": [
  {
   "cell_type": "markdown",
   "id": "e5458f5a",
   "metadata": {},
   "source": [
    "# FUNCTIONS"
   ]
  },
  {
   "cell_type": "raw",
   "id": "dc26bc11",
   "metadata": {},
   "source": [
    "8-1. Message: Write a function called display_message() that prints one sentence telling everyone what you are learning about in this chapter. Call the\n",
    "function, and make sure the message displays correctly.\n"
   ]
  },
  {
   "cell_type": "code",
   "execution_count": 1,
   "id": "0487a2b2",
   "metadata": {},
   "outputs": [],
   "source": [
    "def display_message():\n",
    "    print(\"I am learning this chapter about functions\")"
   ]
  },
  {
   "cell_type": "code",
   "execution_count": 2,
   "id": "a1e49a4b",
   "metadata": {},
   "outputs": [
    {
     "name": "stdout",
     "output_type": "stream",
     "text": [
      "I am learning this chapter about functions\n"
     ]
    }
   ],
   "source": [
    "display_message()"
   ]
  },
  {
   "cell_type": "raw",
   "id": "e320fa88",
   "metadata": {},
   "source": [
    "8-2. Favorite Book: Write a function called favorite_book() that accepts one\n",
    "parameter, title. The function should print a message, such as One of my\n",
    "favorite books is Alice in Wonderland. Call the function, making sure to\n",
    "include a book title as an argument in the function call"
   ]
  },
  {
   "cell_type": "code",
   "execution_count": 3,
   "id": "da5eb878",
   "metadata": {},
   "outputs": [],
   "source": [
    "def favourite_book(title):\n",
    "    print(f\"My favourite book  name is {title}\")\n",
    "    "
   ]
  },
  {
   "cell_type": "code",
   "execution_count": 6,
   "id": "632d96e1",
   "metadata": {},
   "outputs": [
    {
     "name": "stdout",
     "output_type": "stream",
     "text": [
      "My favourite book is The true religion Islam\n"
     ]
    }
   ],
   "source": [
    "favourite_book(\"\"\"The true religion Islam\"\"\")"
   ]
  },
  {
   "cell_type": "raw",
   "id": "657876df",
   "metadata": {},
   "source": [
    "8-3. T-Shirt: Write a function called make_shirt() that accepts a size and the\n",
    "text of a message that should be printed on the shirt. The function should print\n",
    "a sentence summarizing the size of the shirt and the message printed on it.\n",
    "Call the function once using positional arguments to make a shirt. Call the\n",
    "function a second time using keyword arguments.\n",
    "\n"
   ]
  },
  {
   "cell_type": "code",
   "execution_count": 7,
   "id": "c5d7aaaf",
   "metadata": {},
   "outputs": [],
   "source": [
    "def make_shirt(message,size):\n",
    "    shirt=message+\" \"+size\n",
    "    print(f\"print message in shirt and size: {shirt}\")"
   ]
  },
  {
   "cell_type": "code",
   "execution_count": 9,
   "id": "8de14ddb",
   "metadata": {},
   "outputs": [
    {
     "name": "stdout",
     "output_type": "stream",
     "text": [
      "print message in shirt and size: Legend large  size\n"
     ]
    }
   ],
   "source": [
    " make_shirt('Legend','large  size')"
   ]
  },
  {
   "cell_type": "raw",
   "id": "5ca250c2",
   "metadata": {},
   "source": [
    "8-4. Large Shirts: Modify the make_shirt() function so that shirts are large\n",
    "by default with a message that reads I love Python. Make a large shirt and a\n",
    "medium shirt with the default message, and a shirt of any size with a different\n",
    "message."
   ]
  },
  {
   "cell_type": "code",
   "execution_count": 10,
   "id": "e49f0afc",
   "metadata": {},
   "outputs": [],
   "source": [
    "def make_shirt():\n",
    "    print(f\"print message in shirt: 'I love python'& size: large\")\n",
    "    \n",
    "    messages=input('If you like to make your own style shirt,Enter your message to print on shirt: ')\n",
    "    sizes=input('Enter your size')\n",
    "    shirts=messages+\" \"+sizes\n",
    "    print(f\"print message in shirt and size: {shirts}\")"
   ]
  },
  {
   "cell_type": "code",
   "execution_count": 11,
   "id": "a40b73f3",
   "metadata": {},
   "outputs": [
    {
     "name": "stdout",
     "output_type": "stream",
     "text": [
      "print message in shirt: 'I love python'& size: large\n",
      "If you like to make your own style shirt,Enter your message to print on shirt: Legends never die\n",
      "Enter your sizemedium\n",
      "print message in shirt and size: Legends never die medium\n"
     ]
    }
   ],
   "source": [
    "make_shirt()"
   ]
  },
  {
   "cell_type": "raw",
   "id": "a96ba4e3",
   "metadata": {},
   "source": [
    "8-5. Cities: Write a function called describe_city() that accepts the name of\n",
    "a city and its country. The function should print a simple sentence, such as\n",
    "Reykjavik is in Iceland. Give the parameter for the country a default value.\n",
    "Call your function for three different cities, at least one of which is not in the\n",
    "default country"
   ]
  },
  {
   "cell_type": "code",
   "execution_count": 14,
   "id": "279b324e",
   "metadata": {},
   "outputs": [],
   "source": [
    "def describe_city(city_name,country_name):\n",
    "    print(f\"{city_name} is in {country_name}\")\n",
    "    "
   ]
  },
  {
   "cell_type": "code",
   "execution_count": 15,
   "id": "506412e7",
   "metadata": {},
   "outputs": [
    {
     "name": "stdout",
     "output_type": "stream",
     "text": [
      "Karachi is in Pakistan\n"
     ]
    }
   ],
   "source": [
    "describe_city('Karachi','Pakistan')"
   ]
  },
  {
   "cell_type": "code",
   "execution_count": 16,
   "id": "4c4614b6",
   "metadata": {},
   "outputs": [
    {
     "name": "stdout",
     "output_type": "stream",
     "text": [
      "dehli is in india\n"
     ]
    }
   ],
   "source": [
    " describe_city('dehli','india')"
   ]
  },
  {
   "cell_type": "code",
   "execution_count": 17,
   "id": "b7060c7c",
   "metadata": {},
   "outputs": [
    {
     "name": "stdout",
     "output_type": "stream",
     "text": [
      "chitah kang is in bangladesh\n"
     ]
    }
   ],
   "source": [
    " describe_city('chitah kang','bangladesh')"
   ]
  },
  {
   "cell_type": "raw",
   "id": "124d7d82",
   "metadata": {},
   "source": [
    "8-6. City Names: Write a function called city_country() that takes in the name\n",
    "of a city and its country. The function should return a string formatted like this:\n",
    "\"Santiago, Chile\"\n",
    "Call your function with at least three city-country pairs, and print the value\n",
    "that’s returned.\n",
    "\n"
   ]
  },
  {
   "cell_type": "code",
   "execution_count": 19,
   "id": "09fa353a",
   "metadata": {},
   "outputs": [],
   "source": [
    "def city_country(city_name,country_name):\n",
    "    print(city_name+','+country_name)\n",
    "    "
   ]
  },
  {
   "cell_type": "code",
   "execution_count": 20,
   "id": "e98bdc4b",
   "metadata": {},
   "outputs": [
    {
     "name": "stdout",
     "output_type": "stream",
     "text": [
      "lahore,Pakistan\n"
     ]
    }
   ],
   "source": [
    " city_country('lahore','Pakistan')"
   ]
  },
  {
   "cell_type": "code",
   "execution_count": 21,
   "id": "189d903a",
   "metadata": {},
   "outputs": [
    {
     "name": "stdout",
     "output_type": "stream",
     "text": [
      "istanmbol,Turkey\n"
     ]
    }
   ],
   "source": [
    " city_country('istanmbol','Turkey')"
   ]
  },
  {
   "cell_type": "code",
   "execution_count": 22,
   "id": "d9077165",
   "metadata": {},
   "outputs": [
    {
     "name": "stdout",
     "output_type": "stream",
     "text": [
      "washington DC,america\n"
     ]
    }
   ],
   "source": [
    " city_country('washington DC','america')"
   ]
  }
 ],
 "metadata": {
  "kernelspec": {
   "display_name": "Python 3 (ipykernel)",
   "language": "python",
   "name": "python3"
  },
  "language_info": {
   "codemirror_mode": {
    "name": "ipython",
    "version": 3
   },
   "file_extension": ".py",
   "mimetype": "text/x-python",
   "name": "python",
   "nbconvert_exporter": "python",
   "pygments_lexer": "ipython3",
   "version": "3.9.12"
  }
 },
 "nbformat": 4,
 "nbformat_minor": 5
}
