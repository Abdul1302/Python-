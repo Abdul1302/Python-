{
 "cells": [
  {
   "cell_type": "raw",
   "id": "d76720b9",
   "metadata": {},
   "source": [
    "1) A company decided to give bonus of 5% to employee if his/her year of service is more than 5 years.\n",
    "Ask user for their salary and year of service and print the net bonus amount."
   ]
  },
  {
   "cell_type": "code",
   "execution_count": 2,
   "id": "c6902d1e",
   "metadata": {},
   "outputs": [
    {
     "name": "stdout",
     "output_type": "stream",
     "text": [
      "Enter your name: abdulrehman\n",
      "Enter your service years: 5\n",
      "\n",
      "          Your name: abdulrehman\n",
      "          Your salary: 10000 \n",
      "          net bonus of 5% of your salary: 500.0\n",
      "          Total salary after bonus: 10500.0\n"
     ]
    }
   ],
   "source": [
    "\n",
    "\n",
    "name=input(\"Enter your name: \")\n",
    "servise=int(input(\"Enter your service years: \"))\n",
    "\n",
    "amount=10000\n",
    "percend=(5/100)*10000\n",
    "total=amount+percend\n",
    "\n",
    "if servise>=5:\n",
    "    print(f\"\"\"\n",
    "          Your name: {name}\n",
    "          Your salary: {amount} \n",
    "          net bonus of 5% of your salary: {percend}\n",
    "          Total salary after bonus: {total}\"\"\")\n",
    "else:\n",
    "     print(f\"\"\"\n",
    "           Your name: {name} \n",
    "           Total salary: {amount}\"\"\")"
   ]
  },
  {
   "cell_type": "raw",
   "id": "3f264013",
   "metadata": {},
   "source": [
    "\n",
    "2) Write a program to check whether a person is eligible for voting or not. (accept age from user)"
   ]
  },
  {
   "cell_type": "code",
   "execution_count": 5,
   "id": "5b230b36",
   "metadata": {},
   "outputs": [
    {
     "name": "stdout",
     "output_type": "stream",
     "text": [
      "Enter your name: abdulrehman\n",
      "Enter your age: 16\n",
      "abdulrehman\n",
      "You are not eligible for vote\n"
     ]
    }
   ],
   "source": [
    "name=input(\"Enter your name: \")\n",
    "age=int(input(\"Enter your age: \"))\n",
    "\n",
    "if age>=18:\n",
    "    print(name)\n",
    "    print(\"You are eligible for vote\")\n",
    "else:\n",
    "    print(name)\n",
    "    print(\"You are not eligible for vote\")"
   ]
  },
  {
   "cell_type": "raw",
   "id": "52b28eca",
   "metadata": {},
   "source": [
    "# 3) Write a program to check whether a number entered by user is even or odd."
   ]
  },
  {
   "cell_type": "code",
   "execution_count": 8,
   "id": "06995bed",
   "metadata": {},
   "outputs": [
    {
     "name": "stdout",
     "output_type": "stream",
     "text": [
      "Enter a number: 70\n",
      "The 70 is Even\n"
     ]
    }
   ],
   "source": [
    "num=int(input(\"Enter a number: \"))\n",
    "\n",
    "if num%2==0:\n",
    "    print(f\"The {num} is Even\")\n",
    "if num%2==1:\n",
    "    print(f\"The {num} is Odd\")    "
   ]
  },
  {
   "cell_type": "raw",
   "id": "7ea19594",
   "metadata": {},
   "source": [
    "4) Write a program to check whether a number is divisible by 7 or not."
   ]
  },
  {
   "cell_type": "code",
   "execution_count": 1,
   "id": "24c322b4",
   "metadata": {},
   "outputs": [
    {
     "name": "stdout",
     "output_type": "stream",
     "text": [
      "Enter a number: 2793\n",
      "The 2793 number is divisible of 7\n"
     ]
    }
   ],
   "source": [
    "num=int(input(\"Enter a number: \"))\n",
    "\n",
    "if num%7==0:\n",
    "    print(f\"The {num} number is divisible of 7\")\n",
    "    \n",
    "else:\n",
    "    print(f\"The {num} is not divisible of 7\")"
   ]
  },
  {
   "cell_type": "raw",
   "id": "f8a67fd1",
   "metadata": {},
   "source": [
    "Q5. Write a program to display \n",
    "\"Hello\" if a number entered by user is a multiple of five , otherwise print \"Bye\"."
   ]
  },
  {
   "cell_type": "code",
   "execution_count": 2,
   "id": "b65cb2b1",
   "metadata": {},
   "outputs": [
    {
     "name": "stdout",
     "output_type": "stream",
     "text": [
      "Enter a number: 555\n",
      "Hello!\n"
     ]
    }
   ],
   "source": [
    "num=int(input(\"Enter a number: \"))\n",
    "\n",
    "if num%5==0:\n",
    "    print(\"Hello!\")\n",
    "    \n",
    "else:\n",
    "    print(\"Byyy!\")"
   ]
  },
  {
   "cell_type": "raw",
   "id": "135fefe4",
   "metadata": {},
   "source": [
    "Q6. Write a program to display the last digit of a number.\n",
    "(hint : any number % 10 will return the last digit)"
   ]
  },
  {
   "cell_type": "code",
   "execution_count": 4,
   "id": "cc4b4665",
   "metadata": {},
   "outputs": [
    {
     "name": "stdout",
     "output_type": "stream",
     "text": [
      "Enter a number: 1521\n",
      "The last digit of 1521 is 1\n"
     ]
    }
   ],
   "source": [
    "num=int(input(\"Enter a number: \"))\n",
    "digit=num%10\n",
    "\n",
    "print(f\"The last digit of {num} is {digit}\")"
   ]
  },
  {
   "cell_type": "raw",
   "id": "01186495",
   "metadata": {},
   "source": [
    "\n",
    "Q7. Write a program to check whether the last digit of a number( entered by user ) is \n",
    "divisible by 3 or not."
   ]
  },
  {
   "cell_type": "code",
   "execution_count": 7,
   "id": "0942bcd3",
   "metadata": {},
   "outputs": [
    {
     "name": "stdout",
     "output_type": "stream",
     "text": [
      "Enter a number: 1529\n",
      "The last digit of 1529 is 9 and 9 is also divisible of 3\n"
     ]
    }
   ],
   "source": [
    "num=int(input(\"Enter a number: \"))\n",
    "digit=num%10\n",
    "\n",
    "if digit%3==0:\n",
    "    print(f\"The last digit of {num} is {digit} and {digit} is also divisible of 3\")\n",
    "else:\n",
    "    print(f\"The last digit of {num} is {digit} and {digit} is not divisible of 3\")"
   ]
  },
  {
   "cell_type": "raw",
   "id": "41ccc26f",
   "metadata": {},
   "source": [
    "Q8. Take values of length and breadth of a rectangle from user and check if it is square or not."
   ]
  },
  {
   "cell_type": "code",
   "execution_count": 15,
   "id": "c3edf2b7",
   "metadata": {},
   "outputs": [
    {
     "name": "stdout",
     "output_type": "stream",
     "text": [
      "Enter the length:  12\n",
      "Enter the width:  12\n",
      "It is square\n"
     ]
    }
   ],
   "source": [
    "length=int(input(\"Enter the length:  \"))\n",
    "width=int(input(\"Enter the width:  \"))\n",
    "\n",
    "if length==width:\n",
    "    print(\"It is square\")\n",
    "else:\n",
    "    print(\"It is rectengle\")"
   ]
  },
  {
   "cell_type": "raw",
   "id": "083dc327",
   "metadata": {},
   "source": [
    "Q9. Take two int values from user and print greatest among them."
   ]
  },
  {
   "cell_type": "code",
   "execution_count": 15,
   "id": "65fcd685",
   "metadata": {},
   "outputs": [
    {
     "name": "stdout",
     "output_type": "stream",
     "text": [
      "Enter your first value: 13\n",
      "Enter your second  value: 14\n",
      "Greater value is: 14\n"
     ]
    }
   ],
   "source": [
    "val1=int(input(\"Enter your first value: \"))\n",
    "val2=int(input(\"Enter your second  value: \"))\n",
    "\n",
    "if val1>val2:\n",
    "    print(f\"Greater value is: {val1}\")\n",
    "    \n",
    "elif val1<val2:\n",
    "    print(f\"Greater value is: {val2}\")\n",
    "\n",
    "else:\n",
    "    print(\"both values are equal\")"
   ]
  },
  {
   "cell_type": "raw",
   "id": "61a67a6e",
   "metadata": {},
   "source": [
    "Q10. A shop will give discount of 10% if the cost of purchased quantity is more than 1000.\n",
    "Ask user for quantity\n",
    "Suppose, one unit will cost 100.\n",
    "Judge and print total cost for user."
   ]
  },
  {
   "cell_type": "code",
   "execution_count": 4,
   "id": "7f3e5a71",
   "metadata": {},
   "outputs": [
    {
     "name": "stdout",
     "output_type": "stream",
     "text": [
      "Enter the number of atoms you have purchased: 12\n",
      "You have 10% discount on your total 12 items on discount of rupees 120.0.Your total bill is 1200 RS, But after discount you have to pay only 1080.0 RS\n"
     ]
    }
   ],
   "source": [
    "items=int(input(\"Enter the number of atoms you have purchased: \"))\n",
    "\n",
    "per_item=100\n",
    "total=items*per_item\n",
    "discount=(10/100)*total\n",
    "pay=total-discount\n",
    "\n",
    "if total>=1000:\n",
    "    print(f\"You have 10% discount on your total {items} items on discount of rupees {discount}.Your total bill is {total} RS, But after discount you have to pay only {pay} RS\")\n",
    "    "
   ]
  },
  {
   "cell_type": "raw",
   "id": "01c52274",
   "metadata": {},
   "source": [
    "11) A school has following rules for grading system:\n",
    "\n",
    "a. Below 25 - F\n",
    "\n",
    "b. 25 to 45 - E\n",
    "\n",
    "c. 45 to 50 - D\n",
    "\n",
    "d. 50 to 60 - C\n",
    "\n",
    "e. 60 to 80 - B\n",
    "\n",
    "f. Above 80 - A\n",
    "\n",
    "Ask user to enter marks and print the corresponding grade."
   ]
  },
  {
   "cell_type": "code",
   "execution_count": 5,
   "id": "3880a84c",
   "metadata": {},
   "outputs": [
    {
     "name": "stdout",
     "output_type": "stream",
     "text": [
      "Enter your name:  abdul rehman\n",
      "Enter chemistry marks: 70\n",
      "Enter physics marks: 60\n",
      "Enter math marks: 50\n",
      "Enter English marks: 40\n",
      "Enter Urdu marks: 30\n",
      "               CITY PUBLIC SCHOOL  \n",
      "      \n",
      "      \n",
      "     Your name is: abdul rehman \n",
      "     Your Percentage is: 50.0\n",
      "     Your grade is :D\n",
      "     \n"
     ]
    }
   ],
   "source": [
    "name=input(\"Enter your name:  \")\n",
    "sub1=float(input(\"Enter chemistry marks: \"))\n",
    "sub2=float(input(\"Enter physics marks: \"))\n",
    "sub3=float(input(\"Enter math marks: \"))\n",
    "sub4=float(input(\"Enter English marks: \"))\n",
    "sub5=float(input(\"Enter Urdu marks: \"))\n",
    "  \n",
    "obtained_marks=sub1+sub2+sub3+sub4+sub5\n",
    "total_marks=500\n",
    "percentage=(obtained_marks*100)/total_marks\n",
    "\n",
    "grade=None\n",
    "\n",
    "if percentage>=90 and percentage<=100:\n",
    "    grade='A+'\n",
    "elif percentage>=80 and percentage<90:\n",
    "    grade='A'\n",
    "elif percentage>=70 and percentage<80:\n",
    "    grade='B'\n",
    "elif percentage>=60 and percentage<70:\n",
    "    grade='C'    \n",
    "elif percentage>=50 and percentage<60:\n",
    "    grade='D' \n",
    "elif percentage>=40 and percentage<50:\n",
    "    grade='E'     \n",
    "else:\n",
    "    grade='F'    \n",
    "\n",
    "print(f\"\"\"               CITY PUBLIC SCHOOL  \n",
    "      \n",
    "      \n",
    "     Your name is: {name} \n",
    "     Your Percentage is: {percentage}\n",
    "     Your grade is :{grade}\n",
    "     \"\"\"\n",
    "      \n",
    "     \n",
    "     )    "
   ]
  },
  {
   "cell_type": "raw",
   "id": "54406275",
   "metadata": {},
   "source": [
    "12) Take input of age of 3 people by user and determine oldest and youngest among them."
   ]
  },
  {
   "cell_type": "code",
   "execution_count": 6,
   "id": "2f1c276b",
   "metadata": {},
   "outputs": [
    {
     "name": "stdout",
     "output_type": "stream",
     "text": [
      "Abdul Rehman! Enter your age: 12\n",
      "Abdullah! Enter your age: 14\n",
      "Abdul Subhan! Enter your age: 13\n",
      "abdullah! you are the oldest then  both.Abdul Rehman! you are the youngest & Abdul subhan! you are among them\n"
     ]
    }
   ],
   "source": [
    "age1=float(input(\"Abdul Rehman! Enter your age: \"))\n",
    "age2=float(input(\"Abdullah! Enter your age: \"))\n",
    "age3=float(input(\"Abdul Subhan! Enter your age: \"))\n",
    "\n",
    "if age1>age2 and age1>age3 and age2>age3:\n",
    "        print(\"abdul Rehman! you are the oldest then  both.Abdul Subhan! you are the youngest & Abdullah! you are among them\")\n",
    "\n",
    "elif age2>age1 and age2>age3 and age1>age3:\n",
    "        print(\"abdullah! you are the oldest then  both.Abdul Subhan! you are the youngest & Abdul Rehman! you are among them\")\n",
    "\n",
    "elif age3>age1 and age3>age2 and age2>age1:\n",
    "        print(\"abdul Subhan! you are the oldest then  both.Abdul Rehman! you are the youngest & Abdullah! you are among them\")\n",
    "\n",
    "\n",
    "elif age1>age2 and age1>age3 and age3>age2:\n",
    "        print(\"abdul Rehman! you are the oldest then  both.Abdullah! you are the youngest & Abdul Subhan! you are among them\")\n",
    "\n",
    "\n",
    "elif age3>age1 and age3>age2 and age1>age2:\n",
    "        print(\"abdul Subhan! you are the oldest then  both.Abdullah! you are the youngest & Abdul Rehman! you are among them\") \n",
    "        \n",
    "\n",
    "elif  age2>age1 and age2>age3 and age3>age1: \n",
    "    print(\"abdullah! you are the oldest then  both.Abdul Rehman! you are the youngest & Abdul subhan! you are among them\")        "
   ]
  },
  {
   "cell_type": "raw",
   "id": "3e3ad59b",
   "metadata": {},
   "source": [
    "13)A student will not be allowed to sit in exam if his/her attendence is less than 75%.\n",
    "\n",
    "Take following input from user\n",
    "\n",
    "Number of classes held\n",
    "\n",
    "Number of classes attended.\n",
    "\n",
    "And print\n",
    "\n",
    "percentage of class attended\n",
    "\n",
    "Is student is allowed to sit in exam or not.\n"
   ]
  },
  {
   "cell_type": "code",
   "execution_count": 2,
   "id": "bfc03eff",
   "metadata": {},
   "outputs": [
    {
     "name": "stdout",
     "output_type": "stream",
     "text": [
      "Enter total classes: 100\n",
      "Enter attended classes: 76\n",
      "\n",
      "           Your total classes is 76.0%\n",
      "           you are allowed to sit in exam\n"
     ]
    }
   ],
   "source": [
    "class_held=int(input(\"Enter total classes: \"))\n",
    "class_attend=int(input(\"Enter attended classes: \"))\n",
    "\n",
    "class_percend=(class_attend*100)/class_held\n",
    "\n",
    "if class_percend>=75:\n",
    "    print(f\"\"\"\n",
    "           Your total classes is {class_percend}%\n",
    "           you are allowed to sit in exam\"\"\")\n",
    "else:\n",
    "    print(f\"\"\"\n",
    "           Your total classes is {class_percend}%\n",
    "           you are not allowed to sit in exam\"\"\")\n",
    "    "
   ]
  },
  {
   "cell_type": "raw",
   "id": "92dafe2c",
   "metadata": {},
   "source": [
    "14) Modify the above question to allow student to sit if he/she has medical cause. Ask user if he/she has medical cause \n",
    "or not ( 'Y' or 'N' ) and print accordingly."
   ]
  },
  {
   "cell_type": "code",
   "execution_count": 17,
   "id": "fab3a296",
   "metadata": {},
   "outputs": [
    {
     "name": "stdout",
     "output_type": "stream",
     "text": [
      "Enter total classes: 120\n",
      "Enter attended classes: 105\n",
      "Do you have any medical cause give the answer in yes or no: yes\n",
      "\n",
      "           Your total classes is 87.5%\n",
      "           You have also medical cause\n",
      "           you are allowed to sit in exam\n"
     ]
    }
   ],
   "source": [
    "class_held=int(input(\"Enter total classes: \"))\n",
    "class_attend=int(input(\"Enter attended classes: \"))\n",
    "medical_cause=input(\"Do you have any medical cause give the answer in yes or no: \")\n",
    "\n",
    "\n",
    "class_percend=(class_attend*100)/class_held\n",
    "\n",
    "if class_percend>=75 and medical_cause=='yes':\n",
    "    print(f\"\"\"\n",
    "           Your total classes is {class_percend}%\n",
    "           You have also medical cause\n",
    "           you are allowed to sit in exam\"\"\")\n",
    "    \n",
    "elif class_percend>=75 and medical_cause=='no':\n",
    "    print(f\"\"\"\n",
    "           Your total classes is {class_percend}%\n",
    "           You don't have any medical cause\n",
    "           you are  allowed to sit in exam\"\"\")\n",
    "\n",
    "\n",
    "    \n",
    "elif class_percend<75 and medical_cause=='yes':\n",
    "    print(f\"\"\"\n",
    "           Your total classes is {class_percend}%\n",
    "           You have a medical cause\n",
    "           you are  allowed to sit in exam\"\"\")\n",
    "\n",
    "    \n",
    "    \n",
    "elif class_percend<75 and medical_cause=='no':\n",
    "    print(f\"\"\"\n",
    "           Your total classes is {class_percend}%\n",
    "           You don't have any medical cause\n",
    "           you are not allowed to sit in exam\"\"\")\n"
   ]
  },
  {
   "cell_type": "raw",
   "id": "eae84038",
   "metadata": {},
   "source": [
    "15) Write a program to check if a year is leap year or not.\n",
    "\n",
    "If a year is divisible by 4 then it is leap year but if the\n",
    "year is century year like 2000, 1900, 2100 then it must be divisible by 400."
   ]
  },
  {
   "cell_type": "code",
   "execution_count": 28,
   "id": "a8e9a118",
   "metadata": {},
   "outputs": [
    {
     "name": "stdout",
     "output_type": "stream",
     "text": [
      "Enter an year: 1344\n",
      "This is leap year\n"
     ]
    }
   ],
   "source": [
    "leapyear=int(input(\"Enter an year: \"))\n",
    "            \n",
    "if leapyear%4==0:\n",
    "              print(\"This is leap year\")\n",
    "              \n",
    "elif leapyear%400==0:\n",
    "              print(\"This is leap year\")\n",
    "\n",
    "else:\n",
    "              print(\"This is  not leap year\")"
   ]
  },
  {
   "cell_type": "raw",
   "id": "9f1fdbcb",
   "metadata": {},
   "source": [
    "16) Ask user to enter age, gender ( M or F ), marital status ( Y or N ) and then using following rules print their\n",
    "place of service.\n",
    "\n",
    "if employee is female, then she will work only in urban areas.\n",
    "\n",
    "if employee is a male and age is in between 20 to 40 then he may work in anywhere\n",
    "\n",
    "if employee is male and age is in between 40 t0 60 then he will work in urban areas only.\n",
    "\n",
    "And any other input of age should print \"ERROR\""
   ]
  },
  {
   "cell_type": "code",
   "execution_count": 2,
   "id": "461fefed",
   "metadata": {},
   "outputs": [
    {
     "name": "stdout",
     "output_type": "stream",
     "text": [
      "Enter your gender (male or female): female\n",
      "Enter your age: 67\n",
      "Error\n"
     ]
    }
   ],
   "source": [
    "gender=input(\"Enter your gender (male or female): \")\n",
    "\n",
    "age=int(input(\"Enter your age: \"))\n",
    "\n",
    "if  age>=20 and age<=40 and gender=='female':\n",
    "    print(\"You are allowed to work only in urban areas because you are a female\")\n",
    "\n",
    "elif age>=20 and age<=40 and gender=='male':\n",
    "    print(\"You are allowed to work anywhere\")\n",
    "\n",
    "elif age>40 and age<=60 and gender=='male':\n",
    "    print(\"You are allowed to work only in urban areas beause of your age\")\n",
    "\n",
    "elif age<20 or age>60 and gender=='male' or gender=='female':\n",
    "        print(\"Error\")\n",
    "                      \n",
    "                \n",
    "                \n",
    "                \n",
    "        \n",
    "    "
   ]
  },
  {
   "cell_type": "raw",
   "id": "f561fa6d",
   "metadata": {},
   "source": [
    "\n",
    "Q17. Write a program to calculate the electricity bill (accept number of unit from user) according to the following criteria :\n",
    "             Unit                                                     Price  \n",
    "First 100 units                                               no charge\n",
    "Next 100 units                                              Rs 5 per unit\n",
    "After 200 units                                             Rs 10 per unit\n",
    "(For example if input unit is 350 than total bill amount is Rs2000)"
   ]
  },
  {
   "cell_type": "code",
   "execution_count": 11,
   "id": "769be0fd",
   "metadata": {},
   "outputs": [
    {
     "name": "stdout",
     "output_type": "stream",
     "text": [
      "Enter your total units: 245\n",
      "Total exclusive 245 units and your units after 100 units discount is 145 units and your charges is 950\n"
     ]
    }
   ],
   "source": [
    "units=int(input(\"Enter your total units: \"))\n",
    "\n",
    "if units<=100:\n",
    "    charges=units*0\n",
    "    print(f\"Total exclusive {units} units and {charges} charges because of 100 units free charges\")\n",
    "    \n",
    "elif units>100 and units<=200:\n",
    "    discount=units-100\n",
    "    charges=(discount)*5\n",
    "    print(f\"Total exclusive {units} units and your units after 100 units  discount is {discount} units and your total charges is {charges}\")\n",
    "    \n",
    "\n",
    "elif units>200 and units<=300:\n",
    "    discount=units-100\n",
    "    charges=((units-200)*10 + (100*5))\n",
    "    print(f\"Total exclusive {units} units and your units after 100 units discount is {discount} units and your charges is {charges}\")    \n",
    "    "
   ]
  },
  {
   "cell_type": "code",
   "execution_count": null,
   "id": "a04b0496",
   "metadata": {},
   "outputs": [],
   "source": []
  }
 ],
 "metadata": {
  "kernelspec": {
   "display_name": "Python 3 (ipykernel)",
   "language": "python",
   "name": "python3"
  },
  "language_info": {
   "codemirror_mode": {
    "name": "ipython",
    "version": 3
   },
   "file_extension": ".py",
   "mimetype": "text/x-python",
   "name": "python",
   "nbconvert_exporter": "python",
   "pygments_lexer": "ipython3",
   "version": "3.9.12"
  }
 },
 "nbformat": 4,
 "nbformat_minor": 5
}
