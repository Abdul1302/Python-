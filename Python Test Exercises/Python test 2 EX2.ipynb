{
 "cells": [
  {
   "cell_type": "raw",
   "id": "13b006e8",
   "metadata": {},
   "source": [
    "Store a person’s name in a variable, and print a message to that person.\n",
    "Your message should be simple, such as, “Hello Eric,\n",
    "would you like to learn some Python today?”"
   ]
  },
  {
   "cell_type": "code",
   "execution_count": 1,
   "id": "4ca30091",
   "metadata": {},
   "outputs": [
    {
     "name": "stdout",
     "output_type": "stream",
     "text": [
      "Hello Abdul Rehman! Would you like to learn Python \n"
     ]
    }
   ],
   "source": [
    "name=\"Abdul Rehman\"\n",
    "\n",
    "print(f\"Hello {name}! Would you like to learn Python \")"
   ]
  },
  {
   "cell_type": "raw",
   "id": "c4815f8e",
   "metadata": {},
   "source": [
    ": Store a person’s name in a variable, and then print that person’s name in lowercase,\n",
    "    uppercase, and titlecase"
   ]
  },
  {
   "cell_type": "code",
   "execution_count": 5,
   "id": "3abbf439",
   "metadata": {},
   "outputs": [
    {
     "name": "stdout",
     "output_type": "stream",
     "text": [
      "Hello ABDUL REHMAN! Would you like to learn Python \n",
      "Hello abdul rehman! Would you like to learn Python \n",
      "Hello Abdul Rehman! Would you like to learn Python \n"
     ]
    }
   ],
   "source": [
    "name=\"Abdul Rehman\"\n",
    "\n",
    "print(f\"Hello {name.upper()}! Would you like to learn Python \")\n",
    "\n",
    "print(f\"Hello {name.lower()}! Would you like to learn Python \")\n",
    "\n",
    "print(f\"Hello {name.title()}! Would you like to learn Python \")"
   ]
  },
  {
   "cell_type": "raw",
   "id": "8e3fd901",
   "metadata": {},
   "source": [
    ": Find a quote from a famous person you admire. Print the\n",
    "quote and the name of its author. Your output should look something like the\n",
    "following, including the quotation marks:"
   ]
  },
  {
   "cell_type": "code",
   "execution_count": 8,
   "id": "b7f5f184",
   "metadata": {},
   "outputs": [
    {
     "name": "stdout",
     "output_type": "stream",
     "text": [
      "\n",
      "       Albert Einstein once said that:\n",
      "                         \"We cannot solve our problems with the same thinking we used when we created them.\" \n"
     ]
    }
   ],
   "source": [
    "name=\" Albert Einstein\"\n",
    "print(f\"\"\"\n",
    "      {name} once said that:\n",
    "                         \"We cannot solve our problems with the same thinking we used when we created them.\" \"\"\")"
   ]
  },
  {
   "cell_type": "raw",
   "id": "3509611f",
   "metadata": {},
   "source": [
    " Store a person’s name, and include some whitespace\n",
    "characters at the beginning and end of the name. Make sure you use each\n",
    "character combination, \"\\t\" and \"\\n\", at least once.\n",
    "Print the name once, so the whitespace around the name is displayed.\n",
    "Then print the name using each of the three stripping functions, lstrip(),rstrip(), and strip()."
   ]
  },
  {
   "cell_type": "code",
   "execution_count": 11,
   "id": "849d5cce",
   "metadata": {},
   "outputs": [
    {
     "name": "stdout",
     "output_type": "stream",
     "text": [
      "Muhammad\n",
      "Abdul\tRehman  \n",
      "Muhammad\n",
      "Abdul\tRehman  \n",
      "Muhammad\n",
      "Abdul\tRehman\n",
      "Muhammad\n",
      "Abdul\tRehman\n"
     ]
    }
   ],
   "source": [
    "name=\"Muhammad\\nAbdul\\tRehman  \"\n",
    "\n",
    "print(name)\n",
    "print(name.lstrip())\n",
    "print(name.rstrip())\n",
    "print(name.strip())"
   ]
  },
  {
   "cell_type": "raw",
   "id": "bd2b3fc0",
   "metadata": {},
   "source": [
    ". Number Eight: Write addition, subtraction, multiplication, and division\n",
    "operations that each result in the number 8. Be sure to enclose your operations\n",
    "in print statements to see the results. You should create four lines that look\n",
    "like this:"
   ]
  },
  {
   "cell_type": "code",
   "execution_count": 12,
   "id": "83a2daba",
   "metadata": {},
   "outputs": [
    {
     "name": "stdout",
     "output_type": "stream",
     "text": [
      "7\n",
      "6\n",
      "30\n",
      "27.0\n"
     ]
    }
   ],
   "source": [
    "print(3+4)\n",
    "print(10-4)\n",
    "print(6*5)\n",
    "print(81/3)"
   ]
  },
  {
   "cell_type": "code",
   "execution_count": null,
   "id": "1843f9ed",
   "metadata": {},
   "outputs": [],
   "source": [
    " Store your favorite number in a variable. Then, using\n",
    "that variable, create a message that reveals your favorite number. Print that message"
   ]
  },
  {
   "cell_type": "code",
   "execution_count": 13,
   "id": "09244b3e",
   "metadata": {},
   "outputs": [
    {
     "name": "stdout",
     "output_type": "stream",
     "text": [
      "My favourite number is 567\n"
     ]
    }
   ],
   "source": [
    "num=567\n",
    "print(f\"My favourite number is {num}\")"
   ]
  },
  {
   "cell_type": "code",
   "execution_count": null,
   "id": "319dde24",
   "metadata": {},
   "outputs": [],
   "source": []
  }
 ],
 "metadata": {
  "kernelspec": {
   "display_name": "Python 3 (ipykernel)",
   "language": "python",
   "name": "python3"
  },
  "language_info": {
   "codemirror_mode": {
    "name": "ipython",
    "version": 3
   },
   "file_extension": ".py",
   "mimetype": "text/x-python",
   "name": "python",
   "nbconvert_exporter": "python",
   "pygments_lexer": "ipython3",
   "version": "3.9.12"
  }
 },
 "nbformat": 4,
 "nbformat_minor": 5
}
