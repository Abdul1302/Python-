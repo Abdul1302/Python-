{
 "cells": [
  {
   "cell_type": "markdown",
   "id": "6882278e",
   "metadata": {},
   "source": [
    "# Functions"
   ]
  },
  {
   "cell_type": "raw",
   "id": "0a6c4179",
   "metadata": {},
   "source": [
    "1.BUILT IN FUNCTION\n",
    "\n",
    "2.USER DEFINE FUNCTION"
   ]
  },
  {
   "cell_type": "code",
   "execution_count": 6,
   "id": "6606d022",
   "metadata": {},
   "outputs": [],
   "source": [
    "def mean(arr):\n",
    "    total=0\n",
    "    for val in arr:\n",
    "        total=total+val\n",
    "    return total/len(arr)\n",
    "    "
   ]
  },
  {
   "cell_type": "code",
   "execution_count": 7,
   "id": "f0046ef2",
   "metadata": {},
   "outputs": [
    {
     "data": {
      "text/plain": [
       "3.0"
      ]
     },
     "execution_count": 7,
     "metadata": {},
     "output_type": "execute_result"
    }
   ],
   "source": [
    "mean([1,2,3,4,5])"
   ]
  },
  {
   "cell_type": "code",
   "execution_count": 8,
   "id": "eb681c6c",
   "metadata": {},
   "outputs": [],
   "source": [
    "def hello():\n",
    "    print('Hello friends')\n"
   ]
  },
  {
   "cell_type": "code",
   "execution_count": 9,
   "id": "a1c02204",
   "metadata": {},
   "outputs": [
    {
     "name": "stdout",
     "output_type": "stream",
     "text": [
      "Hello friends\n"
     ]
    }
   ],
   "source": [
    "hello()"
   ]
  },
  {
   "cell_type": "code",
   "execution_count": 12,
   "id": "93b43dbd",
   "metadata": {},
   "outputs": [],
   "source": [
    "def data(name,roll_no,marks,grade):\n",
    "    print(f\"\"\"Name:{name}\n",
    "Roll Number:{roll_no}\n",
    "Marks:{marks}\n",
    "Grade:{grade}\"\"\")"
   ]
  },
  {
   "cell_type": "code",
   "execution_count": 13,
   "id": "e7ee42ee",
   "metadata": {},
   "outputs": [
    {
     "name": "stdout",
     "output_type": "stream",
     "text": [
      "Name:Abdul Rehman\n",
      "Roll Number:1070\n",
      "Marks:87\n",
      "Grade:A+\n"
     ]
    }
   ],
   "source": [
    "data('Abdul Rehman',1070,87,'A+')"
   ]
  },
  {
   "cell_type": "code",
   "execution_count": 24,
   "id": "d304bb88",
   "metadata": {},
   "outputs": [],
   "source": [
    "def para(text):\n",
    "    print(text.lower())\n",
    "    \n",
    "    print(text.capitalize())\n",
    "    "
   ]
  },
  {
   "cell_type": "code",
   "execution_count": 25,
   "id": "97eecf65",
   "metadata": {},
   "outputs": [
    {
     "name": "stdout",
     "output_type": "stream",
     "text": [
      "my name is abdul rehman\n",
      "My name is abdul rehman\n"
     ]
    }
   ],
   "source": [
    "para('My name is Abdul Rehman')"
   ]
  },
  {
   "cell_type": "code",
   "execution_count": 26,
   "id": "535a75db",
   "metadata": {},
   "outputs": [],
   "source": [
    "def square(num):\n",
    "    sqr=num*num\n",
    "    return sqr"
   ]
  },
  {
   "cell_type": "code",
   "execution_count": 27,
   "id": "a9f734df",
   "metadata": {},
   "outputs": [
    {
     "data": {
      "text/plain": [
       "36"
      ]
     },
     "execution_count": 27,
     "metadata": {},
     "output_type": "execute_result"
    }
   ],
   "source": [
    "square(6)\n"
   ]
  },
  {
   "cell_type": "code",
   "execution_count": 28,
   "id": "21fcd25f",
   "metadata": {},
   "outputs": [
    {
     "data": {
      "text/plain": [
       "64"
      ]
     },
     "execution_count": 28,
     "metadata": {},
     "output_type": "execute_result"
    }
   ],
   "source": [
    "square(8)"
   ]
  },
  {
   "cell_type": "markdown",
   "id": "2d74f8fb",
   "metadata": {},
   "source": [
    "# Positional Parameters and arguments"
   ]
  },
  {
   "cell_type": "code",
   "execution_count": 29,
   "id": "5bb723df",
   "metadata": {},
   "outputs": [],
   "source": [
    "def name(first_name,last_name):\n",
    "    full_name=first_name+\" \"+last_name\n",
    "    return full_name"
   ]
  },
  {
   "cell_type": "code",
   "execution_count": 30,
   "id": "5f0a5dc7",
   "metadata": {},
   "outputs": [
    {
     "data": {
      "text/plain": [
       "'Abdul Rehman'"
      ]
     },
     "execution_count": 30,
     "metadata": {},
     "output_type": "execute_result"
    }
   ],
   "source": [
    "name('Abdul','Rehman')"
   ]
  },
  {
   "cell_type": "code",
   "execution_count": 31,
   "id": "989c1298",
   "metadata": {},
   "outputs": [],
   "source": [
    "def min_max(arr):\n",
    "    print(min(arr),max(arr))"
   ]
  },
  {
   "cell_type": "code",
   "execution_count": 35,
   "id": "570232c2",
   "metadata": {},
   "outputs": [
    {
     "name": "stdout",
     "output_type": "stream",
     "text": [
      "2 9\n"
     ]
    }
   ],
   "source": [
    "min_max([2,5,6,7,4,9])"
   ]
  },
  {
   "cell_type": "code",
   "execution_count": 47,
   "id": "c14d1f08",
   "metadata": {},
   "outputs": [],
   "source": [
    "def arr_sqr(arr):\n",
    "    return[a**2 for a in arr]\n",
    "    "
   ]
  },
  {
   "cell_type": "code",
   "execution_count": 48,
   "id": "9189613a",
   "metadata": {},
   "outputs": [
    {
     "data": {
      "text/plain": [
       "[4, 25, 36, 64, 49, 81, 121, 144]"
      ]
     },
     "execution_count": 48,
     "metadata": {},
     "output_type": "execute_result"
    }
   ],
   "source": [
    "arr_sqr([2,5,6,8,7,9,11,12])"
   ]
  },
  {
   "cell_type": "code",
   "execution_count": 49,
   "id": "4e27da4b",
   "metadata": {},
   "outputs": [],
   "source": [
    "def arr_sqr(arr):\n",
    "    for a in arr:\n",
    "        sqr=a**2\n",
    "    return sqr    \n",
    "    "
   ]
  },
  {
   "cell_type": "code",
   "execution_count": 50,
   "id": "cbd957b5",
   "metadata": {},
   "outputs": [
    {
     "data": {
      "text/plain": [
       "36"
      ]
     },
     "execution_count": 50,
     "metadata": {},
     "output_type": "execute_result"
    }
   ],
   "source": [
    "arr_sqr([3,5,6])"
   ]
  },
  {
   "cell_type": "markdown",
   "id": "2fe43426",
   "metadata": {},
   "source": [
    "# Default Parameters"
   ]
  },
  {
   "cell_type": "markdown",
   "id": "b96fb2c7",
   "metadata": {},
   "source": [
    "# CALCULATOR"
   ]
  },
  {
   "cell_type": "code",
   "execution_count": 87,
   "id": "b7c0c713",
   "metadata": {},
   "outputs": [],
   "source": [
    "def calculator(arr,task=''):\n",
    "    #add,sub,mul,div,sqr,avg,even,odd\n",
    "    if task=='add':\n",
    "        total=0\n",
    "        for add in arr:\n",
    "            total=total+add\n",
    "        return total \n",
    "\n",
    "    elif task=='sub':\n",
    "        total=0\n",
    "        for sub in arr:\n",
    "            total=sub-total #[2,3,4,5,6,7]\n",
    "        return total \n",
    "\n",
    "    elif task=='mul':\n",
    "        total=1\n",
    "        for mul in arr:\n",
    "            total=total*mul\n",
    "        return total \n",
    "\n",
    "    elif task=='div':\n",
    "        total=1\n",
    "        for div in arr:\n",
    "            total=div/total\n",
    "        return total\n",
    "\n",
    "    elif task=='exponent':\n",
    "        power=int(input(\"Enter a power\"))\n",
    "        return [sqr**power for sqr in arr]\n",
    "    \n",
    "    elif task=='avg':\n",
    "        total=0\n",
    "        for avg in arr:\n",
    "            total=total+avg\n",
    "        return total/len(arr)\n",
    "    \n",
    "    elif task=='even':\n",
    "        evenlist=[]\n",
    "        for even in arr:\n",
    "            if even%2==0:\n",
    "                evenlist.append(even)\n",
    "        return evenlist\n",
    "    \n",
    "    elif task=='odd':\n",
    "        oddlist=[]\n",
    "        for odd in arr:\n",
    "            if odd%2==1:\n",
    "                oddlist.append(odd)\n",
    "        return oddlist\n",
    "    \n",
    "    \n",
    "    else:\n",
    "        print(arr)\n",
    "        \n",
    "            \n",
    "\n",
    "        "
   ]
  },
  {
   "cell_type": "code",
   "execution_count": 54,
   "id": "85f85e4b",
   "metadata": {},
   "outputs": [
    {
     "data": {
      "text/plain": [
       "27"
      ]
     },
     "execution_count": 54,
     "metadata": {},
     "output_type": "execute_result"
    }
   ],
   "source": [
    "calculator([2,3,4,5,6,7],'add')"
   ]
  },
  {
   "cell_type": "code",
   "execution_count": 71,
   "id": "e3c91bce",
   "metadata": {},
   "outputs": [
    {
     "data": {
      "text/plain": [
       "1"
      ]
     },
     "execution_count": 71,
     "metadata": {},
     "output_type": "execute_result"
    }
   ],
   "source": [
    "calculator([2,3],'sub')"
   ]
  },
  {
   "cell_type": "code",
   "execution_count": 56,
   "id": "091569ba",
   "metadata": {},
   "outputs": [
    {
     "data": {
      "text/plain": [
       "5040"
      ]
     },
     "execution_count": 56,
     "metadata": {},
     "output_type": "execute_result"
    }
   ],
   "source": [
    "calculator([2,3,4,5,6,7],'mul')"
   ]
  },
  {
   "cell_type": "code",
   "execution_count": 73,
   "id": "e1495e7e",
   "metadata": {},
   "outputs": [
    {
     "data": {
      "text/plain": [
       "1.5"
      ]
     },
     "execution_count": 73,
     "metadata": {},
     "output_type": "execute_result"
    }
   ],
   "source": [
    "calculator([2,3],'div')"
   ]
  },
  {
   "cell_type": "code",
   "execution_count": 88,
   "id": "6d2c2b03",
   "metadata": {},
   "outputs": [
    {
     "name": "stdout",
     "output_type": "stream",
     "text": [
      "Enter a power4\n"
     ]
    },
    {
     "data": {
      "text/plain": [
       "[16, 81, 256, 625, 1296, 2401]"
      ]
     },
     "execution_count": 88,
     "metadata": {},
     "output_type": "execute_result"
    }
   ],
   "source": [
    "calculator([2,3,4,5,6,7],'exponent')"
   ]
  },
  {
   "cell_type": "code",
   "execution_count": 79,
   "id": "4cfb3ede",
   "metadata": {},
   "outputs": [
    {
     "data": {
      "text/plain": [
       "4.5"
      ]
     },
     "execution_count": 79,
     "metadata": {},
     "output_type": "execute_result"
    }
   ],
   "source": [
    "calculator([2,3,4,5,6,7],'avg')"
   ]
  },
  {
   "cell_type": "code",
   "execution_count": 80,
   "id": "fe4b17d1",
   "metadata": {},
   "outputs": [
    {
     "data": {
      "text/plain": [
       "[2, 4, 6]"
      ]
     },
     "execution_count": 80,
     "metadata": {},
     "output_type": "execute_result"
    }
   ],
   "source": [
    "calculator([2,3,4,5,6,7],'even')"
   ]
  },
  {
   "cell_type": "code",
   "execution_count": 83,
   "id": "7d7e9a9e",
   "metadata": {},
   "outputs": [
    {
     "data": {
      "text/plain": [
       "[3, 5, 7]"
      ]
     },
     "execution_count": 83,
     "metadata": {},
     "output_type": "execute_result"
    }
   ],
   "source": [
    "calculator([2,3,4,5,6,7],'odd')"
   ]
  },
  {
   "cell_type": "code",
   "execution_count": 84,
   "id": "a3389c73",
   "metadata": {},
   "outputs": [
    {
     "name": "stdout",
     "output_type": "stream",
     "text": [
      "[2, 3, 4, 5, 6, 7]\n"
     ]
    }
   ],
   "source": [
    "calculator([2,3,4,5,6,7])"
   ]
  }
 ],
 "metadata": {
  "kernelspec": {
   "display_name": "Python 3 (ipykernel)",
   "language": "python",
   "name": "python3"
  },
  "language_info": {
   "codemirror_mode": {
    "name": "ipython",
    "version": 3
   },
   "file_extension": ".py",
   "mimetype": "text/x-python",
   "name": "python",
   "nbconvert_exporter": "python",
   "pygments_lexer": "ipython3",
   "version": "3.9.13"
  }
 },
 "nbformat": 4,
 "nbformat_minor": 5
}
