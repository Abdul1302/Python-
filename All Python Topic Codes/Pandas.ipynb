{
 "cells": [
  {
   "cell_type": "markdown",
   "id": "7acab03b",
   "metadata": {},
   "source": [
    "# Pandas"
   ]
  },
  {
   "cell_type": "markdown",
   "id": "c51b6e40",
   "metadata": {},
   "source": [
    "1. Series\n",
    "2. Data Frames"
   ]
  },
  {
   "cell_type": "markdown",
   "id": "5c86079d",
   "metadata": {},
   "source": [
    "# 1.Series"
   ]
  },
  {
   "cell_type": "markdown",
   "id": "8dd6018a",
   "metadata": {},
   "source": [
    "Series creation from python list"
   ]
  },
  {
   "cell_type": "code",
   "execution_count": 1,
   "id": "c7e15ea5",
   "metadata": {},
   "outputs": [],
   "source": [
    "import pandas as pd"
   ]
  },
  {
   "cell_type": "code",
   "execution_count": 2,
   "id": "30206563",
   "metadata": {},
   "outputs": [
    {
     "data": {
      "text/plain": [
       "0    22\n",
       "1    33\n",
       "2    44\n",
       "3    55\n",
       "4    66\n",
       "5    77\n",
       "6    88\n",
       "7    99\n",
       "dtype: int64"
      ]
     },
     "execution_count": 2,
     "metadata": {},
     "output_type": "execute_result"
    }
   ],
   "source": [
    "s1=pd.Series([22,33,44,55,66,77,88,99])\n",
    "s1"
   ]
  },
  {
   "cell_type": "code",
   "execution_count": 3,
   "id": "54cfebaf",
   "metadata": {},
   "outputs": [],
   "source": [
    "s1=pd.Series([\"Ameen\",'Ali',\"Nasir\",'Aleem','Abdullah','Iftakhar',\"Shadab\",'Shaheen'],['one','two','three','four','five','six','seven','eight'])"
   ]
  },
  {
   "cell_type": "code",
   "execution_count": 4,
   "id": "85f48f77",
   "metadata": {},
   "outputs": [
    {
     "data": {
      "text/plain": [
       "one         Ameen\n",
       "two           Ali\n",
       "three       Nasir\n",
       "four        Aleem\n",
       "five     Abdullah\n",
       "six      Iftakhar\n",
       "seven      Shadab\n",
       "eight     Shaheen\n",
       "dtype: object"
      ]
     },
     "execution_count": 4,
     "metadata": {},
     "output_type": "execute_result"
    }
   ],
   "source": [
    "s1"
   ]
  },
  {
   "cell_type": "code",
   "execution_count": 5,
   "id": "3957870a",
   "metadata": {},
   "outputs": [
    {
     "data": {
      "text/plain": [
       "'Iftakhar'"
      ]
     },
     "execution_count": 5,
     "metadata": {},
     "output_type": "execute_result"
    }
   ],
   "source": [
    "s1['six']"
   ]
  },
  {
   "cell_type": "code",
   "execution_count": 6,
   "id": "7bb3c479",
   "metadata": {},
   "outputs": [
    {
     "data": {
      "text/plain": [
       "two           Ali\n",
       "three       Nasir\n",
       "four        Aleem\n",
       "five     Abdullah\n",
       "six      Iftakhar\n",
       "seven      Shadab\n",
       "dtype: object"
      ]
     },
     "execution_count": 6,
     "metadata": {},
     "output_type": "execute_result"
    }
   ],
   "source": [
    "s1['two':'seven']"
   ]
  },
  {
   "cell_type": "code",
   "execution_count": 7,
   "id": "eadb29c7",
   "metadata": {},
   "outputs": [
    {
     "data": {
      "text/plain": [
       "three       Nasir\n",
       "four        Aleem\n",
       "five     Abdullah\n",
       "six      Iftakhar\n",
       "seven      Shadab\n",
       "dtype: object"
      ]
     },
     "execution_count": 7,
     "metadata": {},
     "output_type": "execute_result"
    }
   ],
   "source": [
    "s1[2:7]"
   ]
  },
  {
   "cell_type": "code",
   "execution_count": 8,
   "id": "cd040f6e",
   "metadata": {},
   "outputs": [
    {
     "data": {
      "text/plain": [
       "two          Ali\n",
       "four       Aleem\n",
       "six     Iftakhar\n",
       "dtype: object"
      ]
     },
     "execution_count": 8,
     "metadata": {},
     "output_type": "execute_result"
    }
   ],
   "source": [
    "s1['two':'seven':2]"
   ]
  },
  {
   "cell_type": "code",
   "execution_count": 9,
   "id": "23e2b707",
   "metadata": {},
   "outputs": [
    {
     "data": {
      "text/plain": [
       "one         Ameen\n",
       "two           Ali\n",
       "three       Nasir\n",
       "four        Aleem\n",
       "five     Abdullah\n",
       "six         Babar\n",
       "seven      Shadab\n",
       "eight     Shaheen\n",
       "dtype: object"
      ]
     },
     "execution_count": 9,
     "metadata": {},
     "output_type": "execute_result"
    }
   ],
   "source": [
    "s1['six']='Babar'\n",
    "s1"
   ]
  },
  {
   "cell_type": "code",
   "execution_count": 10,
   "id": "ec7be7f9",
   "metadata": {},
   "outputs": [
    {
     "data": {
      "text/plain": [
       "one        Rizwan\n",
       "two         Hyder\n",
       "three       Nasir\n",
       "four        Aleem\n",
       "five     Abdullah\n",
       "six         Babar\n",
       "seven      Shadab\n",
       "eight     Shaheen\n",
       "dtype: object"
      ]
     },
     "execution_count": 10,
     "metadata": {},
     "output_type": "execute_result"
    }
   ],
   "source": [
    "s1['one','two']='Rizwan','Hyder'\n",
    "s1"
   ]
  },
  {
   "cell_type": "code",
   "execution_count": 11,
   "id": "1d772b4e",
   "metadata": {},
   "outputs": [
    {
     "data": {
      "text/plain": [
       "array(['Rizwan', 'Hyder', 'Nasir', 'Aleem', 'Abdullah', 'Babar', 'Shadab',\n",
       "       'Shaheen'], dtype=object)"
      ]
     },
     "execution_count": 11,
     "metadata": {},
     "output_type": "execute_result"
    }
   ],
   "source": [
    "s1.values"
   ]
  },
  {
   "cell_type": "code",
   "execution_count": 12,
   "id": "e369cc15",
   "metadata": {},
   "outputs": [
    {
     "data": {
      "text/plain": [
       "Index(['one', 'two', 'three', 'four', 'five', 'six', 'seven', 'eight'], dtype='object')"
      ]
     },
     "execution_count": 12,
     "metadata": {},
     "output_type": "execute_result"
    }
   ],
   "source": [
    "s1.index"
   ]
  },
  {
   "cell_type": "code",
   "execution_count": 13,
   "id": "05e8a87f",
   "metadata": {},
   "outputs": [
    {
     "data": {
      "text/plain": [
       "A      Rizwan\n",
       "B       Hyder\n",
       "C       Nasir\n",
       "D       Aleem\n",
       "E    Abdullah\n",
       "F       Babar\n",
       "G      Shadab\n",
       "H     Shaheen\n",
       "dtype: object"
      ]
     },
     "execution_count": 13,
     "metadata": {},
     "output_type": "execute_result"
    }
   ],
   "source": [
    "s1.index=(['A','B','C','D','E','F','G','H'])\n",
    "s1"
   ]
  },
  {
   "cell_type": "code",
   "execution_count": 14,
   "id": "bfb009b6",
   "metadata": {},
   "outputs": [
    {
     "data": {
      "text/plain": [
       "Karachi      150\n",
       "Hyderabad    250\n",
       "Thatha       350\n",
       "Nawabshah    450\n",
       "dtype: int64"
      ]
     },
     "execution_count": 14,
     "metadata": {},
     "output_type": "execute_result"
    }
   ],
   "source": [
    "data=pd.Series({'Karachi':150,'Hyderabad':250,'Thatha':350,'Nawabshah':450})\n",
    "data"
   ]
  },
  {
   "cell_type": "markdown",
   "id": "253ac46d",
   "metadata": {},
   "source": [
    "Creating a new series from existing series"
   ]
  },
  {
   "cell_type": "code",
   "execution_count": 15,
   "id": "39a55eb5",
   "metadata": {},
   "outputs": [
    {
     "data": {
      "text/plain": [
       "Karachi       150.0\n",
       "Lahore          NaN\n",
       "Thatha        350.0\n",
       "Faisalabad      NaN\n",
       "dtype: float64"
      ]
     },
     "execution_count": 15,
     "metadata": {},
     "output_type": "execute_result"
    }
   ],
   "source": [
    "city=pd.Series(['Karachi','Lahore','Thatha','Faisalabad'])\n",
    "s4=pd.Series(data,index=city)\n",
    "s4"
   ]
  },
  {
   "cell_type": "code",
   "execution_count": 16,
   "id": "6ccfed39",
   "metadata": {},
   "outputs": [
    {
     "data": {
      "text/plain": [
       "Karachi       False\n",
       "Lahore         True\n",
       "Thatha        False\n",
       "Faisalabad     True\n",
       "dtype: bool"
      ]
     },
     "execution_count": 16,
     "metadata": {},
     "output_type": "execute_result"
    }
   ],
   "source": [
    "s4.isnull()"
   ]
  },
  {
   "cell_type": "code",
   "execution_count": 17,
   "id": "b6f42a03",
   "metadata": {},
   "outputs": [
    {
     "data": {
      "text/plain": [
       "Lahore       NaN\n",
       "Faisalabad   NaN\n",
       "dtype: float64"
      ]
     },
     "execution_count": 17,
     "metadata": {},
     "output_type": "execute_result"
    }
   ],
   "source": [
    "s4[s4.isnull()]"
   ]
  },
  {
   "cell_type": "code",
   "execution_count": 18,
   "id": "66284443",
   "metadata": {},
   "outputs": [
    {
     "data": {
      "text/plain": [
       "2"
      ]
     },
     "execution_count": 18,
     "metadata": {},
     "output_type": "execute_result"
    }
   ],
   "source": [
    "s4.isnull().sum()"
   ]
  },
  {
   "cell_type": "code",
   "execution_count": 19,
   "id": "490067d8",
   "metadata": {},
   "outputs": [
    {
     "data": {
      "text/plain": [
       "Karachi        True\n",
       "Lahore        False\n",
       "Thatha         True\n",
       "Faisalabad    False\n",
       "dtype: bool"
      ]
     },
     "execution_count": 19,
     "metadata": {},
     "output_type": "execute_result"
    }
   ],
   "source": [
    "s4.notnull()"
   ]
  },
  {
   "cell_type": "code",
   "execution_count": 20,
   "id": "bbd8636f",
   "metadata": {},
   "outputs": [
    {
     "data": {
      "text/plain": [
       "Karachi    150.0\n",
       "Thatha     350.0\n",
       "dtype: float64"
      ]
     },
     "execution_count": 20,
     "metadata": {},
     "output_type": "execute_result"
    }
   ],
   "source": [
    "s4[s4.notnull()]"
   ]
  },
  {
   "cell_type": "code",
   "execution_count": 21,
   "id": "4d665795",
   "metadata": {},
   "outputs": [
    {
     "data": {
      "text/plain": [
       "2"
      ]
     },
     "execution_count": 21,
     "metadata": {},
     "output_type": "execute_result"
    }
   ],
   "source": [
    "s4.notnull().sum()"
   ]
  },
  {
   "cell_type": "code",
   "execution_count": 22,
   "id": "76d7d873",
   "metadata": {},
   "outputs": [],
   "source": [
    "import numpy as np\n",
    "s5=pd.Series([10,20,30,40,50,60])\n",
    "s6=pd.Series([np.nan,70,np.nan,80,np.nan,90])"
   ]
  },
  {
   "cell_type": "code",
   "execution_count": 23,
   "id": "77613e3e",
   "metadata": {},
   "outputs": [
    {
     "data": {
      "text/plain": [
       "0    10\n",
       "1    20\n",
       "2    30\n",
       "3    40\n",
       "4    50\n",
       "5    60\n",
       "dtype: int64"
      ]
     },
     "execution_count": 23,
     "metadata": {},
     "output_type": "execute_result"
    }
   ],
   "source": [
    "s5"
   ]
  },
  {
   "cell_type": "code",
   "execution_count": 24,
   "id": "0316c7be",
   "metadata": {},
   "outputs": [
    {
     "data": {
      "text/plain": [
       "0     NaN\n",
       "1    70.0\n",
       "2     NaN\n",
       "3    80.0\n",
       "4     NaN\n",
       "5    90.0\n",
       "dtype: float64"
      ]
     },
     "execution_count": 24,
     "metadata": {},
     "output_type": "execute_result"
    }
   ],
   "source": [
    "s6"
   ]
  },
  {
   "cell_type": "code",
   "execution_count": 25,
   "id": "15e8d936",
   "metadata": {},
   "outputs": [
    {
     "data": {
      "text/plain": [
       "0      NaN\n",
       "1     90.0\n",
       "2      NaN\n",
       "3    120.0\n",
       "4      NaN\n",
       "5    150.0\n",
       "dtype: float64"
      ]
     },
     "execution_count": 25,
     "metadata": {},
     "output_type": "execute_result"
    }
   ],
   "source": [
    "\n",
    "s5+s6"
   ]
  },
  {
   "cell_type": "code",
   "execution_count": 26,
   "id": "a3215a1e",
   "metadata": {},
   "outputs": [
    {
     "data": {
      "text/plain": [
       "0            NaN\n",
       "1            NaN\n",
       "2            NaN\n",
       "3            NaN\n",
       "4            NaN\n",
       "5            NaN\n",
       "Faisalabad   NaN\n",
       "Karachi      NaN\n",
       "Lahore       NaN\n",
       "Thatha       NaN\n",
       "dtype: float64"
      ]
     },
     "execution_count": 26,
     "metadata": {},
     "output_type": "execute_result"
    }
   ],
   "source": [
    "s5+s4"
   ]
  },
  {
   "cell_type": "markdown",
   "id": "97d3f9a5",
   "metadata": {},
   "source": [
    "# 2.Data Frames\n",
    "\n",
    "\n"
   ]
  },
  {
   "cell_type": "code",
   "execution_count": 27,
   "id": "b58e05c8",
   "metadata": {},
   "outputs": [],
   "source": [
    "data={'City':['Karachi','Islamabad','Rawalpindi','Quetta','Peshawar','Multan'],\n",
    "      'Year':['2019','2016','2015','2017','2012','2009'],\n",
    "     'Ratio':[3.4,1.6,2.2,3.4,2.4,1.6]}"
   ]
  },
  {
   "cell_type": "code",
   "execution_count": 28,
   "id": "311109b0",
   "metadata": {},
   "outputs": [
    {
     "data": {
      "text/html": [
       "<div>\n",
       "<style scoped>\n",
       "    .dataframe tbody tr th:only-of-type {\n",
       "        vertical-align: middle;\n",
       "    }\n",
       "\n",
       "    .dataframe tbody tr th {\n",
       "        vertical-align: top;\n",
       "    }\n",
       "\n",
       "    .dataframe thead th {\n",
       "        text-align: right;\n",
       "    }\n",
       "</style>\n",
       "<table border=\"1\" class=\"dataframe\">\n",
       "  <thead>\n",
       "    <tr style=\"text-align: right;\">\n",
       "      <th></th>\n",
       "      <th>City</th>\n",
       "      <th>Year</th>\n",
       "      <th>Ratio</th>\n",
       "    </tr>\n",
       "  </thead>\n",
       "  <tbody>\n",
       "    <tr>\n",
       "      <th>0</th>\n",
       "      <td>Karachi</td>\n",
       "      <td>2019</td>\n",
       "      <td>3.4</td>\n",
       "    </tr>\n",
       "    <tr>\n",
       "      <th>1</th>\n",
       "      <td>Islamabad</td>\n",
       "      <td>2016</td>\n",
       "      <td>1.6</td>\n",
       "    </tr>\n",
       "    <tr>\n",
       "      <th>2</th>\n",
       "      <td>Rawalpindi</td>\n",
       "      <td>2015</td>\n",
       "      <td>2.2</td>\n",
       "    </tr>\n",
       "    <tr>\n",
       "      <th>3</th>\n",
       "      <td>Quetta</td>\n",
       "      <td>2017</td>\n",
       "      <td>3.4</td>\n",
       "    </tr>\n",
       "    <tr>\n",
       "      <th>4</th>\n",
       "      <td>Peshawar</td>\n",
       "      <td>2012</td>\n",
       "      <td>2.4</td>\n",
       "    </tr>\n",
       "    <tr>\n",
       "      <th>5</th>\n",
       "      <td>Multan</td>\n",
       "      <td>2009</td>\n",
       "      <td>1.6</td>\n",
       "    </tr>\n",
       "  </tbody>\n",
       "</table>\n",
       "</div>"
      ],
      "text/plain": [
       "         City  Year  Ratio\n",
       "0     Karachi  2019    3.4\n",
       "1   Islamabad  2016    1.6\n",
       "2  Rawalpindi  2015    2.2\n",
       "3      Quetta  2017    3.4\n",
       "4    Peshawar  2012    2.4\n",
       "5      Multan  2009    1.6"
      ]
     },
     "execution_count": 28,
     "metadata": {},
     "output_type": "execute_result"
    }
   ],
   "source": [
    "df=pd.DataFrame(data)\n",
    "df"
   ]
  },
  {
   "cell_type": "code",
   "execution_count": 29,
   "id": "f146b54a",
   "metadata": {},
   "outputs": [],
   "source": [
    "import numpy as np"
   ]
  },
  {
   "cell_type": "code",
   "execution_count": 30,
   "id": "7a12c322",
   "metadata": {},
   "outputs": [],
   "source": [
    "series1=pd.Series(np.arange(10))\n",
    "series2=pd.Series(range(11,21))"
   ]
  },
  {
   "cell_type": "code",
   "execution_count": 31,
   "id": "3f1e6035",
   "metadata": {},
   "outputs": [
    {
     "data": {
      "text/html": [
       "<div>\n",
       "<style scoped>\n",
       "    .dataframe tbody tr th:only-of-type {\n",
       "        vertical-align: middle;\n",
       "    }\n",
       "\n",
       "    .dataframe tbody tr th {\n",
       "        vertical-align: top;\n",
       "    }\n",
       "\n",
       "    .dataframe thead th {\n",
       "        text-align: right;\n",
       "    }\n",
       "</style>\n",
       "<table border=\"1\" class=\"dataframe\">\n",
       "  <thead>\n",
       "    <tr style=\"text-align: right;\">\n",
       "      <th></th>\n",
       "      <th>column1</th>\n",
       "      <th>column2</th>\n",
       "    </tr>\n",
       "  </thead>\n",
       "  <tbody>\n",
       "    <tr>\n",
       "      <th>0</th>\n",
       "      <td>0</td>\n",
       "      <td>11</td>\n",
       "    </tr>\n",
       "    <tr>\n",
       "      <th>1</th>\n",
       "      <td>1</td>\n",
       "      <td>12</td>\n",
       "    </tr>\n",
       "    <tr>\n",
       "      <th>2</th>\n",
       "      <td>2</td>\n",
       "      <td>13</td>\n",
       "    </tr>\n",
       "    <tr>\n",
       "      <th>3</th>\n",
       "      <td>3</td>\n",
       "      <td>14</td>\n",
       "    </tr>\n",
       "    <tr>\n",
       "      <th>4</th>\n",
       "      <td>4</td>\n",
       "      <td>15</td>\n",
       "    </tr>\n",
       "    <tr>\n",
       "      <th>5</th>\n",
       "      <td>5</td>\n",
       "      <td>16</td>\n",
       "    </tr>\n",
       "    <tr>\n",
       "      <th>6</th>\n",
       "      <td>6</td>\n",
       "      <td>17</td>\n",
       "    </tr>\n",
       "    <tr>\n",
       "      <th>7</th>\n",
       "      <td>7</td>\n",
       "      <td>18</td>\n",
       "    </tr>\n",
       "    <tr>\n",
       "      <th>8</th>\n",
       "      <td>8</td>\n",
       "      <td>19</td>\n",
       "    </tr>\n",
       "    <tr>\n",
       "      <th>9</th>\n",
       "      <td>9</td>\n",
       "      <td>20</td>\n",
       "    </tr>\n",
       "  </tbody>\n",
       "</table>\n",
       "</div>"
      ],
      "text/plain": [
       "   column1  column2\n",
       "0        0       11\n",
       "1        1       12\n",
       "2        2       13\n",
       "3        3       14\n",
       "4        4       15\n",
       "5        5       16\n",
       "6        6       17\n",
       "7        7       18\n",
       "8        8       19\n",
       "9        9       20"
      ]
     },
     "execution_count": 31,
     "metadata": {},
     "output_type": "execute_result"
    }
   ],
   "source": [
    "df=pd.DataFrame({'column1':series1,'column2':series2})\n",
    "df"
   ]
  },
  {
   "cell_type": "code",
   "execution_count": 32,
   "id": "cfec1ccd",
   "metadata": {},
   "outputs": [],
   "source": [
    "result={'Name':['Abdul Rehman','Abdullah','Nasir','Ali','Ameen'],\n",
    "        'Roll No':[1010,1020,1030,1040,1050],\n",
    "         'Math':[84,88,92,76,62],\n",
    "         'Chemistry':[79,70,67,69,56],\n",
    "        'Physics':[89,76,72,71,66],\n",
    "         'English':[69,71,65,62,59]}"
   ]
  },
  {
   "cell_type": "code",
   "execution_count": 33,
   "id": "f4777afd",
   "metadata": {},
   "outputs": [
    {
     "data": {
      "text/html": [
       "<div>\n",
       "<style scoped>\n",
       "    .dataframe tbody tr th:only-of-type {\n",
       "        vertical-align: middle;\n",
       "    }\n",
       "\n",
       "    .dataframe tbody tr th {\n",
       "        vertical-align: top;\n",
       "    }\n",
       "\n",
       "    .dataframe thead th {\n",
       "        text-align: right;\n",
       "    }\n",
       "</style>\n",
       "<table border=\"1\" class=\"dataframe\">\n",
       "  <thead>\n",
       "    <tr style=\"text-align: right;\">\n",
       "      <th></th>\n",
       "      <th>Name</th>\n",
       "      <th>Roll No</th>\n",
       "      <th>Math</th>\n",
       "      <th>Chemistry</th>\n",
       "      <th>Physics</th>\n",
       "      <th>English</th>\n",
       "    </tr>\n",
       "  </thead>\n",
       "  <tbody>\n",
       "    <tr>\n",
       "      <th>0</th>\n",
       "      <td>Abdul Rehman</td>\n",
       "      <td>1010</td>\n",
       "      <td>84</td>\n",
       "      <td>79</td>\n",
       "      <td>89</td>\n",
       "      <td>69</td>\n",
       "    </tr>\n",
       "    <tr>\n",
       "      <th>1</th>\n",
       "      <td>Abdullah</td>\n",
       "      <td>1020</td>\n",
       "      <td>88</td>\n",
       "      <td>70</td>\n",
       "      <td>76</td>\n",
       "      <td>71</td>\n",
       "    </tr>\n",
       "    <tr>\n",
       "      <th>2</th>\n",
       "      <td>Nasir</td>\n",
       "      <td>1030</td>\n",
       "      <td>92</td>\n",
       "      <td>67</td>\n",
       "      <td>72</td>\n",
       "      <td>65</td>\n",
       "    </tr>\n",
       "    <tr>\n",
       "      <th>3</th>\n",
       "      <td>Ali</td>\n",
       "      <td>1040</td>\n",
       "      <td>76</td>\n",
       "      <td>69</td>\n",
       "      <td>71</td>\n",
       "      <td>62</td>\n",
       "    </tr>\n",
       "    <tr>\n",
       "      <th>4</th>\n",
       "      <td>Ameen</td>\n",
       "      <td>1050</td>\n",
       "      <td>62</td>\n",
       "      <td>56</td>\n",
       "      <td>66</td>\n",
       "      <td>59</td>\n",
       "    </tr>\n",
       "  </tbody>\n",
       "</table>\n",
       "</div>"
      ],
      "text/plain": [
       "           Name  Roll No  Math  Chemistry  Physics  English\n",
       "0  Abdul Rehman     1010    84         79       89       69\n",
       "1      Abdullah     1020    88         70       76       71\n",
       "2         Nasir     1030    92         67       72       65\n",
       "3           Ali     1040    76         69       71       62\n",
       "4         Ameen     1050    62         56       66       59"
      ]
     },
     "execution_count": 33,
     "metadata": {},
     "output_type": "execute_result"
    }
   ],
   "source": [
    "df=pd.DataFrame(result)\n",
    "df"
   ]
  },
  {
   "cell_type": "markdown",
   "id": "f165e659",
   "metadata": {},
   "source": [
    "1. Accessing a complete column\n",
    "2. Accessing a complete row\n",
    "3. Adding and removing columns\n",
    "4. Adding and remving a row\n",
    "5. Selecting more then one columns\n",
    "6. Adding more columns to exiting Frame"
   ]
  },
  {
   "cell_type": "code",
   "execution_count": 34,
   "id": "7c352308",
   "metadata": {},
   "outputs": [
    {
     "data": {
      "text/plain": [
       "0    1010\n",
       "1    1020\n",
       "2    1030\n",
       "3    1040\n",
       "4    1050\n",
       "Name: Roll No, dtype: int64"
      ]
     },
     "execution_count": 34,
     "metadata": {},
     "output_type": "execute_result"
    }
   ],
   "source": [
    "df['Roll No']"
   ]
  },
  {
   "cell_type": "code",
   "execution_count": 35,
   "id": "34c90696",
   "metadata": {},
   "outputs": [
    {
     "data": {
      "text/plain": [
       "Name          Ali\n",
       "Roll No      1040\n",
       "Math           76\n",
       "Chemistry      69\n",
       "Physics        71\n",
       "English        62\n",
       "Name: 3, dtype: object"
      ]
     },
     "execution_count": 35,
     "metadata": {},
     "output_type": "execute_result"
    }
   ],
   "source": [
    "df.loc[3]"
   ]
  },
  {
   "cell_type": "code",
   "execution_count": 36,
   "id": "5737be4b",
   "metadata": {},
   "outputs": [
    {
     "data": {
      "text/html": [
       "<div>\n",
       "<style scoped>\n",
       "    .dataframe tbody tr th:only-of-type {\n",
       "        vertical-align: middle;\n",
       "    }\n",
       "\n",
       "    .dataframe tbody tr th {\n",
       "        vertical-align: top;\n",
       "    }\n",
       "\n",
       "    .dataframe thead th {\n",
       "        text-align: right;\n",
       "    }\n",
       "</style>\n",
       "<table border=\"1\" class=\"dataframe\">\n",
       "  <thead>\n",
       "    <tr style=\"text-align: right;\">\n",
       "      <th></th>\n",
       "      <th>Name</th>\n",
       "      <th>Roll No</th>\n",
       "      <th>Math</th>\n",
       "    </tr>\n",
       "  </thead>\n",
       "  <tbody>\n",
       "    <tr>\n",
       "      <th>0</th>\n",
       "      <td>Abdul Rehman</td>\n",
       "      <td>1010</td>\n",
       "      <td>84</td>\n",
       "    </tr>\n",
       "    <tr>\n",
       "      <th>1</th>\n",
       "      <td>Abdullah</td>\n",
       "      <td>1020</td>\n",
       "      <td>88</td>\n",
       "    </tr>\n",
       "    <tr>\n",
       "      <th>2</th>\n",
       "      <td>Nasir</td>\n",
       "      <td>1030</td>\n",
       "      <td>92</td>\n",
       "    </tr>\n",
       "  </tbody>\n",
       "</table>\n",
       "</div>"
      ],
      "text/plain": [
       "           Name  Roll No  Math\n",
       "0  Abdul Rehman     1010    84\n",
       "1      Abdullah     1020    88\n",
       "2         Nasir     1030    92"
      ]
     },
     "execution_count": 36,
     "metadata": {},
     "output_type": "execute_result"
    }
   ],
   "source": [
    "df[df['Math']>=80][['Name','Roll No','Math']]"
   ]
  },
  {
   "cell_type": "code",
   "execution_count": 37,
   "id": "f7e4903b",
   "metadata": {},
   "outputs": [
    {
     "data": {
      "text/html": [
       "<div>\n",
       "<style scoped>\n",
       "    .dataframe tbody tr th:only-of-type {\n",
       "        vertical-align: middle;\n",
       "    }\n",
       "\n",
       "    .dataframe tbody tr th {\n",
       "        vertical-align: top;\n",
       "    }\n",
       "\n",
       "    .dataframe thead th {\n",
       "        text-align: right;\n",
       "    }\n",
       "</style>\n",
       "<table border=\"1\" class=\"dataframe\">\n",
       "  <thead>\n",
       "    <tr style=\"text-align: right;\">\n",
       "      <th></th>\n",
       "      <th>Name</th>\n",
       "      <th>Roll No</th>\n",
       "      <th>Math</th>\n",
       "      <th>Chemistry</th>\n",
       "      <th>Physics</th>\n",
       "      <th>English</th>\n",
       "    </tr>\n",
       "  </thead>\n",
       "  <tbody>\n",
       "    <tr>\n",
       "      <th>4</th>\n",
       "      <td>Ameen</td>\n",
       "      <td>1050</td>\n",
       "      <td>62</td>\n",
       "      <td>56</td>\n",
       "      <td>66</td>\n",
       "      <td>59</td>\n",
       "    </tr>\n",
       "  </tbody>\n",
       "</table>\n",
       "</div>"
      ],
      "text/plain": [
       "    Name  Roll No  Math  Chemistry  Physics  English\n",
       "4  Ameen     1050    62         56       66       59"
      ]
     },
     "execution_count": 37,
     "metadata": {},
     "output_type": "execute_result"
    }
   ],
   "source": [
    "df[df[\"Roll No\"]==1050]"
   ]
  },
  {
   "cell_type": "code",
   "execution_count": 38,
   "id": "40100c15",
   "metadata": {},
   "outputs": [
    {
     "data": {
      "text/html": [
       "<div>\n",
       "<style scoped>\n",
       "    .dataframe tbody tr th:only-of-type {\n",
       "        vertical-align: middle;\n",
       "    }\n",
       "\n",
       "    .dataframe tbody tr th {\n",
       "        vertical-align: top;\n",
       "    }\n",
       "\n",
       "    .dataframe thead th {\n",
       "        text-align: right;\n",
       "    }\n",
       "</style>\n",
       "<table border=\"1\" class=\"dataframe\">\n",
       "  <thead>\n",
       "    <tr style=\"text-align: right;\">\n",
       "      <th></th>\n",
       "      <th>Physics</th>\n",
       "      <th>English</th>\n",
       "      <th>Name</th>\n",
       "    </tr>\n",
       "  </thead>\n",
       "  <tbody>\n",
       "    <tr>\n",
       "      <th>2</th>\n",
       "      <td>72</td>\n",
       "      <td>65</td>\n",
       "      <td>Nasir</td>\n",
       "    </tr>\n",
       "  </tbody>\n",
       "</table>\n",
       "</div>"
      ],
      "text/plain": [
       "   Physics  English   Name\n",
       "2       72       65  Nasir"
      ]
     },
     "execution_count": 38,
     "metadata": {},
     "output_type": "execute_result"
    }
   ],
   "source": [
    "df[df['Name'].str.startswith(('n','N'))][['Physics','English','Name']]"
   ]
  },
  {
   "cell_type": "code",
   "execution_count": 39,
   "id": "52e2d8e4",
   "metadata": {},
   "outputs": [
    {
     "data": {
      "text/html": [
       "<div>\n",
       "<style scoped>\n",
       "    .dataframe tbody tr th:only-of-type {\n",
       "        vertical-align: middle;\n",
       "    }\n",
       "\n",
       "    .dataframe tbody tr th {\n",
       "        vertical-align: top;\n",
       "    }\n",
       "\n",
       "    .dataframe thead th {\n",
       "        text-align: right;\n",
       "    }\n",
       "</style>\n",
       "<table border=\"1\" class=\"dataframe\">\n",
       "  <thead>\n",
       "    <tr style=\"text-align: right;\">\n",
       "      <th></th>\n",
       "      <th>Name</th>\n",
       "      <th>Roll No</th>\n",
       "      <th>Math</th>\n",
       "      <th>Chemistry</th>\n",
       "      <th>Physics</th>\n",
       "      <th>English</th>\n",
       "      <th>Total</th>\n",
       "    </tr>\n",
       "  </thead>\n",
       "  <tbody>\n",
       "    <tr>\n",
       "      <th>0</th>\n",
       "      <td>Abdul Rehman</td>\n",
       "      <td>1010</td>\n",
       "      <td>84</td>\n",
       "      <td>79</td>\n",
       "      <td>89</td>\n",
       "      <td>69</td>\n",
       "      <td>321</td>\n",
       "    </tr>\n",
       "    <tr>\n",
       "      <th>1</th>\n",
       "      <td>Abdullah</td>\n",
       "      <td>1020</td>\n",
       "      <td>88</td>\n",
       "      <td>70</td>\n",
       "      <td>76</td>\n",
       "      <td>71</td>\n",
       "      <td>305</td>\n",
       "    </tr>\n",
       "    <tr>\n",
       "      <th>2</th>\n",
       "      <td>Nasir</td>\n",
       "      <td>1030</td>\n",
       "      <td>92</td>\n",
       "      <td>67</td>\n",
       "      <td>72</td>\n",
       "      <td>65</td>\n",
       "      <td>296</td>\n",
       "    </tr>\n",
       "    <tr>\n",
       "      <th>3</th>\n",
       "      <td>Ali</td>\n",
       "      <td>1040</td>\n",
       "      <td>76</td>\n",
       "      <td>69</td>\n",
       "      <td>71</td>\n",
       "      <td>62</td>\n",
       "      <td>278</td>\n",
       "    </tr>\n",
       "    <tr>\n",
       "      <th>4</th>\n",
       "      <td>Ameen</td>\n",
       "      <td>1050</td>\n",
       "      <td>62</td>\n",
       "      <td>56</td>\n",
       "      <td>66</td>\n",
       "      <td>59</td>\n",
       "      <td>243</td>\n",
       "    </tr>\n",
       "  </tbody>\n",
       "</table>\n",
       "</div>"
      ],
      "text/plain": [
       "           Name  Roll No  Math  Chemistry  Physics  English  Total\n",
       "0  Abdul Rehman     1010    84         79       89       69    321\n",
       "1      Abdullah     1020    88         70       76       71    305\n",
       "2         Nasir     1030    92         67       72       65    296\n",
       "3           Ali     1040    76         69       71       62    278\n",
       "4         Ameen     1050    62         56       66       59    243"
      ]
     },
     "execution_count": 39,
     "metadata": {},
     "output_type": "execute_result"
    }
   ],
   "source": [
    "df[\"Total\"]=df['Math']+df['Chemistry']+df['Physics']+df['English']\n",
    "df"
   ]
  },
  {
   "cell_type": "code",
   "execution_count": 40,
   "id": "726eeaee",
   "metadata": {},
   "outputs": [
    {
     "data": {
      "text/html": [
       "<div>\n",
       "<style scoped>\n",
       "    .dataframe tbody tr th:only-of-type {\n",
       "        vertical-align: middle;\n",
       "    }\n",
       "\n",
       "    .dataframe tbody tr th {\n",
       "        vertical-align: top;\n",
       "    }\n",
       "\n",
       "    .dataframe thead th {\n",
       "        text-align: right;\n",
       "    }\n",
       "</style>\n",
       "<table border=\"1\" class=\"dataframe\">\n",
       "  <thead>\n",
       "    <tr style=\"text-align: right;\">\n",
       "      <th></th>\n",
       "      <th>Name</th>\n",
       "      <th>Roll No</th>\n",
       "      <th>Math</th>\n",
       "      <th>Chemistry</th>\n",
       "      <th>Physics</th>\n",
       "      <th>English</th>\n",
       "      <th>Total</th>\n",
       "      <th>Percentage</th>\n",
       "    </tr>\n",
       "  </thead>\n",
       "  <tbody>\n",
       "    <tr>\n",
       "      <th>0</th>\n",
       "      <td>Abdul Rehman</td>\n",
       "      <td>1010</td>\n",
       "      <td>84</td>\n",
       "      <td>79</td>\n",
       "      <td>89</td>\n",
       "      <td>69</td>\n",
       "      <td>321</td>\n",
       "      <td>80.25</td>\n",
       "    </tr>\n",
       "    <tr>\n",
       "      <th>1</th>\n",
       "      <td>Abdullah</td>\n",
       "      <td>1020</td>\n",
       "      <td>88</td>\n",
       "      <td>70</td>\n",
       "      <td>76</td>\n",
       "      <td>71</td>\n",
       "      <td>305</td>\n",
       "      <td>76.25</td>\n",
       "    </tr>\n",
       "    <tr>\n",
       "      <th>2</th>\n",
       "      <td>Nasir</td>\n",
       "      <td>1030</td>\n",
       "      <td>92</td>\n",
       "      <td>67</td>\n",
       "      <td>72</td>\n",
       "      <td>65</td>\n",
       "      <td>296</td>\n",
       "      <td>74.00</td>\n",
       "    </tr>\n",
       "    <tr>\n",
       "      <th>3</th>\n",
       "      <td>Ali</td>\n",
       "      <td>1040</td>\n",
       "      <td>76</td>\n",
       "      <td>69</td>\n",
       "      <td>71</td>\n",
       "      <td>62</td>\n",
       "      <td>278</td>\n",
       "      <td>69.50</td>\n",
       "    </tr>\n",
       "    <tr>\n",
       "      <th>4</th>\n",
       "      <td>Ameen</td>\n",
       "      <td>1050</td>\n",
       "      <td>62</td>\n",
       "      <td>56</td>\n",
       "      <td>66</td>\n",
       "      <td>59</td>\n",
       "      <td>243</td>\n",
       "      <td>60.75</td>\n",
       "    </tr>\n",
       "  </tbody>\n",
       "</table>\n",
       "</div>"
      ],
      "text/plain": [
       "           Name  Roll No  Math  Chemistry  Physics  English  Total  Percentage\n",
       "0  Abdul Rehman     1010    84         79       89       69    321       80.25\n",
       "1      Abdullah     1020    88         70       76       71    305       76.25\n",
       "2         Nasir     1030    92         67       72       65    296       74.00\n",
       "3           Ali     1040    76         69       71       62    278       69.50\n",
       "4         Ameen     1050    62         56       66       59    243       60.75"
      ]
     },
     "execution_count": 40,
     "metadata": {},
     "output_type": "execute_result"
    }
   ],
   "source": [
    "df['Percentage']=df['Total']*100/400\n",
    "df"
   ]
  },
  {
   "cell_type": "code",
   "execution_count": 41,
   "id": "17438ccb",
   "metadata": {},
   "outputs": [],
   "source": [
    "def assignGrade(per):\n",
    "    grade = None\n",
    "    if per>=80:\n",
    "        grade = \"A+\"\n",
    "    elif per>=70:\n",
    "        grade = \"A\"\n",
    "    elif per>=60:\n",
    "        grade = \"B\"\n",
    "    elif per>=50:\n",
    "        grade = \"C\"\n",
    "    else:\n",
    "        grade =\"F\"\n",
    "    return grade"
   ]
  },
  {
   "cell_type": "code",
   "execution_count": 42,
   "id": "9f4ce682",
   "metadata": {},
   "outputs": [
    {
     "data": {
      "text/html": [
       "<div>\n",
       "<style scoped>\n",
       "    .dataframe tbody tr th:only-of-type {\n",
       "        vertical-align: middle;\n",
       "    }\n",
       "\n",
       "    .dataframe tbody tr th {\n",
       "        vertical-align: top;\n",
       "    }\n",
       "\n",
       "    .dataframe thead th {\n",
       "        text-align: right;\n",
       "    }\n",
       "</style>\n",
       "<table border=\"1\" class=\"dataframe\">\n",
       "  <thead>\n",
       "    <tr style=\"text-align: right;\">\n",
       "      <th></th>\n",
       "      <th>Name</th>\n",
       "      <th>Roll No</th>\n",
       "      <th>Math</th>\n",
       "      <th>Chemistry</th>\n",
       "      <th>Physics</th>\n",
       "      <th>English</th>\n",
       "      <th>Total</th>\n",
       "      <th>Percentage</th>\n",
       "      <th>Grade</th>\n",
       "    </tr>\n",
       "  </thead>\n",
       "  <tbody>\n",
       "    <tr>\n",
       "      <th>0</th>\n",
       "      <td>Abdul Rehman</td>\n",
       "      <td>1010</td>\n",
       "      <td>84</td>\n",
       "      <td>79</td>\n",
       "      <td>89</td>\n",
       "      <td>69</td>\n",
       "      <td>321</td>\n",
       "      <td>80.25</td>\n",
       "      <td>A+</td>\n",
       "    </tr>\n",
       "    <tr>\n",
       "      <th>1</th>\n",
       "      <td>Abdullah</td>\n",
       "      <td>1020</td>\n",
       "      <td>88</td>\n",
       "      <td>70</td>\n",
       "      <td>76</td>\n",
       "      <td>71</td>\n",
       "      <td>305</td>\n",
       "      <td>76.25</td>\n",
       "      <td>A</td>\n",
       "    </tr>\n",
       "    <tr>\n",
       "      <th>2</th>\n",
       "      <td>Nasir</td>\n",
       "      <td>1030</td>\n",
       "      <td>92</td>\n",
       "      <td>67</td>\n",
       "      <td>72</td>\n",
       "      <td>65</td>\n",
       "      <td>296</td>\n",
       "      <td>74.00</td>\n",
       "      <td>A</td>\n",
       "    </tr>\n",
       "    <tr>\n",
       "      <th>3</th>\n",
       "      <td>Ali</td>\n",
       "      <td>1040</td>\n",
       "      <td>76</td>\n",
       "      <td>69</td>\n",
       "      <td>71</td>\n",
       "      <td>62</td>\n",
       "      <td>278</td>\n",
       "      <td>69.50</td>\n",
       "      <td>B</td>\n",
       "    </tr>\n",
       "    <tr>\n",
       "      <th>4</th>\n",
       "      <td>Ameen</td>\n",
       "      <td>1050</td>\n",
       "      <td>62</td>\n",
       "      <td>56</td>\n",
       "      <td>66</td>\n",
       "      <td>59</td>\n",
       "      <td>243</td>\n",
       "      <td>60.75</td>\n",
       "      <td>B</td>\n",
       "    </tr>\n",
       "  </tbody>\n",
       "</table>\n",
       "</div>"
      ],
      "text/plain": [
       "           Name  Roll No  Math  Chemistry  Physics  English  Total  \\\n",
       "0  Abdul Rehman     1010    84         79       89       69    321   \n",
       "1      Abdullah     1020    88         70       76       71    305   \n",
       "2         Nasir     1030    92         67       72       65    296   \n",
       "3           Ali     1040    76         69       71       62    278   \n",
       "4         Ameen     1050    62         56       66       59    243   \n",
       "\n",
       "   Percentage Grade  \n",
       "0       80.25    A+  \n",
       "1       76.25     A  \n",
       "2       74.00     A  \n",
       "3       69.50     B  \n",
       "4       60.75     B  "
      ]
     },
     "execution_count": 42,
     "metadata": {},
     "output_type": "execute_result"
    }
   ],
   "source": [
    "df[\"Grade\"]=[assignGrade(per) for per in df['Percentage']]\n",
    "df"
   ]
  },
  {
   "cell_type": "code",
   "execution_count": 43,
   "id": "17cc4012",
   "metadata": {},
   "outputs": [
    {
     "data": {
      "text/html": [
       "<div>\n",
       "<style scoped>\n",
       "    .dataframe tbody tr th:only-of-type {\n",
       "        vertical-align: middle;\n",
       "    }\n",
       "\n",
       "    .dataframe tbody tr th {\n",
       "        vertical-align: top;\n",
       "    }\n",
       "\n",
       "    .dataframe thead th {\n",
       "        text-align: right;\n",
       "    }\n",
       "</style>\n",
       "<table border=\"1\" class=\"dataframe\">\n",
       "  <thead>\n",
       "    <tr style=\"text-align: right;\">\n",
       "      <th></th>\n",
       "      <th>Name</th>\n",
       "      <th>Roll No</th>\n",
       "      <th>Percentage</th>\n",
       "      <th>Grade</th>\n",
       "    </tr>\n",
       "  </thead>\n",
       "  <tbody>\n",
       "    <tr>\n",
       "      <th>0</th>\n",
       "      <td>Abdul Rehman</td>\n",
       "      <td>1010</td>\n",
       "      <td>80.25</td>\n",
       "      <td>A+</td>\n",
       "    </tr>\n",
       "    <tr>\n",
       "      <th>1</th>\n",
       "      <td>Abdullah</td>\n",
       "      <td>1020</td>\n",
       "      <td>76.25</td>\n",
       "      <td>A</td>\n",
       "    </tr>\n",
       "  </tbody>\n",
       "</table>\n",
       "</div>"
      ],
      "text/plain": [
       "           Name  Roll No  Percentage Grade\n",
       "0  Abdul Rehman     1010       80.25    A+\n",
       "1      Abdullah     1020       76.25     A"
      ]
     },
     "execution_count": 43,
     "metadata": {},
     "output_type": "execute_result"
    }
   ],
   "source": [
    "df[df['Percentage']>75][['Name','Roll No','Percentage','Grade']]"
   ]
  },
  {
   "cell_type": "code",
   "execution_count": 44,
   "id": "7deb8ce4",
   "metadata": {},
   "outputs": [
    {
     "data": {
      "text/plain": [
       "80.25"
      ]
     },
     "execution_count": 44,
     "metadata": {},
     "output_type": "execute_result"
    }
   ],
   "source": [
    "df[\"Percentage\"].max()\n"
   ]
  },
  {
   "cell_type": "code",
   "execution_count": 45,
   "id": "7035a76b",
   "metadata": {},
   "outputs": [
    {
     "data": {
      "text/html": [
       "<div>\n",
       "<style scoped>\n",
       "    .dataframe tbody tr th:only-of-type {\n",
       "        vertical-align: middle;\n",
       "    }\n",
       "\n",
       "    .dataframe tbody tr th {\n",
       "        vertical-align: top;\n",
       "    }\n",
       "\n",
       "    .dataframe thead th {\n",
       "        text-align: right;\n",
       "    }\n",
       "</style>\n",
       "<table border=\"1\" class=\"dataframe\">\n",
       "  <thead>\n",
       "    <tr style=\"text-align: right;\">\n",
       "      <th></th>\n",
       "      <th>Name</th>\n",
       "      <th>Roll No</th>\n",
       "      <th>Grade</th>\n",
       "    </tr>\n",
       "  </thead>\n",
       "  <tbody>\n",
       "    <tr>\n",
       "      <th>0</th>\n",
       "      <td>Abdul Rehman</td>\n",
       "      <td>1010</td>\n",
       "      <td>A+</td>\n",
       "    </tr>\n",
       "  </tbody>\n",
       "</table>\n",
       "</div>"
      ],
      "text/plain": [
       "           Name  Roll No Grade\n",
       "0  Abdul Rehman     1010    A+"
      ]
     },
     "execution_count": 45,
     "metadata": {},
     "output_type": "execute_result"
    }
   ],
   "source": [
    "df[df[\"Percentage\"]==df[\"Percentage\"].max()][['Name','Roll No','Grade']]\n"
   ]
  },
  {
   "cell_type": "code",
   "execution_count": 46,
   "id": "9a3ba994",
   "metadata": {},
   "outputs": [
    {
     "data": {
      "text/html": [
       "<div>\n",
       "<style scoped>\n",
       "    .dataframe tbody tr th:only-of-type {\n",
       "        vertical-align: middle;\n",
       "    }\n",
       "\n",
       "    .dataframe tbody tr th {\n",
       "        vertical-align: top;\n",
       "    }\n",
       "\n",
       "    .dataframe thead th {\n",
       "        text-align: right;\n",
       "    }\n",
       "</style>\n",
       "<table border=\"1\" class=\"dataframe\">\n",
       "  <thead>\n",
       "    <tr style=\"text-align: right;\">\n",
       "      <th></th>\n",
       "      <th>Name</th>\n",
       "      <th>Roll No</th>\n",
       "      <th>Grade</th>\n",
       "    </tr>\n",
       "  </thead>\n",
       "  <tbody>\n",
       "    <tr>\n",
       "      <th>4</th>\n",
       "      <td>Ameen</td>\n",
       "      <td>1050</td>\n",
       "      <td>B</td>\n",
       "    </tr>\n",
       "  </tbody>\n",
       "</table>\n",
       "</div>"
      ],
      "text/plain": [
       "    Name  Roll No Grade\n",
       "4  Ameen     1050     B"
      ]
     },
     "execution_count": 46,
     "metadata": {},
     "output_type": "execute_result"
    }
   ],
   "source": [
    "df[df[\"Percentage\"]==df[\"Percentage\"].min()][['Name','Roll No','Grade']]"
   ]
  },
  {
   "cell_type": "markdown",
   "id": "823271c8",
   "metadata": {},
   "source": [
    "# Drop Entities from an Axis"
   ]
  },
  {
   "cell_type": "code",
   "execution_count": 52,
   "id": "5e3aed6a",
   "metadata": {},
   "outputs": [
    {
     "data": {
      "text/html": [
       "<div>\n",
       "<style scoped>\n",
       "    .dataframe tbody tr th:only-of-type {\n",
       "        vertical-align: middle;\n",
       "    }\n",
       "\n",
       "    .dataframe tbody tr th {\n",
       "        vertical-align: top;\n",
       "    }\n",
       "\n",
       "    .dataframe thead th {\n",
       "        text-align: right;\n",
       "    }\n",
       "</style>\n",
       "<table border=\"1\" class=\"dataframe\">\n",
       "  <thead>\n",
       "    <tr style=\"text-align: right;\">\n",
       "      <th></th>\n",
       "      <th>Name</th>\n",
       "      <th>Roll No</th>\n",
       "      <th>Math</th>\n",
       "      <th>Chemistry</th>\n",
       "      <th>Physics</th>\n",
       "      <th>English</th>\n",
       "      <th>Total</th>\n",
       "      <th>Percentage</th>\n",
       "      <th>Grade</th>\n",
       "    </tr>\n",
       "  </thead>\n",
       "  <tbody>\n",
       "    <tr>\n",
       "      <th>0</th>\n",
       "      <td>Abdul Rehman</td>\n",
       "      <td>1010</td>\n",
       "      <td>84</td>\n",
       "      <td>79</td>\n",
       "      <td>89</td>\n",
       "      <td>69</td>\n",
       "      <td>321</td>\n",
       "      <td>80.25</td>\n",
       "      <td>A+</td>\n",
       "    </tr>\n",
       "    <tr>\n",
       "      <th>1</th>\n",
       "      <td>Abdullah</td>\n",
       "      <td>1020</td>\n",
       "      <td>88</td>\n",
       "      <td>70</td>\n",
       "      <td>76</td>\n",
       "      <td>71</td>\n",
       "      <td>305</td>\n",
       "      <td>76.25</td>\n",
       "      <td>A</td>\n",
       "    </tr>\n",
       "    <tr>\n",
       "      <th>3</th>\n",
       "      <td>Ali</td>\n",
       "      <td>1040</td>\n",
       "      <td>76</td>\n",
       "      <td>69</td>\n",
       "      <td>71</td>\n",
       "      <td>62</td>\n",
       "      <td>278</td>\n",
       "      <td>69.50</td>\n",
       "      <td>B</td>\n",
       "    </tr>\n",
       "    <tr>\n",
       "      <th>4</th>\n",
       "      <td>Ameen</td>\n",
       "      <td>1050</td>\n",
       "      <td>62</td>\n",
       "      <td>56</td>\n",
       "      <td>66</td>\n",
       "      <td>59</td>\n",
       "      <td>243</td>\n",
       "      <td>60.75</td>\n",
       "      <td>B</td>\n",
       "    </tr>\n",
       "  </tbody>\n",
       "</table>\n",
       "</div>"
      ],
      "text/plain": [
       "           Name  Roll No  Math  Chemistry  Physics  English  Total  \\\n",
       "0  Abdul Rehman     1010    84         79       89       69    321   \n",
       "1      Abdullah     1020    88         70       76       71    305   \n",
       "3           Ali     1040    76         69       71       62    278   \n",
       "4         Ameen     1050    62         56       66       59    243   \n",
       "\n",
       "   Percentage Grade  \n",
       "0       80.25    A+  \n",
       "1       76.25     A  \n",
       "3       69.50     B  \n",
       "4       60.75     B  "
      ]
     },
     "execution_count": 52,
     "metadata": {},
     "output_type": "execute_result"
    }
   ],
   "source": [
    "df.drop(2,axis=0)"
   ]
  },
  {
   "cell_type": "code",
   "execution_count": 54,
   "id": "809f3aef",
   "metadata": {},
   "outputs": [
    {
     "data": {
      "text/html": [
       "<div>\n",
       "<style scoped>\n",
       "    .dataframe tbody tr th:only-of-type {\n",
       "        vertical-align: middle;\n",
       "    }\n",
       "\n",
       "    .dataframe tbody tr th {\n",
       "        vertical-align: top;\n",
       "    }\n",
       "\n",
       "    .dataframe thead th {\n",
       "        text-align: right;\n",
       "    }\n",
       "</style>\n",
       "<table border=\"1\" class=\"dataframe\">\n",
       "  <thead>\n",
       "    <tr style=\"text-align: right;\">\n",
       "      <th></th>\n",
       "      <th>Name</th>\n",
       "      <th>Math</th>\n",
       "      <th>Chemistry</th>\n",
       "      <th>Physics</th>\n",
       "      <th>English</th>\n",
       "      <th>Total</th>\n",
       "      <th>Percentage</th>\n",
       "      <th>Grade</th>\n",
       "    </tr>\n",
       "  </thead>\n",
       "  <tbody>\n",
       "    <tr>\n",
       "      <th>0</th>\n",
       "      <td>Abdul Rehman</td>\n",
       "      <td>84</td>\n",
       "      <td>79</td>\n",
       "      <td>89</td>\n",
       "      <td>69</td>\n",
       "      <td>321</td>\n",
       "      <td>80.25</td>\n",
       "      <td>A+</td>\n",
       "    </tr>\n",
       "    <tr>\n",
       "      <th>1</th>\n",
       "      <td>Abdullah</td>\n",
       "      <td>88</td>\n",
       "      <td>70</td>\n",
       "      <td>76</td>\n",
       "      <td>71</td>\n",
       "      <td>305</td>\n",
       "      <td>76.25</td>\n",
       "      <td>A</td>\n",
       "    </tr>\n",
       "    <tr>\n",
       "      <th>2</th>\n",
       "      <td>Nasir</td>\n",
       "      <td>92</td>\n",
       "      <td>67</td>\n",
       "      <td>72</td>\n",
       "      <td>65</td>\n",
       "      <td>296</td>\n",
       "      <td>74.00</td>\n",
       "      <td>A</td>\n",
       "    </tr>\n",
       "    <tr>\n",
       "      <th>3</th>\n",
       "      <td>Ali</td>\n",
       "      <td>76</td>\n",
       "      <td>69</td>\n",
       "      <td>71</td>\n",
       "      <td>62</td>\n",
       "      <td>278</td>\n",
       "      <td>69.50</td>\n",
       "      <td>B</td>\n",
       "    </tr>\n",
       "    <tr>\n",
       "      <th>4</th>\n",
       "      <td>Ameen</td>\n",
       "      <td>62</td>\n",
       "      <td>56</td>\n",
       "      <td>66</td>\n",
       "      <td>59</td>\n",
       "      <td>243</td>\n",
       "      <td>60.75</td>\n",
       "      <td>B</td>\n",
       "    </tr>\n",
       "  </tbody>\n",
       "</table>\n",
       "</div>"
      ],
      "text/plain": [
       "           Name  Math  Chemistry  Physics  English  Total  Percentage Grade\n",
       "0  Abdul Rehman    84         79       89       69    321       80.25    A+\n",
       "1      Abdullah    88         70       76       71    305       76.25     A\n",
       "2         Nasir    92         67       72       65    296       74.00     A\n",
       "3           Ali    76         69       71       62    278       69.50     B\n",
       "4         Ameen    62         56       66       59    243       60.75     B"
      ]
     },
     "execution_count": 54,
     "metadata": {},
     "output_type": "execute_result"
    }
   ],
   "source": [
    "df.drop('Roll No',axis=1)"
   ]
  },
  {
   "cell_type": "code",
   "execution_count": 57,
   "id": "25ca1db0",
   "metadata": {},
   "outputs": [
    {
     "data": {
      "text/html": [
       "<div>\n",
       "<style scoped>\n",
       "    .dataframe tbody tr th:only-of-type {\n",
       "        vertical-align: middle;\n",
       "    }\n",
       "\n",
       "    .dataframe tbody tr th {\n",
       "        vertical-align: top;\n",
       "    }\n",
       "\n",
       "    .dataframe thead th {\n",
       "        text-align: right;\n",
       "    }\n",
       "</style>\n",
       "<table border=\"1\" class=\"dataframe\">\n",
       "  <thead>\n",
       "    <tr style=\"text-align: right;\">\n",
       "      <th></th>\n",
       "      <th>Name</th>\n",
       "      <th>Roll No</th>\n",
       "      <th>Math</th>\n",
       "      <th>Chemistry</th>\n",
       "      <th>Physics</th>\n",
       "      <th>English</th>\n",
       "      <th>Total</th>\n",
       "      <th>Percentage</th>\n",
       "      <th>Grade</th>\n",
       "      <th>Ratio</th>\n",
       "    </tr>\n",
       "  </thead>\n",
       "  <tbody>\n",
       "    <tr>\n",
       "      <th>0</th>\n",
       "      <td>Abdul Rehman</td>\n",
       "      <td>1010</td>\n",
       "      <td>84</td>\n",
       "      <td>79</td>\n",
       "      <td>89</td>\n",
       "      <td>69</td>\n",
       "      <td>321</td>\n",
       "      <td>80.25</td>\n",
       "      <td>A+</td>\n",
       "      <td>2.0</td>\n",
       "    </tr>\n",
       "    <tr>\n",
       "      <th>1</th>\n",
       "      <td>Abdullah</td>\n",
       "      <td>1020</td>\n",
       "      <td>88</td>\n",
       "      <td>70</td>\n",
       "      <td>76</td>\n",
       "      <td>71</td>\n",
       "      <td>305</td>\n",
       "      <td>76.25</td>\n",
       "      <td>A</td>\n",
       "      <td>7.0</td>\n",
       "    </tr>\n",
       "    <tr>\n",
       "      <th>2</th>\n",
       "      <td>Nasir</td>\n",
       "      <td>1030</td>\n",
       "      <td>92</td>\n",
       "      <td>67</td>\n",
       "      <td>72</td>\n",
       "      <td>65</td>\n",
       "      <td>296</td>\n",
       "      <td>74.00</td>\n",
       "      <td>A</td>\n",
       "      <td>NaN</td>\n",
       "    </tr>\n",
       "    <tr>\n",
       "      <th>3</th>\n",
       "      <td>Ali</td>\n",
       "      <td>1040</td>\n",
       "      <td>76</td>\n",
       "      <td>69</td>\n",
       "      <td>71</td>\n",
       "      <td>62</td>\n",
       "      <td>278</td>\n",
       "      <td>69.50</td>\n",
       "      <td>B</td>\n",
       "      <td>6.0</td>\n",
       "    </tr>\n",
       "    <tr>\n",
       "      <th>4</th>\n",
       "      <td>Ameen</td>\n",
       "      <td>1050</td>\n",
       "      <td>62</td>\n",
       "      <td>56</td>\n",
       "      <td>66</td>\n",
       "      <td>59</td>\n",
       "      <td>243</td>\n",
       "      <td>60.75</td>\n",
       "      <td>B</td>\n",
       "      <td>NaN</td>\n",
       "    </tr>\n",
       "  </tbody>\n",
       "</table>\n",
       "</div>"
      ],
      "text/plain": [
       "           Name  Roll No  Math  Chemistry  Physics  English  Total  \\\n",
       "0  Abdul Rehman     1010    84         79       89       69    321   \n",
       "1      Abdullah     1020    88         70       76       71    305   \n",
       "2         Nasir     1030    92         67       72       65    296   \n",
       "3           Ali     1040    76         69       71       62    278   \n",
       "4         Ameen     1050    62         56       66       59    243   \n",
       "\n",
       "   Percentage Grade  Ratio  \n",
       "0       80.25    A+    2.0  \n",
       "1       76.25     A    7.0  \n",
       "2       74.00     A    NaN  \n",
       "3       69.50     B    6.0  \n",
       "4       60.75     B    NaN  "
      ]
     },
     "execution_count": 57,
     "metadata": {},
     "output_type": "execute_result"
    }
   ],
   "source": [
    "import numpy as np\n",
    "df[\"Ratio\"]=[2,7,np.nan,6,np.nan]\n",
    "df"
   ]
  },
  {
   "cell_type": "code",
   "execution_count": 59,
   "id": "09dabca3",
   "metadata": {},
   "outputs": [
    {
     "data": {
      "text/html": [
       "<div>\n",
       "<style scoped>\n",
       "    .dataframe tbody tr th:only-of-type {\n",
       "        vertical-align: middle;\n",
       "    }\n",
       "\n",
       "    .dataframe tbody tr th {\n",
       "        vertical-align: top;\n",
       "    }\n",
       "\n",
       "    .dataframe thead th {\n",
       "        text-align: right;\n",
       "    }\n",
       "</style>\n",
       "<table border=\"1\" class=\"dataframe\">\n",
       "  <thead>\n",
       "    <tr style=\"text-align: right;\">\n",
       "      <th></th>\n",
       "      <th>Name</th>\n",
       "      <th>Roll No</th>\n",
       "      <th>Math</th>\n",
       "      <th>Chemistry</th>\n",
       "      <th>Physics</th>\n",
       "      <th>English</th>\n",
       "      <th>Total</th>\n",
       "      <th>Percentage</th>\n",
       "      <th>Grade</th>\n",
       "      <th>Ratio</th>\n",
       "    </tr>\n",
       "  </thead>\n",
       "  <tbody>\n",
       "    <tr>\n",
       "      <th>0</th>\n",
       "      <td>Abdul Rehman</td>\n",
       "      <td>1010</td>\n",
       "      <td>84</td>\n",
       "      <td>79</td>\n",
       "      <td>89</td>\n",
       "      <td>69</td>\n",
       "      <td>321</td>\n",
       "      <td>80.25</td>\n",
       "      <td>A+</td>\n",
       "      <td>2.0</td>\n",
       "    </tr>\n",
       "    <tr>\n",
       "      <th>1</th>\n",
       "      <td>Abdullah</td>\n",
       "      <td>1020</td>\n",
       "      <td>88</td>\n",
       "      <td>70</td>\n",
       "      <td>76</td>\n",
       "      <td>71</td>\n",
       "      <td>305</td>\n",
       "      <td>76.25</td>\n",
       "      <td>A</td>\n",
       "      <td>7.0</td>\n",
       "    </tr>\n",
       "    <tr>\n",
       "      <th>3</th>\n",
       "      <td>Ali</td>\n",
       "      <td>1040</td>\n",
       "      <td>76</td>\n",
       "      <td>69</td>\n",
       "      <td>71</td>\n",
       "      <td>62</td>\n",
       "      <td>278</td>\n",
       "      <td>69.50</td>\n",
       "      <td>B</td>\n",
       "      <td>6.0</td>\n",
       "    </tr>\n",
       "  </tbody>\n",
       "</table>\n",
       "</div>"
      ],
      "text/plain": [
       "           Name  Roll No  Math  Chemistry  Physics  English  Total  \\\n",
       "0  Abdul Rehman     1010    84         79       89       69    321   \n",
       "1      Abdullah     1020    88         70       76       71    305   \n",
       "3           Ali     1040    76         69       71       62    278   \n",
       "\n",
       "   Percentage Grade  Ratio  \n",
       "0       80.25    A+    2.0  \n",
       "1       76.25     A    7.0  \n",
       "3       69.50     B    6.0  "
      ]
     },
     "execution_count": 59,
     "metadata": {},
     "output_type": "execute_result"
    }
   ],
   "source": [
    "df.dropna() #Drop the row which have nan value"
   ]
  },
  {
   "cell_type": "code",
   "execution_count": 63,
   "id": "2bf9e1f3",
   "metadata": {},
   "outputs": [
    {
     "data": {
      "text/html": [
       "<div>\n",
       "<style scoped>\n",
       "    .dataframe tbody tr th:only-of-type {\n",
       "        vertical-align: middle;\n",
       "    }\n",
       "\n",
       "    .dataframe tbody tr th {\n",
       "        vertical-align: top;\n",
       "    }\n",
       "\n",
       "    .dataframe thead th {\n",
       "        text-align: right;\n",
       "    }\n",
       "</style>\n",
       "<table border=\"1\" class=\"dataframe\">\n",
       "  <thead>\n",
       "    <tr style=\"text-align: right;\">\n",
       "      <th></th>\n",
       "      <th>Name</th>\n",
       "      <th>Roll No</th>\n",
       "      <th>Math</th>\n",
       "      <th>Chemistry</th>\n",
       "      <th>Physics</th>\n",
       "      <th>English</th>\n",
       "      <th>Total</th>\n",
       "      <th>Percentage</th>\n",
       "      <th>Grade</th>\n",
       "    </tr>\n",
       "  </thead>\n",
       "  <tbody>\n",
       "    <tr>\n",
       "      <th>0</th>\n",
       "      <td>Abdul Rehman</td>\n",
       "      <td>1010</td>\n",
       "      <td>84</td>\n",
       "      <td>79</td>\n",
       "      <td>89</td>\n",
       "      <td>69</td>\n",
       "      <td>321</td>\n",
       "      <td>80.25</td>\n",
       "      <td>A+</td>\n",
       "    </tr>\n",
       "    <tr>\n",
       "      <th>1</th>\n",
       "      <td>Abdullah</td>\n",
       "      <td>1020</td>\n",
       "      <td>88</td>\n",
       "      <td>70</td>\n",
       "      <td>76</td>\n",
       "      <td>71</td>\n",
       "      <td>305</td>\n",
       "      <td>76.25</td>\n",
       "      <td>A</td>\n",
       "    </tr>\n",
       "    <tr>\n",
       "      <th>2</th>\n",
       "      <td>Nasir</td>\n",
       "      <td>1030</td>\n",
       "      <td>92</td>\n",
       "      <td>67</td>\n",
       "      <td>72</td>\n",
       "      <td>65</td>\n",
       "      <td>296</td>\n",
       "      <td>74.00</td>\n",
       "      <td>A</td>\n",
       "    </tr>\n",
       "    <tr>\n",
       "      <th>3</th>\n",
       "      <td>Ali</td>\n",
       "      <td>1040</td>\n",
       "      <td>76</td>\n",
       "      <td>69</td>\n",
       "      <td>71</td>\n",
       "      <td>62</td>\n",
       "      <td>278</td>\n",
       "      <td>69.50</td>\n",
       "      <td>B</td>\n",
       "    </tr>\n",
       "    <tr>\n",
       "      <th>4</th>\n",
       "      <td>Ameen</td>\n",
       "      <td>1050</td>\n",
       "      <td>62</td>\n",
       "      <td>56</td>\n",
       "      <td>66</td>\n",
       "      <td>59</td>\n",
       "      <td>243</td>\n",
       "      <td>60.75</td>\n",
       "      <td>B</td>\n",
       "    </tr>\n",
       "  </tbody>\n",
       "</table>\n",
       "</div>"
      ],
      "text/plain": [
       "           Name  Roll No  Math  Chemistry  Physics  English  Total  \\\n",
       "0  Abdul Rehman     1010    84         79       89       69    321   \n",
       "1      Abdullah     1020    88         70       76       71    305   \n",
       "2         Nasir     1030    92         67       72       65    296   \n",
       "3           Ali     1040    76         69       71       62    278   \n",
       "4         Ameen     1050    62         56       66       59    243   \n",
       "\n",
       "   Percentage Grade  \n",
       "0       80.25    A+  \n",
       "1       76.25     A  \n",
       "2       74.00     A  \n",
       "3       69.50     B  \n",
       "4       60.75     B  "
      ]
     },
     "execution_count": 63,
     "metadata": {},
     "output_type": "execute_result"
    }
   ],
   "source": [
    "df.dropna(axis=1) #Drop the column which have nan value"
   ]
  },
  {
   "cell_type": "code",
   "execution_count": 61,
   "id": "34c6adc2",
   "metadata": {},
   "outputs": [
    {
     "data": {
      "text/html": [
       "<div>\n",
       "<style scoped>\n",
       "    .dataframe tbody tr th:only-of-type {\n",
       "        vertical-align: middle;\n",
       "    }\n",
       "\n",
       "    .dataframe tbody tr th {\n",
       "        vertical-align: top;\n",
       "    }\n",
       "\n",
       "    .dataframe thead th {\n",
       "        text-align: right;\n",
       "    }\n",
       "</style>\n",
       "<table border=\"1\" class=\"dataframe\">\n",
       "  <thead>\n",
       "    <tr style=\"text-align: right;\">\n",
       "      <th></th>\n",
       "      <th>Name</th>\n",
       "      <th>Roll No</th>\n",
       "      <th>Math</th>\n",
       "      <th>Chemistry</th>\n",
       "      <th>Physics</th>\n",
       "      <th>English</th>\n",
       "      <th>Total</th>\n",
       "      <th>Percentage</th>\n",
       "      <th>Grade</th>\n",
       "    </tr>\n",
       "  </thead>\n",
       "  <tbody>\n",
       "    <tr>\n",
       "      <th>0</th>\n",
       "      <td>Abdul Rehman</td>\n",
       "      <td>1010</td>\n",
       "      <td>84</td>\n",
       "      <td>79</td>\n",
       "      <td>89</td>\n",
       "      <td>69</td>\n",
       "      <td>321</td>\n",
       "      <td>80.25</td>\n",
       "      <td>A+</td>\n",
       "    </tr>\n",
       "    <tr>\n",
       "      <th>1</th>\n",
       "      <td>Abdullah</td>\n",
       "      <td>1020</td>\n",
       "      <td>88</td>\n",
       "      <td>70</td>\n",
       "      <td>76</td>\n",
       "      <td>71</td>\n",
       "      <td>305</td>\n",
       "      <td>76.25</td>\n",
       "      <td>A</td>\n",
       "    </tr>\n",
       "    <tr>\n",
       "      <th>2</th>\n",
       "      <td>Nasir</td>\n",
       "      <td>1030</td>\n",
       "      <td>92</td>\n",
       "      <td>67</td>\n",
       "      <td>72</td>\n",
       "      <td>65</td>\n",
       "      <td>296</td>\n",
       "      <td>74.00</td>\n",
       "      <td>A</td>\n",
       "    </tr>\n",
       "    <tr>\n",
       "      <th>3</th>\n",
       "      <td>Ali</td>\n",
       "      <td>1040</td>\n",
       "      <td>76</td>\n",
       "      <td>69</td>\n",
       "      <td>71</td>\n",
       "      <td>62</td>\n",
       "      <td>278</td>\n",
       "      <td>69.50</td>\n",
       "      <td>B</td>\n",
       "    </tr>\n",
       "    <tr>\n",
       "      <th>4</th>\n",
       "      <td>Ameen</td>\n",
       "      <td>1050</td>\n",
       "      <td>62</td>\n",
       "      <td>56</td>\n",
       "      <td>66</td>\n",
       "      <td>59</td>\n",
       "      <td>243</td>\n",
       "      <td>60.75</td>\n",
       "      <td>B</td>\n",
       "    </tr>\n",
       "  </tbody>\n",
       "</table>\n",
       "</div>"
      ],
      "text/plain": [
       "           Name  Roll No  Math  Chemistry  Physics  English  Total  \\\n",
       "0  Abdul Rehman     1010    84         79       89       69    321   \n",
       "1      Abdullah     1020    88         70       76       71    305   \n",
       "2         Nasir     1030    92         67       72       65    296   \n",
       "3           Ali     1040    76         69       71       62    278   \n",
       "4         Ameen     1050    62         56       66       59    243   \n",
       "\n",
       "   Percentage Grade  \n",
       "0       80.25    A+  \n",
       "1       76.25     A  \n",
       "2       74.00     A  \n",
       "3       69.50     B  \n",
       "4       60.75     B  "
      ]
     },
     "execution_count": 61,
     "metadata": {},
     "output_type": "execute_result"
    }
   ],
   "source": [
    "df.dropna(axis=1,how='any') #Drop the column which have any nan value"
   ]
  },
  {
   "cell_type": "code",
   "execution_count": 62,
   "id": "e465f159",
   "metadata": {},
   "outputs": [
    {
     "data": {
      "text/html": [
       "<div>\n",
       "<style scoped>\n",
       "    .dataframe tbody tr th:only-of-type {\n",
       "        vertical-align: middle;\n",
       "    }\n",
       "\n",
       "    .dataframe tbody tr th {\n",
       "        vertical-align: top;\n",
       "    }\n",
       "\n",
       "    .dataframe thead th {\n",
       "        text-align: right;\n",
       "    }\n",
       "</style>\n",
       "<table border=\"1\" class=\"dataframe\">\n",
       "  <thead>\n",
       "    <tr style=\"text-align: right;\">\n",
       "      <th></th>\n",
       "      <th>Name</th>\n",
       "      <th>Roll No</th>\n",
       "      <th>Math</th>\n",
       "      <th>Chemistry</th>\n",
       "      <th>Physics</th>\n",
       "      <th>English</th>\n",
       "      <th>Total</th>\n",
       "      <th>Percentage</th>\n",
       "      <th>Grade</th>\n",
       "      <th>Ratio</th>\n",
       "    </tr>\n",
       "  </thead>\n",
       "  <tbody>\n",
       "    <tr>\n",
       "      <th>0</th>\n",
       "      <td>Abdul Rehman</td>\n",
       "      <td>1010</td>\n",
       "      <td>84</td>\n",
       "      <td>79</td>\n",
       "      <td>89</td>\n",
       "      <td>69</td>\n",
       "      <td>321</td>\n",
       "      <td>80.25</td>\n",
       "      <td>A+</td>\n",
       "      <td>2.0</td>\n",
       "    </tr>\n",
       "    <tr>\n",
       "      <th>1</th>\n",
       "      <td>Abdullah</td>\n",
       "      <td>1020</td>\n",
       "      <td>88</td>\n",
       "      <td>70</td>\n",
       "      <td>76</td>\n",
       "      <td>71</td>\n",
       "      <td>305</td>\n",
       "      <td>76.25</td>\n",
       "      <td>A</td>\n",
       "      <td>7.0</td>\n",
       "    </tr>\n",
       "    <tr>\n",
       "      <th>2</th>\n",
       "      <td>Nasir</td>\n",
       "      <td>1030</td>\n",
       "      <td>92</td>\n",
       "      <td>67</td>\n",
       "      <td>72</td>\n",
       "      <td>65</td>\n",
       "      <td>296</td>\n",
       "      <td>74.00</td>\n",
       "      <td>A</td>\n",
       "      <td>NaN</td>\n",
       "    </tr>\n",
       "    <tr>\n",
       "      <th>3</th>\n",
       "      <td>Ali</td>\n",
       "      <td>1040</td>\n",
       "      <td>76</td>\n",
       "      <td>69</td>\n",
       "      <td>71</td>\n",
       "      <td>62</td>\n",
       "      <td>278</td>\n",
       "      <td>69.50</td>\n",
       "      <td>B</td>\n",
       "      <td>6.0</td>\n",
       "    </tr>\n",
       "    <tr>\n",
       "      <th>4</th>\n",
       "      <td>Ameen</td>\n",
       "      <td>1050</td>\n",
       "      <td>62</td>\n",
       "      <td>56</td>\n",
       "      <td>66</td>\n",
       "      <td>59</td>\n",
       "      <td>243</td>\n",
       "      <td>60.75</td>\n",
       "      <td>B</td>\n",
       "      <td>NaN</td>\n",
       "    </tr>\n",
       "  </tbody>\n",
       "</table>\n",
       "</div>"
      ],
      "text/plain": [
       "           Name  Roll No  Math  Chemistry  Physics  English  Total  \\\n",
       "0  Abdul Rehman     1010    84         79       89       69    321   \n",
       "1      Abdullah     1020    88         70       76       71    305   \n",
       "2         Nasir     1030    92         67       72       65    296   \n",
       "3           Ali     1040    76         69       71       62    278   \n",
       "4         Ameen     1050    62         56       66       59    243   \n",
       "\n",
       "   Percentage Grade  Ratio  \n",
       "0       80.25    A+    2.0  \n",
       "1       76.25     A    7.0  \n",
       "2       74.00     A    NaN  \n",
       "3       69.50     B    6.0  \n",
       "4       60.75     B    NaN  "
      ]
     },
     "execution_count": 62,
     "metadata": {},
     "output_type": "execute_result"
    }
   ],
   "source": [
    "df.dropna(axis=1,how='all') #Drop the column have all nan values"
   ]
  },
  {
   "cell_type": "code",
   "execution_count": 64,
   "id": "b5e0d690",
   "metadata": {},
   "outputs": [
    {
     "data": {
      "text/html": [
       "<div>\n",
       "<style scoped>\n",
       "    .dataframe tbody tr th:only-of-type {\n",
       "        vertical-align: middle;\n",
       "    }\n",
       "\n",
       "    .dataframe tbody tr th {\n",
       "        vertical-align: top;\n",
       "    }\n",
       "\n",
       "    .dataframe thead th {\n",
       "        text-align: right;\n",
       "    }\n",
       "</style>\n",
       "<table border=\"1\" class=\"dataframe\">\n",
       "  <thead>\n",
       "    <tr style=\"text-align: right;\">\n",
       "      <th></th>\n",
       "      <th>Name</th>\n",
       "      <th>Roll No</th>\n",
       "      <th>Math</th>\n",
       "      <th>Chemistry</th>\n",
       "      <th>Physics</th>\n",
       "      <th>English</th>\n",
       "      <th>Total</th>\n",
       "      <th>Percentage</th>\n",
       "      <th>Grade</th>\n",
       "      <th>Ratio</th>\n",
       "    </tr>\n",
       "  </thead>\n",
       "  <tbody>\n",
       "    <tr>\n",
       "      <th>0</th>\n",
       "      <td>Abdul Rehman</td>\n",
       "      <td>1010</td>\n",
       "      <td>84</td>\n",
       "      <td>79</td>\n",
       "      <td>89</td>\n",
       "      <td>69</td>\n",
       "      <td>321</td>\n",
       "      <td>80.25</td>\n",
       "      <td>A+</td>\n",
       "      <td>2.0</td>\n",
       "    </tr>\n",
       "    <tr>\n",
       "      <th>1</th>\n",
       "      <td>Abdullah</td>\n",
       "      <td>1020</td>\n",
       "      <td>88</td>\n",
       "      <td>70</td>\n",
       "      <td>76</td>\n",
       "      <td>71</td>\n",
       "      <td>305</td>\n",
       "      <td>76.25</td>\n",
       "      <td>A</td>\n",
       "      <td>7.0</td>\n",
       "    </tr>\n",
       "    <tr>\n",
       "      <th>2</th>\n",
       "      <td>Nasir</td>\n",
       "      <td>1030</td>\n",
       "      <td>92</td>\n",
       "      <td>67</td>\n",
       "      <td>72</td>\n",
       "      <td>65</td>\n",
       "      <td>296</td>\n",
       "      <td>74.00</td>\n",
       "      <td>A</td>\n",
       "      <td>NaN</td>\n",
       "    </tr>\n",
       "    <tr>\n",
       "      <th>3</th>\n",
       "      <td>Ali</td>\n",
       "      <td>1040</td>\n",
       "      <td>76</td>\n",
       "      <td>69</td>\n",
       "      <td>71</td>\n",
       "      <td>62</td>\n",
       "      <td>278</td>\n",
       "      <td>69.50</td>\n",
       "      <td>B</td>\n",
       "      <td>6.0</td>\n",
       "    </tr>\n",
       "    <tr>\n",
       "      <th>4</th>\n",
       "      <td>Ameen</td>\n",
       "      <td>1050</td>\n",
       "      <td>62</td>\n",
       "      <td>56</td>\n",
       "      <td>66</td>\n",
       "      <td>59</td>\n",
       "      <td>243</td>\n",
       "      <td>60.75</td>\n",
       "      <td>B</td>\n",
       "      <td>NaN</td>\n",
       "    </tr>\n",
       "  </tbody>\n",
       "</table>\n",
       "</div>"
      ],
      "text/plain": [
       "           Name  Roll No  Math  Chemistry  Physics  English  Total  \\\n",
       "0  Abdul Rehman     1010    84         79       89       69    321   \n",
       "1      Abdullah     1020    88         70       76       71    305   \n",
       "2         Nasir     1030    92         67       72       65    296   \n",
       "3           Ali     1040    76         69       71       62    278   \n",
       "4         Ameen     1050    62         56       66       59    243   \n",
       "\n",
       "   Percentage Grade  Ratio  \n",
       "0       80.25    A+    2.0  \n",
       "1       76.25     A    7.0  \n",
       "2       74.00     A    NaN  \n",
       "3       69.50     B    6.0  \n",
       "4       60.75     B    NaN  "
      ]
     },
     "execution_count": 64,
     "metadata": {},
     "output_type": "execute_result"
    }
   ],
   "source": [
    "df.dropna(axis=1,thresh=3) #Drop the column have nan values, greater then or equal to threshhold values  "
   ]
  },
  {
   "cell_type": "code",
   "execution_count": 70,
   "id": "6b2edfce",
   "metadata": {},
   "outputs": [
    {
     "data": {
      "text/html": [
       "<div>\n",
       "<style scoped>\n",
       "    .dataframe tbody tr th:only-of-type {\n",
       "        vertical-align: middle;\n",
       "    }\n",
       "\n",
       "    .dataframe tbody tr th {\n",
       "        vertical-align: top;\n",
       "    }\n",
       "\n",
       "    .dataframe thead th {\n",
       "        text-align: right;\n",
       "    }\n",
       "</style>\n",
       "<table border=\"1\" class=\"dataframe\">\n",
       "  <thead>\n",
       "    <tr style=\"text-align: right;\">\n",
       "      <th></th>\n",
       "      <th>Name</th>\n",
       "      <th>Roll No</th>\n",
       "      <th>Math</th>\n",
       "      <th>Chemistry</th>\n",
       "      <th>Physics</th>\n",
       "      <th>English</th>\n",
       "      <th>Total</th>\n",
       "      <th>Percentage</th>\n",
       "      <th>Grade</th>\n",
       "    </tr>\n",
       "  </thead>\n",
       "  <tbody>\n",
       "    <tr>\n",
       "      <th>0</th>\n",
       "      <td>Abdul Rehman</td>\n",
       "      <td>1010</td>\n",
       "      <td>84</td>\n",
       "      <td>79</td>\n",
       "      <td>89</td>\n",
       "      <td>69</td>\n",
       "      <td>321</td>\n",
       "      <td>80.25</td>\n",
       "      <td>A+</td>\n",
       "    </tr>\n",
       "    <tr>\n",
       "      <th>1</th>\n",
       "      <td>Abdullah</td>\n",
       "      <td>1020</td>\n",
       "      <td>88</td>\n",
       "      <td>70</td>\n",
       "      <td>76</td>\n",
       "      <td>71</td>\n",
       "      <td>305</td>\n",
       "      <td>76.25</td>\n",
       "      <td>A</td>\n",
       "    </tr>\n",
       "    <tr>\n",
       "      <th>2</th>\n",
       "      <td>Nasir</td>\n",
       "      <td>1030</td>\n",
       "      <td>92</td>\n",
       "      <td>67</td>\n",
       "      <td>72</td>\n",
       "      <td>65</td>\n",
       "      <td>296</td>\n",
       "      <td>74.00</td>\n",
       "      <td>A</td>\n",
       "    </tr>\n",
       "    <tr>\n",
       "      <th>3</th>\n",
       "      <td>Ali</td>\n",
       "      <td>1040</td>\n",
       "      <td>76</td>\n",
       "      <td>69</td>\n",
       "      <td>71</td>\n",
       "      <td>62</td>\n",
       "      <td>278</td>\n",
       "      <td>69.50</td>\n",
       "      <td>B</td>\n",
       "    </tr>\n",
       "    <tr>\n",
       "      <th>4</th>\n",
       "      <td>Ameen</td>\n",
       "      <td>1050</td>\n",
       "      <td>62</td>\n",
       "      <td>56</td>\n",
       "      <td>66</td>\n",
       "      <td>59</td>\n",
       "      <td>243</td>\n",
       "      <td>60.75</td>\n",
       "      <td>B</td>\n",
       "    </tr>\n",
       "  </tbody>\n",
       "</table>\n",
       "</div>"
      ],
      "text/plain": [
       "           Name  Roll No  Math  Chemistry  Physics  English  Total  \\\n",
       "0  Abdul Rehman     1010    84         79       89       69    321   \n",
       "1      Abdullah     1020    88         70       76       71    305   \n",
       "2         Nasir     1030    92         67       72       65    296   \n",
       "3           Ali     1040    76         69       71       62    278   \n",
       "4         Ameen     1050    62         56       66       59    243   \n",
       "\n",
       "   Percentage Grade  \n",
       "0       80.25    A+  \n",
       "1       76.25     A  \n",
       "2       74.00     A  \n",
       "3       69.50     B  \n",
       "4       60.75     B  "
      ]
     },
     "execution_count": 70,
     "metadata": {},
     "output_type": "execute_result"
    }
   ],
   "source": [
    "df.dropna(axis=1,thresh=4)"
   ]
  },
  {
   "cell_type": "markdown",
   "id": "4fe2d7f3",
   "metadata": {},
   "source": [
    "# Selection With loc And iloc"
   ]
  },
  {
   "cell_type": "markdown",
   "id": "b0350d5f",
   "metadata": {},
   "source": [
    "1. loc: wise customized index\n",
    "2. iloc: integer location index    "
   ]
  },
  {
   "cell_type": "code",
   "execution_count": 1,
   "id": "f42b046f",
   "metadata": {},
   "outputs": [],
   "source": [
    "import numpy as np\n",
    "import pandas as pd"
   ]
  },
  {
   "cell_type": "code",
   "execution_count": 2,
   "id": "57203304",
   "metadata": {},
   "outputs": [],
   "source": [
    "df=pd.DataFrame(np.arange(16).reshape(4,4),\n",
    "               index=['Karachi','Lahore','Islamabad','Abbottabad'],\n",
    "               columns=['one','two','three','four'])"
   ]
  },
  {
   "cell_type": "code",
   "execution_count": 3,
   "id": "d0786d50",
   "metadata": {},
   "outputs": [
    {
     "data": {
      "text/html": [
       "<div>\n",
       "<style scoped>\n",
       "    .dataframe tbody tr th:only-of-type {\n",
       "        vertical-align: middle;\n",
       "    }\n",
       "\n",
       "    .dataframe tbody tr th {\n",
       "        vertical-align: top;\n",
       "    }\n",
       "\n",
       "    .dataframe thead th {\n",
       "        text-align: right;\n",
       "    }\n",
       "</style>\n",
       "<table border=\"1\" class=\"dataframe\">\n",
       "  <thead>\n",
       "    <tr style=\"text-align: right;\">\n",
       "      <th></th>\n",
       "      <th>one</th>\n",
       "      <th>two</th>\n",
       "      <th>three</th>\n",
       "      <th>four</th>\n",
       "    </tr>\n",
       "  </thead>\n",
       "  <tbody>\n",
       "    <tr>\n",
       "      <th>Karachi</th>\n",
       "      <td>0</td>\n",
       "      <td>1</td>\n",
       "      <td>2</td>\n",
       "      <td>3</td>\n",
       "    </tr>\n",
       "    <tr>\n",
       "      <th>Lahore</th>\n",
       "      <td>4</td>\n",
       "      <td>5</td>\n",
       "      <td>6</td>\n",
       "      <td>7</td>\n",
       "    </tr>\n",
       "    <tr>\n",
       "      <th>Islamabad</th>\n",
       "      <td>8</td>\n",
       "      <td>9</td>\n",
       "      <td>10</td>\n",
       "      <td>11</td>\n",
       "    </tr>\n",
       "    <tr>\n",
       "      <th>Abbottabad</th>\n",
       "      <td>12</td>\n",
       "      <td>13</td>\n",
       "      <td>14</td>\n",
       "      <td>15</td>\n",
       "    </tr>\n",
       "  </tbody>\n",
       "</table>\n",
       "</div>"
      ],
      "text/plain": [
       "            one  two  three  four\n",
       "Karachi       0    1      2     3\n",
       "Lahore        4    5      6     7\n",
       "Islamabad     8    9     10    11\n",
       "Abbottabad   12   13     14    15"
      ]
     },
     "execution_count": 3,
     "metadata": {},
     "output_type": "execute_result"
    }
   ],
   "source": [
    "df"
   ]
  },
  {
   "cell_type": "code",
   "execution_count": 4,
   "id": "6888df06",
   "metadata": {},
   "outputs": [
    {
     "data": {
      "text/plain": [
       "one       8\n",
       "two       9\n",
       "three    10\n",
       "four     11\n",
       "Name: Islamabad, dtype: int32"
      ]
     },
     "execution_count": 4,
     "metadata": {},
     "output_type": "execute_result"
    }
   ],
   "source": [
    "df.loc['Islamabad']"
   ]
  },
  {
   "cell_type": "code",
   "execution_count": 5,
   "id": "a2915fb5",
   "metadata": {},
   "outputs": [
    {
     "data": {
      "text/plain": [
       "one      0\n",
       "two      1\n",
       "three    2\n",
       "four     3\n",
       "Name: Karachi, dtype: int32"
      ]
     },
     "execution_count": 5,
     "metadata": {},
     "output_type": "execute_result"
    }
   ],
   "source": [
    "df.iloc[0]"
   ]
  },
  {
   "cell_type": "code",
   "execution_count": 7,
   "id": "ba980606",
   "metadata": {},
   "outputs": [
    {
     "data": {
      "text/html": [
       "<div>\n",
       "<style scoped>\n",
       "    .dataframe tbody tr th:only-of-type {\n",
       "        vertical-align: middle;\n",
       "    }\n",
       "\n",
       "    .dataframe tbody tr th {\n",
       "        vertical-align: top;\n",
       "    }\n",
       "\n",
       "    .dataframe thead th {\n",
       "        text-align: right;\n",
       "    }\n",
       "</style>\n",
       "<table border=\"1\" class=\"dataframe\">\n",
       "  <thead>\n",
       "    <tr style=\"text-align: right;\">\n",
       "      <th></th>\n",
       "      <th>two</th>\n",
       "      <th>three</th>\n",
       "      <th>four</th>\n",
       "    </tr>\n",
       "  </thead>\n",
       "  <tbody>\n",
       "    <tr>\n",
       "      <th>Karachi</th>\n",
       "      <td>1</td>\n",
       "      <td>2</td>\n",
       "      <td>3</td>\n",
       "    </tr>\n",
       "    <tr>\n",
       "      <th>Lahore</th>\n",
       "      <td>5</td>\n",
       "      <td>6</td>\n",
       "      <td>7</td>\n",
       "    </tr>\n",
       "    <tr>\n",
       "      <th>Islamabad</th>\n",
       "      <td>9</td>\n",
       "      <td>10</td>\n",
       "      <td>11</td>\n",
       "    </tr>\n",
       "  </tbody>\n",
       "</table>\n",
       "</div>"
      ],
      "text/plain": [
       "           two  three  four\n",
       "Karachi      1      2     3\n",
       "Lahore       5      6     7\n",
       "Islamabad    9     10    11"
      ]
     },
     "execution_count": 7,
     "metadata": {},
     "output_type": "execute_result"
    }
   ],
   "source": [
    "df.loc['Karachi':'Islamabad','two':'four']"
   ]
  },
  {
   "cell_type": "code",
   "execution_count": 9,
   "id": "2a7eda17",
   "metadata": {},
   "outputs": [
    {
     "data": {
      "text/html": [
       "<div>\n",
       "<style scoped>\n",
       "    .dataframe tbody tr th:only-of-type {\n",
       "        vertical-align: middle;\n",
       "    }\n",
       "\n",
       "    .dataframe tbody tr th {\n",
       "        vertical-align: top;\n",
       "    }\n",
       "\n",
       "    .dataframe thead th {\n",
       "        text-align: right;\n",
       "    }\n",
       "</style>\n",
       "<table border=\"1\" class=\"dataframe\">\n",
       "  <thead>\n",
       "    <tr style=\"text-align: right;\">\n",
       "      <th></th>\n",
       "      <th>one</th>\n",
       "      <th>two</th>\n",
       "      <th>three</th>\n",
       "      <th>four</th>\n",
       "    </tr>\n",
       "  </thead>\n",
       "  <tbody>\n",
       "    <tr>\n",
       "      <th>Lahore</th>\n",
       "      <td>4</td>\n",
       "      <td>5</td>\n",
       "      <td>6</td>\n",
       "      <td>7</td>\n",
       "    </tr>\n",
       "    <tr>\n",
       "      <th>Islamabad</th>\n",
       "      <td>8</td>\n",
       "      <td>9</td>\n",
       "      <td>10</td>\n",
       "      <td>11</td>\n",
       "    </tr>\n",
       "    <tr>\n",
       "      <th>Abbottabad</th>\n",
       "      <td>12</td>\n",
       "      <td>13</td>\n",
       "      <td>14</td>\n",
       "      <td>15</td>\n",
       "    </tr>\n",
       "  </tbody>\n",
       "</table>\n",
       "</div>"
      ],
      "text/plain": [
       "            one  two  three  four\n",
       "Lahore        4    5      6     7\n",
       "Islamabad     8    9     10    11\n",
       "Abbottabad   12   13     14    15"
      ]
     },
     "execution_count": 9,
     "metadata": {},
     "output_type": "execute_result"
    }
   ],
   "source": [
    "df.iloc[1:4,:]"
   ]
  },
  {
   "cell_type": "markdown",
   "id": "b46f2457",
   "metadata": {},
   "source": [
    "# Arthematic Methods with Fill Values"
   ]
  },
  {
   "cell_type": "code",
   "execution_count": 15,
   "id": "0da75ce0",
   "metadata": {},
   "outputs": [
    {
     "data": {
      "text/html": [
       "<div>\n",
       "<style scoped>\n",
       "    .dataframe tbody tr th:only-of-type {\n",
       "        vertical-align: middle;\n",
       "    }\n",
       "\n",
       "    .dataframe tbody tr th {\n",
       "        vertical-align: top;\n",
       "    }\n",
       "\n",
       "    .dataframe thead th {\n",
       "        text-align: right;\n",
       "    }\n",
       "</style>\n",
       "<table border=\"1\" class=\"dataframe\">\n",
       "  <thead>\n",
       "    <tr style=\"text-align: right;\">\n",
       "      <th></th>\n",
       "      <th>A</th>\n",
       "      <th>B</th>\n",
       "      <th>C</th>\n",
       "      <th>D</th>\n",
       "    </tr>\n",
       "  </thead>\n",
       "  <tbody>\n",
       "    <tr>\n",
       "      <th>0</th>\n",
       "      <td>0.0</td>\n",
       "      <td>1.0</td>\n",
       "      <td>2.0</td>\n",
       "      <td>3.0</td>\n",
       "    </tr>\n",
       "    <tr>\n",
       "      <th>1</th>\n",
       "      <td>4.0</td>\n",
       "      <td>5.0</td>\n",
       "      <td>6.0</td>\n",
       "      <td>7.0</td>\n",
       "    </tr>\n",
       "    <tr>\n",
       "      <th>2</th>\n",
       "      <td>8.0</td>\n",
       "      <td>9.0</td>\n",
       "      <td>10.0</td>\n",
       "      <td>11.0</td>\n",
       "    </tr>\n",
       "  </tbody>\n",
       "</table>\n",
       "</div>"
      ],
      "text/plain": [
       "     A    B     C     D\n",
       "0  0.0  1.0   2.0   3.0\n",
       "1  4.0  5.0   6.0   7.0\n",
       "2  8.0  9.0  10.0  11.0"
      ]
     },
     "execution_count": 15,
     "metadata": {},
     "output_type": "execute_result"
    }
   ],
   "source": [
    "df1=pd.DataFrame(np.arange(12.).reshape((3,4)),columns=list('ABCD'))\n",
    "df1"
   ]
  },
  {
   "cell_type": "code",
   "execution_count": 17,
   "id": "29112b75",
   "metadata": {},
   "outputs": [
    {
     "data": {
      "text/html": [
       "<div>\n",
       "<style scoped>\n",
       "    .dataframe tbody tr th:only-of-type {\n",
       "        vertical-align: middle;\n",
       "    }\n",
       "\n",
       "    .dataframe tbody tr th {\n",
       "        vertical-align: top;\n",
       "    }\n",
       "\n",
       "    .dataframe thead th {\n",
       "        text-align: right;\n",
       "    }\n",
       "</style>\n",
       "<table border=\"1\" class=\"dataframe\">\n",
       "  <thead>\n",
       "    <tr style=\"text-align: right;\">\n",
       "      <th></th>\n",
       "      <th>A</th>\n",
       "      <th>B</th>\n",
       "      <th>C</th>\n",
       "      <th>D</th>\n",
       "      <th>E</th>\n",
       "    </tr>\n",
       "  </thead>\n",
       "  <tbody>\n",
       "    <tr>\n",
       "      <th>0</th>\n",
       "      <td>0.0</td>\n",
       "      <td>1.0</td>\n",
       "      <td>2.0</td>\n",
       "      <td>3.0</td>\n",
       "      <td>4.0</td>\n",
       "    </tr>\n",
       "    <tr>\n",
       "      <th>1</th>\n",
       "      <td>5.0</td>\n",
       "      <td>6.0</td>\n",
       "      <td>7.0</td>\n",
       "      <td>8.0</td>\n",
       "      <td>9.0</td>\n",
       "    </tr>\n",
       "    <tr>\n",
       "      <th>2</th>\n",
       "      <td>10.0</td>\n",
       "      <td>11.0</td>\n",
       "      <td>12.0</td>\n",
       "      <td>13.0</td>\n",
       "      <td>14.0</td>\n",
       "    </tr>\n",
       "    <tr>\n",
       "      <th>3</th>\n",
       "      <td>15.0</td>\n",
       "      <td>16.0</td>\n",
       "      <td>17.0</td>\n",
       "      <td>18.0</td>\n",
       "      <td>19.0</td>\n",
       "    </tr>\n",
       "  </tbody>\n",
       "</table>\n",
       "</div>"
      ],
      "text/plain": [
       "      A     B     C     D     E\n",
       "0   0.0   1.0   2.0   3.0   4.0\n",
       "1   5.0   6.0   7.0   8.0   9.0\n",
       "2  10.0  11.0  12.0  13.0  14.0\n",
       "3  15.0  16.0  17.0  18.0  19.0"
      ]
     },
     "execution_count": 17,
     "metadata": {},
     "output_type": "execute_result"
    }
   ],
   "source": [
    "df2=pd.DataFrame(np.arange(20.).reshape(4,5),columns=list('ABCDE'))\n",
    "df2"
   ]
  },
  {
   "cell_type": "code",
   "execution_count": 20,
   "id": "01693672",
   "metadata": {},
   "outputs": [
    {
     "data": {
      "text/html": [
       "<div>\n",
       "<style scoped>\n",
       "    .dataframe tbody tr th:only-of-type {\n",
       "        vertical-align: middle;\n",
       "    }\n",
       "\n",
       "    .dataframe tbody tr th {\n",
       "        vertical-align: top;\n",
       "    }\n",
       "\n",
       "    .dataframe thead th {\n",
       "        text-align: right;\n",
       "    }\n",
       "</style>\n",
       "<table border=\"1\" class=\"dataframe\">\n",
       "  <thead>\n",
       "    <tr style=\"text-align: right;\">\n",
       "      <th></th>\n",
       "      <th>A</th>\n",
       "      <th>B</th>\n",
       "      <th>C</th>\n",
       "      <th>D</th>\n",
       "      <th>E</th>\n",
       "    </tr>\n",
       "  </thead>\n",
       "  <tbody>\n",
       "    <tr>\n",
       "      <th>0</th>\n",
       "      <td>0.0</td>\n",
       "      <td>2.0</td>\n",
       "      <td>4.0</td>\n",
       "      <td>6.0</td>\n",
       "      <td>NaN</td>\n",
       "    </tr>\n",
       "    <tr>\n",
       "      <th>1</th>\n",
       "      <td>9.0</td>\n",
       "      <td>11.0</td>\n",
       "      <td>13.0</td>\n",
       "      <td>15.0</td>\n",
       "      <td>NaN</td>\n",
       "    </tr>\n",
       "    <tr>\n",
       "      <th>2</th>\n",
       "      <td>18.0</td>\n",
       "      <td>20.0</td>\n",
       "      <td>22.0</td>\n",
       "      <td>24.0</td>\n",
       "      <td>NaN</td>\n",
       "    </tr>\n",
       "    <tr>\n",
       "      <th>3</th>\n",
       "      <td>NaN</td>\n",
       "      <td>NaN</td>\n",
       "      <td>NaN</td>\n",
       "      <td>NaN</td>\n",
       "      <td>NaN</td>\n",
       "    </tr>\n",
       "  </tbody>\n",
       "</table>\n",
       "</div>"
      ],
      "text/plain": [
       "      A     B     C     D   E\n",
       "0   0.0   2.0   4.0   6.0 NaN\n",
       "1   9.0  11.0  13.0  15.0 NaN\n",
       "2  18.0  20.0  22.0  24.0 NaN\n",
       "3   NaN   NaN   NaN   NaN NaN"
      ]
     },
     "execution_count": 20,
     "metadata": {},
     "output_type": "execute_result"
    }
   ],
   "source": [
    "df3=df1+df2\n",
    "df3"
   ]
  },
  {
   "cell_type": "markdown",
   "id": "7bed7c04",
   "metadata": {},
   "source": [
    "# Lambda Function in DataFrame"
   ]
  },
  {
   "cell_type": "code",
   "execution_count": 24,
   "id": "34c7e355",
   "metadata": {},
   "outputs": [
    {
     "data": {
      "text/html": [
       "<div>\n",
       "<style scoped>\n",
       "    .dataframe tbody tr th:only-of-type {\n",
       "        vertical-align: middle;\n",
       "    }\n",
       "\n",
       "    .dataframe tbody tr th {\n",
       "        vertical-align: top;\n",
       "    }\n",
       "\n",
       "    .dataframe thead th {\n",
       "        text-align: right;\n",
       "    }\n",
       "</style>\n",
       "<table border=\"1\" class=\"dataframe\">\n",
       "  <thead>\n",
       "    <tr style=\"text-align: right;\">\n",
       "      <th></th>\n",
       "      <th>A</th>\n",
       "      <th>B</th>\n",
       "      <th>C</th>\n",
       "      <th>D</th>\n",
       "      <th>E</th>\n",
       "    </tr>\n",
       "  </thead>\n",
       "  <tbody>\n",
       "    <tr>\n",
       "      <th>0</th>\n",
       "      <td>0.0</td>\n",
       "      <td>1.0</td>\n",
       "      <td>2.0</td>\n",
       "      <td>3.0</td>\n",
       "      <td>4.0</td>\n",
       "    </tr>\n",
       "    <tr>\n",
       "      <th>1</th>\n",
       "      <td>5.0</td>\n",
       "      <td>6.0</td>\n",
       "      <td>7.0</td>\n",
       "      <td>8.0</td>\n",
       "      <td>9.0</td>\n",
       "    </tr>\n",
       "    <tr>\n",
       "      <th>2</th>\n",
       "      <td>10.0</td>\n",
       "      <td>11.0</td>\n",
       "      <td>12.0</td>\n",
       "      <td>13.0</td>\n",
       "      <td>14.0</td>\n",
       "    </tr>\n",
       "    <tr>\n",
       "      <th>3</th>\n",
       "      <td>15.0</td>\n",
       "      <td>16.0</td>\n",
       "      <td>17.0</td>\n",
       "      <td>18.0</td>\n",
       "      <td>19.0</td>\n",
       "    </tr>\n",
       "  </tbody>\n",
       "</table>\n",
       "</div>"
      ],
      "text/plain": [
       "      A     B     C     D     E\n",
       "0   0.0   1.0   2.0   3.0   4.0\n",
       "1   5.0   6.0   7.0   8.0   9.0\n",
       "2  10.0  11.0  12.0  13.0  14.0\n",
       "3  15.0  16.0  17.0  18.0  19.0"
      ]
     },
     "execution_count": 24,
     "metadata": {},
     "output_type": "execute_result"
    }
   ],
   "source": [
    "df2"
   ]
  },
  {
   "cell_type": "code",
   "execution_count": 29,
   "id": "582ded7a",
   "metadata": {},
   "outputs": [
    {
     "data": {
      "text/html": [
       "<div>\n",
       "<style scoped>\n",
       "    .dataframe tbody tr th:only-of-type {\n",
       "        vertical-align: middle;\n",
       "    }\n",
       "\n",
       "    .dataframe tbody tr th {\n",
       "        vertical-align: top;\n",
       "    }\n",
       "\n",
       "    .dataframe thead th {\n",
       "        text-align: right;\n",
       "    }\n",
       "</style>\n",
       "<table border=\"1\" class=\"dataframe\">\n",
       "  <thead>\n",
       "    <tr style=\"text-align: right;\">\n",
       "      <th></th>\n",
       "      <th>A</th>\n",
       "      <th>B</th>\n",
       "      <th>C</th>\n",
       "      <th>D</th>\n",
       "      <th>E</th>\n",
       "    </tr>\n",
       "  </thead>\n",
       "  <tbody>\n",
       "    <tr>\n",
       "      <th>0</th>\n",
       "      <td>0.0</td>\n",
       "      <td>1.0</td>\n",
       "      <td>2.0</td>\n",
       "      <td>3.0</td>\n",
       "      <td>400.0</td>\n",
       "    </tr>\n",
       "    <tr>\n",
       "      <th>1</th>\n",
       "      <td>5.0</td>\n",
       "      <td>6.0</td>\n",
       "      <td>7.0</td>\n",
       "      <td>8.0</td>\n",
       "      <td>900.0</td>\n",
       "    </tr>\n",
       "    <tr>\n",
       "      <th>2</th>\n",
       "      <td>10.0</td>\n",
       "      <td>11.0</td>\n",
       "      <td>12.0</td>\n",
       "      <td>13.0</td>\n",
       "      <td>1400.0</td>\n",
       "    </tr>\n",
       "    <tr>\n",
       "      <th>3</th>\n",
       "      <td>15.0</td>\n",
       "      <td>16.0</td>\n",
       "      <td>17.0</td>\n",
       "      <td>18.0</td>\n",
       "      <td>1900.0</td>\n",
       "    </tr>\n",
       "  </tbody>\n",
       "</table>\n",
       "</div>"
      ],
      "text/plain": [
       "      A     B     C     D       E\n",
       "0   0.0   1.0   2.0   3.0   400.0\n",
       "1   5.0   6.0   7.0   8.0   900.0\n",
       "2  10.0  11.0  12.0  13.0  1400.0\n",
       "3  15.0  16.0  17.0  18.0  1900.0"
      ]
     },
     "execution_count": 29,
     "metadata": {},
     "output_type": "execute_result"
    }
   ],
   "source": [
    "df2.E=df2.E.apply(lambda x:x*10)\n",
    "df2"
   ]
  },
  {
   "cell_type": "code",
   "execution_count": 31,
   "id": "cf51bead",
   "metadata": {},
   "outputs": [
    {
     "data": {
      "text/html": [
       "<div>\n",
       "<style scoped>\n",
       "    .dataframe tbody tr th:only-of-type {\n",
       "        vertical-align: middle;\n",
       "    }\n",
       "\n",
       "    .dataframe tbody tr th {\n",
       "        vertical-align: top;\n",
       "    }\n",
       "\n",
       "    .dataframe thead th {\n",
       "        text-align: right;\n",
       "    }\n",
       "</style>\n",
       "<table border=\"1\" class=\"dataframe\">\n",
       "  <thead>\n",
       "    <tr style=\"text-align: right;\">\n",
       "      <th></th>\n",
       "      <th>A</th>\n",
       "      <th>B</th>\n",
       "      <th>C</th>\n",
       "      <th>D</th>\n",
       "      <th>E</th>\n",
       "      <th>Status</th>\n",
       "    </tr>\n",
       "  </thead>\n",
       "  <tbody>\n",
       "    <tr>\n",
       "      <th>0</th>\n",
       "      <td>0.0</td>\n",
       "      <td>1.0</td>\n",
       "      <td>2.0</td>\n",
       "      <td>3.0</td>\n",
       "      <td>400.0</td>\n",
       "      <td>Error</td>\n",
       "    </tr>\n",
       "    <tr>\n",
       "      <th>1</th>\n",
       "      <td>5.0</td>\n",
       "      <td>6.0</td>\n",
       "      <td>7.0</td>\n",
       "      <td>8.0</td>\n",
       "      <td>900.0</td>\n",
       "      <td>Perfect</td>\n",
       "    </tr>\n",
       "    <tr>\n",
       "      <th>2</th>\n",
       "      <td>10.0</td>\n",
       "      <td>11.0</td>\n",
       "      <td>12.0</td>\n",
       "      <td>13.0</td>\n",
       "      <td>1400.0</td>\n",
       "      <td>Error</td>\n",
       "    </tr>\n",
       "    <tr>\n",
       "      <th>3</th>\n",
       "      <td>15.0</td>\n",
       "      <td>16.0</td>\n",
       "      <td>17.0</td>\n",
       "      <td>18.0</td>\n",
       "      <td>1900.0</td>\n",
       "      <td>Error</td>\n",
       "    </tr>\n",
       "  </tbody>\n",
       "</table>\n",
       "</div>"
      ],
      "text/plain": [
       "      A     B     C     D       E   Status\n",
       "0   0.0   1.0   2.0   3.0   400.0    Error\n",
       "1   5.0   6.0   7.0   8.0   900.0  Perfect\n",
       "2  10.0  11.0  12.0  13.0  1400.0    Error\n",
       "3  15.0  16.0  17.0  18.0  1900.0    Error"
      ]
     },
     "execution_count": 31,
     "metadata": {},
     "output_type": "execute_result"
    }
   ],
   "source": [
    "df2['Status']=df2.E.apply(lambda x: \"Perfect\" if x%30==0 else \"Error\")\n",
    "df2"
   ]
  },
  {
   "cell_type": "code",
   "execution_count": 32,
   "id": "5caf805c",
   "metadata": {},
   "outputs": [
    {
     "data": {
      "text/html": [
       "<div>\n",
       "<style scoped>\n",
       "    .dataframe tbody tr th:only-of-type {\n",
       "        vertical-align: middle;\n",
       "    }\n",
       "\n",
       "    .dataframe tbody tr th {\n",
       "        vertical-align: top;\n",
       "    }\n",
       "\n",
       "    .dataframe thead th {\n",
       "        text-align: right;\n",
       "    }\n",
       "</style>\n",
       "<table border=\"1\" class=\"dataframe\">\n",
       "  <thead>\n",
       "    <tr style=\"text-align: right;\">\n",
       "      <th></th>\n",
       "      <th>id</th>\n",
       "      <th>employee name</th>\n",
       "      <th>employee age</th>\n",
       "      <th>per month salary of employee</th>\n",
       "      <th>Every employee Depart</th>\n",
       "      <th>Employee year of Service</th>\n",
       "    </tr>\n",
       "  </thead>\n",
       "  <tbody>\n",
       "    <tr>\n",
       "      <th>0</th>\n",
       "      <td>123</td>\n",
       "      <td>Kamal</td>\n",
       "      <td>23.0</td>\n",
       "      <td>30.0</td>\n",
       "      <td>Prod</td>\n",
       "      <td>5.0</td>\n",
       "    </tr>\n",
       "    <tr>\n",
       "      <th>1</th>\n",
       "      <td>NaN</td>\n",
       "      <td>Hassan</td>\n",
       "      <td>34.0</td>\n",
       "      <td>NaN</td>\n",
       "      <td>NaN</td>\n",
       "      <td>6.0</td>\n",
       "    </tr>\n",
       "    <tr>\n",
       "      <th>2</th>\n",
       "      <td>124</td>\n",
       "      <td>Umer</td>\n",
       "      <td>54.0</td>\n",
       "      <td>56.0</td>\n",
       "      <td>Supply</td>\n",
       "      <td>7.0</td>\n",
       "    </tr>\n",
       "    <tr>\n",
       "      <th>3</th>\n",
       "      <td>125</td>\n",
       "      <td>NaN</td>\n",
       "      <td>34.0</td>\n",
       "      <td>30.0</td>\n",
       "      <td>Accounts</td>\n",
       "      <td>2.0</td>\n",
       "    </tr>\n",
       "    <tr>\n",
       "      <th>4</th>\n",
       "      <td>126</td>\n",
       "      <td>Ali</td>\n",
       "      <td>21.0</td>\n",
       "      <td>89.0</td>\n",
       "      <td>Accounts</td>\n",
       "      <td>1.0</td>\n",
       "    </tr>\n",
       "    <tr>\n",
       "      <th>5</th>\n",
       "      <td>127</td>\n",
       "      <td>Taqi</td>\n",
       "      <td>45.0</td>\n",
       "      <td>45.0</td>\n",
       "      <td>Prod</td>\n",
       "      <td>9.0</td>\n",
       "    </tr>\n",
       "    <tr>\n",
       "      <th>6</th>\n",
       "      <td>128</td>\n",
       "      <td>Zain</td>\n",
       "      <td>NaN</td>\n",
       "      <td>90.0</td>\n",
       "      <td>Prod</td>\n",
       "      <td>NaN</td>\n",
       "    </tr>\n",
       "  </tbody>\n",
       "</table>\n",
       "</div>"
      ],
      "text/plain": [
       "    id employee name  employee age  per month salary of employee  \\\n",
       "0  123         Kamal          23.0                          30.0   \n",
       "1  NaN        Hassan          34.0                           NaN   \n",
       "2  124          Umer          54.0                          56.0   \n",
       "3  125           NaN          34.0                          30.0   \n",
       "4  126           Ali          21.0                          89.0   \n",
       "5  127          Taqi          45.0                          45.0   \n",
       "6  128          Zain           NaN                          90.0   \n",
       "\n",
       "  Every employee Depart   Employee year of Service  \n",
       "0                  Prod                        5.0  \n",
       "1                   NaN                        6.0  \n",
       "2                Supply                        7.0  \n",
       "3              Accounts                        2.0  \n",
       "4              Accounts                        1.0  \n",
       "5                  Prod                        9.0  \n",
       "6                  Prod                        NaN  "
      ]
     },
     "execution_count": 32,
     "metadata": {},
     "output_type": "execute_result"
    }
   ],
   "source": [
    "employee = pd.DataFrame({'id':['123',np.nan,'124','125','126','127','128'],\n",
    "                        'employee name':[\"Kamal\",\"Hassan\",\"Umer\",np.nan,'Ali',\"Taqi\",\"Zain\"],\n",
    "                        'employee age':[23,34,54,34,21,45,np.nan],\n",
    "                        \"per month salary of employee\":[30,np.nan,56,30,89,45,90],\n",
    "                        \"Every employee Depart\":[\"Prod\",np.nan,\"Supply\",\"Accounts\", \"Accounts\",'Prod',\"Prod\"],\n",
    "                        \" Employee year of Service\":[5,6,7,2,1,9,np.nan]})\n",
    "employee"
   ]
  },
  {
   "cell_type": "code",
   "execution_count": 34,
   "id": "ffd5718a",
   "metadata": {},
   "outputs": [
    {
     "data": {
      "text/html": [
       "<div>\n",
       "<style scoped>\n",
       "    .dataframe tbody tr th:only-of-type {\n",
       "        vertical-align: middle;\n",
       "    }\n",
       "\n",
       "    .dataframe tbody tr th {\n",
       "        vertical-align: top;\n",
       "    }\n",
       "\n",
       "    .dataframe thead th {\n",
       "        text-align: right;\n",
       "    }\n",
       "</style>\n",
       "<table border=\"1\" class=\"dataframe\">\n",
       "  <thead>\n",
       "    <tr style=\"text-align: right;\">\n",
       "      <th></th>\n",
       "      <th>ID</th>\n",
       "      <th>Name</th>\n",
       "      <th>Age</th>\n",
       "      <th>Salary</th>\n",
       "      <th>Departement</th>\n",
       "      <th>Service Years</th>\n",
       "    </tr>\n",
       "  </thead>\n",
       "  <tbody>\n",
       "    <tr>\n",
       "      <th>0</th>\n",
       "      <td>123</td>\n",
       "      <td>Kamal</td>\n",
       "      <td>23.0</td>\n",
       "      <td>30.0</td>\n",
       "      <td>Prod</td>\n",
       "      <td>5.0</td>\n",
       "    </tr>\n",
       "    <tr>\n",
       "      <th>1</th>\n",
       "      <td>NaN</td>\n",
       "      <td>Hassan</td>\n",
       "      <td>34.0</td>\n",
       "      <td>NaN</td>\n",
       "      <td>NaN</td>\n",
       "      <td>6.0</td>\n",
       "    </tr>\n",
       "    <tr>\n",
       "      <th>2</th>\n",
       "      <td>124</td>\n",
       "      <td>Umer</td>\n",
       "      <td>54.0</td>\n",
       "      <td>56.0</td>\n",
       "      <td>Supply</td>\n",
       "      <td>7.0</td>\n",
       "    </tr>\n",
       "    <tr>\n",
       "      <th>3</th>\n",
       "      <td>125</td>\n",
       "      <td>NaN</td>\n",
       "      <td>34.0</td>\n",
       "      <td>30.0</td>\n",
       "      <td>Accounts</td>\n",
       "      <td>2.0</td>\n",
       "    </tr>\n",
       "    <tr>\n",
       "      <th>4</th>\n",
       "      <td>126</td>\n",
       "      <td>Ali</td>\n",
       "      <td>21.0</td>\n",
       "      <td>89.0</td>\n",
       "      <td>Accounts</td>\n",
       "      <td>1.0</td>\n",
       "    </tr>\n",
       "    <tr>\n",
       "      <th>5</th>\n",
       "      <td>127</td>\n",
       "      <td>Taqi</td>\n",
       "      <td>45.0</td>\n",
       "      <td>45.0</td>\n",
       "      <td>Prod</td>\n",
       "      <td>9.0</td>\n",
       "    </tr>\n",
       "    <tr>\n",
       "      <th>6</th>\n",
       "      <td>128</td>\n",
       "      <td>Zain</td>\n",
       "      <td>NaN</td>\n",
       "      <td>90.0</td>\n",
       "      <td>Prod</td>\n",
       "      <td>NaN</td>\n",
       "    </tr>\n",
       "  </tbody>\n",
       "</table>\n",
       "</div>"
      ],
      "text/plain": [
       "    ID    Name   Age  Salary Departement  Service Years\n",
       "0  123   Kamal  23.0    30.0        Prod            5.0\n",
       "1  NaN  Hassan  34.0     NaN         NaN            6.0\n",
       "2  124    Umer  54.0    56.0      Supply            7.0\n",
       "3  125     NaN  34.0    30.0    Accounts            2.0\n",
       "4  126     Ali  21.0    89.0    Accounts            1.0\n",
       "5  127    Taqi  45.0    45.0        Prod            9.0\n",
       "6  128    Zain   NaN    90.0        Prod            NaN"
      ]
     },
     "execution_count": 34,
     "metadata": {},
     "output_type": "execute_result"
    }
   ],
   "source": [
    "employee.columns=['ID','Name','Age','Salary','Departement','Service Years']\n",
    "employee"
   ]
  },
  {
   "cell_type": "code",
   "execution_count": 35,
   "id": "91777d54",
   "metadata": {},
   "outputs": [
    {
     "name": "stdout",
     "output_type": "stream",
     "text": [
      "<class 'pandas.core.frame.DataFrame'>\n",
      "RangeIndex: 7 entries, 0 to 6\n",
      "Data columns (total 6 columns):\n",
      " #   Column         Non-Null Count  Dtype  \n",
      "---  ------         --------------  -----  \n",
      " 0   ID             6 non-null      object \n",
      " 1   Name           6 non-null      object \n",
      " 2   Age            6 non-null      float64\n",
      " 3   Salary         6 non-null      float64\n",
      " 4   Departement    6 non-null      object \n",
      " 5   Service Years  6 non-null      float64\n",
      "dtypes: float64(3), object(3)\n",
      "memory usage: 464.0+ bytes\n"
     ]
    }
   ],
   "source": [
    "employee.info()"
   ]
  },
  {
   "cell_type": "code",
   "execution_count": 36,
   "id": "ce58e691",
   "metadata": {},
   "outputs": [
    {
     "data": {
      "text/html": [
       "<div>\n",
       "<style scoped>\n",
       "    .dataframe tbody tr th:only-of-type {\n",
       "        vertical-align: middle;\n",
       "    }\n",
       "\n",
       "    .dataframe tbody tr th {\n",
       "        vertical-align: top;\n",
       "    }\n",
       "\n",
       "    .dataframe thead th {\n",
       "        text-align: right;\n",
       "    }\n",
       "</style>\n",
       "<table border=\"1\" class=\"dataframe\">\n",
       "  <thead>\n",
       "    <tr style=\"text-align: right;\">\n",
       "      <th></th>\n",
       "      <th>Age</th>\n",
       "      <th>Salary</th>\n",
       "      <th>Service Years</th>\n",
       "    </tr>\n",
       "  </thead>\n",
       "  <tbody>\n",
       "    <tr>\n",
       "      <th>count</th>\n",
       "      <td>6.000000</td>\n",
       "      <td>6.000000</td>\n",
       "      <td>6.00000</td>\n",
       "    </tr>\n",
       "    <tr>\n",
       "      <th>mean</th>\n",
       "      <td>35.166667</td>\n",
       "      <td>56.666667</td>\n",
       "      <td>5.00000</td>\n",
       "    </tr>\n",
       "    <tr>\n",
       "      <th>std</th>\n",
       "      <td>12.671490</td>\n",
       "      <td>27.259249</td>\n",
       "      <td>3.03315</td>\n",
       "    </tr>\n",
       "    <tr>\n",
       "      <th>min</th>\n",
       "      <td>21.000000</td>\n",
       "      <td>30.000000</td>\n",
       "      <td>1.00000</td>\n",
       "    </tr>\n",
       "    <tr>\n",
       "      <th>25%</th>\n",
       "      <td>25.750000</td>\n",
       "      <td>33.750000</td>\n",
       "      <td>2.75000</td>\n",
       "    </tr>\n",
       "    <tr>\n",
       "      <th>50%</th>\n",
       "      <td>34.000000</td>\n",
       "      <td>50.500000</td>\n",
       "      <td>5.50000</td>\n",
       "    </tr>\n",
       "    <tr>\n",
       "      <th>75%</th>\n",
       "      <td>42.250000</td>\n",
       "      <td>80.750000</td>\n",
       "      <td>6.75000</td>\n",
       "    </tr>\n",
       "    <tr>\n",
       "      <th>max</th>\n",
       "      <td>54.000000</td>\n",
       "      <td>90.000000</td>\n",
       "      <td>9.00000</td>\n",
       "    </tr>\n",
       "  </tbody>\n",
       "</table>\n",
       "</div>"
      ],
      "text/plain": [
       "             Age     Salary  Service Years\n",
       "count   6.000000   6.000000        6.00000\n",
       "mean   35.166667  56.666667        5.00000\n",
       "std    12.671490  27.259249        3.03315\n",
       "min    21.000000  30.000000        1.00000\n",
       "25%    25.750000  33.750000        2.75000\n",
       "50%    34.000000  50.500000        5.50000\n",
       "75%    42.250000  80.750000        6.75000\n",
       "max    54.000000  90.000000        9.00000"
      ]
     },
     "execution_count": 36,
     "metadata": {},
     "output_type": "execute_result"
    }
   ],
   "source": [
    "employee.describe()"
   ]
  },
  {
   "cell_type": "code",
   "execution_count": null,
   "id": "67547fe3",
   "metadata": {},
   "outputs": [],
   "source": []
  }
 ],
 "metadata": {
  "kernelspec": {
   "display_name": "Python 3 (ipykernel)",
   "language": "python",
   "name": "python3"
  },
  "language_info": {
   "codemirror_mode": {
    "name": "ipython",
    "version": 3
   },
   "file_extension": ".py",
   "mimetype": "text/x-python",
   "name": "python",
   "nbconvert_exporter": "python",
   "pygments_lexer": "ipython3",
   "version": "3.9.13"
  }
 },
 "nbformat": 4,
 "nbformat_minor": 5
}
