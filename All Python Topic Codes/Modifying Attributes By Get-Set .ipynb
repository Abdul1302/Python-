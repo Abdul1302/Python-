{
 "cells": [
  {
   "cell_type": "code",
   "execution_count": 1,
   "id": "2f7ef91f",
   "metadata": {},
   "outputs": [],
   "source": [
    "class mobile():\n",
    "    def __init__(self,model,brand,memory,color):\n",
    "        self.model=model\n",
    "        self.brand=brand\n",
    "        self.memory=memory\n",
    "        self.color=color\n",
    "        \n",
    "    def launch(self,country):\n",
    "        print(f\"\"\"        MOBILE LAUNCHING\n",
    "        Model Name  {self.model}\n",
    "        Company     {self.brand}\n",
    "        RAM         {self.memory}\n",
    "        Color       {self.color}\n",
    "        \n",
    "        Now this model are also available in {country}\"\"\")"
   ]
  },
  {
   "cell_type": "code",
   "execution_count": 3,
   "id": "8f82453c",
   "metadata": {},
   "outputs": [],
   "source": [
    "m1=mobile(\"Note 7\",\"INFINIX\",\"4GB\",\"Forest Green\")"
   ]
  },
  {
   "cell_type": "code",
   "execution_count": 4,
   "id": "4a59b284",
   "metadata": {},
   "outputs": [
    {
     "name": "stdout",
     "output_type": "stream",
     "text": [
      "        MOBILE LAUNCHING\n",
      "        Model Name  Note 7\n",
      "        Company     INFINIX\n",
      "        RAM         4GB\n",
      "        Color       Forest Green\n",
      "        \n",
      "        Now this model are also available in Pakistan\n"
     ]
    }
   ],
   "source": [
    "m1.launch('Pakistan')"
   ]
  },
  {
   "cell_type": "code",
   "execution_count": 5,
   "id": "4bc89866",
   "metadata": {},
   "outputs": [],
   "source": [
    "m2=mobile('iPhone 13 Pro','APPLE','8GB','Silver')"
   ]
  },
  {
   "cell_type": "code",
   "execution_count": 6,
   "id": "802c58d6",
   "metadata": {},
   "outputs": [
    {
     "name": "stdout",
     "output_type": "stream",
     "text": [
      "        MOBILE LAUNCHING\n",
      "        Model Name  iPhone 13 Pro\n",
      "        Company     APPLE\n",
      "        RAM         8GB\n",
      "        Color       Silver\n",
      "        \n",
      "        Now this model are also available in America\n"
     ]
    }
   ],
   "source": [
    "m2.launch('America')"
   ]
  },
  {
   "cell_type": "markdown",
   "id": "f24e5313",
   "metadata": {},
   "source": [
    "# Modifying Attribute Values"
   ]
  },
  {
   "cell_type": "code",
   "execution_count": 11,
   "id": "1679e5ff",
   "metadata": {},
   "outputs": [],
   "source": [
    "class car():\n",
    "    def __init__(self,year,brand,model):\n",
    "        self.year=year\n",
    "        self.brand=brand\n",
    "        self.model=model\n",
    "        self.meter_reading=0\n",
    "    \n",
    "    def get_descriptive_name(self):\n",
    "        long_name=self.brand+' '+self.model+' '+self.year\n",
    "        return long_name\n",
    "    def read_meter(self):\n",
    "        print(f\"This car runs {self.meter_reading} meter\")\n",
    "        "
   ]
  },
  {
   "cell_type": "code",
   "execution_count": 12,
   "id": "0b0c328a",
   "metadata": {},
   "outputs": [],
   "source": [
    "c1=car('2019','lambourgini','SR3')"
   ]
  },
  {
   "cell_type": "code",
   "execution_count": 13,
   "id": "5c15bb8a",
   "metadata": {},
   "outputs": [
    {
     "data": {
      "text/plain": [
       "'lambourgini SR3 2019'"
      ]
     },
     "execution_count": 13,
     "metadata": {},
     "output_type": "execute_result"
    }
   ],
   "source": [
    "c1.get_descriptive_name()"
   ]
  },
  {
   "cell_type": "code",
   "execution_count": 14,
   "id": "9a176241",
   "metadata": {},
   "outputs": [
    {
     "name": "stdout",
     "output_type": "stream",
     "text": [
      "This car runs 0 meter\n"
     ]
    }
   ],
   "source": [
    "c1.read_meter()"
   ]
  },
  {
   "cell_type": "markdown",
   "id": "830d20bc",
   "metadata": {},
   "source": [
    "# Modifying attribute by get,Set"
   ]
  },
  {
   "cell_type": "code",
   "execution_count": 15,
   "id": "347517d7",
   "metadata": {},
   "outputs": [],
   "source": [
    "class car():\n",
    "    def __init__(self,year,brand,model):\n",
    "        self.year=year\n",
    "        self.brand=brand\n",
    "        self.model=model\n",
    "        self.meter_reading=0\n",
    "    \n",
    "    def get_descriptive_name(self):\n",
    "        long_name=self.brand+' '+self.model+' '+self.year\n",
    "        return long_name\n",
    "    def get_meter(self):\n",
    "        return self.meter_reading\n",
    "    \n",
    "    def read_meter(self):\n",
    "        print(f\"This car runs {self.meter_reading} meter\")\n",
    "        \n",
    "    def set_meter(self,new_reading):\n",
    "        self.meter_reading=new_reading\n",
    "        \n",
    "   \n",
    "        "
   ]
  },
  {
   "cell_type": "code",
   "execution_count": 16,
   "id": "04fae91f",
   "metadata": {},
   "outputs": [],
   "source": [
    "c2=car('2017','Picanto','C6')"
   ]
  },
  {
   "cell_type": "code",
   "execution_count": 17,
   "id": "5dcf2fa2",
   "metadata": {},
   "outputs": [
    {
     "data": {
      "text/plain": [
       "'Picanto C6 2017'"
      ]
     },
     "execution_count": 17,
     "metadata": {},
     "output_type": "execute_result"
    }
   ],
   "source": [
    "c2.get_descriptive_name()"
   ]
  },
  {
   "cell_type": "code",
   "execution_count": 18,
   "id": "e8c4a411",
   "metadata": {},
   "outputs": [
    {
     "data": {
      "text/plain": [
       "0"
      ]
     },
     "execution_count": 18,
     "metadata": {},
     "output_type": "execute_result"
    }
   ],
   "source": [
    "c2.get_meter()"
   ]
  },
  {
   "cell_type": "code",
   "execution_count": 19,
   "id": "1a5a1f5b",
   "metadata": {},
   "outputs": [
    {
     "name": "stdout",
     "output_type": "stream",
     "text": [
      "This car runs 0 meter\n"
     ]
    }
   ],
   "source": [
    "c2.read_meter()"
   ]
  },
  {
   "cell_type": "code",
   "execution_count": 21,
   "id": "b7933e7e",
   "metadata": {},
   "outputs": [],
   "source": [
    "c2.set_meter('120000')"
   ]
  },
  {
   "cell_type": "code",
   "execution_count": 22,
   "id": "ee592f83",
   "metadata": {},
   "outputs": [
    {
     "data": {
      "text/plain": [
       "'120000'"
      ]
     },
     "execution_count": 22,
     "metadata": {},
     "output_type": "execute_result"
    }
   ],
   "source": [
    "c2.get_meter()"
   ]
  },
  {
   "cell_type": "code",
   "execution_count": 23,
   "id": "699de5af",
   "metadata": {},
   "outputs": [
    {
     "name": "stdout",
     "output_type": "stream",
     "text": [
      "This car runs 120000 meter\n"
     ]
    }
   ],
   "source": [
    "c2.read_meter()"
   ]
  },
  {
   "cell_type": "code",
   "execution_count": null,
   "id": "f2b208c2",
   "metadata": {},
   "outputs": [],
   "source": []
  }
 ],
 "metadata": {
  "kernelspec": {
   "display_name": "Python 3 (ipykernel)",
   "language": "python",
   "name": "python3"
  },
  "language_info": {
   "codemirror_mode": {
    "name": "ipython",
    "version": 3
   },
   "file_extension": ".py",
   "mimetype": "text/x-python",
   "name": "python",
   "nbconvert_exporter": "python",
   "pygments_lexer": "ipython3",
   "version": "3.9.13"
  }
 },
 "nbformat": 4,
 "nbformat_minor": 5
}
