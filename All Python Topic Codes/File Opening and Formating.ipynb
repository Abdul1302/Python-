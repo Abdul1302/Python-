{
 "cells": [
  {
   "cell_type": "markdown",
   "id": "26e156cb",
   "metadata": {},
   "source": [
    "# File Opening & Formatting"
   ]
  },
  {
   "cell_type": "code",
   "execution_count": 19,
   "id": "c05b559c",
   "metadata": {},
   "outputs": [],
   "source": [
    "with open ('myth.txt','w') as m:\n",
    "    m.write(\"I am Abdul Rehman\")\n",
    "    "
   ]
  },
  {
   "cell_type": "code",
   "execution_count": 21,
   "id": "a0bf23b7",
   "metadata": {},
   "outputs": [
    {
     "name": "stdout",
     "output_type": "stream",
     "text": [
      "I am Abdul Rehman\n"
     ]
    }
   ],
   "source": [
    "with open ('myth.txt','r') as m:\n",
    "    print(m.read())"
   ]
  },
  {
   "cell_type": "code",
   "execution_count": 23,
   "id": "5605f986",
   "metadata": {},
   "outputs": [
    {
     "name": "stdout",
     "output_type": "stream",
     "text": [
      "My name is Abdullah\n"
     ]
    }
   ],
   "source": [
    "with open('file2.txt','w+') as f:\n",
    "    f.write(\"My name is Abdullah\")\n",
    "    f.seek(0)                     #use to index the wirite bar at initial position\n",
    "    cont=f.read()\n",
    "    print(cont)"
   ]
  },
  {
   "cell_type": "code",
   "execution_count": 25,
   "id": "14a0a3fd",
   "metadata": {},
   "outputs": [
    {
     "name": "stdout",
     "output_type": "stream",
     "text": [
      "My name is Abdullah\n"
     ]
    }
   ],
   "source": [
    "with open('file2.txt','r') as f:\n",
    "    print(f.read())"
   ]
  },
  {
   "cell_type": "code",
   "execution_count": 28,
   "id": "8b73de84",
   "metadata": {},
   "outputs": [],
   "source": [
    "with open('file3.txt',\"w\") as f:\n",
    "    f.write(\"My name is Abdul Rehman\\n\")\n",
    "    f.write(\"I am a graduation student\")\n",
    "    "
   ]
  },
  {
   "cell_type": "code",
   "execution_count": 29,
   "id": "c2dcabc3",
   "metadata": {},
   "outputs": [
    {
     "name": "stdout",
     "output_type": "stream",
     "text": [
      "My name is Abdul Rehman\n",
      "I am a graduation student\n"
     ]
    }
   ],
   "source": [
    "with open('file3.txt','r') as f:\n",
    "    print(f.read())"
   ]
  },
  {
   "cell_type": "markdown",
   "id": "a576dcfb",
   "metadata": {},
   "source": [
    "# CSV File"
   ]
  },
  {
   "cell_type": "code",
   "execution_count": 39,
   "id": "d372049e",
   "metadata": {},
   "outputs": [
    {
     "name": "stdout",
     "output_type": "stream",
     "text": [
      "['Ali', 'Ameen', 'Aman', 'Asad']\n"
     ]
    }
   ],
   "source": [
    "import csv\n",
    "with open('AR.csv') as f:\n",
    "    contant=csv.reader(f)\n",
    "    for cont in contant:\n",
    "        print(cont)"
   ]
  },
  {
   "cell_type": "code",
   "execution_count": 40,
   "id": "201f793d",
   "metadata": {},
   "outputs": [
    {
     "name": "stdout",
     "output_type": "stream",
     "text": [
      "Aman\n"
     ]
    }
   ],
   "source": [
    "import csv\n",
    "with open('AR.csv') as f:\n",
    "    contant=csv.reader(f)\n",
    "    for cont in contant:\n",
    "        print(cont[2])"
   ]
  },
  {
   "cell_type": "code",
   "execution_count": 41,
   "id": "87b16894",
   "metadata": {},
   "outputs": [
    {
     "name": "stdout",
     "output_type": "stream",
     "text": [
      "['Ali', 'Ameen']\n"
     ]
    }
   ],
   "source": [
    "import csv\n",
    "with open('AR.csv') as f:\n",
    "    contant=csv.reader(f)\n",
    "    for cont in contant:\n",
    "        print(cont[0:2])"
   ]
  },
  {
   "cell_type": "markdown",
   "id": "d167a9e2",
   "metadata": {},
   "source": [
    "# Json File"
   ]
  },
  {
   "cell_type": "code",
   "execution_count": 63,
   "id": "fb735775",
   "metadata": {},
   "outputs": [],
   "source": [
    "import json\n",
    "students={\"Ali\":\"101\",'Asad':'102','Aman':'102'}\n",
    "with open ('file1.json','w') as f:\n",
    "    json.dump(students,f)"
   ]
  },
  {
   "cell_type": "code",
   "execution_count": 66,
   "id": "303e47a6",
   "metadata": {},
   "outputs": [],
   "source": [
    "with open(\"file1.json\",'r') as f:\n",
    "    cont=json.load(f)"
   ]
  },
  {
   "cell_type": "code",
   "execution_count": 67,
   "id": "93148417",
   "metadata": {},
   "outputs": [
    {
     "name": "stdout",
     "output_type": "stream",
     "text": [
      "{'Ali': '101', 'Asad': '102', 'Aman': '102'}\n"
     ]
    }
   ],
   "source": [
    "print(cont)"
   ]
  },
  {
   "cell_type": "code",
   "execution_count": 72,
   "id": "d3dce9fc",
   "metadata": {},
   "outputs": [
    {
     "name": "stdout",
     "output_type": "stream",
     "text": [
      "Ali\n",
      "Asad\n",
      "Aman\n"
     ]
    }
   ],
   "source": [
    "for i in cont:\n",
    "    print(i)"
   ]
  },
  {
   "cell_type": "code",
   "execution_count": 82,
   "id": "3ab83308",
   "metadata": {},
   "outputs": [
    {
     "name": "stdout",
     "output_type": "stream",
     "text": [
      "Ali 101\n",
      "Asad 102\n",
      "Aman 102\n"
     ]
    }
   ],
   "source": [
    "for key,value in cont.items():\n",
    "    print(key,value)"
   ]
  },
  {
   "cell_type": "code",
   "execution_count": 83,
   "id": "a892959e",
   "metadata": {},
   "outputs": [
    {
     "name": "stdout",
     "output_type": "stream",
     "text": [
      "Ali\n",
      "Asad\n",
      "Aman\n"
     ]
    }
   ],
   "source": [
    "for i in cont.keys():\n",
    "    print(i)"
   ]
  },
  {
   "cell_type": "code",
   "execution_count": 85,
   "id": "78e27fdb",
   "metadata": {},
   "outputs": [
    {
     "name": "stdout",
     "output_type": "stream",
     "text": [
      "101\n",
      "102\n",
      "102\n"
     ]
    }
   ],
   "source": [
    "for j in cont.values():\n",
    "    print(j)"
   ]
  },
  {
   "cell_type": "code",
   "execution_count": 86,
   "id": "41496591",
   "metadata": {},
   "outputs": [
    {
     "data": {
      "text/plain": [
       "'101'"
      ]
     },
     "execution_count": 86,
     "metadata": {},
     "output_type": "execute_result"
    }
   ],
   "source": [
    "cont['Ali']"
   ]
  },
  {
   "cell_type": "code",
   "execution_count": 89,
   "id": "f7c42188",
   "metadata": {},
   "outputs": [
    {
     "data": {
      "text/plain": [
       "'102'"
      ]
     },
     "execution_count": 89,
     "metadata": {},
     "output_type": "execute_result"
    }
   ],
   "source": [
    "cont['Asad']"
   ]
  },
  {
   "cell_type": "code",
   "execution_count": null,
   "id": "453a7df4",
   "metadata": {},
   "outputs": [],
   "source": []
  }
 ],
 "metadata": {
  "kernelspec": {
   "display_name": "Python 3 (ipykernel)",
   "language": "python",
   "name": "python3"
  },
  "language_info": {
   "codemirror_mode": {
    "name": "ipython",
    "version": 3
   },
   "file_extension": ".py",
   "mimetype": "text/x-python",
   "name": "python",
   "nbconvert_exporter": "python",
   "pygments_lexer": "ipython3",
   "version": "3.9.13"
  }
 },
 "nbformat": 4,
 "nbformat_minor": 5
}
