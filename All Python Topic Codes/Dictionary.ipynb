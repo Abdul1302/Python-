{
 "cells": [
  {
   "cell_type": "markdown",
   "id": "ec509fb2",
   "metadata": {},
   "source": [
    "# Dictionary"
   ]
  },
  {
   "cell_type": "code",
   "execution_count": 1,
   "id": "0a2dc6fe",
   "metadata": {},
   "outputs": [
    {
     "data": {
      "text/plain": [
       "dict"
      ]
     },
     "execution_count": 1,
     "metadata": {},
     "output_type": "execute_result"
    }
   ],
   "source": [
    "dictionary={}\n",
    "\n",
    "type(dictionary)"
   ]
  },
  {
   "cell_type": "code",
   "execution_count": 2,
   "id": "929e60be",
   "metadata": {},
   "outputs": [
    {
     "name": "stdout",
     "output_type": "stream",
     "text": [
      "{'name': 'Abdul Rehman', 'age': 20, 'student': 'bs computer science'}\n"
     ]
    }
   ],
   "source": [
    "dictionary={'name':'Abdul Rehman','age':20,'student':'bs computer science'}\n",
    " #             key    value       key  value   key      value  \n",
    "    \n",
    "print(dictionary)    "
   ]
  },
  {
   "cell_type": "code",
   "execution_count": 8,
   "id": "ba235993",
   "metadata": {},
   "outputs": [
    {
     "data": {
      "text/plain": [
       "'Abdul Rehman'"
      ]
     },
     "execution_count": 8,
     "metadata": {},
     "output_type": "execute_result"
    }
   ],
   "source": [
    "#call value by its key\n",
    "\n",
    "dictionary['name']\n"
   ]
  },
  {
   "cell_type": "code",
   "execution_count": 9,
   "id": "a88b14a8",
   "metadata": {},
   "outputs": [
    {
     "data": {
      "text/plain": [
       "20"
      ]
     },
     "execution_count": 9,
     "metadata": {},
     "output_type": "execute_result"
    }
   ],
   "source": [
    "#call value by its key\n",
    "\n",
    "\n",
    "dictionary['age']"
   ]
  },
  {
   "cell_type": "code",
   "execution_count": 12,
   "id": "a07dfe83",
   "metadata": {},
   "outputs": [],
   "source": [
    "#adding new value in dictionary\n",
    "\n",
    "dictionary['teacher']='sir obaid'"
   ]
  },
  {
   "cell_type": "code",
   "execution_count": 13,
   "id": "f8b9dd53",
   "metadata": {},
   "outputs": [
    {
     "name": "stdout",
     "output_type": "stream",
     "text": [
      "{'name': 'Abdul Rehman', 'age': 20, 'student': 'bs computer science', 'teacher': 'sir obaid'}\n"
     ]
    }
   ],
   "source": [
    "print(dictionary)"
   ]
  },
  {
   "cell_type": "code",
   "execution_count": 14,
   "id": "65c08259",
   "metadata": {},
   "outputs": [],
   "source": [
    "#delete the value to item to dictionary\n",
    "\n",
    "del dictionary['teacher']"
   ]
  },
  {
   "cell_type": "code",
   "execution_count": 15,
   "id": "d6411e5a",
   "metadata": {},
   "outputs": [
    {
     "name": "stdout",
     "output_type": "stream",
     "text": [
      "{'name': 'Abdul Rehman', 'age': 20, 'student': 'bs computer science'}\n"
     ]
    }
   ],
   "source": [
    "print(dictionary)"
   ]
  },
  {
   "cell_type": "code",
   "execution_count": 16,
   "id": "78551b42",
   "metadata": {},
   "outputs": [
    {
     "name": "stdout",
     "output_type": "stream",
     "text": [
      "dict_keys(['name', 'age', 'student'])\n"
     ]
    }
   ],
   "source": [
    "#print only keys\n",
    "\n",
    "print(dictionary.keys())"
   ]
  },
  {
   "cell_type": "code",
   "execution_count": 17,
   "id": "9bc771c1",
   "metadata": {},
   "outputs": [
    {
     "name": "stdout",
     "output_type": "stream",
     "text": [
      "dict_values(['Abdul Rehman', 20, 'bs computer science'])\n"
     ]
    }
   ],
   "source": [
    "#print only values\n",
    "\n",
    "print(dictionary.values())"
   ]
  },
  {
   "cell_type": "code",
   "execution_count": 18,
   "id": "632c5464",
   "metadata": {},
   "outputs": [
    {
     "name": "stdout",
     "output_type": "stream",
     "text": [
      "dict_items([('name', 'Abdul Rehman'), ('age', 20), ('student', 'bs computer science')])\n"
     ]
    }
   ],
   "source": [
    "#print all items\n",
    "\n",
    "print(dictionary.items())"
   ]
  },
  {
   "cell_type": "code",
   "execution_count": 22,
   "id": "a0f54aa7",
   "metadata": {},
   "outputs": [
    {
     "name": "stdout",
     "output_type": "stream",
     "text": [
      "name\n",
      "age\n",
      "student\n"
     ]
    }
   ],
   "source": [
    "#print keys\n",
    "\n",
    "for a in dictionary:\n",
    "    print(a)"
   ]
  },
  {
   "cell_type": "code",
   "execution_count": 23,
   "id": "6d86490e",
   "metadata": {},
   "outputs": [
    {
     "name": "stdout",
     "output_type": "stream",
     "text": [
      "name\n",
      "age\n",
      "student\n"
     ]
    }
   ],
   "source": [
    "#print keys\n",
    "\n",
    "for a in dictionary.keys():\n",
    "    print(a)"
   ]
  },
  {
   "cell_type": "code",
   "execution_count": 24,
   "id": "544efb3f",
   "metadata": {},
   "outputs": [
    {
     "name": "stdout",
     "output_type": "stream",
     "text": [
      "Abdul Rehman\n",
      "20\n",
      "bs computer science\n"
     ]
    }
   ],
   "source": [
    "#print values\n",
    "\n",
    "for a in dictionary.values():\n",
    "    print(a)"
   ]
  },
  {
   "cell_type": "code",
   "execution_count": 25,
   "id": "d919e1b8",
   "metadata": {},
   "outputs": [
    {
     "name": "stdout",
     "output_type": "stream",
     "text": [
      "('name', 'Abdul Rehman')\n",
      "('age', 20)\n",
      "('student', 'bs computer science')\n"
     ]
    }
   ],
   "source": [
    "#print items\n",
    "\n",
    "for a in dictionary.items():\n",
    "    print(a)"
   ]
  },
  {
   "cell_type": "code",
   "execution_count": null,
   "id": "e8d3a08a",
   "metadata": {},
   "outputs": [],
   "source": []
  }
 ],
 "metadata": {
  "kernelspec": {
   "display_name": "Python 3 (ipykernel)",
   "language": "python",
   "name": "python3"
  },
  "language_info": {
   "codemirror_mode": {
    "name": "ipython",
    "version": 3
   },
   "file_extension": ".py",
   "mimetype": "text/x-python",
   "name": "python",
   "nbconvert_exporter": "python",
   "pygments_lexer": "ipython3",
   "version": "3.9.13"
  }
 },
 "nbformat": 4,
 "nbformat_minor": 5
}
