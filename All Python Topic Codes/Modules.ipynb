{
 "cells": [
  {
   "cell_type": "code",
   "execution_count": 3,
   "id": "3205cfde",
   "metadata": {},
   "outputs": [],
   "source": [
    "import math"
   ]
  },
  {
   "cell_type": "code",
   "execution_count": 5,
   "id": "464cb333",
   "metadata": {},
   "outputs": [
    {
     "data": {
      "text/plain": [
       "7.38905609893065"
      ]
     },
     "execution_count": 5,
     "metadata": {},
     "output_type": "execute_result"
    }
   ],
   "source": [
    "math.exp(2)"
   ]
  },
  {
   "cell_type": "code",
   "execution_count": 7,
   "id": "ce8eadf4",
   "metadata": {},
   "outputs": [
    {
     "data": {
      "text/plain": [
       "0.6931471805599453"
      ]
     },
     "execution_count": 7,
     "metadata": {},
     "output_type": "execute_result"
    }
   ],
   "source": [
    "math.log(2)"
   ]
  },
  {
   "cell_type": "code",
   "execution_count": 9,
   "id": "2f1bc4ad",
   "metadata": {},
   "outputs": [
    {
     "data": {
      "text/plain": [
       "0.47712125471966244"
      ]
     },
     "execution_count": 9,
     "metadata": {},
     "output_type": "execute_result"
    }
   ],
   "source": [
    "math.log10(3)"
   ]
  },
  {
   "cell_type": "code",
   "execution_count": 11,
   "id": "0f016cd5",
   "metadata": {},
   "outputs": [
    {
     "data": {
      "text/plain": [
       "4.0"
      ]
     },
     "execution_count": 11,
     "metadata": {},
     "output_type": "execute_result"
    }
   ],
   "source": [
    "math.pow(2,2)"
   ]
  },
  {
   "cell_type": "code",
   "execution_count": 20,
   "id": "323b7131",
   "metadata": {},
   "outputs": [
    {
     "data": {
      "text/plain": [
       "0.9129452507276277"
      ]
     },
     "execution_count": 20,
     "metadata": {},
     "output_type": "execute_result"
    }
   ],
   "source": [
    " math.sin(20)"
   ]
  },
  {
   "cell_type": "code",
   "execution_count": 19,
   "id": "948cda18",
   "metadata": {},
   "outputs": [
    {
     "data": {
      "text/plain": [
       "-0.5328330203333975"
      ]
     },
     "execution_count": 19,
     "metadata": {},
     "output_type": "execute_result"
    }
   ],
   "source": [
    "math.cos(23)"
   ]
  },
  {
   "cell_type": "code",
   "execution_count": 14,
   "id": "9b74543b",
   "metadata": {},
   "outputs": [
    {
     "data": {
      "text/plain": [
       "1.6197751905438615"
      ]
     },
     "execution_count": 14,
     "metadata": {},
     "output_type": "execute_result"
    }
   ],
   "source": [
    "math.tan(45)"
   ]
  },
  {
   "cell_type": "markdown",
   "id": "1061d084",
   "metadata": {},
   "source": [
    "# Modules"
   ]
  },
  {
   "cell_type": "raw",
   "id": "dae61a7e",
   "metadata": {},
   "source": [
    " make txt file in which python program is stored which is module then save s as .py file\n",
    " and call it in other programs as file which saves our extra working to the another program"
   ]
  },
  {
   "cell_type": "code",
   "execution_count": 1,
   "id": "8c9abb20",
   "metadata": {},
   "outputs": [],
   "source": [
    "%run add.py"
   ]
  },
  {
   "cell_type": "code",
   "execution_count": 5,
   "id": "f499e21e",
   "metadata": {},
   "outputs": [],
   "source": [
    "import add "
   ]
  },
  {
   "cell_type": "code",
   "execution_count": 6,
   "id": "f7d23575",
   "metadata": {},
   "outputs": [
    {
     "name": "stdout",
     "output_type": "stream",
     "text": [
      "4\n"
     ]
    }
   ],
   "source": [
    "addition(2,2)"
   ]
  },
  {
   "cell_type": "code",
   "execution_count": 1,
   "id": "675ba48a",
   "metadata": {},
   "outputs": [],
   "source": [
    "%run sub.py"
   ]
  },
  {
   "cell_type": "code",
   "execution_count": 2,
   "id": "a81431a2",
   "metadata": {},
   "outputs": [],
   "source": [
    "import sub"
   ]
  },
  {
   "cell_type": "code",
   "execution_count": 3,
   "id": "0af0529c",
   "metadata": {},
   "outputs": [
    {
     "name": "stdout",
     "output_type": "stream",
     "text": [
      "121\n"
     ]
    }
   ],
   "source": [
    "subtraction(45,76)"
   ]
  },
  {
   "cell_type": "code",
   "execution_count": 4,
   "id": "5b16a973",
   "metadata": {},
   "outputs": [],
   "source": [
    "%run claculator.py"
   ]
  },
  {
   "cell_type": "code",
   "execution_count": 5,
   "id": "5e5ec809",
   "metadata": {},
   "outputs": [],
   "source": [
    "import claculator"
   ]
  },
  {
   "cell_type": "code",
   "execution_count": 6,
   "id": "a55f791e",
   "metadata": {},
   "outputs": [],
   "source": [
    "c1=Calculator()"
   ]
  },
  {
   "cell_type": "code",
   "execution_count": 7,
   "id": "4c62d3ec",
   "metadata": {},
   "outputs": [
    {
     "data": {
      "text/plain": [
       "720"
      ]
     },
     "execution_count": 7,
     "metadata": {},
     "output_type": "execute_result"
    }
   ],
   "source": [
    "c1.factorial(6)"
   ]
  },
  {
   "cell_type": "code",
   "execution_count": 8,
   "id": "bba4fdcd",
   "metadata": {},
   "outputs": [
    {
     "data": {
      "text/plain": [
       "148.4131591025766"
      ]
     },
     "execution_count": 8,
     "metadata": {},
     "output_type": "execute_result"
    }
   ],
   "source": [
    "c1.exponent(5)"
   ]
  },
  {
   "cell_type": "code",
   "execution_count": 9,
   "id": "a76d5492",
   "metadata": {},
   "outputs": [
    {
     "data": {
      "text/plain": [
       "-0.7568024953079282"
      ]
     },
     "execution_count": 9,
     "metadata": {},
     "output_type": "execute_result"
    }
   ],
   "source": [
    "c1.sin(4)"
   ]
  },
  {
   "cell_type": "code",
   "execution_count": 10,
   "id": "c31e3905",
   "metadata": {},
   "outputs": [
    {
     "data": {
      "text/plain": [
       "1.0"
      ]
     },
     "execution_count": 10,
     "metadata": {},
     "output_type": "execute_result"
    }
   ],
   "source": [
    "c1.cos(0)"
   ]
  },
  {
   "cell_type": "code",
   "execution_count": 11,
   "id": "9c298a35",
   "metadata": {},
   "outputs": [
    {
     "data": {
      "text/plain": [
       "1.1578212823495777"
      ]
     },
     "execution_count": 11,
     "metadata": {},
     "output_type": "execute_result"
    }
   ],
   "source": [
    "c1.tan(4)"
   ]
  },
  {
   "cell_type": "code",
   "execution_count": null,
   "id": "b1bfa669",
   "metadata": {},
   "outputs": [],
   "source": []
  }
 ],
 "metadata": {
  "kernelspec": {
   "display_name": "Python 3 (ipykernel)",
   "language": "python",
   "name": "python3"
  },
  "language_info": {
   "codemirror_mode": {
    "name": "ipython",
    "version": 3
   },
   "file_extension": ".py",
   "mimetype": "text/x-python",
   "name": "python",
   "nbconvert_exporter": "python",
   "pygments_lexer": "ipython3",
   "version": "3.9.13"
  }
 },
 "nbformat": 4,
 "nbformat_minor": 5
}
