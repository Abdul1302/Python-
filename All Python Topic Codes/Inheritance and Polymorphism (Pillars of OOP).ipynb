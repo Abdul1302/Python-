{
 "cells": [
  {
   "cell_type": "markdown",
   "id": "c48e9432",
   "metadata": {},
   "source": [
    "# PILLARS OF OBJECT ORIENTED PROGRAMMING"
   ]
  },
  {
   "cell_type": "markdown",
   "id": "d2692e5c",
   "metadata": {},
   "source": [
    "# 1.Inheritance"
   ]
  },
  {
   "cell_type": "raw",
   "id": "62e85e19",
   "metadata": {},
   "source": [
    "Inheritance is the procedure in which one class derives the attributes and methods of another class. The class whose properties and methods are derived is known as the Parent class. And the class that inherits the properties from the parent class is the Child class."
   ]
  },
  {
   "cell_type": "raw",
   "id": "3895d309",
   "metadata": {},
   "source": [
    "# 1st Step: Make the parent class"
   ]
  },
  {
   "cell_type": "code",
   "execution_count": 11,
   "id": "e7d1c2ec",
   "metadata": {},
   "outputs": [],
   "source": [
    "class car():\n",
    "    def __init__(self,seats,tyres,stairing,brake,horn,car_name):\n",
    "        self.seats=seats\n",
    "        self.tyres=tyres\n",
    "        self.stairing=stairing\n",
    "        self.brake=brake\n",
    "        self.horn=horn\n",
    "        self.car_name=car_name\n",
    "        \n",
    "    def speed(self):\n",
    "        print(f\"The {self.car_name} is running \")\n",
    "    \n",
    "    def describe_car(self):\n",
    "        print(f\"\"\"\n",
    "        Car Model: {self.car_name}\n",
    "        Total Seats: {self.seats}\n",
    "        Tyres: {self.tyres}\n",
    "        Horn Sound: {self.horn}\n",
    "        Stairing Side: {self.stairing}\n",
    "        Break: {self.brake}\"\"\")"
   ]
  },
  {
   "cell_type": "code",
   "execution_count": 12,
   "id": "80faa04b",
   "metadata": {},
   "outputs": [],
   "source": [
    "c1=car(4,4,'Right','Jangu','Loud','Jeep')"
   ]
  },
  {
   "cell_type": "code",
   "execution_count": 13,
   "id": "f2dffc57",
   "metadata": {},
   "outputs": [
    {
     "name": "stdout",
     "output_type": "stream",
     "text": [
      "\n",
      "        Car Model: Jeep\n",
      "        Total Seats: 4\n",
      "        Tyres: 4\n",
      "        Horn Sound: Loud\n",
      "        Stairing Side: Right\n",
      "        Break: Jangu\n"
     ]
    }
   ],
   "source": [
    "c1.describe_car()"
   ]
  },
  {
   "cell_type": "code",
   "execution_count": 14,
   "id": "0990764e",
   "metadata": {},
   "outputs": [
    {
     "name": "stdout",
     "output_type": "stream",
     "text": [
      "The Jeep is running \n"
     ]
    }
   ],
   "source": [
    "c1.speed()"
   ]
  },
  {
   "cell_type": "raw",
   "id": "48ecc11a",
   "metadata": {},
   "source": [
    "2nd Step: Make a child class which inherits the parent class(car)."
   ]
  },
  {
   "cell_type": "code",
   "execution_count": 19,
   "id": "2acec63c",
   "metadata": {},
   "outputs": [],
   "source": [
    "class electric_car(car):\n",
    "    def __init__(self,make,model,year,engine,seats,tyres,stairing,brake,horn,car_name):\n",
    "        \n",
    "        super().__init__(seats,tyres,stairing,brake,horn,car_name)\n",
    "        self.make=make\n",
    "        self.model=model\n",
    "        self.year=year\n",
    "        self.engine=engine\n",
    "        \n",
    "            \n",
    "    def describe_electric_car(self):\n",
    "        print(f\"\"\"\n",
    "        Company: {self.make}\n",
    "        Model Name: {self.model}\n",
    "        Year: {self.year}\n",
    "        Engine Specification: {self.engine}\"\"\")"
   ]
  },
  {
   "cell_type": "code",
   "execution_count": 20,
   "id": "c4086df4",
   "metadata": {},
   "outputs": [],
   "source": [
    "e1=electric_car('Tesla','ES01',2021,'Erc20',4,4,'Right','jix','light','jinusa')"
   ]
  },
  {
   "cell_type": "code",
   "execution_count": 21,
   "id": "d321cff6",
   "metadata": {},
   "outputs": [
    {
     "data": {
      "text/plain": [
       "4"
      ]
     },
     "execution_count": 21,
     "metadata": {},
     "output_type": "execute_result"
    }
   ],
   "source": [
    "e1.seats"
   ]
  },
  {
   "cell_type": "code",
   "execution_count": 22,
   "id": "4cb6f28c",
   "metadata": {},
   "outputs": [
    {
     "data": {
      "text/plain": [
       "'jix'"
      ]
     },
     "execution_count": 22,
     "metadata": {},
     "output_type": "execute_result"
    }
   ],
   "source": [
    "e1.brake"
   ]
  },
  {
   "cell_type": "code",
   "execution_count": 23,
   "id": "3b593942",
   "metadata": {},
   "outputs": [
    {
     "name": "stdout",
     "output_type": "stream",
     "text": [
      "\n",
      "        Car Model: jinusa\n",
      "        Total Seats: 4\n",
      "        Tyres: 4\n",
      "        Horn Sound: light\n",
      "        Stairing Side: Right\n",
      "        Break: jix\n"
     ]
    }
   ],
   "source": [
    "e1.describe_car()"
   ]
  },
  {
   "cell_type": "code",
   "execution_count": 24,
   "id": "c61e0bf5",
   "metadata": {},
   "outputs": [
    {
     "name": "stdout",
     "output_type": "stream",
     "text": [
      "\n",
      "        Company: Tesla\n",
      "        Model Name: ES01\n",
      "        Year: 2021\n",
      "        Engine Specification: Erc20\n"
     ]
    }
   ],
   "source": [
    "e1.describe_electric_car()"
   ]
  },
  {
   "cell_type": "code",
   "execution_count": 25,
   "id": "9d48e299",
   "metadata": {},
   "outputs": [
    {
     "name": "stdout",
     "output_type": "stream",
     "text": [
      "The jinusa is running \n"
     ]
    }
   ],
   "source": [
    "e1.speed()"
   ]
  },
  {
   "cell_type": "markdown",
   "id": "b387a2a4",
   "metadata": {},
   "source": [
    "# 2. Polymorphism"
   ]
  },
  {
   "cell_type": "raw",
   "id": "5a28c173",
   "metadata": {},
   "source": [
    "Polymorphism is an object-oriented programming concept that refers to the ability of a variable, function or object to take on multiple forms."
   ]
  },
  {
   "cell_type": "raw",
   "id": "7e6b7b7c",
   "metadata": {},
   "source": [
    "1.We make a new function called sound  in parent class which describe the sound "
   ]
  },
  {
   "cell_type": "code",
   "execution_count": 27,
   "id": "275ccd6b",
   "metadata": {},
   "outputs": [],
   "source": [
    "class car():\n",
    "    def __init__(self,seats,tyres,stairing,brake,horn,car_name):\n",
    "        self.seats=seats\n",
    "        self.tyres=tyres\n",
    "        self.stairing=stairing\n",
    "        self.brake=brake\n",
    "        self.horn=horn\n",
    "        self.car_name=car_name\n",
    "        \n",
    "    def speed(self):\n",
    "        print(f\"The {self.car_name} is running \")\n",
    "    \n",
    "    def sound(self):\n",
    "        print(f\"{self.car_name} sound is very loud\")\n",
    "        \n",
    "    def describe_car(self):\n",
    "        print(f\"\"\"\n",
    "        Car Model: {self.car_name}\n",
    "        Total Seats: {self.seats}\n",
    "        Tyres: {self.tyres}\n",
    "        Horn Sound: {self.horn}\n",
    "        Stairing Side: {self.stairing}\n",
    "        Break: {self.brake}\"\"\")"
   ]
  },
  {
   "cell_type": "code",
   "execution_count": 28,
   "id": "78d07b83",
   "metadata": {},
   "outputs": [],
   "source": [
    "c1=car(4,4,'left','gic','loud','aqua')"
   ]
  },
  {
   "cell_type": "code",
   "execution_count": 29,
   "id": "6db9df59",
   "metadata": {},
   "outputs": [
    {
     "name": "stdout",
     "output_type": "stream",
     "text": [
      "aqua sound is very loud\n"
     ]
    }
   ],
   "source": [
    "c1.sound()"
   ]
  },
  {
   "cell_type": "raw",
   "id": "12805bac",
   "metadata": {},
   "source": [
    "2. We make the sound function again in child class which is override on the previous sound function, so the point is that the different behaviour of the sound function which is shown in below program and above program is the different behaviour of same thing which is known as polymorphism "
   ]
  },
  {
   "cell_type": "code",
   "execution_count": 30,
   "id": "12faea98",
   "metadata": {},
   "outputs": [],
   "source": [
    "class electric_car(car):\n",
    "    def __init__(self,make,model,year,engine,seats,tyres,stairing,brake,horn,car_name):\n",
    "        \n",
    "        super().__init__(seats,tyres,stairing,brake,horn,car_name)\n",
    "        self.make=make\n",
    "        self.model=model\n",
    "        self.year=year\n",
    "        self.engine=engine\n",
    "        \n",
    "    def sound(self):\n",
    "        print(f\"{self.car_name} is running silently\")\n",
    "        \n",
    "            \n",
    "    def describe_electric_car(self):\n",
    "        print(f\"\"\"\n",
    "        Company: {self.make}\n",
    "        Model Name: {self.model}\n",
    "        Year: {self.year}\n",
    "        Engine Specification: {self.engine}\"\"\")"
   ]
  },
  {
   "cell_type": "code",
   "execution_count": 32,
   "id": "e5bbb743",
   "metadata": {},
   "outputs": [],
   "source": [
    "e1=electric_car('Honda','wq12',2018,'P201A',4,4,'left','huz','light','city')"
   ]
  },
  {
   "cell_type": "code",
   "execution_count": 33,
   "id": "64dee420",
   "metadata": {},
   "outputs": [
    {
     "name": "stdout",
     "output_type": "stream",
     "text": [
      "city is running silently\n"
     ]
    }
   ],
   "source": [
    "e1.sound()"
   ]
  },
  {
   "cell_type": "code",
   "execution_count": null,
   "id": "39498b81",
   "metadata": {},
   "outputs": [],
   "source": []
  }
 ],
 "metadata": {
  "kernelspec": {
   "display_name": "Python 3 (ipykernel)",
   "language": "python",
   "name": "python3"
  },
  "language_info": {
   "codemirror_mode": {
    "name": "ipython",
    "version": 3
   },
   "file_extension": ".py",
   "mimetype": "text/x-python",
   "name": "python",
   "nbconvert_exporter": "python",
   "pygments_lexer": "ipython3",
   "version": "3.9.13"
  }
 },
 "nbformat": 4,
 "nbformat_minor": 5
}
