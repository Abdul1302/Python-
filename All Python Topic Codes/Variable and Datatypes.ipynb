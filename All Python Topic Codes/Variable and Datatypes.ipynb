{
 "cells": [
  {
   "cell_type": "markdown",
   "id": "aa75efb9",
   "metadata": {},
   "source": [
    "# Data Types"
   ]
  },
  {
   "cell_type": "code",
   "execution_count": 3,
   "id": "19e5f66b",
   "metadata": {},
   "outputs": [],
   "source": [
    "#string(str)\n",
    "#integer(int)\n",
    "#float(float)\n",
    "#boolean(true/false)"
   ]
  },
  {
   "cell_type": "markdown",
   "id": "3107b5ca",
   "metadata": {},
   "source": [
    "# Variables"
   ]
  },
  {
   "cell_type": "code",
   "execution_count": 4,
   "id": "e1c9b0b4",
   "metadata": {},
   "outputs": [
    {
     "name": "stdout",
     "output_type": "stream",
     "text": [
      "Mhammad Abdul Rehman\n",
      "20\n"
     ]
    }
   ],
   "source": [
    "name=\"Mhammad Abdul Rehman\"\n",
    "age=20 #integer value\n",
    "\n",
    "\n",
    "print(name)\n",
    "print(age)"
   ]
  },
  {
   "cell_type": "code",
   "execution_count": 5,
   "id": "54fd7c84",
   "metadata": {},
   "outputs": [
    {
     "name": "stdout",
     "output_type": "stream",
     "text": [
      "Mhammad Abdul Rehman\n",
      "20.7\n"
     ]
    }
   ],
   "source": [
    "name=\"Mhammad Abdul Rehman\"\n",
    "age=20.7 #float value\n",
    "\n",
    "\n",
    "print(name)\n",
    "print(age)"
   ]
  },
  {
   "cell_type": "code",
   "execution_count": 7,
   "id": "88e5b8cb",
   "metadata": {},
   "outputs": [
    {
     "data": {
      "text/plain": [
       "1259904439696"
      ]
     },
     "execution_count": 7,
     "metadata": {},
     "output_type": "execute_result"
    }
   ],
   "source": [
    "\n",
    "id(age)"
   ]
  },
  {
   "cell_type": "code",
   "execution_count": 8,
   "id": "30e10541",
   "metadata": {},
   "outputs": [
    {
     "data": {
      "text/plain": [
       "1259904521920"
      ]
     },
     "execution_count": 8,
     "metadata": {},
     "output_type": "execute_result"
    }
   ],
   "source": [
    "id(name)"
   ]
  },
  {
   "cell_type": "code",
   "execution_count": 9,
   "id": "9cbe696a",
   "metadata": {},
   "outputs": [
    {
     "data": {
      "text/plain": [
       "float"
      ]
     },
     "execution_count": 9,
     "metadata": {},
     "output_type": "execute_result"
    }
   ],
   "source": [
    "type(name)\n",
    "\n",
    "type(age)"
   ]
  },
  {
   "cell_type": "code",
   "execution_count": 10,
   "id": "685c7ee9",
   "metadata": {},
   "outputs": [
    {
     "data": {
      "text/plain": [
       "str"
      ]
     },
     "execution_count": 10,
     "metadata": {},
     "output_type": "execute_result"
    }
   ],
   "source": [
    "type(name)"
   ]
  }
 ],
 "metadata": {
  "kernelspec": {
   "display_name": "Python 3 (ipykernel)",
   "language": "python",
   "name": "python3"
  },
  "language_info": {
   "codemirror_mode": {
    "name": "ipython",
    "version": 3
   },
   "file_extension": ".py",
   "mimetype": "text/x-python",
   "name": "python",
   "nbconvert_exporter": "python",
   "pygments_lexer": "ipython3",
   "version": "3.9.12"
  }
 },
 "nbformat": 4,
 "nbformat_minor": 5
}
