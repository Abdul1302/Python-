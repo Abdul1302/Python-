{
 "cells": [
  {
   "cell_type": "markdown",
   "id": "3b101511",
   "metadata": {},
   "source": [
    "# While Loop"
   ]
  },
  {
   "cell_type": "code",
   "execution_count": 2,
   "id": "c4fb7a1d",
   "metadata": {},
   "outputs": [
    {
     "name": "stdout",
     "output_type": "stream",
     "text": [
      "ASAD\n",
      "ALEEM\n",
      "ALI\n",
      "SARIM\n",
      "ABDUL REHMAN\n"
     ]
    }
   ],
   "source": [
    "names=['Asad','Aleem','Ali','sarim','Abdul Rehman']\n",
    "\n",
    "for name in names:\n",
    "    print(name.upper())"
   ]
  },
  {
   "cell_type": "code",
   "execution_count": 1,
   "id": "70582c2f",
   "metadata": {},
   "outputs": [
    {
     "name": "stdout",
     "output_type": "stream",
     "text": [
      "ASAD\n",
      "ALEEM\n",
      "ALI\n",
      "SARIM\n",
      "ABDUL REHMAN\n"
     ]
    }
   ],
   "source": [
    "names=['Asad','Aleem','Ali','sarim','Abdul Rehman']\n",
    "\n",
    "count=0\n",
    "while count<len(names):\n",
    "    print(names[count].upper())\n",
    "    count+=1    "
   ]
  },
  {
   "cell_type": "code",
   "execution_count": 2,
   "id": "29a1eee0",
   "metadata": {},
   "outputs": [
    {
     "name": "stdout",
     "output_type": "stream",
     "text": [
      "0 Python\n",
      "1 Python\n",
      "2 Python\n",
      "3 Python\n",
      "4 Python\n"
     ]
    }
   ],
   "source": [
    "count=0\n",
    "\n",
    "while count<5:\n",
    "    print(count,'Python')\n",
    "    count+=1"
   ]
  },
  {
   "cell_type": "code",
   "execution_count": 3,
   "id": "0fe0d6e9",
   "metadata": {},
   "outputs": [
    {
     "name": "stdout",
     "output_type": "stream",
     "text": [
      "10 Python\n",
      "9 Python\n",
      "8 Python\n",
      "7 Python\n",
      "6 Python\n",
      "5 Python\n",
      "4 Python\n",
      "3 Python\n",
      "2 Python\n",
      "1 Python\n"
     ]
    }
   ],
   "source": [
    "count=10\n",
    "\n",
    "while count>0:\n",
    "    print(count,'Python')\n",
    "    count-=1"
   ]
  },
  {
   "cell_type": "code",
   "execution_count": 22,
   "id": "81ae2f44",
   "metadata": {},
   "outputs": [
    {
     "name": "stdout",
     "output_type": "stream",
     "text": [
      "Even numbers\n",
      "0\n",
      "2\n",
      "4\n",
      "6\n",
      "8\n",
      "10\n",
      "12\n",
      "14\n",
      "16\n",
      "18\n"
     ]
    }
   ],
   "source": [
    "print(\"Even numbers\") \n",
    "count=0\n",
    "while count<20:\n",
    "    if count%2==0:\n",
    "        print(count)\n",
    "        \n",
    "    count+=1"
   ]
  },
  {
   "cell_type": "code",
   "execution_count": 1,
   "id": "2e0da58b",
   "metadata": {},
   "outputs": [
    {
     "name": "stdout",
     "output_type": "stream",
     "text": [
      "Odd numbers\n",
      "1\n",
      "3\n",
      "5\n",
      "7\n",
      "9\n",
      "11\n",
      "13\n",
      "15\n",
      "17\n",
      "19\n"
     ]
    }
   ],
   "source": [
    "print(\"Odd numbers\") \n",
    "count=0\n",
    "while count<20:\n",
    "    if count%2==1:\n",
    "        print(count)\n",
    "    count+=1    "
   ]
  },
  {
   "cell_type": "code",
   "execution_count": 1,
   "id": "18d9f7a5",
   "metadata": {},
   "outputs": [
    {
     "name": "stdout",
     "output_type": "stream",
     "text": [
      "Enter the number: 12\n",
      "144\n",
      "Enter the number: 34\n",
      "1156\n",
      "Enter the number: 56\n",
      "3136\n",
      "Enter the number: 43\n",
      "1849\n",
      "Enter the number: 99\n",
      "99 is multiple of eleven\n"
     ]
    }
   ],
   "source": [
    "while True:\n",
    "    num=int(input(\"Enter the number: \"))\n",
    "    if num%11==0:\n",
    "        print(f\"{num} is multiple of eleven\")\n",
    "        break\n",
    "    else:\n",
    "        print(num**2)"
   ]
  },
  {
   "cell_type": "code",
   "execution_count": 3,
   "id": "8c1ec885",
   "metadata": {},
   "outputs": [
    {
     "name": "stdout",
     "output_type": "stream",
     "text": [
      "Enter your best friends: Abdul Rehman\n",
      "Enter your best friends: Abdullah\n",
      "Enter your best friends: Usman\n",
      "Enter your best friends: aleem\n",
      "Enter your best friends: Ameen\n",
      "Enter your best friends: Aman\n",
      "Enter your best friends: Usman\n",
      "Enter your best friends: ali\n",
      "Enter your best friends: Najemm\n",
      "Enter your best friends: Taimoor\n",
      "Enter your best friends: Asad\n",
      "['Abdul Rehman', 'Abdullah', 'Usman', 'aleem', 'Ameen', 'Aman', 'Usman', 'ali', 'Najemm', 'Taimoor']\n"
     ]
    }
   ],
   "source": [
    "frnds=[]\n",
    "while True:\n",
    "    friend=input(\"Enter your best friends: \")\n",
    "    if friend=='Asad':\n",
    "        break\n",
    "    else:\n",
    "        frnds.append(friend)\n",
    "        \n",
    "print(frnds)        \n",
    "    "
   ]
  },
  {
   "cell_type": "code",
   "execution_count": 5,
   "id": "7c17aafe",
   "metadata": {},
   "outputs": [
    {
     "name": "stdout",
     "output_type": "stream",
     "text": [
      "Enter the number or press q to exit==  12\n",
      "Enter the number or press q to exit==  13\n",
      "Enter the number or press q to exit==  14\n",
      "Enter the number or press q to exit==  15\n",
      "Enter the number or press q to exit==  16\n",
      "Enter the number or press q to exit==  17\n",
      "Enter the number or press q to exit==  18\n",
      "Enter the number or press q to exit==  19\n",
      "Enter the number or press q to exit==  q\n",
      "[12, 13, 14, 15, 16, 17, 18, 19]\n",
      "124\n"
     ]
    }
   ],
   "source": [
    "total=[]\n",
    "\n",
    "while True:\n",
    "    num=input(\"Enter the number or press q to exit==  \")\n",
    "    if num=='q':\n",
    "        break\n",
    "        \n",
    "    else:\n",
    "        total.append(int(num))\n",
    "        \n",
    "print(total) \n",
    "\n",
    "print(sum(total))"
   ]
  },
  {
   "cell_type": "code",
   "execution_count": null,
   "id": "f02598f4",
   "metadata": {},
   "outputs": [],
   "source": []
  }
 ],
 "metadata": {
  "kernelspec": {
   "display_name": "Python 3 (ipykernel)",
   "language": "python",
   "name": "python3"
  },
  "language_info": {
   "codemirror_mode": {
    "name": "ipython",
    "version": 3
   },
   "file_extension": ".py",
   "mimetype": "text/x-python",
   "name": "python",
   "nbconvert_exporter": "python",
   "pygments_lexer": "ipython3",
   "version": "3.9.13"
  }
 },
 "nbformat": 4,
 "nbformat_minor": 5
}
