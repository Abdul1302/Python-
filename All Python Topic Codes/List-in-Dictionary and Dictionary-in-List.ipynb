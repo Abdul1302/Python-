{
 "cells": [
  {
   "cell_type": "markdown",
   "id": "095b470a",
   "metadata": {},
   "source": [
    "# List in Ditionary"
   ]
  },
  {
   "cell_type": "code",
   "execution_count": 1,
   "id": "1062a801",
   "metadata": {},
   "outputs": [],
   "source": [
    "dictionary={'name':'Abdul Rehman','age':20,'subjects':['Data Analysis','Algorithms','visual coding C#'],'roll no':1234}\n"
   ]
  },
  {
   "cell_type": "code",
   "execution_count": 2,
   "id": "7acea6c6",
   "metadata": {},
   "outputs": [
    {
     "data": {
      "text/plain": [
       "{'name': 'Abdul Rehman',\n",
       " 'age': 20,\n",
       " 'subjects': ['Data Analysis', 'Algorithms', 'visual coding C#'],\n",
       " 'roll no': 1234}"
      ]
     },
     "execution_count": 2,
     "metadata": {},
     "output_type": "execute_result"
    }
   ],
   "source": [
    "dictionary"
   ]
  },
  {
   "cell_type": "code",
   "execution_count": 3,
   "id": "d55fe892",
   "metadata": {},
   "outputs": [
    {
     "data": {
      "text/plain": [
       "['Data Analysis', 'Algorithms', 'visual coding C#']"
      ]
     },
     "execution_count": 3,
     "metadata": {},
     "output_type": "execute_result"
    }
   ],
   "source": [
    "dictionary['subjects']"
   ]
  },
  {
   "cell_type": "code",
   "execution_count": 6,
   "id": "8fd18771",
   "metadata": {},
   "outputs": [
    {
     "data": {
      "text/plain": [
       "['Algorithms']"
      ]
     },
     "execution_count": 6,
     "metadata": {},
     "output_type": "execute_result"
    }
   ],
   "source": [
    "#slicing of list in dictionary\n",
    "\n",
    "dictionary['subjects'][1:2]"
   ]
  },
  {
   "cell_type": "markdown",
   "id": "f4d766a3",
   "metadata": {},
   "source": [
    "# Dictionary in List"
   ]
  },
  {
   "cell_type": "code",
   "execution_count": 7,
   "id": "62d0c362",
   "metadata": {},
   "outputs": [],
   "source": [
    "school=[{'subjects':['math','chemistry','urdu','english']},\n",
    "        {'marks':[30,45,70,67,68]},\n",
    "        {'stdents':['abdullah','Ameen','Asad','Qaiser','ali']}]"
   ]
  },
  {
   "cell_type": "code",
   "execution_count": 8,
   "id": "2268d188",
   "metadata": {},
   "outputs": [
    {
     "name": "stdout",
     "output_type": "stream",
     "text": [
      "[{'subjects': ['math', 'chemistry', 'urdu', 'english']}, {'marks': [30, 45, 70, 67, 68]}, {'stdents': ['abdullah', 'Ameen', 'Asad', 'Qaiser', 'ali']}]\n"
     ]
    }
   ],
   "source": [
    "print(school)"
   ]
  },
  {
   "cell_type": "code",
   "execution_count": 9,
   "id": "f5f227b0",
   "metadata": {},
   "outputs": [
    {
     "data": {
      "text/plain": [
       "{'subjects': ['math', 'chemistry', 'urdu', 'english']}"
      ]
     },
     "execution_count": 9,
     "metadata": {},
     "output_type": "execute_result"
    }
   ],
   "source": [
    "school[0]"
   ]
  },
  {
   "cell_type": "code",
   "execution_count": 10,
   "id": "ed9dc3d4",
   "metadata": {},
   "outputs": [
    {
     "data": {
      "text/plain": [
       "{'marks': [30, 45, 70, 67, 68]}"
      ]
     },
     "execution_count": 10,
     "metadata": {},
     "output_type": "execute_result"
    }
   ],
   "source": [
    "school[1]"
   ]
  },
  {
   "cell_type": "code",
   "execution_count": 11,
   "id": "66e250e4",
   "metadata": {},
   "outputs": [
    {
     "data": {
      "text/plain": [
       "{'stdents': ['abdullah', 'Ameen', 'Asad', 'Qaiser', 'ali']}"
      ]
     },
     "execution_count": 11,
     "metadata": {},
     "output_type": "execute_result"
    }
   ],
   "source": [
    "school[2]"
   ]
  },
  {
   "cell_type": "code",
   "execution_count": 13,
   "id": "039273be",
   "metadata": {},
   "outputs": [
    {
     "data": {
      "text/plain": [
       "[{'marks': [30, 45, 70, 67, 68]},\n",
       " {'stdents': ['abdullah', 'Ameen', 'Asad', 'Qaiser', 'ali']}]"
      ]
     },
     "execution_count": 13,
     "metadata": {},
     "output_type": "execute_result"
    }
   ],
   "source": [
    "#slicing of dictionary in list\n",
    "school[1:3]"
   ]
  },
  {
   "cell_type": "code",
   "execution_count": null,
   "id": "2613d2d9",
   "metadata": {},
   "outputs": [],
   "source": []
  }
 ],
 "metadata": {
  "kernelspec": {
   "display_name": "Python 3 (ipykernel)",
   "language": "python",
   "name": "python3"
  },
  "language_info": {
   "codemirror_mode": {
    "name": "ipython",
    "version": 3
   },
   "file_extension": ".py",
   "mimetype": "text/x-python",
   "name": "python",
   "nbconvert_exporter": "python",
   "pygments_lexer": "ipython3",
   "version": "3.9.13"
  }
 },
 "nbformat": 4,
 "nbformat_minor": 5
}
