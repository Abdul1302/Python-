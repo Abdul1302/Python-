{
 "cells": [
  {
   "cell_type": "markdown",
   "id": "a780018a",
   "metadata": {},
   "source": [
    "# Test Exercise \n"
   ]
  },
  {
   "cell_type": "code",
   "execution_count": 8,
   "id": "2ed90817",
   "metadata": {},
   "outputs": [],
   "source": [
    "def findmax(arr):\n",
    "    maximum=0\n",
    "    for i in arr:\n",
    "        if i>maximum:\n",
    "            maximum=i\n",
    "    print(maximum)            "
   ]
  },
  {
   "cell_type": "code",
   "execution_count": 9,
   "id": "36c97c9a",
   "metadata": {},
   "outputs": [
    {
     "name": "stdout",
     "output_type": "stream",
     "text": [
      "5\n"
     ]
    }
   ],
   "source": [
    "findmax([2,3,5,4])"
   ]
  },
  {
   "cell_type": "code",
   "execution_count": 11,
   "id": "9a91e11c",
   "metadata": {},
   "outputs": [],
   "source": [
    "def count(text):\n",
    "    a=0\n",
    "    b=0\n",
    "    for char in text:\n",
    "        if char.isalpha():\n",
    "            a+=1\n",
    "        if char.isnumeric():\n",
    "            b+=1\n",
    "    print(\"Words= \",a)\n",
    "    print(\"digits= \",b)"
   ]
  },
  {
   "cell_type": "code",
   "execution_count": 12,
   "id": "f92dbe10",
   "metadata": {},
   "outputs": [
    {
     "name": "stdout",
     "output_type": "stream",
     "text": [
      "Words=  5\n",
      "digits=  4\n"
     ]
    }
   ],
   "source": [
    "count(\"abdul1302\")"
   ]
  },
  {
   "cell_type": "code",
   "execution_count": 25,
   "id": "34054a2e",
   "metadata": {},
   "outputs": [],
   "source": [
    "def maxword(text):\n",
    "    max_wordlength=0\n",
    "    my_word=\"\"\n",
    "    words=text.split(\" \")\n",
    "    for word in words:\n",
    "        if len(word) > max_wordlength:\n",
    "            my_word=word\n",
    "    return my_word     "
   ]
  },
  {
   "cell_type": "code",
   "execution_count": 26,
   "id": "7468efd3",
   "metadata": {},
   "outputs": [
    {
     "data": {
      "text/plain": [
       "'Rehman'"
      ]
     },
     "execution_count": 26,
     "metadata": {},
     "output_type": "execute_result"
    }
   ],
   "source": [
    "maxword(\"I am Abdul Rehman\")"
   ]
  },
  {
   "cell_type": "code",
   "execution_count": 29,
   "id": "fb3a3938",
   "metadata": {},
   "outputs": [],
   "source": [
    "class line():\n",
    "    def __init__(self,x1,y1,x2,y2):\n",
    "        self.point1=(x1,y1)\n",
    "        self.point2=(x2,y2)\n",
    "        \n",
    "    def isline(self):\n",
    "        if self.point1==self.point2:\n",
    "            print(\"Not line\")\n",
    "        else:\n",
    "            print(\"This is line\")\n",
    "            \n",
    "    def length(self):\n",
    "        distance = ((self.point2[0]-self.point1[0])**2  + (self.point2[1]-self.point1[1])**2)**.5\n",
    "        return distance\n",
    "    \n",
    "    def slope(self):\n",
    "        m = self.point2[1]-self.point1[1]  / self.point2[0]-self.point1[0]\n",
    "        return m \n",
    "    \n",
    "    def relation(self,m1,m2):\n",
    "        if m1==m2:\n",
    "            print(\"Lines are parallel\")\n",
    "            \n",
    "        if m1*m2==-1:\n",
    "            print(\"Lines are Perpendicular\")\n",
    "        \n",
    "        else:\n",
    "            print(\"Neither Parallel nor Perpendicular\")"
   ]
  },
  {
   "cell_type": "code",
   "execution_count": 30,
   "id": "a78297c3",
   "metadata": {},
   "outputs": [],
   "source": [
    "line1=line(2,4,6,8)"
   ]
  },
  {
   "cell_type": "code",
   "execution_count": 31,
   "id": "1a9f0ce7",
   "metadata": {},
   "outputs": [
    {
     "name": "stdout",
     "output_type": "stream",
     "text": [
      "This is line\n"
     ]
    }
   ],
   "source": [
    "line1.isline()"
   ]
  },
  {
   "cell_type": "code",
   "execution_count": 32,
   "id": "6ac2dc92",
   "metadata": {},
   "outputs": [
    {
     "data": {
      "text/plain": [
       "5.656854249492381"
      ]
     },
     "execution_count": 32,
     "metadata": {},
     "output_type": "execute_result"
    }
   ],
   "source": [
    "line1.length()"
   ]
  },
  {
   "cell_type": "code",
   "execution_count": 34,
   "id": "d2bf34da",
   "metadata": {},
   "outputs": [
    {
     "data": {
      "text/plain": [
       "5.333333333333333"
      ]
     },
     "execution_count": 34,
     "metadata": {},
     "output_type": "execute_result"
    }
   ],
   "source": [
    "m1=line1.slope()\n",
    "m1"
   ]
  },
  {
   "cell_type": "code",
   "execution_count": 35,
   "id": "eb5cfb76",
   "metadata": {},
   "outputs": [],
   "source": [
    "line2=line(1,3,5,7)"
   ]
  },
  {
   "cell_type": "code",
   "execution_count": 36,
   "id": "89ee843a",
   "metadata": {},
   "outputs": [
    {
     "name": "stdout",
     "output_type": "stream",
     "text": [
      "This is line\n"
     ]
    }
   ],
   "source": [
    "line2.isline()"
   ]
  },
  {
   "cell_type": "code",
   "execution_count": 37,
   "id": "968ccfc5",
   "metadata": {},
   "outputs": [
    {
     "data": {
      "text/plain": [
       "5.656854249492381"
      ]
     },
     "execution_count": 37,
     "metadata": {},
     "output_type": "execute_result"
    }
   ],
   "source": [
    "line2.length()"
   ]
  },
  {
   "cell_type": "code",
   "execution_count": 38,
   "id": "0cdb25ab",
   "metadata": {},
   "outputs": [
    {
     "data": {
      "text/plain": [
       "5.4"
      ]
     },
     "execution_count": 38,
     "metadata": {},
     "output_type": "execute_result"
    }
   ],
   "source": [
    "m2=line2.slope()\n",
    "m2"
   ]
  },
  {
   "cell_type": "code",
   "execution_count": 39,
   "id": "5ff3f310",
   "metadata": {},
   "outputs": [
    {
     "name": "stdout",
     "output_type": "stream",
     "text": [
      "Neither Parallel nor Perpendicular\n"
     ]
    }
   ],
   "source": [
    "line1.relation(m1,m2)"
   ]
  },
  {
   "cell_type": "code",
   "execution_count": 40,
   "id": "1b1db572",
   "metadata": {},
   "outputs": [
    {
     "name": "stdout",
     "output_type": "stream",
     "text": [
      "Neither Parallel nor Perpendicular\n"
     ]
    }
   ],
   "source": [
    "line2.relation(m1,m2)"
   ]
  },
  {
   "cell_type": "code",
   "execution_count": null,
   "id": "309af16d",
   "metadata": {},
   "outputs": [],
   "source": []
  }
 ],
 "metadata": {
  "kernelspec": {
   "display_name": "Python 3 (ipykernel)",
   "language": "python",
   "name": "python3"
  },
  "language_info": {
   "codemirror_mode": {
    "name": "ipython",
    "version": 3
   },
   "file_extension": ".py",
   "mimetype": "text/x-python",
   "name": "python",
   "nbconvert_exporter": "python",
   "pygments_lexer": "ipython3",
   "version": "3.9.13"
  }
 },
 "nbformat": 4,
 "nbformat_minor": 5
}
