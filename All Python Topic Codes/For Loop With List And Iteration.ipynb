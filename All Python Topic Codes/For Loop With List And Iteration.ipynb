{
 "cells": [
  {
   "cell_type": "markdown",
   "id": "3db8a19a",
   "metadata": {},
   "source": [
    "# for Loop"
   ]
  },
  {
   "cell_type": "code",
   "execution_count": 2,
   "id": "4da55533",
   "metadata": {},
   "outputs": [
    {
     "name": "stdout",
     "output_type": "stream",
     "text": [
      "0\n",
      "1\n",
      "2\n",
      "3\n",
      "4\n",
      "5\n",
      "6\n",
      "7\n",
      "8\n",
      "9\n",
      "10\n",
      "11\n",
      "12\n",
      "13\n",
      "14\n",
      "15\n",
      "16\n",
      "17\n",
      "18\n",
      "19\n"
     ]
    }
   ],
   "source": [
    "for i in range(20):\n",
    "    print(i)\n"
   ]
  },
  {
   "cell_type": "code",
   "execution_count": 3,
   "id": "f098a2f0",
   "metadata": {},
   "outputs": [
    {
     "name": "stdout",
     "output_type": "stream",
     "text": [
      "2\n",
      "3\n",
      "4\n",
      "5\n",
      "6\n",
      "7\n",
      "8\n",
      "9\n",
      "10\n",
      "11\n",
      "12\n",
      "13\n",
      "14\n",
      "15\n",
      "16\n",
      "17\n",
      "18\n",
      "19\n"
     ]
    }
   ],
   "source": [
    "for i in range(2,20):\n",
    "    print(i)\n"
   ]
  },
  {
   "cell_type": "code",
   "execution_count": 4,
   "id": "dd24a63e",
   "metadata": {},
   "outputs": [
    {
     "name": "stdout",
     "output_type": "stream",
     "text": [
      "1\n",
      "3\n",
      "5\n",
      "7\n",
      "9\n",
      "11\n",
      "13\n",
      "15\n",
      "17\n",
      "19\n"
     ]
    }
   ],
   "source": [
    "for i in range(1,20,2):\n",
    "    print(i)\n"
   ]
  },
  {
   "cell_type": "code",
   "execution_count": 6,
   "id": "17b77a61",
   "metadata": {},
   "outputs": [
    {
     "name": "stdout",
     "output_type": "stream",
     "text": [
      "3\n",
      "6\n",
      "9\n",
      "12\n",
      "15\n",
      "18\n",
      "21\n",
      "24\n",
      "27\n"
     ]
    }
   ],
   "source": [
    "for i in range(1,30):\n",
    "    if i%3==0:\n",
    "        print(i)\n"
   ]
  },
  {
   "cell_type": "markdown",
   "id": "c924ab8a",
   "metadata": {},
   "source": [
    "# for Loop with List"
   ]
  },
  {
   "cell_type": "code",
   "execution_count": 7,
   "id": "740779a9",
   "metadata": {},
   "outputs": [
    {
     "name": "stdout",
     "output_type": "stream",
     "text": [
      "[2, 4, 6, 8, 10, 12, 14, 16, 18, 20, 22, 24, 26, 28, 30, 32, 34, 36, 38, 40, 42, 44, 46, 48]\n",
      "[1, 3, 5, 7, 9, 11, 13, 15, 17, 19, 21, 23, 25, 27, 29, 31, 33, 35, 37, 39, 41, 43, 45, 47, 49]\n"
     ]
    }
   ],
   "source": [
    "even=[]\n",
    "odd=[]\n",
    "\n",
    "for i in range(1,50):\n",
    "    if i%2==0:\n",
    "        even.append(i)\n",
    "     \n",
    "    if i%2==1:\n",
    "        odd.append(i)\n",
    "        \n",
    "print(even)\n",
    "print(odd)"
   ]
  },
  {
   "cell_type": "markdown",
   "id": "be5530f2",
   "metadata": {},
   "source": [
    "# for Loop with List and nested If"
   ]
  },
  {
   "cell_type": "code",
   "execution_count": 8,
   "id": "950c74ef",
   "metadata": {},
   "outputs": [
    {
     "name": "stdout",
     "output_type": "stream",
     "text": [
      "[2, 4, 6, 8, 12, 14, 16, 18, 22, 24, 26, 28, 32, 34, 36, 38, 42, 44, 46, 48]\n",
      "[1, 3, 7, 9, 11, 13, 17, 19, 21, 23, 27, 29, 31, 33, 37, 39, 41, 43, 47, 49]\n"
     ]
    }
   ],
   "source": [
    "even=[]\n",
    "odd=[]\n",
    "\n",
    "for i in range(1,50):\n",
    "    if i%2==0:\n",
    "        if i%5!=0:\n",
    "            even.append(i)\n",
    "     \n",
    "    if i%2==1:\n",
    "        if i%5!=0:\n",
    "            odd.append(i)\n",
    "        \n",
    "print(even)\n",
    "print(odd)"
   ]
  },
  {
   "cell_type": "markdown",
   "id": "92feb4df",
   "metadata": {},
   "source": [
    "# Iterating over a list using for loop"
   ]
  },
  {
   "cell_type": "code",
   "execution_count": 9,
   "id": "69f3c2b3",
   "metadata": {},
   "outputs": [
    {
     "name": "stdout",
     "output_type": "stream",
     "text": [
      "Thanks for coming Mr.asad\n",
      "Thanks for coming Mr.hammad\n",
      "Thanks for coming Mr.ali\n",
      "Thanks for coming Mr.bilal\n",
      "Thanks for coming Mr.abdul rehman\n",
      "Thanks for coming Mr.usman\n",
      "Thanks for coming Mr.ameen\n"
     ]
    }
   ],
   "source": [
    "list1=['asad','hammad','ali','bilal','abdul rehman','usman','ameen']\n",
    "\n",
    "for name in list1:\n",
    "    print(f\"Thanks for coming Mr.{name}\")"
   ]
  },
  {
   "cell_type": "code",
   "execution_count": 1,
   "id": "47b88fb6",
   "metadata": {},
   "outputs": [
    {
     "name": "stdout",
     "output_type": "stream",
     "text": [
      "Tell me your guest name: asad\n",
      "Tell me your guest name: asad\n",
      "Tell me your guest name: nasir\n",
      "Tell me your guest name: ali\n",
      "Tell me your guest name: qasim\n",
      "Tell me your guest name: usman\n",
      "Tell me your guest name: ameen\n",
      "Tell me your guest name: umer\n",
      "Tell me your guest name: abdul rehman\n",
      "Tell me your guest name: faheem\n",
      "['nasir', 'ali', 'qasim', 'usman', 'ameen', 'umer', 'abdul rehman', 'faheem']\n"
     ]
    }
   ],
   "source": [
    "guestlist=[]\n",
    "\n",
    "for i in range(10):\n",
    "    guestname=input(\"Tell me your guest name: \")\n",
    "    if guestname=='asad':\n",
    "        continue\n",
    "    else:\n",
    "        guestlist.append(guestname)\n",
    "\n",
    "print(guestlist)        "
   ]
  },
  {
   "cell_type": "code",
   "execution_count": null,
   "id": "be4f75a4",
   "metadata": {},
   "outputs": [],
   "source": []
  },
  {
   "cell_type": "code",
   "execution_count": null,
   "id": "010e03fd",
   "metadata": {},
   "outputs": [],
   "source": []
  },
  {
   "cell_type": "code",
   "execution_count": null,
   "id": "ec1906f3",
   "metadata": {},
   "outputs": [],
   "source": []
  }
 ],
 "metadata": {
  "kernelspec": {
   "display_name": "Python 3 (ipykernel)",
   "language": "python",
   "name": "python3"
  },
  "language_info": {
   "codemirror_mode": {
    "name": "ipython",
    "version": 3
   },
   "file_extension": ".py",
   "mimetype": "text/x-python",
   "name": "python",
   "nbconvert_exporter": "python",
   "pygments_lexer": "ipython3",
   "version": "3.9.13"
  }
 },
 "nbformat": 4,
 "nbformat_minor": 5
}
