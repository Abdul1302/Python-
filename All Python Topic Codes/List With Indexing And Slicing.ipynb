{
 "cells": [
  {
   "cell_type": "markdown",
   "id": "cd3c82ad",
   "metadata": {},
   "source": [
    "# List"
   ]
  },
  {
   "cell_type": "code",
   "execution_count": null,
   "id": "0e57737d",
   "metadata": {},
   "outputs": [],
   "source": [
    "syntax:List[element1,element2,..........element n]"
   ]
  },
  {
   "cell_type": "code",
   "execution_count": 2,
   "id": "5fb28b2e",
   "metadata": {},
   "outputs": [
    {
     "name": "stdout",
     "output_type": "stream",
     "text": [
      "['asad', 'fawad', 'mehmmod', 'aleem', 'abdul rehman', 'ishaq', 'ameen', 'umer', 'ali']\n"
     ]
    }
   ],
   "source": [
    "students=[\"asad\",\"fawad\",\"mehmmod\",\"aleem\",\"abdul rehman\",\"ishaq\",\"ameen\",\"umer\",\"ali\"]\n",
    "#+ve index  0       1         2        3         4           5       6       7      8  \n",
    "#-ve index -9      -8        -7       -6        -5          -4      -3      -2     -1\n",
    "\n",
    "print(students)"
   ]
  },
  {
   "cell_type": "code",
   "execution_count": 3,
   "id": "24fa139b",
   "metadata": {},
   "outputs": [
    {
     "data": {
      "text/plain": [
       "['asad',\n",
       " 'fawad',\n",
       " 'mehmmod',\n",
       " 'aleem',\n",
       " 'abdul rehman',\n",
       " 'ishaq',\n",
       " 'ameen',\n",
       " 'umer',\n",
       " 'ali']"
      ]
     },
     "execution_count": 3,
     "metadata": {},
     "output_type": "execute_result"
    }
   ],
   "source": [
    "students"
   ]
  },
  {
   "cell_type": "code",
   "execution_count": 5,
   "id": "dd174df6",
   "metadata": {},
   "outputs": [
    {
     "data": {
      "text/plain": [
       "('aleem', 'ameen', 'ali', 'umer')"
      ]
     },
     "execution_count": 5,
     "metadata": {},
     "output_type": "execute_result"
    }
   ],
   "source": [
    "students[3],students[6],students[8],students[7]"
   ]
  },
  {
   "cell_type": "code",
   "execution_count": 8,
   "id": "99bf29ed",
   "metadata": {},
   "outputs": [
    {
     "name": "stdout",
     "output_type": "stream",
     "text": [
      "['asad', 'haroon', 'mehmmod', 'aleem', 'abdul rehman', 'ishaq', 'ameen', 'umer', 'ali']\n"
     ]
    }
   ],
   "source": [
    "#method of update a list\n",
    "\n",
    "students[1]='haroon'\n",
    "\n",
    "print(students)"
   ]
  },
  {
   "cell_type": "code",
   "execution_count": 9,
   "id": "9f07a5d8",
   "metadata": {},
   "outputs": [
    {
     "name": "stdout",
     "output_type": "stream",
     "text": [
      "['asad', 'haroon', 'mehmmod', 'aleem', 'abdul rehman', 'ishaq', 'umer', 'ali']\n"
     ]
    }
   ],
   "source": [
    "#delete the list value\n",
    "\n",
    "del students[6]\n",
    "\n",
    "print(students)"
   ]
  },
  {
   "cell_type": "code",
   "execution_count": 14,
   "id": "d00777f5",
   "metadata": {},
   "outputs": [
    {
     "name": "stdout",
     "output_type": "stream",
     "text": [
      "[['asad', 'haroon', 'mehmmod', 'aleem', 'abdul rehman', 'ishaq', 'umer', 'ali'], 'math', 'chemistry', 'english', 'physics']\n"
     ]
    }
   ],
   "source": [
    "#list in list updation\n",
    "\n",
    "courses=[students,\"math\",\"chemistry\",\"english\",\"physics\"]\n",
    "\n",
    "print(courses)"
   ]
  },
  {
   "cell_type": "code",
   "execution_count": 15,
   "id": "73424c66",
   "metadata": {},
   "outputs": [],
   "source": [
    "#adding any new value in list  \n",
    "courses.append('Urdu')"
   ]
  },
  {
   "cell_type": "code",
   "execution_count": 16,
   "id": "43ab044d",
   "metadata": {},
   "outputs": [
    {
     "name": "stdout",
     "output_type": "stream",
     "text": [
      "[['asad', 'haroon', 'mehmmod', 'aleem', 'abdul rehman', 'ishaq', 'umer', 'ali'], 'math', 'chemistry', 'english', 'physics', 'Urdu']\n"
     ]
    }
   ],
   "source": [
    "print(courses)"
   ]
  },
  {
   "cell_type": "code",
   "execution_count": 18,
   "id": "fa61b4a1",
   "metadata": {},
   "outputs": [],
   "source": [
    "#insert use for the value in specific location in list\n",
    "\n",
    "courses.insert(4,'Islamiat')\n",
    "\n"
   ]
  },
  {
   "cell_type": "code",
   "execution_count": 19,
   "id": "b0cfa74d",
   "metadata": {},
   "outputs": [
    {
     "name": "stdout",
     "output_type": "stream",
     "text": [
      "[['asad', 'haroon', 'mehmmod', 'aleem', 'abdul rehman', 'ishaq', 'umer', 'ali'], 'math', 'chemistry', 'english', 'Islamiat', 'physics', 'Urdu']\n"
     ]
    }
   ],
   "source": [
    "print(courses)"
   ]
  },
  {
   "cell_type": "code",
   "execution_count": 22,
   "id": "53a9fd0e",
   "metadata": {},
   "outputs": [
    {
     "name": "stdout",
     "output_type": "stream",
     "text": [
      "[['asad', 'haroon', 'mehmmod', 'aleem', 'abdul rehman', 'ishaq', 'umer', 'ali'], 'math', 'chemistry', 'english', 'Islamiat', 'physics', 'Urdu']\n"
     ]
    }
   ],
   "source": [
    "#we also initialize the list with another variable\n",
    "\n",
    "courses_value=courses\n",
    "\n",
    "print(courses_value)"
   ]
  },
  {
   "cell_type": "code",
   "execution_count": 23,
   "id": "d627e879",
   "metadata": {},
   "outputs": [
    {
     "name": "stdout",
     "output_type": "stream",
     "text": [
      "[['asad', 'haroon', 'mehmmod', 'aleem', 'abdul rehman', 'ishaq', 'umer', 'ali'], 'chemistry', 'english', 'Islamiat', 'physics', 'Urdu']\n"
     ]
    }
   ],
   "source": [
    "courses.remove('math')\n",
    "\n",
    "print(courses)"
   ]
  },
  {
   "cell_type": "code",
   "execution_count": 27,
   "id": "f76193ed",
   "metadata": {},
   "outputs": [],
   "source": [
    "#use to extand list by adding new values\n",
    "\n",
    "courses.extend([\"AI\",\"DS\"])"
   ]
  },
  {
   "cell_type": "code",
   "execution_count": 29,
   "id": "0d9ed293",
   "metadata": {},
   "outputs": [
    {
     "name": "stdout",
     "output_type": "stream",
     "text": [
      "[['asad', 'haroon', 'mehmmod', 'aleem', 'abdul rehman', 'ishaq', 'umer', 'ali'], 'chemistry', 'english', 'Islamiat', 'physics', 'Urdu', 'AI', 'DS']\n"
     ]
    }
   ],
   "source": [
    "print(courses)"
   ]
  },
  {
   "cell_type": "code",
   "execution_count": 31,
   "id": "1d66a218",
   "metadata": {},
   "outputs": [
    {
     "data": {
      "text/plain": [
       "97"
      ]
     },
     "execution_count": 31,
     "metadata": {},
     "output_type": "execute_result"
    }
   ],
   "source": [
    "ord('a')"
   ]
  },
  {
   "cell_type": "markdown",
   "id": "23e4bbec",
   "metadata": {},
   "source": [
    "# Indexing & Slicing"
   ]
  },
  {
   "cell_type": "code",
   "execution_count": null,
   "id": "133c26ce",
   "metadata": {},
   "outputs": [],
   "source": [
    "#Indexing\n",
    "\n",
    "numbers=[1,2,3,4,5,6,7,8,9]\n",
    "#+ve index  0       1         2        3         4           5       6       7      8  \n",
    "#-ve index -9      -8        -7       -6        -5          -4      -3      -2     -1"
   ]
  },
  {
   "cell_type": "code",
   "execution_count": 34,
   "id": "312d567b",
   "metadata": {},
   "outputs": [
    {
     "data": {
      "text/plain": [
       "5"
      ]
     },
     "execution_count": 34,
     "metadata": {},
     "output_type": "execute_result"
    }
   ],
   "source": [
    "numbers=[1,2,3,4,5,6,7,8,9]\n",
    "\n",
    "#indexing te fourth value in list and show in output\n",
    "numbers[4]"
   ]
  },
  {
   "cell_type": "code",
   "execution_count": 35,
   "id": "7a12e448",
   "metadata": {},
   "outputs": [
    {
     "data": {
      "text/plain": [
       "[2, 3, 4, 5, 6, 7]"
      ]
     },
     "execution_count": 35,
     "metadata": {},
     "output_type": "execute_result"
    }
   ],
   "source": [
    "#Slicing\n",
    "numbers[1:7]"
   ]
  },
  {
   "cell_type": "code",
   "execution_count": 36,
   "id": "d60cc9b0",
   "metadata": {},
   "outputs": [
    {
     "data": {
      "text/plain": [
       "[2, 4, 6]"
      ]
     },
     "execution_count": 36,
     "metadata": {},
     "output_type": "execute_result"
    }
   ],
   "source": [
    "numbers[1:7:2]"
   ]
  },
  {
   "cell_type": "code",
   "execution_count": 39,
   "id": "a7ddaa93",
   "metadata": {},
   "outputs": [
    {
     "data": {
      "text/plain": [
       "[3, 4, 5, 6, 7]"
      ]
     },
     "execution_count": 39,
     "metadata": {},
     "output_type": "execute_result"
    }
   ],
   "source": [
    "numbers[-7:-2]"
   ]
  },
  {
   "cell_type": "code",
   "execution_count": 41,
   "id": "d30e44df",
   "metadata": {},
   "outputs": [
    {
     "data": {
      "text/plain": [
       "[2, 4, 6]"
      ]
     },
     "execution_count": 41,
     "metadata": {},
     "output_type": "execute_result"
    }
   ],
   "source": [
    "numbers[-8:-3:2]"
   ]
  }
 ],
 "metadata": {
  "kernelspec": {
   "display_name": "Python 3 (ipykernel)",
   "language": "python",
   "name": "python3"
  },
  "language_info": {
   "codemirror_mode": {
    "name": "ipython",
    "version": 3
   },
   "file_extension": ".py",
   "mimetype": "text/x-python",
   "name": "python",
   "nbconvert_exporter": "python",
   "pygments_lexer": "ipython3",
   "version": "3.9.13"
  }
 },
 "nbformat": 4,
 "nbformat_minor": 5
}
