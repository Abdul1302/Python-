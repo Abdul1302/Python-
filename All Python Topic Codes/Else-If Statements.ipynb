{
 "cells": [
  {
   "cell_type": "markdown",
   "id": "52316329",
   "metadata": {},
   "source": [
    "# If Else Elif Statement"
   ]
  },
  {
   "cell_type": "markdown",
   "id": "dcccaf40",
   "metadata": {},
   "source": [
    "Mark Sheet"
   ]
  },
  {
   "cell_type": "code",
   "execution_count": 3,
   "id": "14843c0d",
   "metadata": {},
   "outputs": [
    {
     "name": "stdout",
     "output_type": "stream",
     "text": [
      "Enter your name:  Abdullah\n",
      "Enter chemistry marks: 70\n",
      "Enter physics marks: 80\n",
      "Enter math marks: 90\n",
      "Enter English marks: 67.4\n",
      "Enter Urdu marks: 55.7\n",
      "               CITY PUBLIC SCHOOL  \n",
      "      \n",
      "      \n",
      "     Your name is: Abdullah \n",
      "     Your Percentage is: 72.62\n",
      "     Your grade is :A+\n",
      "     \n"
     ]
    }
   ],
   "source": [
    "name=input(\"Enter your name:  \")\n",
    "sub1=float(input(\"Enter chemistry marks: \"))\n",
    "sub2=float(input(\"Enter physics marks: \"))\n",
    "sub3=float(input(\"Enter math marks: \"))\n",
    "sub4=float(input(\"Enter English marks: \"))\n",
    "sub5=float(input(\"Enter Urdu marks: \"))\n",
    "  \n",
    "obtained_marks=sub1+sub2+sub3+sub4+sub5\n",
    "total_marks=500\n",
    "percentage=(obtained_marks*100)/total_marks\n",
    "\n",
    "grade=None\n",
    "\n",
    "if percentage>=90 or percentage<=100:\n",
    "    grade='A+'\n",
    "elif percentage>=80 or percentage<90:\n",
    "    grade='A'\n",
    "elif percentage>=70 or percentage<80:\n",
    "    grade='B'\n",
    "elif percentage>=60 or percentage<70:\n",
    "    grade='C'    \n",
    "elif percentage>=50 or percentage<60:\n",
    "    grade='D'    \n",
    "else:\n",
    "    grade='F'    \n",
    "\n",
    "print(f\"\"\"               CITY PUBLIC SCHOOL  \n",
    "      \n",
    "      \n",
    "     Your name is: {name} \n",
    "     Your Percentage is: {percentage}\n",
    "     Your grade is :{grade}\n",
    "     \"\"\"\n",
    "      \n",
    "     \n",
    "     )    "
   ]
  },
  {
   "cell_type": "markdown",
   "id": "39ff078a",
   "metadata": {},
   "source": [
    "# Nested If's"
   ]
  },
  {
   "cell_type": "code",
   "execution_count": 6,
   "id": "90916aff",
   "metadata": {},
   "outputs": [
    {
     "name": "stdout",
     "output_type": "stream",
     "text": [
      "Enter your name: Abdul Rehman\n",
      "Enter your password3456\n",
      "your given password is invalid\n"
     ]
    }
   ],
   "source": [
    "user_name=\"Abdul Rehman\"\n",
    "user_password=1234\n",
    "\n",
    "name=input(\"Enter your name: \")\n",
    "\n",
    "\n",
    "if name==user_name:\n",
    "    password=int(input(\"Enter your password\"))\n",
    "    if password==user_password:\n",
    "        print(\"LOGIN APPROVED \")\n",
    "    else:\n",
    "        print(\"your given password is invalid\")\n",
    "else:\n",
    "    print(\"your given name is invalid\")"
   ]
  },
  {
   "cell_type": "code",
   "execution_count": 8,
   "id": "c5854f4c",
   "metadata": {},
   "outputs": [
    {
     "name": "stdout",
     "output_type": "stream",
     "text": [
      "Enter your name: Abdul Rehman\n",
      "Enter your password1234\n",
      "LOGIN APPROVED \n",
      "Enter your name:  Abdul Rehman\n",
      "Enter chemistry marks: 80\n",
      "Enter physics marks: 8\n",
      "Enter math marks: 78\n",
      "Enter English marks: 78\n",
      "Enter Urdu marks: 90\n",
      "               CITY PUBLIC SCHOOL  \n",
      "\n",
      "\n",
      "        Your name is: Abdul Rehman \n",
      "        Your Percentage is: 66.8\n",
      "        Your grade is :C\n",
      "        \n"
     ]
    }
   ],
   "source": [
    "user_name=\"Abdul Rehman\"\n",
    "user_password=1234\n",
    "\n",
    "name=input(\"Enter your name: \")\n",
    "\n",
    "\n",
    "if name==user_name:\n",
    "    password=int(input(\"Enter your password\"))\n",
    "    if password==user_password:\n",
    "        print(\"LOGIN APPROVED \")\n",
    "        name=input(\"Enter your name:  \")\n",
    "        sub1=float(input(\"Enter chemistry marks: \"))\n",
    "        sub2=float(input(\"Enter physics marks: \"))\n",
    "        sub3=float(input(\"Enter math marks: \"))\n",
    "        sub4=float(input(\"Enter English marks: \"))\n",
    "        sub5=float(input(\"Enter Urdu marks: \"))\n",
    "\n",
    "        obtained_marks=sub1+sub2+sub3+sub4+sub5\n",
    "        total_marks=500\n",
    "        percentage=(obtained_marks*100)/total_marks\n",
    "\n",
    "        grade=None\n",
    "\n",
    "        if percentage>=90 and percentage<=100:\n",
    "            grade='A+'\n",
    "        elif percentage>=80 and percentage<90:\n",
    "            grade='A'\n",
    "        elif percentage>=70 and percentage<80:\n",
    "            grade='B'\n",
    "        elif percentage>=60 and percentage<70:\n",
    "            grade='C'    \n",
    "        elif percentage>=50 and percentage<60:\n",
    "            grade='D'    \n",
    "        else:\n",
    "            grade='F'    \n",
    "\n",
    "        print(f\"\"\"               CITY PUBLIC SCHOOL  \n",
    "\n",
    "\n",
    "        Your name is: {name} \n",
    "        Your Percentage is: {percentage}\n",
    "        Your grade is :{grade}\n",
    "        \"\"\"\n",
    "             )    \n",
    "    else:\n",
    "        print(\"your given password is invalid\")\n",
    "else:\n",
    "    print(\"your given name is invalid\")\n",
    "        "
   ]
  },
  {
   "cell_type": "code",
   "execution_count": 9,
   "id": "937736d1",
   "metadata": {},
   "outputs": [
    {
     "name": "stdout",
     "output_type": "stream",
     "text": [
      "Enter your name: Abdul Rehman\n",
      "Enter your password3456\n",
      "your given password is invalid\n"
     ]
    }
   ],
   "source": [
    "user_name=\"Abdul Rehman\"\n",
    "user_password=1234\n",
    "\n",
    "name=input(\"Enter your name: \")\n",
    "\n",
    "\n",
    "if name==user_name:\n",
    "    password=int(input(\"Enter your password\"))\n",
    "    if password==user_password:\n",
    "        print(\"LOGIN APPROVED \")\n",
    "        name=input(\"Enter your name:  \")\n",
    "        sub1=float(input(\"Enter chemistry marks: \"))\n",
    "        sub2=float(input(\"Enter physics marks: \"))\n",
    "        sub3=float(input(\"Enter math marks: \"))\n",
    "        sub4=float(input(\"Enter English marks: \"))\n",
    "        sub5=float(input(\"Enter Urdu marks: \"))\n",
    "\n",
    "        obtained_marks=sub1+sub2+sub3+sub4+sub5\n",
    "        total_marks=500\n",
    "        percentage=(obtained_marks*100)/total_marks\n",
    "\n",
    "        grade=None\n",
    "\n",
    "        if percentage>=90 and percentage<=100:\n",
    "            grade='A+'\n",
    "        elif percentage>=80 and percentage<90:\n",
    "            grade='A'\n",
    "        elif percentage>=70 and percentage<80:\n",
    "            grade='B'\n",
    "        elif percentage>=60 and percentage<70:\n",
    "            grade='C'    \n",
    "        elif percentage>=50 and percentage<60:\n",
    "            grade='D'    \n",
    "        else:\n",
    "            grade='F'    \n",
    "\n",
    "        print(f\"\"\"               CITY PUBLIC SCHOOL  \n",
    "\n",
    "\n",
    "        Your name is: {name} \n",
    "        Your Percentage is: {percentage}\n",
    "        Your grade is :{grade}\n",
    "        \"\"\"\n",
    "             )    \n",
    "    else:\n",
    "        print(\"your given password is invalid\")\n",
    "else:\n",
    "    print(\"your given name is invalid\")\n",
    "        "
   ]
  },
  {
   "cell_type": "code",
   "execution_count": null,
   "id": "98c31181",
   "metadata": {},
   "outputs": [],
   "source": []
  }
 ],
 "metadata": {
  "kernelspec": {
   "display_name": "Python 3 (ipykernel)",
   "language": "python",
   "name": "python3"
  },
  "language_info": {
   "codemirror_mode": {
    "name": "ipython",
    "version": 3
   },
   "file_extension": ".py",
   "mimetype": "text/x-python",
   "name": "python",
   "nbconvert_exporter": "python",
   "pygments_lexer": "ipython3",
   "version": "3.9.13"
  }
 },
 "nbformat": 4,
 "nbformat_minor": 5
}
