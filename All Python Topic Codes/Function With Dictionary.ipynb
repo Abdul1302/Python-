{
 "cells": [
  {
   "cell_type": "markdown",
   "id": "c584c0c2",
   "metadata": {},
   "source": [
    "# Returning a Dictionory With Function"
   ]
  },
  {
   "cell_type": "code",
   "execution_count": 2,
   "id": "70cb261d",
   "metadata": {},
   "outputs": [],
   "source": [
    "def build_person(first_name,last_name,age=''):\n",
    "    person={\"First name\":first_name,\"Last_name\":last_name}\n",
    "    if age:\n",
    "        person['age']=age\n",
    "    return person"
   ]
  },
  {
   "cell_type": "code",
   "execution_count": 2,
   "id": "f3369d7d",
   "metadata": {},
   "outputs": [
    {
     "data": {
      "text/plain": [
       "{'First name': 'Abdul', 'Last_name': 'Rehman', 'age': '20'}"
      ]
     },
     "execution_count": 2,
     "metadata": {},
     "output_type": "execute_result"
    }
   ],
   "source": [
    "build_person('Abdul','Rehman','20')\n"
   ]
  },
  {
   "cell_type": "code",
   "execution_count": 3,
   "id": "2f9439bc",
   "metadata": {},
   "outputs": [],
   "source": [
    "build=build_person('Abdul','Rehman','20')\n"
   ]
  },
  {
   "cell_type": "code",
   "execution_count": 5,
   "id": "c3ffac14",
   "metadata": {},
   "outputs": [
    {
     "data": {
      "text/plain": [
       "{'First name': 'Abdul', 'Last_name': 'Rehman', 'age': '20'}"
      ]
     },
     "execution_count": 5,
     "metadata": {},
     "output_type": "execute_result"
    }
   ],
   "source": [
    "build"
   ]
  },
  {
   "cell_type": "code",
   "execution_count": 5,
   "id": "3a9f727b",
   "metadata": {},
   "outputs": [],
   "source": [
    "build=build_person('Abdullah','Zeeshan',16)"
   ]
  },
  {
   "cell_type": "code",
   "execution_count": 6,
   "id": "29f662b5",
   "metadata": {},
   "outputs": [
    {
     "data": {
      "text/plain": [
       "{'First name': 'Abdullah', 'Last_name': 'Zeeshan', 'age': 16}"
      ]
     },
     "execution_count": 6,
     "metadata": {},
     "output_type": "execute_result"
    }
   ],
   "source": [
    "build"
   ]
  },
  {
   "cell_type": "code",
   "execution_count": 7,
   "id": "8407c8aa",
   "metadata": {},
   "outputs": [],
   "source": [
    "names={'Abdullah','Abdul Rehman','Ameen','Aman','Ali','Owais'}"
   ]
  },
  {
   "cell_type": "code",
   "execution_count": 8,
   "id": "5ff91203",
   "metadata": {},
   "outputs": [],
   "source": [
    "def person_name():\n",
    "    for name in names:\n",
    "        print(name)"
   ]
  },
  {
   "cell_type": "code",
   "execution_count": 10,
   "id": "3c5e0e00",
   "metadata": {},
   "outputs": [
    {
     "name": "stdout",
     "output_type": "stream",
     "text": [
      "Owais\n",
      "Abdul Rehman\n",
      "Ameen\n",
      "Ali\n",
      "Aman\n",
      "Abdullah\n"
     ]
    }
   ],
   "source": [
    " person_name()"
   ]
  },
  {
   "cell_type": "code",
   "execution_count": 24,
   "id": "d1f423e2",
   "metadata": {},
   "outputs": [],
   "source": [
    "names=['Abdullah','Abdul Rehman','Ameen','Aman','Ali','Owais']"
   ]
  },
  {
   "cell_type": "code",
   "execution_count": 12,
   "id": "bc9d1705",
   "metadata": {},
   "outputs": [],
   "source": [
    "def person_name():\n",
    "    for name in names:\n",
    "        print(name)"
   ]
  },
  {
   "cell_type": "code",
   "execution_count": 13,
   "id": "340f541a",
   "metadata": {},
   "outputs": [
    {
     "name": "stdout",
     "output_type": "stream",
     "text": [
      "Abdullah\n",
      "Abdul Rehman\n",
      "Ameen\n",
      "Aman\n",
      "Ali\n",
      "Owais\n"
     ]
    }
   ],
   "source": [
    "person_name()"
   ]
  },
  {
   "cell_type": "code",
   "execution_count": 18,
   "id": "84edafdf",
   "metadata": {},
   "outputs": [],
   "source": [
    "def person_name():\n",
    "    for name in names:\n",
    "        print('Great'+\" \"+name)"
   ]
  },
  {
   "cell_type": "code",
   "execution_count": 19,
   "id": "80b3bfea",
   "metadata": {},
   "outputs": [
    {
     "name": "stdout",
     "output_type": "stream",
     "text": [
      "Great Abdullah\n",
      "Great Abdul Rehman\n",
      "Great Ameen\n",
      "Great Aman\n",
      "Great Ali\n",
      "Great Owais\n"
     ]
    }
   ],
   "source": [
    "person_name()"
   ]
  },
  {
   "cell_type": "code",
   "execution_count": 25,
   "id": "ee01d023",
   "metadata": {},
   "outputs": [],
   "source": [
    "def person_name():\n",
    "    for name in names:\n",
    "        print('Great'+\" \"+names.pop())"
   ]
  },
  {
   "cell_type": "code",
   "execution_count": 26,
   "id": "0d5381bc",
   "metadata": {},
   "outputs": [
    {
     "name": "stdout",
     "output_type": "stream",
     "text": [
      "Great Owais\n",
      "Great Ali\n",
      "Great Aman\n"
     ]
    }
   ],
   "source": [
    " person_name()"
   ]
  },
  {
   "cell_type": "code",
   "execution_count": 29,
   "id": "849211f6",
   "metadata": {},
   "outputs": [],
   "source": [
    "def pizza(*toppings):\n",
    "    for top in toppings:\n",
    "        print(top)"
   ]
  },
  {
   "cell_type": "code",
   "execution_count": 30,
   "id": "2340f026",
   "metadata": {},
   "outputs": [
    {
     "name": "stdout",
     "output_type": "stream",
     "text": [
      "pappareno\n",
      "double chees\n",
      "extra chicken\n"
     ]
    }
   ],
   "source": [
    "pizza('pappareno','double chees')\n",
    "pizza('extra chicken')"
   ]
  },
  {
   "cell_type": "code",
   "execution_count": 35,
   "id": "015b1710",
   "metadata": {},
   "outputs": [],
   "source": [
    "def build_profile(first,last,**user_profile):\n",
    "    profile={}\n",
    "    profile['First name']=first\n",
    "    profile['Last name']=last\n",
    "    \n",
    "    for key,value in user_profile.items():\n",
    "        profile[key]=value\n",
    "        \n",
    "        \n",
    "    return profile    \n",
    "        "
   ]
  },
  {
   "cell_type": "code",
   "execution_count": 36,
   "id": "7542aff7",
   "metadata": {},
   "outputs": [
    {
     "data": {
      "text/plain": [
       "{'First name': 'Abdul', 'Last name': 'Rehman'}"
      ]
     },
     "execution_count": 36,
     "metadata": {},
     "output_type": "execute_result"
    }
   ],
   "source": [
    " build_profile('Abdul','Rehman')"
   ]
  },
  {
   "cell_type": "code",
   "execution_count": 38,
   "id": "20a53f84",
   "metadata": {},
   "outputs": [
    {
     "data": {
      "text/plain": [
       "{'First name': 'Abdul',\n",
       " 'Last name': 'Rehman',\n",
       " 'education': 'Graduation',\n",
       " 'University': 'FAUUST'}"
      ]
     },
     "execution_count": 38,
     "metadata": {},
     "output_type": "execute_result"
    }
   ],
   "source": [
    " build_profile('Abdul','Rehman',education='Graduation',University='FAUUST')"
   ]
  },
  {
   "cell_type": "code",
   "execution_count": null,
   "id": "cf2ec7e7",
   "metadata": {},
   "outputs": [],
   "source": []
  }
 ],
 "metadata": {
  "kernelspec": {
   "display_name": "Python 3 (ipykernel)",
   "language": "python",
   "name": "python3"
  },
  "language_info": {
   "codemirror_mode": {
    "name": "ipython",
    "version": 3
   },
   "file_extension": ".py",
   "mimetype": "text/x-python",
   "name": "python",
   "nbconvert_exporter": "python",
   "pygments_lexer": "ipython3",
   "version": "3.9.13"
  }
 },
 "nbformat": 4,
 "nbformat_minor": 5
}
