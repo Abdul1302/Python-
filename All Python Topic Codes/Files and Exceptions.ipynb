{
 "cells": [
  {
   "cell_type": "code",
   "execution_count": 1,
   "id": "8cfb297c",
   "metadata": {},
   "outputs": [],
   "source": [
    "from collections import OrderedDict"
   ]
  },
  {
   "cell_type": "code",
   "execution_count": 4,
   "id": "ff5b1b5d",
   "metadata": {},
   "outputs": [
    {
     "name": "stdout",
     "output_type": "stream",
     "text": [
      "Abdul Rehman favourite food is Sea food\n",
      "Abdullah favourite food is Desi food\n"
     ]
    }
   ],
   "source": [
    "favourite_food=OrderedDict()\n",
    "\n",
    "favourite_food['Abdul Rehman']='Sea food'\n",
    "favourite_food['Abdullah']='Desi food'\n",
    "\n",
    "for name,food in favourite_food.items():\n",
    "    print(name + \" favourite food is \"+food)\n",
    "    "
   ]
  },
  {
   "cell_type": "markdown",
   "id": "2b967e2e",
   "metadata": {},
   "source": [
    "# Files & Exception"
   ]
  },
  {
   "cell_type": "code",
   "execution_count": 8,
   "id": "7acbadfd",
   "metadata": {},
   "outputs": [
    {
     "name": "stdout",
     "output_type": "stream",
     "text": [
      "Enter the first number: 4\n",
      "Enter the second number: 0\n",
      "Math Error\n"
     ]
    }
   ],
   "source": [
    "try:\n",
    "    num1=int(input(\"Enter the first number: \"))\n",
    "    num2=int(input(\"Enter the second number: \"))\n",
    "    result=num1/num2\n",
    "    \n",
    "except ValueError:\n",
    "    print(\"Invalid Syntax\")\n",
    "    \n",
    "except ZeroDivisionError:\n",
    "    print(\"Math Error\")\n",
    "    \n",
    "else:\n",
    "    print(result)"
   ]
  },
  {
   "cell_type": "code",
   "execution_count": null,
   "id": "4e1e83a7",
   "metadata": {},
   "outputs": [],
   "source": []
  }
 ],
 "metadata": {
  "kernelspec": {
   "display_name": "Python 3 (ipykernel)",
   "language": "python",
   "name": "python3"
  },
  "language_info": {
   "codemirror_mode": {
    "name": "ipython",
    "version": 3
   },
   "file_extension": ".py",
   "mimetype": "text/x-python",
   "name": "python",
   "nbconvert_exporter": "python",
   "pygments_lexer": "ipython3",
   "version": "3.9.13"
  }
 },
 "nbformat": 4,
 "nbformat_minor": 5
}
