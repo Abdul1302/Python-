{
 "cells": [
  {
   "cell_type": "markdown",
   "id": "5b38ef2f",
   "metadata": {},
   "source": [
    "# String Formation"
   ]
  },
  {
   "cell_type": "code",
   "execution_count": 1,
   "id": "4f2b0263",
   "metadata": {},
   "outputs": [
    {
     "name": "stdout",
     "output_type": "stream",
     "text": [
      "Enter your name: Abdul Rehman\n",
      "Enter yor age: 20.7\n",
      "Enter your field: BS Computer Science\n",
      "Dear your name is Abdul Rehman , Your age is 20.7 and your a BS Computer Science  student\n"
     ]
    }
   ],
   "source": [
    "name=input(\"Enter your name: \")\n",
    "age=float(input(\"Enter yor age: \"))\n",
    "field=input(\"Enter your field: \")\n",
    "\n",
    "print(\"Dear your name is {} , Your age is {} and your a {}  student\".format(name,age,field))"
   ]
  },
  {
   "cell_type": "markdown",
   "id": "3397c73e",
   "metadata": {},
   "source": [
    "# Multi String Formation"
   ]
  },
  {
   "cell_type": "code",
   "execution_count": 2,
   "id": "8758b6f7",
   "metadata": {},
   "outputs": [
    {
     "name": "stdout",
     "output_type": "stream",
     "text": [
      "\t\t Saylani Mass IT \n",
      "\n",
      " Name:Abdul Rehman \n",
      " course:AI & DS \n",
      " Timings: 7pm-10pm\n"
     ]
    }
   ],
   "source": [
    "print(\"\\t\\t Saylani Mass IT \\n\\n Name:Abdul Rehman \\n course:AI & DS \\n Timings: 7pm-10pm\")"
   ]
  },
  {
   "cell_type": "code",
   "execution_count": 1,
   "id": "bf9e8cce",
   "metadata": {},
   "outputs": [
    {
     "name": "stdout",
     "output_type": "stream",
     "text": [
      "Enter a program name: Saylani Mass IT\n",
      "Enter your name: Muhammad Abdul Rehman\n",
      "Enter your course name: Artificial Intellegence & Data Sciences\n",
      "Enter class timings: 7pm to 10pm\n",
      "           Saylani Mass IT\n",
      "Name: Muhammad Abdul Rehman\n",
      "courses: Artificial Intellegence & Data Sciences\n",
      "Timing:  7pm to 10pm\n"
     ]
    }
   ],
   "source": [
    "program=input(\"Enter a program name: \")\n",
    "name=input(\"Enter your name: \")\n",
    "course=input(\"Enter your course name: \")\n",
    "timing=input(\"Enter class timings: \")\n",
    "\n",
    "\n",
    "print(f\"\"\"           {program}\n",
    "Name: {name}\n",
    "courses: {course}\n",
    "Timing:  {timing}\"\"\")"
   ]
  }
 ],
 "metadata": {
  "kernelspec": {
   "display_name": "Python 3 (ipykernel)",
   "language": "python",
   "name": "python3"
  },
  "language_info": {
   "codemirror_mode": {
    "name": "ipython",
    "version": 3
   },
   "file_extension": ".py",
   "mimetype": "text/x-python",
   "name": "python",
   "nbconvert_exporter": "python",
   "pygments_lexer": "ipython3",
   "version": "3.9.13"
  }
 },
 "nbformat": 4,
 "nbformat_minor": 5
}
