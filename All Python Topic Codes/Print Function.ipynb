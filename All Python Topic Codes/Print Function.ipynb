{
 "cells": [
  {
   "cell_type": "markdown",
   "id": "26ce7361",
   "metadata": {},
   "source": [
    "# Print Function"
   ]
  },
  {
   "cell_type": "code",
   "execution_count": 1,
   "id": "8be2b0f1",
   "metadata": {},
   "outputs": [
    {
     "name": "stdout",
     "output_type": "stream",
     "text": [
      "Long LIve Pakistan\n"
     ]
    }
   ],
   "source": [
    "print(\"Long LIve Pakistan\")"
   ]
  },
  {
   "cell_type": "code",
   "execution_count": 2,
   "id": "7a1f15c5",
   "metadata": {},
   "outputs": [
    {
     "name": "stdout",
     "output_type": "stream",
     "text": [
      "Pakistan<<<<<<<<<!4 August<<<<<<<<<1947<<<<<<<<<True<<<<<<<<<False\n"
     ]
    }
   ],
   "source": [
    "print(\"Pakistan\", \"!4 August\",1947,True,False,sep=\"<<<<<<<<<\")"
   ]
  },
  {
   "cell_type": "code",
   "execution_count": 2,
   "id": "5138c148",
   "metadata": {},
   "outputs": [
    {
     "name": "stdout",
     "output_type": "stream",
     "text": [
      "Hello Pakistan\t\t\tHello world\n"
     ]
    }
   ],
   "source": [
    "print(\"Hello Pakistan\",end=\"\\t\\t\\t\")    \n",
    "print(\"Hello world\")"
   ]
  },
  {
   "cell_type": "code",
   "execution_count": null,
   "id": "8512c66d",
   "metadata": {},
   "outputs": [],
   "source": []
  }
 ],
 "metadata": {
  "kernelspec": {
   "display_name": "Python 3 (ipykernel)",
   "language": "python",
   "name": "python3"
  },
  "language_info": {
   "codemirror_mode": {
    "name": "ipython",
    "version": 3
   },
   "file_extension": ".py",
   "mimetype": "text/x-python",
   "name": "python",
   "nbconvert_exporter": "python",
   "pygments_lexer": "ipython3",
   "version": "3.9.12"
  }
 },
 "nbformat": 4,
 "nbformat_minor": 5
}
