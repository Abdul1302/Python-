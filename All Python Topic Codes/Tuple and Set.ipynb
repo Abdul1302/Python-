{
 "cells": [
  {
   "cell_type": "markdown",
   "id": "c29d5f25",
   "metadata": {},
   "source": [
    "# Tuple"
   ]
  },
  {
   "cell_type": "code",
   "execution_count": 19,
   "id": "485539cc",
   "metadata": {},
   "outputs": [],
   "source": [
    "Tuple=()"
   ]
  },
  {
   "cell_type": "code",
   "execution_count": 20,
   "id": "5cb7f616",
   "metadata": {},
   "outputs": [
    {
     "data": {
      "text/plain": [
       "tuple"
      ]
     },
     "execution_count": 20,
     "metadata": {},
     "output_type": "execute_result"
    }
   ],
   "source": [
    "type(Tuple)"
   ]
  },
  {
   "cell_type": "code",
   "execution_count": 1,
   "id": "83f42c14",
   "metadata": {},
   "outputs": [
    {
     "data": {
      "text/plain": [
       "(1, 2, 3, 4, 5)"
      ]
     },
     "execution_count": 1,
     "metadata": {},
     "output_type": "execute_result"
    }
   ],
   "source": [
    "marks=(1,2,3,4,5)\n",
    "\n",
    "marks"
   ]
  },
  {
   "cell_type": "code",
   "execution_count": 2,
   "id": "2087b5a5",
   "metadata": {},
   "outputs": [
    {
     "data": {
      "text/plain": [
       "2"
      ]
     },
     "execution_count": 2,
     "metadata": {},
     "output_type": "execute_result"
    }
   ],
   "source": [
    "marks[1]"
   ]
  },
  {
   "cell_type": "code",
   "execution_count": 4,
   "id": "5c6ba312",
   "metadata": {},
   "outputs": [
    {
     "data": {
      "text/plain": [
       "4"
      ]
     },
     "execution_count": 4,
     "metadata": {},
     "output_type": "execute_result"
    }
   ],
   "source": [
    "marks[3]"
   ]
  },
  {
   "cell_type": "code",
   "execution_count": 5,
   "id": "6df6d7ae",
   "metadata": {},
   "outputs": [
    {
     "ename": "TypeError",
     "evalue": "'tuple' object does not support item assignment",
     "output_type": "error",
     "traceback": [
      "\u001b[1;31m---------------------------------------------------------------------------\u001b[0m",
      "\u001b[1;31mTypeError\u001b[0m                                 Traceback (most recent call last)",
      "Input \u001b[1;32mIn [5]\u001b[0m, in \u001b[0;36m<cell line: 1>\u001b[1;34m()\u001b[0m\n\u001b[1;32m----> 1\u001b[0m marks[\u001b[38;5;241m3\u001b[39m]\u001b[38;5;241m=\u001b[39m\u001b[38;5;124m\"\u001b[39m\u001b[38;5;124mAbdul Rehman\u001b[39m\u001b[38;5;124m\"\u001b[39m\n",
      "\u001b[1;31mTypeError\u001b[0m: 'tuple' object does not support item assignment"
     ]
    }
   ],
   "source": [
    "marks[3]=\"Abdul Rehman\" #can't update the value"
   ]
  },
  {
   "cell_type": "markdown",
   "id": "9a552d46",
   "metadata": {},
   "source": [
    "# Mixed objects in Tuple"
   ]
  },
  {
   "cell_type": "code",
   "execution_count": 6,
   "id": "7541d913",
   "metadata": {},
   "outputs": [
    {
     "data": {
      "text/plain": [
       "([102, 102, 101, 103, 107],\n",
       " {'Abdul Rehman': 67, 'Abdullah': 92, 'Ameen': 89},\n",
       " (12, 13, 45, 56),\n",
       " 'Mehmood',\n",
       " False)"
      ]
     },
     "execution_count": 6,
     "metadata": {},
     "output_type": "execute_result"
    }
   ],
   "source": [
    "school=([102,102,101,103,107],{'Abdul Rehman':67,'Abdullah':78,'Ameen':89,'Abdullah':92},\n",
    "        (12,13,45,56),'Mehmood',False)\n",
    "\n",
    "school"
   ]
  },
  {
   "cell_type": "code",
   "execution_count": 7,
   "id": "0ac113f4",
   "metadata": {},
   "outputs": [
    {
     "data": {
      "text/plain": [
       "{'Abdul Rehman': 67, 'Abdullah': 92, 'Ameen': 89}"
      ]
     },
     "execution_count": 7,
     "metadata": {},
     "output_type": "execute_result"
    }
   ],
   "source": [
    "school[1]"
   ]
  },
  {
   "cell_type": "code",
   "execution_count": 10,
   "id": "368c4450",
   "metadata": {},
   "outputs": [],
   "source": [
    "school[0][2]=678   #update the list value in the tuple but can't be able to update tuple "
   ]
  },
  {
   "cell_type": "code",
   "execution_count": 11,
   "id": "6da5979c",
   "metadata": {},
   "outputs": [
    {
     "data": {
      "text/plain": [
       "[102, 102, 678, 103, 107]"
      ]
     },
     "execution_count": 11,
     "metadata": {},
     "output_type": "execute_result"
    }
   ],
   "source": [
    "school[0]"
   ]
  },
  {
   "cell_type": "code",
   "execution_count": 12,
   "id": "1556dc17",
   "metadata": {},
   "outputs": [
    {
     "data": {
      "text/plain": [
       "{'Abdul Rehman': 67, 'Abdullah': 92, 'Ameen': 89, 2: 678}"
      ]
     },
     "execution_count": 12,
     "metadata": {},
     "output_type": "execute_result"
    }
   ],
   "source": [
    "school[1]"
   ]
  },
  {
   "cell_type": "code",
   "execution_count": 13,
   "id": "5a543cae",
   "metadata": {},
   "outputs": [],
   "source": [
    "school[1][1]='Usman' #add the value to dictionary in the tuple"
   ]
  },
  {
   "cell_type": "code",
   "execution_count": 14,
   "id": "403ac994",
   "metadata": {},
   "outputs": [
    {
     "data": {
      "text/plain": [
       "{'Abdul Rehman': 67, 'Abdullah': 92, 'Ameen': 89, 2: 678, 1: 'Usman'}"
      ]
     },
     "execution_count": 14,
     "metadata": {},
     "output_type": "execute_result"
    }
   ],
   "source": [
    "school[1]"
   ]
  },
  {
   "cell_type": "code",
   "execution_count": 18,
   "id": "bdc51d1e",
   "metadata": {},
   "outputs": [
    {
     "data": {
      "text/plain": [
       "89"
      ]
     },
     "execution_count": 18,
     "metadata": {},
     "output_type": "execute_result"
    }
   ],
   "source": [
    "school[1]['Ameen']"
   ]
  },
  {
   "cell_type": "markdown",
   "id": "f4988b68",
   "metadata": {},
   "source": [
    "# Sets"
   ]
  },
  {
   "cell_type": "code",
   "execution_count": 21,
   "id": "04d253b0",
   "metadata": {},
   "outputs": [
    {
     "data": {
      "text/plain": [
       "set"
      ]
     },
     "execution_count": 21,
     "metadata": {},
     "output_type": "execute_result"
    }
   ],
   "source": [
    "number={1,2,3,4}\n",
    "\n",
    "type(number)"
   ]
  },
  {
   "cell_type": "code",
   "execution_count": 22,
   "id": "c9e86b7e",
   "metadata": {},
   "outputs": [
    {
     "data": {
      "text/plain": [
       "{1, 2, 3, 4}"
      ]
     },
     "execution_count": 22,
     "metadata": {},
     "output_type": "execute_result"
    }
   ],
   "source": [
    "number"
   ]
  },
  {
   "cell_type": "code",
   "execution_count": 24,
   "id": "66f5b8f2",
   "metadata": {},
   "outputs": [],
   "source": [
    "number.add(5)"
   ]
  },
  {
   "cell_type": "code",
   "execution_count": 25,
   "id": "c43cad91",
   "metadata": {},
   "outputs": [
    {
     "data": {
      "text/plain": [
       "{1, 2, 3, 4, 5}"
      ]
     },
     "execution_count": 25,
     "metadata": {},
     "output_type": "execute_result"
    }
   ],
   "source": [
    "number"
   ]
  },
  {
   "cell_type": "code",
   "execution_count": 26,
   "id": "13d05744",
   "metadata": {},
   "outputs": [
    {
     "data": {
      "text/plain": [
       "[22, 33, 45, 22, 67, 33]"
      ]
     },
     "execution_count": 26,
     "metadata": {},
     "output_type": "execute_result"
    }
   ],
   "source": [
    "list1=[22,33,45,22,67,33]\n",
    "\n",
    "list1"
   ]
  },
  {
   "cell_type": "code",
   "execution_count": 27,
   "id": "cbf8d9e3",
   "metadata": {},
   "outputs": [
    {
     "data": {
      "text/plain": [
       "{22, 33, 45, 67}"
      ]
     },
     "execution_count": 27,
     "metadata": {},
     "output_type": "execute_result"
    }
   ],
   "source": [
    "set(list1) #on conversion of list into set so it saves only a unique value that means, \n",
    "            #it saves only a unique value in a set"
   ]
  },
  {
   "cell_type": "code",
   "execution_count": null,
   "id": "6edb1826",
   "metadata": {},
   "outputs": [],
   "source": []
  }
 ],
 "metadata": {
  "kernelspec": {
   "display_name": "Python 3 (ipykernel)",
   "language": "python",
   "name": "python3"
  },
  "language_info": {
   "codemirror_mode": {
    "name": "ipython",
    "version": 3
   },
   "file_extension": ".py",
   "mimetype": "text/x-python",
   "name": "python",
   "nbconvert_exporter": "python",
   "pygments_lexer": "ipython3",
   "version": "3.9.13"
  }
 },
 "nbformat": 4,
 "nbformat_minor": 5
}
