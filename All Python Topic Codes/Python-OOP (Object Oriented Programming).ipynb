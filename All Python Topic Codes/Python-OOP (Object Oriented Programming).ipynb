{
 "cells": [
  {
   "cell_type": "markdown",
   "id": "846baece",
   "metadata": {},
   "source": [
    "# OOP"
   ]
  },
  {
   "cell_type": "markdown",
   "id": "110e9f88",
   "metadata": {},
   "source": [
    "# OBJECTS & CLASSES"
   ]
  },
  {
   "cell_type": "code",
   "execution_count": 22,
   "id": "fc3dc6c0",
   "metadata": {},
   "outputs": [],
   "source": [
    "class student():\n",
    "    name=\"Abdul Rehman\"\n",
    "    roll_no=1020\n",
    "    course='Data Sciences'\n",
    "    location=\"Gulshan\"\n",
    "    \n",
    "    def study(self):\n",
    "        print(f\"Abdul Rehman in studying\")\n",
    "    \n",
    "    def exam(self):\n",
    "        print(f\"Abdul Rehman is giving an exam \")\n",
    "    \n",
    "    def fee(self):\n",
    "        print(f\"Abdul Rehman is submitted his fee \")"
   ]
  },
  {
   "cell_type": "code",
   "execution_count": 7,
   "id": "99136493",
   "metadata": {},
   "outputs": [
    {
     "data": {
      "text/plain": [
       "'Abdul Rehman'"
      ]
     },
     "execution_count": 7,
     "metadata": {},
     "output_type": "execute_result"
    }
   ],
   "source": [
    "student.name"
   ]
  },
  {
   "cell_type": "code",
   "execution_count": 8,
   "id": "edd7f345",
   "metadata": {},
   "outputs": [
    {
     "data": {
      "text/plain": [
       "1020"
      ]
     },
     "execution_count": 8,
     "metadata": {},
     "output_type": "execute_result"
    }
   ],
   "source": [
    "student.roll_no"
   ]
  },
  {
   "cell_type": "code",
   "execution_count": 9,
   "id": "717546e6",
   "metadata": {},
   "outputs": [
    {
     "data": {
      "text/plain": [
       "'Data Sciences'"
      ]
     },
     "execution_count": 9,
     "metadata": {},
     "output_type": "execute_result"
    }
   ],
   "source": [
    "student.course"
   ]
  },
  {
   "cell_type": "code",
   "execution_count": 10,
   "id": "d4c69a81",
   "metadata": {},
   "outputs": [
    {
     "data": {
      "text/plain": [
       "'Gulshan'"
      ]
     },
     "execution_count": 10,
     "metadata": {},
     "output_type": "execute_result"
    }
   ],
   "source": [
    "student.location"
   ]
  },
  {
   "cell_type": "code",
   "execution_count": 13,
   "id": "dffd64a4",
   "metadata": {},
   "outputs": [
    {
     "name": "stdout",
     "output_type": "stream",
     "text": [
      "Abdul Rehman in studying\n"
     ]
    }
   ],
   "source": [
    "student.study()"
   ]
  },
  {
   "cell_type": "code",
   "execution_count": 14,
   "id": "df33f6b7",
   "metadata": {},
   "outputs": [
    {
     "name": "stdout",
     "output_type": "stream",
     "text": [
      "Abdul Rehman is giving an exam \n"
     ]
    }
   ],
   "source": [
    "student.exam()"
   ]
  },
  {
   "cell_type": "code",
   "execution_count": 15,
   "id": "e7be502a",
   "metadata": {},
   "outputs": [
    {
     "name": "stdout",
     "output_type": "stream",
     "text": [
      "Abdul Rehman is submitted his fee \n"
     ]
    }
   ],
   "source": [
    "student.fee()"
   ]
  },
  {
   "cell_type": "code",
   "execution_count": 23,
   "id": "f3d8690e",
   "metadata": {},
   "outputs": [],
   "source": [
    "s1=student()"
   ]
  },
  {
   "cell_type": "code",
   "execution_count": 24,
   "id": "04dd461e",
   "metadata": {},
   "outputs": [
    {
     "data": {
      "text/plain": [
       "'Abdul Rehman'"
      ]
     },
     "execution_count": 24,
     "metadata": {},
     "output_type": "execute_result"
    }
   ],
   "source": [
    "s1.name"
   ]
  },
  {
   "cell_type": "code",
   "execution_count": 25,
   "id": "d80f7bad",
   "metadata": {},
   "outputs": [
    {
     "data": {
      "text/plain": [
       "'Gulshan'"
      ]
     },
     "execution_count": 25,
     "metadata": {},
     "output_type": "execute_result"
    }
   ],
   "source": [
    "s1.location"
   ]
  },
  {
   "cell_type": "code",
   "execution_count": 26,
   "id": "e1e2531a",
   "metadata": {},
   "outputs": [
    {
     "name": "stdout",
     "output_type": "stream",
     "text": [
      "Abdul Rehman in studying\n"
     ]
    }
   ],
   "source": [
    "s1.study()"
   ]
  },
  {
   "cell_type": "code",
   "execution_count": 27,
   "id": "e9881a7c",
   "metadata": {},
   "outputs": [
    {
     "name": "stdout",
     "output_type": "stream",
     "text": [
      "Abdul Rehman is giving an exam \n"
     ]
    }
   ],
   "source": [
    "s1.exam()"
   ]
  },
  {
   "cell_type": "code",
   "execution_count": 46,
   "id": "e748e2fa",
   "metadata": {},
   "outputs": [],
   "source": [
    "class Teacher():\n",
    "    def __init__(self,name,teach_class,school):\n",
    "        self.name=name\n",
    "        self.teach_class=teach_class\n",
    "        self.school=school\n",
    "        \n",
    "    def names(self):\n",
    "        print(f\"my name is {self.name}\")\n",
    "        \n",
    "    def teach(self):\n",
    "        print(f\"i am teaching class{self.teach_class}\")\n",
    "        \n",
    "    def schools(self):\n",
    "        print(f\"i am from {self.school} school\")"
   ]
  },
  {
   "cell_type": "code",
   "execution_count": 47,
   "id": "ce009726",
   "metadata": {},
   "outputs": [],
   "source": [
    "a1=Teacher('abdullah',8,'educator')"
   ]
  },
  {
   "cell_type": "code",
   "execution_count": 48,
   "id": "4cf0b7aa",
   "metadata": {},
   "outputs": [
    {
     "data": {
      "text/plain": [
       "'abdullah'"
      ]
     },
     "execution_count": 48,
     "metadata": {},
     "output_type": "execute_result"
    }
   ],
   "source": [
    "a1.name"
   ]
  },
  {
   "cell_type": "code",
   "execution_count": 49,
   "id": "35f5fb7e",
   "metadata": {},
   "outputs": [
    {
     "name": "stdout",
     "output_type": "stream",
     "text": [
      "my name is abdullah\n"
     ]
    }
   ],
   "source": [
    "a1.names()"
   ]
  },
  {
   "cell_type": "code",
   "execution_count": 50,
   "id": "45e60f54",
   "metadata": {},
   "outputs": [
    {
     "name": "stdout",
     "output_type": "stream",
     "text": [
      "i am teaching class8\n"
     ]
    }
   ],
   "source": [
    "a1.teach()"
   ]
  },
  {
   "cell_type": "code",
   "execution_count": 53,
   "id": "79917577",
   "metadata": {},
   "outputs": [
    {
     "name": "stdout",
     "output_type": "stream",
     "text": [
      "i am from educator school\n"
     ]
    }
   ],
   "source": [
    "a1.schools()"
   ]
  },
  {
   "cell_type": "code",
   "execution_count": 54,
   "id": "f9cfddc3",
   "metadata": {},
   "outputs": [],
   "source": [
    "a2=Teacher('Abdul Rehman',9,'Becon Askari')"
   ]
  },
  {
   "cell_type": "code",
   "execution_count": 55,
   "id": "f5665942",
   "metadata": {},
   "outputs": [
    {
     "data": {
      "text/plain": [
       "'Abdul Rehman'"
      ]
     },
     "execution_count": 55,
     "metadata": {},
     "output_type": "execute_result"
    }
   ],
   "source": [
    "a2.name"
   ]
  },
  {
   "cell_type": "code",
   "execution_count": 58,
   "id": "8c8060b4",
   "metadata": {},
   "outputs": [
    {
     "data": {
      "text/plain": [
       "9"
      ]
     },
     "execution_count": 58,
     "metadata": {},
     "output_type": "execute_result"
    }
   ],
   "source": [
    "a2.teach_class"
   ]
  },
  {
   "cell_type": "code",
   "execution_count": 59,
   "id": "c471bf60",
   "metadata": {},
   "outputs": [
    {
     "data": {
      "text/plain": [
       "'Becon Askari'"
      ]
     },
     "execution_count": 59,
     "metadata": {},
     "output_type": "execute_result"
    }
   ],
   "source": [
    "a2.school"
   ]
  },
  {
   "cell_type": "code",
   "execution_count": 60,
   "id": "e6a77ec1",
   "metadata": {},
   "outputs": [
    {
     "name": "stdout",
     "output_type": "stream",
     "text": [
      "my name is Abdul Rehman\n"
     ]
    }
   ],
   "source": [
    "a2.names()"
   ]
  },
  {
   "cell_type": "code",
   "execution_count": 62,
   "id": "bf3db59a",
   "metadata": {},
   "outputs": [
    {
     "name": "stdout",
     "output_type": "stream",
     "text": [
      "i am teaching class9\n"
     ]
    }
   ],
   "source": [
    "a2.teach()"
   ]
  },
  {
   "cell_type": "code",
   "execution_count": 63,
   "id": "324a4ee2",
   "metadata": {},
   "outputs": [
    {
     "name": "stdout",
     "output_type": "stream",
     "text": [
      "i am from Becon Askari school\n"
     ]
    }
   ],
   "source": [
    "a2.schools()"
   ]
  },
  {
   "cell_type": "code",
   "execution_count": null,
   "id": "296cb066",
   "metadata": {},
   "outputs": [],
   "source": []
  }
 ],
 "metadata": {
  "kernelspec": {
   "display_name": "Python 3 (ipykernel)",
   "language": "python",
   "name": "python3"
  },
  "language_info": {
   "codemirror_mode": {
    "name": "ipython",
    "version": 3
   },
   "file_extension": ".py",
   "mimetype": "text/x-python",
   "name": "python",
   "nbconvert_exporter": "python",
   "pygments_lexer": "ipython3",
   "version": "3.9.13"
  }
 },
 "nbformat": 4,
 "nbformat_minor": 5
}
