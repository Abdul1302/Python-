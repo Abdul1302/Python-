{
 "cells": [
  {
   "cell_type": "markdown",
   "id": "ce3190c4",
   "metadata": {},
   "source": [
    "# User Input"
   ]
  },
  {
   "cell_type": "code",
   "execution_count": 1,
   "id": "8be7466f",
   "metadata": {},
   "outputs": [
    {
     "name": "stdout",
     "output_type": "stream",
     "text": [
      "Enter your age: 24\n",
      "24\n"
     ]
    }
   ],
   "source": [
    "age=input(\"Enter your age: \")\n",
    "\n",
    "\n",
    "print(age)"
   ]
  },
  {
   "cell_type": "code",
   "execution_count": 2,
   "id": "2b2ac753",
   "metadata": {},
   "outputs": [
    {
     "name": "stdout",
     "output_type": "stream",
     "text": [
      "Enter your name: Abdul Rehman\n",
      "Abdul Rehman\n"
     ]
    }
   ],
   "source": [
    "name=input(\"Enter your name: \")\n",
    "print (name)"
   ]
  },
  {
   "cell_type": "code",
   "execution_count": 3,
   "id": "4e04ad0d",
   "metadata": {},
   "outputs": [
    {
     "name": "stdout",
     "output_type": "stream",
     "text": [
      "Enter your age: 23.34\n",
      "Enter your name: Abdul rehman\n",
      "My name is  Abdul rehman My age is  23.34\n"
     ]
    }
   ],
   "source": [
    "age=float(input(\"Enter your age: \"))\n",
    "name=input(\"Enter your name: \")\n",
    "\n",
    "print(\"My name is \",name,\"My age is \",age,)"
   ]
  },
  {
   "cell_type": "code",
   "execution_count": 6,
   "id": "8487b73d",
   "metadata": {},
   "outputs": [
    {
     "name": "stdout",
     "output_type": "stream",
     "text": [
      "Enter your name: Abdul Rehman\n",
      "Enter your age: 20.7\n",
      "Enter your field: Bs Computer Science\n",
      "Enter your subject: Programming\n",
      "Enter your aim: Data Scientist\n",
      "\n",
      "My name is  Abdul Rehman .I am 20.7 years old.I am the student of Bs Computer Science .My major subject is  Programming .My aim of life is to be a  Data Scientist & may Allah give me and all my surrounding relatives and all students, give us a pure success in our life\n"
     ]
    }
   ],
   "source": [
    "name=input(\"Enter your name: \")\n",
    "age=float(input(\"Enter your age: \"))\n",
    "field=input(\"Enter your field: \")\n",
    "major_subject=input(\"Enter your subject: \")\n",
    "aim=input(\"Enter your aim: \")\n",
    "\n",
    "print(\"\\nMy name is \",name,\".I am\",age,\"years old.I am the student of\",field,\".My major subject is \",major_subject,\".My aim of life is to be a \",aim,\"& may Allah give me and all my surrounding relatives and all students, give us a pure success in our life\")"
   ]
  },
  {
   "cell_type": "markdown",
   "id": "b81d5f48",
   "metadata": {},
   "source": [
    "# String concatination"
   ]
  },
  {
   "cell_type": "code",
   "execution_count": 9,
   "id": "2724a56f",
   "metadata": {},
   "outputs": [
    {
     "name": "stdout",
     "output_type": "stream",
     "text": [
      "Abdid shaka\n"
     ]
    }
   ],
   "source": [
    "first_name=\"Abdid\"\n",
    "last_name=\"shaka\"\n",
    "\n",
    "\n",
    "print(first_name+\" \"+last_name)"
   ]
  },
  {
   "cell_type": "code",
   "execution_count": 10,
   "id": "c0e1324b",
   "metadata": {},
   "outputs": [
    {
     "name": "stdout",
     "output_type": "stream",
     "text": [
      "Enter your first name: Abdul\n",
      "Enter your last name: Rehman\n",
      "Abdul Rehman\n"
     ]
    }
   ],
   "source": [
    "first_name=input(\"Enter your first name: \")\n",
    "\n",
    "last_name=input(\"Enter your last name: \")\n",
    "print(first_name+\" \"+last_name)"
   ]
  },
  {
   "cell_type": "code",
   "execution_count": null,
   "id": "c560edd8",
   "metadata": {},
   "outputs": [],
   "source": []
  }
 ],
 "metadata": {
  "kernelspec": {
   "display_name": "Python 3 (ipykernel)",
   "language": "python",
   "name": "python3"
  },
  "language_info": {
   "codemirror_mode": {
    "name": "ipython",
    "version": 3
   },
   "file_extension": ".py",
   "mimetype": "text/x-python",
   "name": "python",
   "nbconvert_exporter": "python",
   "pygments_lexer": "ipython3",
   "version": "3.9.12"
  }
 },
 "nbformat": 4,
 "nbformat_minor": 5
}
