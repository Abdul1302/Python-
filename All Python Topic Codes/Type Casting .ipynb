{
 "cells": [
  {
   "cell_type": "markdown",
   "id": "58af3be8",
   "metadata": {},
   "source": [
    "# Type Casting"
   ]
  },
  {
   "cell_type": "code",
   "execution_count": 2,
   "id": "20fd6b28",
   "metadata": {},
   "outputs": [
    {
     "name": "stdout",
     "output_type": "stream",
     "text": [
      "Apple & 123\n"
     ]
    }
   ],
   "source": [
    "fruit=\"Apple\"\n",
    "numbers=123\n",
    "\n",
    "print(f\"{fruit} & {numbers}\")"
   ]
  },
  {
   "cell_type": "code",
   "execution_count": 1,
   "id": "c90ffb14",
   "metadata": {},
   "outputs": [
    {
     "name": "stdout",
     "output_type": "stream",
     "text": [
      "Enter a fruit: mango\n",
      "Enter the numbers of fruit: 345\n",
      "mango & 345\n"
     ]
    }
   ],
   "source": [
    "fruit=input(\"Enter a fruit: \")\n",
    "numbers=int(input(\"Enter the numbers of fruit: \"))\n",
    "\n",
    "print(f\"{fruit} & {numbers}\")"
   ]
  },
  {
   "cell_type": "code",
   "execution_count": 5,
   "id": "5d572771",
   "metadata": {},
   "outputs": [
    {
     "name": "stdout",
     "output_type": "stream",
     "text": [
      "Enter your name: Abdul Rehman\n",
      "Enter your age: 20\n",
      "BROTHER YOUR NAME IS Abdul Rehman& YOUR AGE IS 20\n"
     ]
    }
   ],
   "source": [
    "name=input(\"Enter your name: \")\n",
    "age=int(input(\"Enter your age: \"))\n",
    "\n",
    "\n",
    "print(\"BROTHER YOUR NAME IS \"+name+ \"& YOUR AGE IS \"+str(age))"
   ]
  },
  {
   "cell_type": "code",
   "execution_count": null,
   "id": "17297134",
   "metadata": {},
   "outputs": [],
   "source": []
  }
 ],
 "metadata": {
  "kernelspec": {
   "display_name": "Python 3 (ipykernel)",
   "language": "python",
   "name": "python3"
  },
  "language_info": {
   "codemirror_mode": {
    "name": "ipython",
    "version": 3
   },
   "file_extension": ".py",
   "mimetype": "text/x-python",
   "name": "python",
   "nbconvert_exporter": "python",
   "pygments_lexer": "ipython3",
   "version": "3.9.12"
  }
 },
 "nbformat": 4,
 "nbformat_minor": 5
}
